{
 "cells": [
  {
   "cell_type": "code",
   "execution_count": 2,
   "metadata": {},
   "outputs": [
    {
     "data": {
      "text/plain": [
       "'\\n字典常用操作\\n字典内置函数&方法\\n'"
      ]
     },
     "execution_count": 2,
     "metadata": {},
     "output_type": "execute_result"
    }
   ],
   "source": [
    "'''\n",
    "字典常用操作\n",
    "字典内置函数&方法\n",
    "'''"
   ]
  },
  {
   "cell_type": "code",
   "execution_count": 4,
   "metadata": {},
   "outputs": [
    {
     "name": "stdout",
     "output_type": "stream",
     "text": [
      "{'a': 3, 'b': 5, 'c': 7, 'd': 9} {'c': 7, 'd': 9}\n"
     ]
    }
   ],
   "source": [
    "# 字典常用操作\n",
    "\n",
    "dic1 = {'a':3,'b':5}\n",
    "dic2 = {'c':7,'d':9}\n",
    "\n",
    "dic1.update(dic2)\n",
    "print(dic1,dic2)\n",
    "    #dic.update()方法 更新/合并一个字典，\n",
    "    #把第二个字典合并到第一个字典，改变了第一个字典\n"
   ]
  },
  {
   "cell_type": "code",
   "execution_count": 6,
   "metadata": {},
   "outputs": [
    {
     "name": "stdout",
     "output_type": "stream",
     "text": [
      "{'a': 1, 'b': 2, 'c': 3, 'd': 44} {'a': 1, 'b': 2, 'c': 3, 'd': 44}\n"
     ]
    }
   ],
   "source": [
    "a = {'a':1,\"b\":2,'c':3}\n",
    "b = a\n",
    "a.update({'d':44})\n",
    "print(a,b)\n",
    "    #与序列原理一致，a和b指向同一字典，所以会一起更新"
   ]
  },
  {
   "cell_type": "code",
   "execution_count": 17,
   "metadata": {},
   "outputs": [
    {
     "name": "stdout",
     "output_type": "stream",
     "text": [
      "{'a': 1, 'b': 2, 'c': 3, 'r': 98} {'a': 1, 'b': 2, 'c': 3}\n",
      "4\n",
      "True\n",
      "False\n",
      "[1, 2, 3, 98]\n",
      "True\n",
      "True\n"
     ]
    }
   ],
   "source": [
    "a = {'a':1,\"b\":2,'c':3}\n",
    "b = a.copy()\n",
    "a.update({'r':98})\n",
    "print(a,b)\n",
    "    # 通过.copy()方法，复制一个新的字典\n",
    "    #？？？疑问点，方法、函数区别\n",
    "        # 函数：通过”函数名()”的方式调用\n",
    "        # 方法：通过“对象.方法名”的方式调用\n",
    "print(len(a))\n",
    "    #查看字典元素个数\n",
    "print (\"a\" in a)\n",
    "print(1 in a)\n",
    "   # 判断是否包含，这里判断的对象是key\n",
    "    # ？？？如果想判断值，改如何写？？？\n",
    "        #答 应用下一章节知识点即可。 1 in list（a.valuse()） \n",
    "lst = list(a.values())\n",
    "print(lst)\n",
    "print(1 in lst)\n",
    "\n",
    "print(1 in list(a.values()))"
   ]
  }
 ],
 "metadata": {
  "kernelspec": {
   "display_name": "Python 3",
   "language": "python",
   "name": "python3"
  },
  "language_info": {
   "codemirror_mode": {
    "name": "ipython",
    "version": 3
   },
   "file_extension": ".py",
   "mimetype": "text/x-python",
   "name": "python",
   "nbconvert_exporter": "python",
   "pygments_lexer": "ipython3",
   "version": "3.7.3"
  }
 },
 "nbformat": 4,
 "nbformat_minor": 2
}
