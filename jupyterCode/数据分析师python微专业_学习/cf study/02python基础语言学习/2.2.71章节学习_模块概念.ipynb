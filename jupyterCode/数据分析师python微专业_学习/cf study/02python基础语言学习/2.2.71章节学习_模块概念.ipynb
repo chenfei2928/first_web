{
 "cells": [
  {
   "cell_type": "code",
   "execution_count": 9,
   "metadata": {},
   "outputs": [
    {
     "name": "stdout",
     "output_type": "stream",
     "text": [
      "heihi\n"
     ]
    }
   ],
   "source": [
    "import textmodel\n",
    "print('heihi')\n"
   ]
  },
  {
   "cell_type": "code",
   "execution_count": 22,
   "metadata": {},
   "outputs": [
    {
     "name": "stdout",
     "output_type": "stream",
     "text": [
      "heihi\n",
      "数据分析师微专业\n",
      "32\n"
     ]
    }
   ],
   "source": [
    "import textmodel2\n",
    "print('heihi')\n",
    "textmodel2.f1()\n",
    "print(textmodel2.f2(2,5))"
   ]
  },
  {
   "cell_type": "code",
   "execution_count": 14,
   "metadata": {},
   "outputs": [
    {
     "name": "stdout",
     "output_type": "stream",
     "text": [
      "D:\\ProgramData\\Anaconda3\\lib\\site-packages\\pandas\\__init__.py\n"
     ]
    }
   ],
   "source": [
    "#模块路径问题\n",
    "\n",
    "import pandas\n",
    "print(pandas.__file__)\n",
    "    #pandas在按照anaconda时已经安装好；\n",
    "    #读取pandas位置\n",
    "    \n",
    "import sys\n",
    "sys.path.append('C:\\\\Users\\\\Administrator\\\\Desktop')"
   ]
  }
 ],
 "metadata": {
  "kernelspec": {
   "display_name": "Python 3",
   "language": "python",
   "name": "python3"
  },
  "language_info": {
   "codemirror_mode": {
    "name": "ipython",
    "version": 3
   },
   "file_extension": ".py",
   "mimetype": "text/x-python",
   "name": "python",
   "nbconvert_exporter": "python",
   "pygments_lexer": "ipython3",
   "version": "3.7.3"
  }
 },
 "nbformat": 4,
 "nbformat_minor": 2
}
