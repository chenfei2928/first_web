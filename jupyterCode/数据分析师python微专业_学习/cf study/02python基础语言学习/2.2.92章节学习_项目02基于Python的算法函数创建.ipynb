{
 "cells": [
  {
   "cell_type": "code",
   "execution_count": 12,
   "metadata": {},
   "outputs": [
    {
     "name": "stdout",
     "output_type": "stream",
     "text": [
      "12\n",
      "13\n",
      "14\n",
      "21\n",
      "23\n",
      "24\n",
      "31\n",
      "32\n",
      "34\n",
      "41\n",
      "42\n",
      "43\n",
      "总共有12个结果\n"
     ]
    }
   ],
   "source": [
    "# 题目1：有1、2、3、4个数字，能组成多少个互不相同且无重复数字的两位数？都是多少？\n",
    "# 该题目不用创建函数\n",
    "n=0\n",
    "for i in range(1,5):\n",
    "    for j in range(1,5):\n",
    "        if i !=j:\n",
    "            n+=1\n",
    "            print('%i%i' %(i,j))\n",
    "\n",
    "print('总共有%i个结果' %n)"
   ]
  },
  {
   "cell_type": "code",
   "execution_count": null,
   "metadata": {},
   "outputs": [],
   "source": [
    "# 题目2：输入三个整数x,y,z，请把这三个数由小到大输出，可调用input()。（需要加判断：判断输入数据是否为数字）\n",
    "# 提示：判断是否为数字：.isdigit()\n",
    "# 该题目需要创建函数\n",
    "\n",
    "x = input('请输入第一个整数：')\n",
    "y = input('请输入第二个整数：')\n",
    "z = input('请输入第三个整数：')\n",
    "\n",
    "def f(x,y,z):\n",
    "    if(x.isdigit()and y.isdigit() and z.isdigit())==1:\n",
    "        if(x < y) and (x<z):\n",
    "            if(y<z):\n",
    "                print(x,y,z)\n",
    "            else:\n",
    "                print(x,z,y)\n",
    "        if(y<x) and (y<z):\n",
    "            if(x<z):\n",
    "                print(y,x,z)\n",
    "            else:\n",
    "                print(y,z,x)\n",
    "        if(z<x) and (z<y):\n",
    "            if(x<y):\n",
    "                print(z,x,y)\n",
    "            else:\n",
    "                print(z,y,x)\n",
    "    else:\n",
    "        print('输入包含非整数,无法比较排序')\n",
    "\n",
    "f(x,y,z)\n"
   ]
  },
  {
   "cell_type": "code",
   "execution_count": 3,
   "metadata": {},
   "outputs": [
    {
     "name": "stdout",
     "output_type": "stream",
     "text": [
      "请输入第1个数字3\n",
      "请输入第2个数字r\n",
      "输入必须是数字，请重新输入第2个数字u\n",
      "输入必须是数字，请重新输入第2个数字5\n",
      "请输入第3个数字7\n"
     ]
    },
    {
     "data": {
      "text/plain": [
       "[3.0, 5.0, 7.0]"
      ]
     },
     "execution_count": 3,
     "metadata": {},
     "output_type": "execute_result"
    }
   ],
   "source": [
    "\n",
    "def f(n):\n",
    "    lst =[]\n",
    "    for i in range(1,n+1):\n",
    "        x = input('请输入第%i个数字:' %i)\n",
    "        while x.isdigit()==False:\n",
    "            x =input('输入必须是数字，请重新输入第%i个数字:'%i)\n",
    "        else:\n",
    "            lst.append(float(x))\n",
    "    return(sorted(lst))\n",
    "\n",
    "f(3)"
   ]
  },
  {
   "cell_type": "code",
   "execution_count": 1,
   "metadata": {
    "scrolled": true
   },
   "outputs": [
    {
     "name": "stdout",
     "output_type": "stream",
     "text": [
      "请输入一行字符：678tyui@#   \n",
      "合计输入英文字母4，空格3，数字3，其他字符2\n"
     ]
    }
   ],
   "source": [
    "# 题目3：输入一行字符，分别统计出其中英文字母、空格、数字和其它字符的个数。\n",
    "# 提示：利用while语句,条件为输入的字符不为'\\n'.\n",
    "# 该题目不需要创建函数\n",
    "zm=0\n",
    "space=0\n",
    "num =0\n",
    "other=0\n",
    "\n",
    "\n",
    "str = input('请输入一行字符：')\n",
    "\n",
    "for i in str:\n",
    "    if i.isalpha():\n",
    "        zm+=1\n",
    "    elif i.isspace():\n",
    "        space+=1\n",
    "    elif i.isdigit():\n",
    "        num+=1\n",
    "    else:\n",
    "        other+=1\n",
    "\n",
    "\n",
    "print('合计输入英文字母%i，空格%i，数字%i，其他字符%i' %(zm,space,num,other))\n",
    "\n",
    "#用if语句没问题， 思考替换成while改如何处理；"
   ]
  },
  {
   "cell_type": "code",
   "execution_count": 6,
   "metadata": {},
   "outputs": [
    {
     "name": "stdout",
     "output_type": "stream",
     "text": [
      "第10天吃之前就剩1个桃子\n",
      "第9天吃之前还有4个桃子\n",
      "第8天吃之前还有10个桃子\n",
      "第7天吃之前还有22个桃子\n",
      "第6天吃之前还有46个桃子\n",
      "第5天吃之前还有94个桃子\n",
      "第4天吃之前还有190个桃子\n",
      "第3天吃之前还有382个桃子\n",
      "第2天吃之前还有766个桃子\n",
      "第1天吃之前还有1534个桃子\n",
      "第1天共摘了1534个桃子\n"
     ]
    }
   ],
   "source": [
    "# 题目4：猴子吃桃问题\n",
    "# 猴子第一天摘下若干个桃子，当即吃了一半，还不瘾，又多吃了一个,\n",
    "# 第二天早上又将剩下的桃子吃掉一半，又多吃了一个。\n",
    "# 以后每天早上都吃了前一天剩下的一半零一个。到第10天早上想再吃时，见只剩下一个桃子了。求第一天共摘了多少?\n",
    "# 提示：采取逆向思维的方法，从后往前推断。\n",
    "# 该题目不需要创建函数\n",
    "\n",
    "p =1\n",
    "print('第10天吃之前就剩1个桃子')\n",
    "\n",
    "for i in range(9,0,-1):\n",
    "    p=(p+1)*2\n",
    "    print('第%i天吃之前还有%i个桃子' %(i,p))\n",
    "    \n",
    "print('第1天共摘了%i个桃子' % p)    \n",
    "\n"
   ]
  },
  {
   "cell_type": "code",
   "execution_count": 5,
   "metadata": {},
   "outputs": [
    {
     "name": "stdout",
     "output_type": "stream",
     "text": [
      "84\n",
      "请猜系统生成数字是多少：84\n",
      "恭喜你，猜对了\n",
      "猜数字花费时间0.00 秒\n"
     ]
    }
   ],
   "source": [
    "# 题目5：猜数字问题，要求如下：\n",
    "# ① 随机生成一个整数\n",
    "# ② 猜一个数字并输入\n",
    "# ③ 判断是大是小，直到猜正确\n",
    "# ④ 判断时间\n",
    "# 提示：需要用time模块、random模块\n",
    "# 该题目不需要创建函数\n",
    "\n",
    "import random \n",
    "i = random.randint(1,100) \n",
    "print(i)\n",
    "\n",
    "import time\n",
    "\n",
    "guess = int(input('请猜系统生成数字是多少：'))\n",
    "t1=time.time()\n",
    "\n",
    "\n",
    "while guess !=i:\n",
    "    if guess >i:\n",
    "        print('输入偏大,请重新输入：')\n",
    "        guess = int(input('请猜系统生成数字是多少：'))\n",
    "    else:\n",
    "        print('输入偏小，请重新输入：')\n",
    "        guess = int(input('请猜系统生成数字是多少：'))\n",
    "t2=time.time()\n",
    "usetime=t2-t1\n",
    "print('恭喜你，猜对了')\n",
    "print('猜数字花费时间%.2f 秒'%usetime)\n",
    "\n",
    "\n"
   ]
  },
  {
   "cell_type": "code",
   "execution_count": null,
   "metadata": {},
   "outputs": [],
   "source": []
  }
 ],
 "metadata": {
  "kernelspec": {
   "display_name": "Python 3",
   "language": "python",
   "name": "python3"
  },
  "language_info": {
   "codemirror_mode": {
    "name": "ipython",
    "version": 3
   },
   "file_extension": ".py",
   "mimetype": "text/x-python",
   "name": "python",
   "nbconvert_exporter": "python",
   "pygments_lexer": "ipython3",
   "version": "3.7.3"
  }
 },
 "nbformat": 4,
 "nbformat_minor": 2
}
