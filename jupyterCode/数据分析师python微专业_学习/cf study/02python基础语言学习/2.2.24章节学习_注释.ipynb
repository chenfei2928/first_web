{
 "cells": [
  {
   "cell_type": "code",
   "execution_count": 2,
   "metadata": {},
   "outputs": [
    {
     "data": {
      "text/plain": [
       "'\\n【课程2.4】  注释#\\n\\n注释是用来说明代码\\n程序运行的时候，Python解释器会直接忽略掉注释 → 有没有注释不影响程序的执行结果，但是影响到别人能不能看懂你的代码。\\n但“#”不只代表注释,还代表某些文件的特殊格式，写在脚本开头\\n注意：注释只在脚本中起作用\\n\\n'"
      ]
     },
     "execution_count": 2,
     "metadata": {},
     "output_type": "execute_result"
    }
   ],
   "source": [
    "'''\n",
    "【课程2.4】  注释#\n",
    "\n",
    "注释是用来说明代码\n",
    "程序运行的时候，Python解释器会直接忽略掉注释 → 有没有注释不影响程序的执行结果，但是影响到别人能不能看懂你的代码。\n",
    "但“#”不只代表注释,还代表某些文件的特殊格式，写在脚本开头\n",
    "注意：注释只在脚本中起作用\n",
    "\n",
    "'''"
   ]
  },
  {
   "cell_type": "code",
   "execution_count": 4,
   "metadata": {},
   "outputs": [
    {
     "name": "stdout",
     "output_type": "stream",
     "text": [
      "hello world!\n"
     ]
    }
   ],
   "source": [
    "print('hello world!')\n",
    "# print('I love python')"
   ]
  },
  {
   "cell_type": "code",
   "execution_count": 6,
   "metadata": {},
   "outputs": [
    {
     "name": "stdout",
     "output_type": "stream",
     "text": [
      "1\n",
      "2\n",
      "3\n",
      "4\n"
     ]
    }
   ],
   "source": [
    "a = [1,2,3,4]\n",
    "#a = {'name':'fatbird', 'city':'shanghai', 'tel':10001000}\n",
    "for i in a:\n",
    "    print(i)\n",
    "\n",
    "# 注释也可以用于标记暂不运行语句"
   ]
  },
  {
   "cell_type": "code",
   "execution_count": 11,
   "metadata": {},
   "outputs": [
    {
     "name": "stdout",
     "output_type": "stream",
     "text": [
      "['']\n",
      "['', 'h']\n",
      "['', 'h', 'hh']\n",
      "['', 'h', 'hh', 'hhh']\n",
      "['', 'h', 'hh', 'hhh', 'hhhh']\n",
      "['', 'h', 'hh', 'hhh', 'hhhh', 'hhhhh']\n",
      "['', 'h', 'hh', 'hhh', 'hhhh', 'hhhhh', 'hhhhhh']\n",
      "['', 'h', 'hh', 'hhh', 'hhhh', 'hhhhh', 'hhhhhh', 'hhhhhhh']\n",
      "['', 'h', 'hh', 'hhh', 'hhhh', 'hhhhh', 'hhhhhh', 'hhhhhhh', 'hhhhhhhh']\n",
      "['', 'h', 'hh', 'hhh', 'hhhh', 'hhhhh', 'hhhhhh', 'hhhhhhh', 'hhhhhhhh', 'hhhhhhhhh']\n",
      "['', 'h', 'hh', 'hhh', 'hhhh', 'hhhhh', 'hhhhhh', 'hhhhhhh', 'hhhhhhhh', 'hhhhhhhhh']\n"
     ]
    }
   ],
   "source": [
    "m = []\n",
    "for i in range(10):\n",
    "    m.append('h'*i)\n",
    "    print(m)\n",
    "print(m)"
   ]
  },
  {
   "cell_type": "code",
   "execution_count": 17,
   "metadata": {},
   "outputs": [
    {
     "name": "stdout",
     "output_type": "stream",
     "text": [
      "Updated List :  [123, 'xyz', 'zara', 'abc', 2009]\n"
     ]
    }
   ],
   "source": [
    "#append() 方法用于在列表末尾添加新的对象。\n",
    "\n",
    "aList = [123, 'xyz', 'zara', 'abc']\n",
    "aList.append( 2009 )\n",
    "print (\"Updated List : \", aList);\n"
   ]
  },
  {
   "cell_type": "code",
   "execution_count": 22,
   "metadata": {},
   "outputs": [
    {
     "name": "stdout",
     "output_type": "stream",
     "text": [
      "r\n",
      "u\n",
      "n\n",
      "o\n",
      "o\n",
      "b\n"
     ]
    }
   ],
   "source": [
    "#python range() 函数可创建一个整数列表，一般用在 for 循环中。\n",
    "\n",
    "x = 'runoob'\n",
    "for i in range(len(x)):\n",
    "    print(x[i])"
   ]
  }
 ],
 "metadata": {
  "kernelspec": {
   "display_name": "Python 3",
   "language": "python",
   "name": "python3"
  },
  "language_info": {
   "codemirror_mode": {
    "name": "ipython",
    "version": 3
   },
   "file_extension": ".py",
   "mimetype": "text/x-python",
   "name": "python",
   "nbconvert_exporter": "python",
   "pygments_lexer": "ipython3",
   "version": "3.7.3"
  }
 },
 "nbformat": 4,
 "nbformat_minor": 2
}
