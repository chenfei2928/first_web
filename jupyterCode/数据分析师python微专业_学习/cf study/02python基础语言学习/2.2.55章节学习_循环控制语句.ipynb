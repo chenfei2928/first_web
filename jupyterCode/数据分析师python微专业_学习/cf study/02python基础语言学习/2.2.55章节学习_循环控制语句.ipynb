{
 "cells": [
  {
   "cell_type": "code",
   "execution_count": 1,
   "metadata": {},
   "outputs": [
    {
     "data": {
      "text/plain": [
       "'\\n循环控制语句\\nbreak：在语句块执行过程中终止循环，并且跳出整个循环\\n\\ncontinue:在语句执行过程中跳出该次循环，执行下一次循环\\n\\npass： pass是空语句，是为了保证程序结构的完整性\\n\\n\\n'"
      ]
     },
     "execution_count": 1,
     "metadata": {},
     "output_type": "execute_result"
    }
   ],
   "source": [
    "'''\n",
    "循环控制语句\n",
    "break：在语句块执行过程中终止循环，并且跳出整个循环\n",
    "\n",
    "continue:在语句执行过程中跳出该次循环，执行下一次循环\n",
    "\n",
    "pass： pass是空语句，是为了保证程序结构的完整性\n",
    "\n",
    "\n",
    "'''"
   ]
  },
  {
   "cell_type": "code",
   "execution_count": 9,
   "metadata": {},
   "outputs": [
    {
     "name": "stdout",
     "output_type": "stream",
     "text": [
      "10\n"
     ]
    }
   ],
   "source": [
    "# break语句\n",
    "\n",
    "s = 0\n",
    "n = 1\n",
    "while n >0:\n",
    "    s=s+n\n",
    "    n=n+1\n",
    "    if n==5:\n",
    "        break\n",
    "print(s)\n"
   ]
  },
  {
   "cell_type": "code",
   "execution_count": 15,
   "metadata": {},
   "outputs": [
    {
     "name": "stdout",
     "output_type": "stream",
     "text": [
      "第1次计算\n",
      "第2次计算\n",
      "第3次计算\n",
      "第4次计算\n",
      "第5次计算\n",
      "第2次计算\n",
      "第4次计算\n",
      "第6次计算\n",
      "第8次计算\n",
      "第10次计算\n",
      "第3次计算\n",
      "第6次计算\n",
      "第9次计算\n",
      "第12次计算\n",
      "第15次计算\n",
      "结果为30\n"
     ]
    }
   ],
   "source": [
    "s =0\n",
    "for i in range(10):\n",
    "    for j in range(5):\n",
    "        s= s+(i*j)\n",
    "        print('第%i次计算' %((i+1)*(j+1)))\n",
    "    if s > 20:\n",
    "        break\n",
    "print(\"结果为%i\" %s)"
   ]
  },
  {
   "cell_type": "code",
   "execution_count": 17,
   "metadata": {},
   "outputs": [
    {
     "name": "stdout",
     "output_type": "stream",
     "text": [
      "第0次计算\n",
      "第1次计算\n",
      "第2次计算\n",
      "第3次计算\n",
      "第4次计算\n",
      "第5次计算\n",
      "第6次计算\n",
      "第7次计算\n",
      "第8次计算\n",
      "第9次计算\n",
      "第10次计算\n",
      "第11次计算\n",
      "第12次计算\n",
      "第13次计算\n",
      "第14次计算\n",
      "第15次计算\n",
      "第16次计算\n",
      "第17次计算\n",
      "第18次计算\n",
      "第19次计算\n",
      "第20次计算\n",
      "第21次计算\n",
      "第22次计算\n",
      "第23次计算\n",
      "第24次计算\n",
      "最终合计结果过为600\n"
     ]
    }
   ],
   "source": [
    "#continue语句\n",
    "\n",
    "s = 0\n",
    "for i in range(50):\n",
    "    if i%2 ==0:\n",
    "        s+=i\n",
    "    else:\n",
    "        continue\n",
    "    print(\"第%i次计算\" %(i/2))\n",
    "print(\"最终合计结果过为%i\" %s)\n"
   ]
  },
  {
   "cell_type": "code",
   "execution_count": 26,
   "metadata": {},
   "outputs": [
    {
     "name": "stdout",
     "output_type": "stream",
     "text": [
      "当前遍历字母是： P\n",
      "当前遍历字母是： y\n",
      "当前遍历字母是：t,但是我pass了\n",
      "当前遍历字母是： t\n",
      "当前遍历字母是： h\n",
      "当前遍历字母是： o\n",
      "当前遍历字母是： n\n",
      "我是pass，我就是这么牛，既不中断，也不跳过\n"
     ]
    }
   ],
   "source": [
    "# pass语句\n",
    "\n",
    "for let in \"Python\":\n",
    "    if let =='t':\n",
    "        pass\n",
    "        print(\"当前遍历字母是：t,但是我pass了\")\n",
    "    print(\"当前遍历字母是：\",let)\n",
    "print('我是pass，我就是这么牛，既不中断，也不跳过')\n",
    "# pass是空语句，是为了保持程序结构的完整性。（不中断也不跳过）\n",
    "  #是为了执行兼职任务吗！！！"
   ]
  }
 ],
 "metadata": {
  "kernelspec": {
   "display_name": "Python 3",
   "language": "python",
   "name": "python3"
  },
  "language_info": {
   "codemirror_mode": {
    "name": "ipython",
    "version": 3
   },
   "file_extension": ".py",
   "mimetype": "text/x-python",
   "name": "python",
   "nbconvert_exporter": "python",
   "pygments_lexer": "ipython3",
   "version": "3.7.3"
  }
 },
 "nbformat": 4,
 "nbformat_minor": 2
}
