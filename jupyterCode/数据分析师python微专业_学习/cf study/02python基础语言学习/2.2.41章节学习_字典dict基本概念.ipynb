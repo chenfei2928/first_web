{
 "cells": [
  {
   "cell_type": "code",
   "execution_count": 1,
   "metadata": {},
   "outputs": [
    {
     "data": {
      "text/plain": [
       "'\\n字典dict基本概念\\n字典是另一种可变容器模型，且可存储任意类型（字符串、数字、元祖、序列）对象。\\n字典的每个键值（key :value）对用冒号：分割，每个对之间用逗号,整个字典包括在大括号{}中\\n\\n键必须是唯一的，但值可以重复。\\n\\n'"
      ]
     },
     "execution_count": 1,
     "metadata": {},
     "output_type": "execute_result"
    }
   ],
   "source": [
    "\"\"\"\n",
    "字典dict基本概念\n",
    "字典是另一种可变容器模型，且可存储任意类型（字符串、数字、元祖、序列）对象。\n",
    "字典的每个键值（key :value）对用冒号：分割，每个对之间用逗号,整个字典包括在大括号{}中\n",
    "\n",
    "键必须是唯一的，但值可以重复。\n",
    "\n",
    "\"\"\""
   ]
  },
  {
   "cell_type": "code",
   "execution_count": 8,
   "metadata": {},
   "outputs": [
    {
     "name": "stdout",
     "output_type": "stream",
     "text": [
      "{'曹操': 65, '刘备': 34, '孙权': 45} <class 'dict'>\n",
      "[{'name': '曹操', 'age': 65}, {'name': '刘备', 'age': 34}, {'name': '孙权', 'age': 45}] <class 'list'>\n"
     ]
    }
   ],
   "source": [
    "# 什么是映射？什么是字典dict\n",
    "\n",
    "name = ['曹操','刘备','孙权']\n",
    "age = ['65','34','45']\n",
    "    # 序列虽然有顺序，但是名字，和年龄不能对应起来；\n",
    "\n",
    "dic = {'曹操':65,'刘备':34,'孙权':45}\n",
    "print(dic,type(dic))\n",
    "    # 用{}来表示，按照key：value来表示字典中的元素，其中key是键，value是值，key-value也就是键值对\n",
    "    # 这里dic就是一个字典类型的变量\n",
    "\n",
    "dic2 = [{'name':'曹操','age':65},{'name':'刘备','age':34},{'name':'孙权','age':45}]\n",
    "print(dic2,type(dic2))\n",
    "    # 一个以字典为元素的列表，有没有觉得键值对很像数据中的字段和字段值？\n"
   ]
  },
  {
   "cell_type": "code",
   "execution_count": 32,
   "metadata": {},
   "outputs": [
    {
     "name": "stdout",
     "output_type": "stream",
     "text": [
      "{'a': 1, 'b': 2, 'c': 6}\n",
      "{'a': 5}\n",
      "{'v1': 1, 'v2': 'hello', 'v3': [1, 2, 3], 'v4': {'q': 2, 'w': 4}}\n",
      "{'v1': 1, 'v2': 'hello', 'v3': [1, 2, 3], 'v4': {'q': 2, 'w': 4}, 'v5': '添加一个值'}\n",
      "{'v1': 1, 'v2': '任意修改其中一个值', 'v3': [1, 2, 3], 'v4': {'q': 2, 'w': 4}, 'v5': '添加一个值'}\n",
      "{'v1': 1, 'v2': '任意修改其中一个值', 'v3': [1, 2, 3], 'v4': {'q': 2, 'w': 4}, 'v5': '添加一个值'}\n",
      "{'v2': '任意修改其中一个值', 'v3': [1, 2, 3], 'v4': {'q': 2, 'w': 4}, 'v5': '添加一个值'}\n",
      "{}\n"
     ]
    },
    {
     "ename": "NameError",
     "evalue": "name 'dic4' is not defined",
     "output_type": "error",
     "traceback": [
      "\u001b[1;31m---------------------------------------------------------------------------\u001b[0m",
      "\u001b[1;31mNameError\u001b[0m                                 Traceback (most recent call last)",
      "\u001b[1;32m<ipython-input-32-cdb5f7f18ba3>\u001b[0m in \u001b[0;36m<module>\u001b[1;34m\u001b[0m\n\u001b[0;32m     29\u001b[0m \u001b[1;33m\u001b[0m\u001b[0m\n\u001b[0;32m     30\u001b[0m \u001b[1;32mdel\u001b[0m \u001b[0mdic4\u001b[0m                \u001b[1;31m#删除字典\u001b[0m\u001b[1;33m\u001b[0m\u001b[1;33m\u001b[0m\u001b[0m\n\u001b[1;32m---> 31\u001b[1;33m \u001b[0mprint\u001b[0m\u001b[1;33m(\u001b[0m\u001b[0mdic4\u001b[0m\u001b[1;33m)\u001b[0m             \u001b[1;31m#输出为空\u001b[0m\u001b[1;33m\u001b[0m\u001b[1;33m\u001b[0m\u001b[0m\n\u001b[0m",
      "\u001b[1;31mNameError\u001b[0m: name 'dic4' is not defined"
     ]
    }
   ],
   "source": [
    "# 字典的特点\n",
    "\n",
    "dic = {'a':1,'b':2,'c':6}\n",
    "print(dic)\n",
    "    #键值对，一定共同出现，不能只有一个\n",
    "\n",
    "dic2 = {'a':3,'a':5}\n",
    "print(dic2)\n",
    "    #如何同一个键对应到2个值，后一个值会被记住\n",
    "\n",
    "dic3 ={'v1':1,'v2':'hello','v3':[1,2,3],'v4':{'q':2,'w':4}}\n",
    "print(dic3)\n",
    "    #key必须是字符串，value则可以是数字、字符串、序列、字典\n",
    "    \n",
    "dic3['v5']='添加一个值'    #添加元素\n",
    "print(dic3)\n",
    "\n",
    "dic3['v2']='任意修改其中一个值'  #修改更新元素\n",
    "print(dic3)\n",
    "\n",
    "dic4=dic3\n",
    "print(dic4)\n",
    "\n",
    "del dic4['v1']           #删除元素\n",
    "print(dic4)\n",
    "\n",
    "dic4.clear()            #清空元素\n",
    "print(dic4)\n",
    "\n",
    "del dic4                #删除字典\n",
    "print(dic4)             #输出为空\n"
   ]
  },
  {
   "cell_type": "code",
   "execution_count": 36,
   "metadata": {},
   "outputs": [
    {
     "name": "stdout",
     "output_type": "stream",
     "text": [
      "{'a': 4, 'b': 6}\n",
      "{'m': 10, 'n': 'qwer', 'w': [1, 2, 4]}\n",
      "{'a': 'fff', 'b': 'ggg'} {'c': 1, 'd': 2} {'e': [1, 2], 'f': [3, 4]}\n",
      "{'a': None, 'b': None, 'c': None} {'a': 'good', 'b': 'good', 'c': 'good'}\n"
     ]
    }
   ],
   "source": [
    "# 申明一个字典\n",
    "\n",
    "dic = {\"a\":4,\"b\":6}\n",
    "print(dic)\n",
    "    #最简单直接的方式，手动书写一个字典变量\n",
    "    \n",
    "dic2 = dict(m=10,n='qwer',w=[1,2,4])\n",
    "print(dic2)\n",
    "    #dict函数\n",
    "\n",
    "lst1=[(\"a\",\"fff\"),(\"b\",\"ggg\")]\n",
    "lst2=[[\"c\",1],[\"d\",2]]\n",
    "lst3=((\"e\",[1,2]),(\"f\",[3,4]))\n",
    "dic1 = dict(lst1)\n",
    "dic2 = dict(lst2)\n",
    "dic3 = dict(lst3)\n",
    "print(dic1,dic2,dic3)\n",
    "    #dict()是有序列生成一个字典，嵌套序列，可以是list或者tuple\n",
    "\n",
    "keys = ['a','b','c']\n",
    "dic1= dict.fromkeys(keys)\n",
    "dic2= dict.fromkeys(keys,\"good\")\n",
    "print(dic1,dic2)\n",
    "    #只有key，无值，也可生成一个字典\n",
    "    "
   ]
  },
  {
   "cell_type": "code",
   "execution_count": 2,
   "metadata": {},
   "outputs": [
    {
     "name": "stdout",
     "output_type": "stream",
     "text": [
      "{'语文': 34, '外语': 98, '物理': 89, '化学': 91}\n",
      "{'语文': 34, '外语': 98, '物理': 89, '化学': 91}\n",
      "{'语文': 34, '数学': 56, '物理': 89, '化学': 91} <class 'dict'>\n"
     ]
    }
   ],
   "source": [
    "#小作业\n",
    "\n",
    "#① 用dict函数的时候，和直接申明一个字典，操作上什么区别？\n",
    "    #直接申明是{}\n",
    "    #dict函数对象是序列、元祖\n",
    "\n",
    "#② 用dict()函数从序列创建字典的时候，对序列有要求吗？必须是列表吗？\n",
    "     #无要求，可以是数字、字符串、列表、元祖\n",
    "#③ 字典是无序的，强化一下\n",
    "    # 字典是无序的，序列是有序的，字典的索引用dict【key】,序列的索引用list【number】\n",
    "\n",
    "#④ 以dict()函数生成一个人的成绩单，包括语文，数学，外语，物理，化学几个元素\n",
    "tup= [('语文',34),('外语',98),('物理',89),('化学',91)]\n",
    "dic= dict(tup)\n",
    "print(dic)\n",
    "\n",
    "tup1= [['语文',34],['外语',98],['物理',89],['化学',91]]\n",
    "dic1= dict(tup)\n",
    "print(dic1)\n",
    "\n",
    "dic2 ={'语文':34,'数学':56,'物理':89,'化学':91}\n",
    "print(dic2,type(dic2))\n"
   ]
  }
 ],
 "metadata": {
  "kernelspec": {
   "display_name": "Python 3",
   "language": "python",
   "name": "python3"
  },
  "language_info": {
   "codemirror_mode": {
    "name": "ipython",
    "version": 3
   },
   "file_extension": ".py",
   "mimetype": "text/x-python",
   "name": "python",
   "nbconvert_exporter": "python",
   "pygments_lexer": "ipython3",
   "version": "3.7.3"
  }
 },
 "nbformat": 4,
 "nbformat_minor": 2
}
