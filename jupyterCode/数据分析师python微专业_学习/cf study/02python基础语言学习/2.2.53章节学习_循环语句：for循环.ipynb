{
 "cells": [
  {
   "cell_type": "code",
   "execution_count": 2,
   "metadata": {},
   "outputs": [
    {
     "data": {
      "text/plain": [
       "'\\n循环语句：for循环\\n\\nfor循环可以遍历任何顺序的项目，如一个列表或者一个字符串\\n\\n'"
      ]
     },
     "execution_count": 2,
     "metadata": {},
     "output_type": "execute_result"
    }
   ],
   "source": [
    "'''\n",
    "循环语句：for循环\n",
    "\n",
    "for循环可以遍历任何顺序的项目，如一个列表或者一个字符串\n",
    "\n",
    "'''l"
   ]
  },
  {
   "cell_type": "code",
   "execution_count": 2,
   "metadata": {},
   "outputs": [
    {
     "name": "stdout",
     "output_type": "stream",
     "text": [
      "Hello World\n",
      "Hello World\n",
      "Hello World\n",
      "Hello World\n",
      "Hello World\n",
      "hello world hello world hello world \n"
     ]
    }
   ],
   "source": [
    "# 想输出“hello world”5次怎么办\n",
    "\n",
    "for i in range(5):\n",
    "    print(\"Hello World\")\n",
    "    \n",
    "print(\"hello world \" *3)"
   ]
  },
  {
   "cell_type": "code",
   "execution_count": 12,
   "metadata": {},
   "outputs": [
    {
     "name": "stdout",
     "output_type": "stream",
     "text": [
      "0\n",
      "3\n",
      "6\n",
      "9\n",
      "Tom年龄为：18岁\n",
      "Jack年龄为：19岁\n",
      "Alex年龄为：17岁\n",
      "Mary年龄为：20岁\n"
     ]
    }
   ],
   "source": [
    "# 通过for遍历序列、映射\n",
    "\n",
    "lst = list(range(10))\n",
    "for i in lst[::3]:\n",
    "    print(i)\n",
    "    #遍历 list\n",
    "\n",
    "age = {'Tom':18, 'Jack':19, 'Alex':17, 'Mary':20}\n",
    "for ky in age:\n",
    "    print(ky+\"年龄为：%i岁\" %age[ky])"
   ]
  },
  {
   "cell_type": "code",
   "execution_count": 14,
   "metadata": {},
   "outputs": [
    {
     "name": "stdout",
     "output_type": "stream",
     "text": [
      "0 0\n",
      "0 1\n",
      "0 2\n",
      "0 3\n",
      "1 0\n",
      "1 1\n",
      "1 2\n",
      "1 3\n",
      "2 0\n",
      "2 1\n",
      "2 2\n",
      "2 3\n"
     ]
    }
   ],
   "source": [
    "# 嵌套循环\n",
    "\n",
    "for i in range(3):\n",
    "    for m in range(4):\n",
    "        print(i,m)\n",
    "    # 循环嵌套，尽量不要多余3个嵌套"
   ]
  },
  {
   "cell_type": "code",
   "execution_count": 16,
   "metadata": {},
   "outputs": [
    {
     "name": "stdout",
     "output_type": "stream",
     "text": [
      "0 0 0 0\n",
      "0 0 0 1\n",
      "0 0 0 2\n",
      "0 0 1 0\n",
      "0 0 1 1\n",
      "0 0 1 2\n",
      "0 0 2 0\n",
      "0 0 2 1\n",
      "0 0 2 2\n",
      "0 1 0 0\n",
      "0 1 0 1\n",
      "0 1 0 2\n",
      "0 1 1 0\n",
      "0 1 1 1\n",
      "0 1 1 2\n",
      "0 1 2 0\n",
      "0 1 2 1\n",
      "0 1 2 2\n",
      "0 2 0 0\n",
      "0 2 0 1\n",
      "0 2 0 2\n",
      "0 2 1 0\n",
      "0 2 1 1\n",
      "0 2 1 2\n",
      "0 2 2 0\n",
      "0 2 2 1\n",
      "0 2 2 2\n",
      "0 3 0 0\n",
      "0 3 0 1\n",
      "0 3 0 2\n",
      "0 3 1 0\n",
      "0 3 1 1\n",
      "0 3 1 2\n",
      "0 3 2 0\n",
      "0 3 2 1\n",
      "0 3 2 2\n",
      "1 0 0 0\n",
      "1 0 0 1\n",
      "1 0 0 2\n",
      "1 0 1 0\n",
      "1 0 1 1\n",
      "1 0 1 2\n",
      "1 0 2 0\n",
      "1 0 2 1\n",
      "1 0 2 2\n",
      "1 1 0 0\n",
      "1 1 0 1\n",
      "1 1 0 2\n",
      "1 1 1 0\n",
      "1 1 1 1\n",
      "1 1 1 2\n",
      "1 1 2 0\n",
      "1 1 2 1\n",
      "1 1 2 2\n",
      "1 2 0 0\n",
      "1 2 0 1\n",
      "1 2 0 2\n",
      "1 2 1 0\n",
      "1 2 1 1\n",
      "1 2 1 2\n",
      "1 2 2 0\n",
      "1 2 2 1\n",
      "1 2 2 2\n",
      "1 3 0 0\n",
      "1 3 0 1\n",
      "1 3 0 2\n",
      "1 3 1 0\n",
      "1 3 1 1\n",
      "1 3 1 2\n",
      "1 3 2 0\n",
      "1 3 2 1\n",
      "1 3 2 2\n",
      "2 0 0 0\n",
      "2 0 0 1\n",
      "2 0 0 2\n",
      "2 0 1 0\n",
      "2 0 1 1\n",
      "2 0 1 2\n",
      "2 0 2 0\n",
      "2 0 2 1\n",
      "2 0 2 2\n",
      "2 1 0 0\n",
      "2 1 0 1\n",
      "2 1 0 2\n",
      "2 1 1 0\n",
      "2 1 1 1\n",
      "2 1 1 2\n",
      "2 1 2 0\n",
      "2 1 2 1\n",
      "2 1 2 2\n",
      "2 2 0 0\n",
      "2 2 0 1\n",
      "2 2 0 2\n",
      "2 2 1 0\n",
      "2 2 1 1\n",
      "2 2 1 2\n",
      "2 2 2 0\n",
      "2 2 2 1\n",
      "2 2 2 2\n",
      "2 3 0 0\n",
      "2 3 0 1\n",
      "2 3 0 2\n",
      "2 3 1 0\n",
      "2 3 1 1\n",
      "2 3 1 2\n",
      "2 3 2 0\n",
      "2 3 2 1\n",
      "2 3 2 2\n"
     ]
    }
   ],
   "source": [
    "\n",
    "for i in range(3):\n",
    "    for m in range(4):\n",
    "        for n in range(3):\n",
    "            for w in range(3):\n",
    "                print(i,m,n,w)"
   ]
  },
  {
   "cell_type": "code",
   "execution_count": 22,
   "metadata": {},
   "outputs": [
    {
     "name": "stdout",
     "output_type": "stream",
     "text": [
      "0\n",
      "1\n",
      "2\n",
      "3\n",
      "4\n",
      "5\n",
      "6\n",
      "7\n",
      "8\n",
      "9\n"
     ]
    }
   ],
   "source": [
    "#小作业\n",
    "\n",
    "#① 生成一个数值列表，用for循环打印出所有元素\n",
    "\n",
    "for i in (range(10)):\n",
    "    print(i)"
   ]
  },
  {
   "cell_type": "code",
   "execution_count": 26,
   "metadata": {},
   "outputs": [
    {
     "name": "stdout",
     "output_type": "stream",
     "text": [
      "a\n",
      "b\n",
      "c\n",
      "d\n",
      "e\n",
      "f\n",
      "g\n"
     ]
    }
   ],
   "source": [
    "#② 用for循环遍历一个字符串，打印出各个字母\n",
    "\n",
    "st ='abcdefg'\n",
    "for i in range(len(st)):\n",
    "    print(st[i])"
   ]
  },
  {
   "cell_type": "code",
   "execution_count": 50,
   "metadata": {},
   "outputs": [
    {
     "name": "stdout",
     "output_type": "stream",
     "text": [
      "['乔峰', '降龙十八掌']\n",
      "['虚竹', '北冥神功']\n",
      "['段誉', '六脉神剑']\n",
      "[['乔峰', '降龙十八掌'], ['虚竹', '北冥神功'], ['段誉', '六脉神剑']]\n",
      "{'乔峰': '降龙十八掌', '虚竹': '北冥神功', '段誉': '六脉神剑'}\n",
      "dict_keys(['乔峰', '虚竹', '段誉'])\n",
      "dict_values(['降龙十八掌', '北冥神功', '六脉神剑'])\n",
      "乔峰\n",
      "虚竹\n",
      "段誉\n",
      "降龙十八掌\n",
      "北冥神功\n",
      "六脉神剑\n"
     ]
    }
   ],
   "source": [
    "\n",
    "#③ 生成一个字典，分别打印出key和value\n",
    "\n",
    "\n",
    "ls1 =['乔峰','虚竹','段誉']\n",
    "ls2=['降龙十八掌','北冥神功','六脉神剑']\n",
    "\n",
    "m = []\n",
    "for i in range(3):\n",
    "    lsti=[ls1[i],ls2[i]]\n",
    "    print(lsti)\n",
    "    m.append(lsti)\n",
    "        #append() 方法用于在列表末尾添加新的对象。\n",
    "print(m)\n",
    "dic = dict(m)\n",
    "print(dic)\n",
    "        \n",
    "\n",
    "print(dic.keys())\n",
    "print(dic.values())\n",
    "\n",
    "for ky in dic.keys():\n",
    "    print(ky)\n",
    "\n",
    "for valu in dic.values():\n",
    "    print(valu)\n",
    "\n"
   ]
  },
  {
   "cell_type": "code",
   "execution_count": 31,
   "metadata": {},
   "outputs": [
    {
     "name": "stdout",
     "output_type": "stream",
     "text": [
      "需要重复输出几次？\n",
      "3\n",
      "hello world\n",
      "hello world\n",
      "hello world\n"
     ]
    }
   ],
   "source": [
    "\n",
    "#④ 用input输入一个循环次数n，打印hello world n遍\n",
    "\n",
    "num = int(input(\"需要重复输出几次？\\n\"))\n",
    "for i in range(num):\n",
    "    print(\"hello world\")\n"
   ]
  },
  {
   "cell_type": "code",
   "execution_count": 34,
   "metadata": {},
   "outputs": [
    {
     "name": "stdout",
     "output_type": "stream",
     "text": [
      "请输入首项:1\n",
      "请输入项数:3\n",
      "请输入公差:4\n",
      "15\n"
     ]
    }
   ],
   "source": [
    "#⑤ 码一个等差数列，四个变量：首项a，项数n，公差d，求和s，\n",
    "#这几个参数都可通过input()输入\n",
    "\n",
    "a = int(input(\"请输入首项:\"))\n",
    "n = int(input(\"请输入项数:\"))\n",
    "d = int(input(\"请输入公差:\"))\n",
    "#s = int(input(\"请输入求和:\"))\n",
    "\n",
    "s =0\n",
    "for i in range(n):\n",
    "    an=a+d*i\n",
    "    s=s+an\n",
    "print(s)\n",
    "\n",
    "#an=a1+(n-1)*d。首项a1=1，公差d=2。\n",
    "#前n项和公式为：Sn=a1*n+[n*(n-1)*d]/2或Sn=[n*(a1+an)]/2。\n",
    "#注意：以上n均属于正整数。"
   ]
  },
  {
   "cell_type": "code",
   "execution_count": 38,
   "metadata": {},
   "outputs": [
    {
     "name": "stdout",
     "output_type": "stream",
     "text": [
      "请输入首项：2\n",
      "请输入项数3\n",
      "请输入公比：2\n",
      "2\n",
      "4\n",
      "8\n"
     ]
    }
   ],
   "source": [
    "#等比数列\n",
    "\n",
    "a1 = int(input(\"请输入首项：\"))\n",
    "n  = int(input(\"请输入项数\"))\n",
    "q = int(input(\"请输入公比：\"))\n",
    "\n",
    "for i in range(n):\n",
    "    an= a1*q**(i)\n",
    "    print(an)\n"
   ]
  },
  {
   "cell_type": "code",
   "execution_count": 45,
   "metadata": {},
   "outputs": [
    {
     "name": "stdout",
     "output_type": "stream",
     "text": [
      "['a', 1]\n",
      "['b', 2]\n",
      "['c', 3]\n",
      "[['a', 1], ['b', 2], ['c', 3]]\n",
      "{'a': 1, 'b': 2, 'c': 3}\n"
     ]
    }
   ],
   "source": [
    "\n",
    "#⑥ 两组列表[\"a\", \"b\", \"c\"],[1,2,3]，用for循环把它们组成一个字\n",
    "#典，一一对应\n",
    "\n",
    "ls1 =['a','b','c']\n",
    "ls2=[1,2,3]\n",
    "\n",
    "m = []\n",
    "for i in range(3):\n",
    "    lsti=[ls1[i],ls2[i]]\n",
    "    print(lsti)\n",
    "    m.append(lsti)\n",
    "        #append() 方法用于在列表末尾添加新的对象。\n",
    "print(m)\n",
    "dic = dict(m)\n",
    "print(dic)\n",
    "        "
   ]
  }
 ],
 "metadata": {
  "kernelspec": {
   "display_name": "Python 3",
   "language": "python",
   "name": "python3"
  },
  "language_info": {
   "codemirror_mode": {
    "name": "ipython",
    "version": 3
   },
   "file_extension": ".py",
   "mimetype": "text/x-python",
   "name": "python",
   "nbconvert_exporter": "python",
   "pygments_lexer": "ipython3",
   "version": "3.7.3"
  }
 },
 "nbformat": 4,
 "nbformat_minor": 2
}
