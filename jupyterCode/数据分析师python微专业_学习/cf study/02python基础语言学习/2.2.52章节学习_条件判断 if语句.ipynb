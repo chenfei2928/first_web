{
 "cells": [
  {
   "cell_type": "code",
   "execution_count": 1,
   "metadata": {},
   "outputs": [
    {
     "data": {
      "text/plain": [
       "'\\n条件判断：if语句\\n\\nPython条件语句是通过一条或多条语句的执行结果（True或者False）来决定执行的代码块。\\n\\nif 判断条件：\\n    执行语句……\\nelse：\\n    执行语句……\\n    \\n** 开始有缩进的概念\\n'"
      ]
     },
     "execution_count": 1,
     "metadata": {},
     "output_type": "execute_result"
    }
   ],
   "source": [
    "'''\n",
    "条件判断：if语句\n",
    "\n",
    "Python条件语句是通过一条或多条语句的执行结果（True或者False）来决定执行的代码块。\n",
    "\n",
    "if 判断条件：\n",
    "    执行语句……\n",
    "else：\n",
    "    执行语句……\n",
    "    \n",
    "** 开始有缩进的概念\n",
    "'''"
   ]
  },
  {
   "cell_type": "code",
   "execution_count": 3,
   "metadata": {},
   "outputs": [
    {
     "name": "stdout",
     "output_type": "stream",
     "text": [
      "18岁以下静止观看\n"
     ]
    }
   ],
   "source": [
    "# 基本判断语句\n",
    "\n",
    "age = 12\n",
    "if age < 18:\n",
    "    print(\"18岁以下静止观看\")\n",
    "\n",
    "# if语句后面必须有冒号：\n",
    "# 自动缩进\n",
    "# if语句写完后，要退回原有缩进继续写\n",
    "# python代码的缩进规则：具有相同缩进的代码被视为代码块\n"
   ]
  },
  {
   "cell_type": "code",
   "execution_count": 7,
   "metadata": {},
   "outputs": [
    {
     "name": "stdout",
     "output_type": "stream",
     "text": [
      "请输入成绩：\n",
      "445\n",
      "该学生成绩为：445\n",
      "<class 'str'>\n"
     ]
    }
   ],
   "source": [
    "# 输入函数 input()\n",
    "\n",
    "score = input('请输入成绩：\\n')\n",
    "print('该学生成绩为：'+score)\n",
    "print(type(score))\n",
    "    # input()返回结果都为字符串，如果需要变为数字则用到int()/float()\n",
    "    "
   ]
  },
  {
   "cell_type": "code",
   "execution_count": 11,
   "metadata": {},
   "outputs": [
    {
     "name": "stdout",
     "output_type": "stream",
     "text": [
      "请输入数字：\n",
      "44\n",
      "您的幸运数字是 44：\n",
      "<class 'int'>\n"
     ]
    }
   ],
   "source": [
    "scor = int(input('请输入数字：\\n'))\n",
    "print('您的幸运数字是 %i：'%scor)\n",
    "print(type(scor))\n"
   ]
  },
  {
   "cell_type": "code",
   "execution_count": 15,
   "metadata": {},
   "outputs": [
    {
     "name": "stdout",
     "output_type": "stream",
     "text": [
      "请输入数字：\n",
      "5\n",
      "您的幸运数字是 5.00：\n",
      "<class 'float'>\n"
     ]
    }
   ],
   "source": [
    "scor = float(input('请输入数字：\\n'))\n",
    "print('您的幸运数字是 %.2f：'%scor)\n",
    "print(type(scor))\n"
   ]
  },
  {
   "cell_type": "code",
   "execution_count": 18,
   "metadata": {},
   "outputs": [
    {
     "name": "stdout",
     "output_type": "stream",
     "text": [
      "welecome to tianlongbabu\n"
     ]
    }
   ],
   "source": [
    "# 两种条件判断 if-else\n",
    "\n",
    "name = \"tianlong\"\n",
    "if name == 'tianlong':\n",
    "    print('welecome to tianlongbabu')\n",
    "else:\n",
    "    print(name)"
   ]
  },
  {
   "cell_type": "code",
   "execution_count": 27,
   "metadata": {},
   "outputs": [
    {
     "name": "stdout",
     "output_type": "stream",
     "text": [
      "worker\n"
     ]
    }
   ],
   "source": [
    "# 多种条件判断： if-elif   ---else\n",
    "\n",
    "num = 1\n",
    "if num == 3:\n",
    "    print('boss')\n",
    "elif num== 2:\n",
    "    print('user')\n",
    "elif num== 1:\n",
    "    print('worker')\n",
    "\n",
    "elif num < 0:\n",
    "    print('error')\n",
    "else:\n",
    "    print('roadman')\n",
    "\n"
   ]
  },
  {
   "cell_type": "code",
   "execution_count": 33,
   "metadata": {},
   "outputs": [
    {
     "name": "stdout",
     "output_type": "stream",
     "text": [
      "学前班数字\n"
     ]
    }
   ],
   "source": [
    "# 单语句多条件判断 or   and\n",
    "\n",
    "num =5\n",
    "if num >=0 and num <=10:\n",
    "    print('学前班数字')\n"
   ]
  },
  {
   "cell_type": "code",
   "execution_count": 36,
   "metadata": {},
   "outputs": [
    {
     "name": "stdout",
     "output_type": "stream",
     "text": [
      "中学知识\n"
     ]
    }
   ],
   "source": [
    "\n",
    "num2 =10\n",
    "if num2 < 0 or num2 >10:\n",
    "    print('小学知识')\n",
    "else:\n",
    "    print('中学知识')"
   ]
  },
  {
   "cell_type": "code",
   "execution_count": 39,
   "metadata": {},
   "outputs": [
    {
     "name": "stdout",
     "output_type": "stream",
     "text": [
      "1至5或11至15输出\n"
     ]
    }
   ],
   "source": [
    "num = 2\n",
    "\n",
    "if(num >=0 and num <=5) or (num >=10 and num<=15):\n",
    "    print('1至5或11至15输出')\n",
    "else:\n",
    "    print('undefine')"
   ]
  },
  {
   "cell_type": "code",
   "execution_count": 44,
   "metadata": {},
   "outputs": [
    {
     "name": "stdout",
     "output_type": "stream",
     "text": [
      "请输入你的成绩\n",
      "44\n",
      "不及格\n"
     ]
    }
   ],
   "source": [
    "#小作业\n",
    "\n",
    "#① 编写一个简单的判断语句代码：输入某个成绩，如果成绩分数大于\n",
    "#或等于60分，则返回及格，小于60分，则返回不及格\n",
    "scor = float(input('请输入你的成绩\\n'))\n",
    "if scor>=60:\n",
    "    print('成绩及格')\n",
    "else:\n",
    "    print('不及格')\n"
   ]
  },
  {
   "cell_type": "code",
   "execution_count": 47,
   "metadata": {},
   "outputs": [
    {
     "name": "stdout",
     "output_type": "stream",
     "text": [
      "输入一个数字:\n",
      "-1\n",
      "输入错误\n"
     ]
    }
   ],
   "source": [
    "#② 编写猜数字小游戏的代码：输入一个数字，分别针对猜对数字、\n",
    "#猜错数字、输入错误给予判断\n",
    "\n",
    "num = int(input('输入一个数字:\\n'))\n",
    "\n",
    "if num == 1:\n",
    "    print('猜对数字')\n",
    "elif num == 3:\n",
    "    print(\"猜错数字\")\n",
    "elif num == -1:\n",
    "    print(\"输入错误\")"
   ]
  }
 ],
 "metadata": {
  "kernelspec": {
   "display_name": "Python 3",
   "language": "python",
   "name": "python3"
  },
  "language_info": {
   "codemirror_mode": {
    "name": "ipython",
    "version": 3
   },
   "file_extension": ".py",
   "mimetype": "text/x-python",
   "name": "python",
   "nbconvert_exporter": "python",
   "pygments_lexer": "ipython3",
   "version": "3.7.3"
  }
 },
 "nbformat": 4,
 "nbformat_minor": 2
}
