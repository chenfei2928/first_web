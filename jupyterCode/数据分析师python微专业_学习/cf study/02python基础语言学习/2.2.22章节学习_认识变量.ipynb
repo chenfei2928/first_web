{
 "cells": [
  {
   "cell_type": "code",
   "execution_count": 2,
   "metadata": {},
   "outputs": [
    {
     "data": {
      "text/plain": [
       "'\"\\n【课程2.2】  认识变量\\n\\n什么是变量？ —— 方程式“=”左边的，就是变量\\n1、给变量赋值即创建该变量，并且同时赋予该变量\\n① 变量名\\n② 变量类型\\n等号（=）用来给变量赋值\\n\\n2、变量命名规则：\\n① 变量名第一个字符必须是字母（大小写均可）或者下划线（“_”），不能数字开头；\\n② 变量名不能和常用功能性名字重合，例如print，if，for\\n③ 不要有空格\\n\\n'"
      ]
     },
     "execution_count": 2,
     "metadata": {},
     "output_type": "execute_result"
    }
   ],
   "source": [
    "\"\"\"\"\n",
    "【课程2.2】  认识变量\n",
    "\n",
    "什么是变量？ —— 方程式“=”左边的，就是变量\n",
    "1、给变量赋值即创建该变量，并且同时赋予该变量\n",
    "① 变量名\n",
    "② 变量类型\n",
    "等号（=）用来给变量赋值\n",
    "\n",
    "2、变量命名规则：\n",
    "① 变量名第一个字符必须是字母（大小写均可）或者下划线（“_”），不能数字开头；\n",
    "② 变量名不能和常用功能性名字重合，例如print，if，for\n",
    "③ 不要有空格\n",
    "\n",
    "\"\"\""
   ]
  },
  {
   "cell_type": "code",
   "execution_count": 4,
   "metadata": {},
   "outputs": [
    {
     "name": "stdout",
     "output_type": "stream",
     "text": [
      "100 <class 'int'>\n",
      "100.0 <class 'float'>\n",
      "John <class 'str'>\n"
     ]
    }
   ],
   "source": [
    "#变量赋值\n",
    "\n",
    "a = 100\n",
    "b = 100.0\n",
    "c = \"John\"\n",
    "\n",
    "print(a,type(a))\n",
    "print(b,type(b))\n",
    "print(c,type(c))"
   ]
  },
  {
   "cell_type": "code",
   "execution_count": 5,
   "metadata": {},
   "outputs": [
    {
     "name": "stdout",
     "output_type": "stream",
     "text": [
      "1 1 1 1 3 python\n"
     ]
    }
   ],
   "source": [
    "#多变量赋值\n",
    "\n",
    "a = b = c =1\n",
    "\n",
    "d,e,f = 1,3,\"python\"\n",
    "\n",
    "print(a,b,c,d,e,f)"
   ]
  },
  {
   "cell_type": "code",
   "execution_count": 6,
   "metadata": {},
   "outputs": [
    {
     "name": "stdout",
     "output_type": "stream",
     "text": [
      "10\n",
      "20\n"
     ]
    }
   ],
   "source": [
    "#动态变量 --变量的值是可变的，或者说，变量可以随时指向任何值\n",
    "\n",
    "a = 10\n",
    "print(a)\n",
    "\n",
    "a = 20\n",
    "print(a)\n"
   ]
  }
 ],
 "metadata": {
  "kernelspec": {
   "display_name": "Python 3",
   "language": "python",
   "name": "python3"
  },
  "language_info": {
   "codemirror_mode": {
    "name": "ipython",
    "version": 3
   },
   "file_extension": ".py",
   "mimetype": "text/x-python",
   "name": "python",
   "nbconvert_exporter": "python",
   "pygments_lexer": "ipython3",
   "version": "3.7.3"
  }
 },
 "nbformat": 4,
 "nbformat_minor": 2
}
