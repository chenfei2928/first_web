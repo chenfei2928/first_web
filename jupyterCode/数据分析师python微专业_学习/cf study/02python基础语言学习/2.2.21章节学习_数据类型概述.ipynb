{
 "cells": [
  {
   "cell_type": "code",
   "execution_count": 1,
   "metadata": {},
   "outputs": [
    {
     "data": {
      "text/plain": [
       "'\\n【2.1章节】数据类型概述\\nPython标准数据类型：\\n    Number  数字，\\n    String  字符串，\\n    List  列表，\\n    Tuple  元祖，\\n    Dict  字典，\\n'"
      ]
     },
     "execution_count": 1,
     "metadata": {},
     "output_type": "execute_result"
    }
   ],
   "source": [
    "'''\n",
    "【2.1章节】数据类型概述\n",
    "Python标准数据类型：\n",
    "    Number  数字，\n",
    "    String  字符串，\n",
    "    List  列表，\n",
    "    Tuple  元祖，\n",
    "    Dict  字典，\n",
    "'''\n",
    "\n",
    "# 三引号（''''''或\"\"\" \"\"\"）可以表示多行字符串"
   ]
  },
  {
   "cell_type": "code",
   "execution_count": 2,
   "metadata": {},
   "outputs": [
    {
     "name": "stdout",
     "output_type": "stream",
     "text": [
      "<class 'int'> <class 'float'>\n"
     ]
    }
   ],
   "source": [
    "# Number数字分为：int 整型，long 长整型，float 浮点型，complex 复数\n",
    "\n",
    "x1=10\n",
    "x2=10.0\n",
    "\n",
    "print(type(x1),type(x2))\n",
    "\n",
    "#print()函数，用于输出内容\n",
    "#type()函数，用于查看数据类型"
   ]
  },
  {
   "cell_type": "code",
   "execution_count": 21,
   "metadata": {},
   "outputs": [
    {
     "name": "stdout",
     "output_type": "stream",
     "text": [
      "hello world <class 'str'>\n",
      "hello world2 <class 'str'>\n",
      "chenfei\n",
      "chenfei2\n",
      "what is your name\n",
      "      my name is chenfei\n",
      "\"what is your name\n",
      "      my name is nicaicai\n"
     ]
    }
   ],
   "source": [
    "# String字符串由数字、字母、下划线组成的一串字符，用于表示文本的数据类型\n",
    "\n",
    "x3 = \"hello world\"\n",
    "x33 = 'hello world2'\n",
    "print(x3,type(x3))\n",
    "print(x33,type(x33))\n",
    "print('chenfei')\n",
    "print(\"chenfei2\")\n",
    "print('''what is your name\n",
    "      my name is chenfei''')\n",
    "\n",
    "print(\"\"\"\"what is your name\n",
    "      my name is nicaicai\"\"\")\n",
    "      \n",
    "# 一定要使用英文标点符号，单引号（''）与双引号（\"\"）一样；\n",
    "# 三引号（''''''或\"\"\" \"\"\"）可以表示多行字符串"
   ]
  },
  {
   "cell_type": "code",
   "execution_count": 25,
   "metadata": {},
   "outputs": [
    {
     "name": "stdout",
     "output_type": "stream",
     "text": [
      "True <class 'bool'>\n",
      "True\n",
      "False\n",
      "True\n",
      "False\n",
      "10\n",
      "0\n"
     ]
    }
   ],
   "source": [
    "# bool 布尔型：True，False 用于做判断\n",
    "\n",
    "x4 = True\n",
    "print(x4,type(x4))\n",
    "\n",
    "print(True == 1)\n",
    "print(True == 0)\n",
    "\n",
    "print(False == 0)\n",
    "print(False == 1)\n",
    "\n",
    "print(True * 10)\n",
    "print(False * 10)\n",
    "\n",
    "# True实际值是1，False实际值是0\n"
   ]
  },
  {
   "cell_type": "code",
   "execution_count": 35,
   "metadata": {},
   "outputs": [
    {
     "name": "stdout",
     "output_type": "stream",
     "text": [
      "[2, 'a', 2.4, 502, 2, [1, 2, 3]] <class 'list'>\n"
     ]
    }
   ],
   "source": [
    "#List列表，支持字符、数字、字符串以包含列表（即嵌套），用[]标识,有序对象\n",
    "\n",
    "x5 = [1,'a',2.4,502,2,[1,2,3]]\n",
    "x5 = [2,'a',2.4,502,2,[1,2,3]]\n",
    "\n",
    "print (x5,type(x5))\n"
   ]
  },
  {
   "cell_type": "code",
   "execution_count": 39,
   "metadata": {},
   "outputs": [
    {
     "name": "stdout",
     "output_type": "stream",
     "text": [
      "(2, 2, 4, 'hello world') <class 'tuple'>\n"
     ]
    }
   ],
   "source": [
    "#Tuple元祖，用（）标识，不能二次赋值，可以理解成不可变的列表（只读列表），有序对象\n",
    "\n",
    "x6 = (1,2,4,'hello world')\n",
    "x6 = (2,2,4,'hello world')\n",
    "\n",
    "print(x6,type(x6))\n",
    "\n",
    "#学习疑问，不是不能二次赋值，为什么输出的是第二赋值结果？？？"
   ]
  },
  {
   "cell_type": "code",
   "execution_count": 41,
   "metadata": {},
   "outputs": [
    {
     "name": "stdout",
     "output_type": "stream",
     "text": [
      "{'name': 'chenxianshen', 'city': 'shanghai', 'tel': '123456789'}\n",
      "<class 'dict'>\n"
     ]
    }
   ],
   "source": [
    "#Dict字典，用大括号{}标识，由索引{key}和它对应的值value组成，无序对象\n",
    "\n",
    "dic = {\"name\":\"chenxianshen\",\"city\":\"shanghai\",\"tel\":\"123456789\"}\n",
    "\n",
    "print(dic)\n",
    "print(type(dic))"
   ]
  },
  {
   "cell_type": "code",
   "execution_count": 45,
   "metadata": {
    "scrolled": true
   },
   "outputs": [
    {
     "name": "stdout",
     "output_type": "stream",
     "text": [
      "10.8 <class 'float'>\n",
      "10 <class 'int'>\n",
      "________________\n",
      "10 <class 'int'>\n",
      "10.0 <class 'float'>\n",
      "________________\n",
      "10.0 <class 'float'>\n",
      "10.0 <class 'str'>\n",
      "10.0 <class 'float'>\n",
      "________________\n"
     ]
    }
   ],
   "source": [
    "#数据类型转换方法   **针对int，float,str三者\n",
    "\n",
    "var1 = 10.8\n",
    "var2 = int(var1)\n",
    "print(var1,type(var1))\n",
    "print(var2,type(var2))\n",
    "print('________________')\n",
    "#int(x)函数，将x转为整数，如果是四舍五入则是round(x)函数\n",
    "\n",
    "var1 = 10\n",
    "var2 = float(var1)\n",
    "print(var1,type(var1))\n",
    "print(var2,type(var2))\n",
    "print('________________')\n",
    "#float(x)函数，将x转浮点数\n",
    "\n",
    "var1 = 10.0\n",
    "var2 = str(var1)\n",
    "var3 = float(var1)\n",
    "print(var1,type(var1)) \n",
    "print(var2,type(var2))\n",
    "print(var3,type(var3))\n",
    "print('________________')\n",
    "#float(x)函数，将x转浮点数\n",
    "\n",
    "\n"
   ]
  }
 ],
 "metadata": {
  "kernelspec": {
   "display_name": "Python 3",
   "language": "python",
   "name": "python3"
  },
  "language_info": {
   "codemirror_mode": {
    "name": "ipython",
    "version": 3
   },
   "file_extension": ".py",
   "mimetype": "text/x-python",
   "name": "python",
   "nbconvert_exporter": "python",
   "pygments_lexer": "ipython3",
   "version": "3.7.3"
  }
 },
 "nbformat": 4,
 "nbformat_minor": 2
}
