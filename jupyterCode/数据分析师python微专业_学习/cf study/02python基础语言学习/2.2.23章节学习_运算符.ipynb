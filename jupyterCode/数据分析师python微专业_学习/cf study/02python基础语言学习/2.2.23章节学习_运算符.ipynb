{
 "cells": [
  {
   "cell_type": "code",
   "execution_count": 1,
   "metadata": {},
   "outputs": [
    {
     "data": {
      "text/plain": [
       "'\\n【课程2.3】  运算符\\n\\n什么是运算符？\\n1 +2 = 3 的例子中，1 和 2 被称为操作数，\"+\" 称为运算符\\n'"
      ]
     },
     "execution_count": 1,
     "metadata": {},
     "output_type": "execute_result"
    }
   ],
   "source": [
    "'''\n",
    "【课程2.3】  运算符\n",
    "\n",
    "什么是运算符？\n",
    "1 +2 = 3 的例子中，1 和 2 被称为操作数，\"+\" 称为运算符\n",
    "'''"
   ]
  },
  {
   "cell_type": "code",
   "execution_count": 9,
   "metadata": {},
   "outputs": [
    {
     "name": "stdout",
     "output_type": "stream",
     "text": [
      "a加b的值为: 31\n",
      "a减b的值为: 11\n",
      "a乘b的值为: 210\n",
      "a除b的值为: 2.1\n",
      "a取b的模为: 1\n",
      "a取b的整除数为: 2\n",
      "a的b次方的值为： 32\n"
     ]
    }
   ],
   "source": [
    "#算术预算法\n",
    "\n",
    "a,b,c = 21,10,0\n",
    "\n",
    "c= a+b\n",
    "print(\"a加b的值为:\",c)\n",
    "\n",
    "\n",
    "c= a-b\n",
    "print(\"a减b的值为:\",c)\n",
    "\n",
    "\n",
    "c= a*b\n",
    "print(\"a乘b的值为:\",c)\n",
    "\n",
    "\n",
    "c= a/b\n",
    "print(\"a除b的值为:\",c)\n",
    "\n",
    "\n",
    "c= a%b   #取模，返回除的余数\n",
    "print(\"a取b的模为:\",c)\n",
    "\n",
    "c= a//b   #取整，返回除的整除数\n",
    "print(\"a取b的整除数为:\",c)\n",
    "\n",
    "#修改变量\n",
    "\n",
    "a,b = 2,5\n",
    "c = a**b      #幂\n",
    "print('a的b次方的值为：',c)\n"
   ]
  },
  {
   "cell_type": "code",
   "execution_count": 12,
   "metadata": {},
   "outputs": [
    {
     "name": "stdout",
     "output_type": "stream",
     "text": [
      "False\n",
      "True\n",
      "True\n",
      "True\n",
      "False\n",
      "False\n"
     ]
    }
   ],
   "source": [
    "#比较运算符\n",
    "a,b = 21,10\n",
    "print (a==b)\n",
    "print(a!=b)\n",
    "print(a>b)\n",
    "print(a>=b)\n",
    "print(a<b)\n",
    "print(a<=b)"
   ]
  },
  {
   "cell_type": "code",
   "execution_count": 17,
   "metadata": {},
   "outputs": [
    {
     "name": "stdout",
     "output_type": "stream",
     "text": [
      "False\n",
      "True\n",
      "False\n",
      "True\n",
      "________\n",
      "True\n",
      "________\n",
      "False\n",
      "________\n",
      "False False False False False False False\n",
      "True True True\n"
     ]
    }
   ],
   "source": [
    "#逻辑运算符\n",
    "\n",
    "print(True and False)\n",
    "print(True or False)\n",
    "print(not True)\n",
    "print(not False)\n",
    "print('________')\n",
    "\n",
    "# 布尔型的本质：True的值等于1，False的值等于0\n",
    "print(True>0)\n",
    "print('________')\n",
    "\n",
    "print(False>0)\n",
    "print('________')\n",
    "\n",
    "print(bool(0),bool(0.0),bool(None),bool(),bool(''),bool([]),bool({}))\n",
    "print(bool(3),bool(-3),bool([1,3,4]))\n",
    "# bool()函数：将值转换为布尔型，其中只有以下情况bool()返回False：0, 0.0, None，'', [] , {}"
   ]
  },
  {
   "cell_type": "code",
   "execution_count": 19,
   "metadata": {},
   "outputs": [
    {
     "name": "stdout",
     "output_type": "stream",
     "text": [
      "True\n",
      "False\n",
      "True\n",
      "False\n"
     ]
    }
   ],
   "source": [
    "# 成员运算符\n",
    "lst = [1,2,3,4,5]\n",
    "a,b = 2,8\n",
    "print(a in lst)# a 在 lst 序列中 , 如果 x 在 y 序列中返回 True。\n",
    "print(a not in lst)\n",
    "print(b not in lst)# b 不在 lst 序列中 , 如果 x 不在 y 序列中返回 True。\n",
    "print(b  in lst)\n"
   ]
  }
 ],
 "metadata": {
  "kernelspec": {
   "display_name": "Python 3",
   "language": "python",
   "name": "python3"
  },
  "language_info": {
   "codemirror_mode": {
    "name": "ipython",
    "version": 3
   },
   "file_extension": ".py",
   "mimetype": "text/x-python",
   "name": "python",
   "nbconvert_exporter": "python",
   "pygments_lexer": "ipython3",
   "version": "3.7.3"
  }
 },
 "nbformat": 4,
 "nbformat_minor": 2
}
