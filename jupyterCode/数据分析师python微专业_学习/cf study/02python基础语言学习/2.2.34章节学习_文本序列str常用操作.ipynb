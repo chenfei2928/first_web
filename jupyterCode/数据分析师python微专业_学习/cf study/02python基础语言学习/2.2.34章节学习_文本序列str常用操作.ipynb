{
 "cells": [
  {
   "cell_type": "code",
   "execution_count": 2,
   "metadata": {},
   "outputs": [
    {
     "data": {
      "text/plain": [
       "'\\n【课程3.4】文本序列str常用操作\\n\\n字符串是 Python 中最常用的数据类型。我们可以使用引号(\\'或\")来创建字符串\\n字符串也是序列：文本序列\\n\\n'"
      ]
     },
     "execution_count": 2,
     "metadata": {},
     "output_type": "execute_result"
    }
   ],
   "source": [
    "'''\n",
    "【课程3.4】文本序列str常用操作\n",
    "\n",
    "字符串是 Python 中最常用的数据类型。我们可以使用引号('或\")来创建字符串\n",
    "字符串也是序列：文本序列\n",
    "\n",
    "'''"
   ]
  },
  {
   "cell_type": "code",
   "execution_count": 5,
   "metadata": {},
   "outputs": [
    {
     "name": "stdout",
     "output_type": "stream",
     "text": [
      "abc\n",
      "cde\n",
      "My name is \"Python\"\n",
      "hello\n",
      "          Nice to meet you\n",
      "          me too!\n"
     ]
    }
   ],
   "source": [
    "#字符串引号\n",
    "\n",
    "str1 = 'abc'\n",
    "str2 = \"cde\"      \n",
    "str3 = 'My name is \"Python\"'\n",
    "    #双引号单引号无区别，但文本中有引号的时候要相互交替使用\n",
    "str4 = '''hello\n",
    "          Nice to meet you\n",
    "          me too!'''\n",
    "    #需要多行字符串时用三引号 ''' ''' ,\"\"\" \"\"\"\n",
    "print(str1)\n",
    "print(str2)\n",
    "print(str3)\n",
    "print(str4)"
   ]
  },
  {
   "cell_type": "code",
   "execution_count": 12,
   "metadata": {},
   "outputs": [
    {
     "name": "stdout",
     "output_type": "stream",
     "text": [
      "' \"\n",
      "hello \n",
      "how are you\n",
      "\\\n"
     ]
    }
   ],
   "source": [
    "#转义字符\n",
    "\n",
    "print('\\'','\\\"')   #分别输出单引号、双引号\n",
    "print('hello \\nhow are you')   #\\n 换行\n",
    "print('\\\\')        #输出\\, 文件路径用“/”,或者“\\\\”"
   ]
  },
  {
   "cell_type": "code",
   "execution_count": 38,
   "metadata": {},
   "outputs": [
    {
     "name": "stdout",
     "output_type": "stream",
     "text": [
      "True\n",
      "我很帅是的\n",
      "handsome handsome handsome handsome \n",
      "c g\n",
      "cde\n",
      "aceg\n",
      "5\n",
      "st长度为： 7\n",
      "7 <class 'int'>\n",
      "st长度为：7\n"
     ]
    }
   ],
   "source": [
    "# 序列通用功能\n",
    "\n",
    "print('a' in 'abc')           # in/not in 判断是否存在\n",
    "print(\"我很帅\" + '是的')      # 文本连接\n",
    "print('handsome ' *4)         # 文本复制\n",
    "\n",
    "st = 'abcdefg'\n",
    "print(st[2],st[-1])           #索引\n",
    "print(st[2:5])               #切片\n",
    "print(st[::2])               #步长\n",
    "      \n",
    "print(st.index('f'))        #如果包含子字符串返回开始的索引值，否则抛出异常。\n",
    "\n",
    "print(\"st长度为：\",len(st))\n",
    "st2 =len(st)\n",
    "print(st2,type(st2))\n",
    "print('st长度为：'+ str(st2))"
   ]
  },
  {
   "cell_type": "code",
   "execution_count": 48,
   "metadata": {},
   "outputs": [
    {
     "name": "stdout",
     "output_type": "stream",
     "text": [
      "I 'm handsome!\n",
      "I 'm ugly!\n",
      "kekeha\n"
     ]
    }
   ],
   "source": [
    "#字符串常用功能\n",
    "#替换\n",
    "   \n",
    "st1 = \"I 'm handsome!\"\n",
    "st2 = st1.replace('handsome','ugly')\n",
    "print(st1)\n",
    "print(st2)\n",
    "    \n",
    "st3 = \"hahaha\"\n",
    "st4 = st3.replace(\"ha\",\"ke\",2)\n",
    "print(st4)\n",
    "    # str.replace(old,new,count)   修改字符串，count，修改几个；"
   ]
  },
  {
   "cell_type": "code",
   "execution_count": 49,
   "metadata": {},
   "outputs": [
    {
     "name": "stdout",
     "output_type": "stream",
     "text": [
      "['pai123', '115', '5678', '99', '88.883', '34.56']\n"
     ]
    }
   ],
   "source": [
    "# 字符串拆分\n",
    "\n",
    "st = 'pai123,115,5678,99,88.883,34.56'\n",
    "st2 = st.split(',')\n",
    "print(st2)\n",
    "    # str.split(obj):拆分字符串，生成列表"
   ]
  },
  {
   "cell_type": "code",
   "execution_count": 52,
   "metadata": {},
   "outputs": [
    {
     "name": "stdout",
     "output_type": "stream",
     "text": [
      "124_qwer_3457fe\n"
     ]
    }
   ],
   "source": [
    "# 字符串连接\n",
    "\n",
    "lst = ['124','qwer','3457fe']\n",
    "m = '_'\n",
    "st = m.join(lst)\n",
    "print(st)\n",
    "    #str.join()  连接字符串，对象为列表\n"
   ]
  },
  {
   "cell_type": "code",
   "execution_count": 54,
   "metadata": {},
   "outputs": [
    {
     "name": "stdout",
     "output_type": "stream",
     "text": [
      "True False\n"
     ]
    }
   ],
   "source": [
    "#判断字符串以什么开头，以什么结尾\n",
    "\n",
    "st = 'abcdefg'\n",
    "print(st.startswith('a'), st.endswith('f'))\n",
    "    # str.startswith(\"\")   判断是否以开头；\n",
    "    # str.endswith(\"\")   判断是否以结尾；        "
   ]
  },
  {
   "cell_type": "code",
   "execution_count": 59,
   "metadata": {},
   "outputs": [
    {
     "name": "stdout",
     "output_type": "stream",
     "text": [
      "ABDEAJC KLM\n",
      "abdeajc klm\n",
      "AbdeaJC Klm\n",
      "Abdeajc klm\n"
     ]
    }
   ],
   "source": [
    "# 字符串大小写转换\n",
    "\n",
    "st = 'aBDEAjc kLM'\n",
    "print(st.upper())   #全部大写\n",
    "print(st.lower())   #全部小写\n",
    "print(st.swapcase())  #大小写互换\n",
    "print(st.capitalize())   #首字母大写\n"
   ]
  },
  {
   "cell_type": "code",
   "execution_count": 63,
   "metadata": {},
   "outputs": [
    {
     "name": "stdout",
     "output_type": "stream",
     "text": [
      "False\n",
      "True\n"
     ]
    }
   ],
   "source": [
    "# 字符串是全部含数字判断\n",
    "\n",
    "st = '134qwerty'\n",
    "print(st.isnumeric())\n",
    "\n",
    "\n",
    "st2 = '134098765432'\n",
    "print(st2.isnumeric())\n",
    "    #如果string只包含数字返回True，否则返回False\n",
    "    "
   ]
  },
  {
   "cell_type": "code",
   "execution_count": 66,
   "metadata": {},
   "outputs": [
    {
     "name": "stdout",
     "output_type": "stream",
     "text": [
      "True\n",
      "False\n"
     ]
    }
   ],
   "source": [
    "# 字符串是否全部字母判断；\n",
    "\n",
    "st = 'dngk'\n",
    "print(st.isalpha())\n",
    "\n",
    "\n",
    "st1 = 'dngk2'\n",
    "print(st1.isalpha())\n",
    "    # isalpha()方法用于检测字符串是否只有字母组成"
   ]
  },
  {
   "cell_type": "code",
   "execution_count": 70,
   "metadata": {},
   "outputs": [
    {
     "name": "stdout",
     "output_type": "stream",
     "text": [
      "adcd   \n",
      "adcd\n"
     ]
    }
   ],
   "source": [
    "# 删除字符末尾的空格\n",
    "\n",
    "st = 'adcd   '\n",
    "print(st)\n",
    "print(st.rstrip())"
   ]
  },
  {
   "cell_type": "code",
   "execution_count": 74,
   "metadata": {},
   "outputs": [
    {
     "name": "stdout",
     "output_type": "stream",
     "text": [
      "WUSANTONG is 好人\n",
      "this is  4\n",
      "this is  hello\n",
      "this is  3.141500\n"
     ]
    }
   ],
   "source": [
    "# 格式化字符，在字符串中插入变量\n",
    "\n",
    "name = \"WUSANTONG\"\n",
    "truth = \"%s is 好人\" %name\n",
    "print(truth)\n",
    "    # %s 表示我们这里要插入一个变量（字符串），%name 代办我们这里插入name \n",
    "\n",
    "x = 4\n",
    "y= 'hello'\n",
    "z = 3.1415\n",
    "\n",
    "print(\"this is  %i\" %x)       # %i 代表插入字符串的源数据类型为 整型；\n",
    "print(\"this is  %s\" %y)       # %s 代表插入字符串的源数据类型为 字符型；\n",
    "print(\"this is  %f\" %z)       # %f 代表插入字符串的源数据类型为 浮点型\n",
    "\n"
   ]
  },
  {
   "cell_type": "code",
   "execution_count": 87,
   "metadata": {},
   "outputs": [
    {
     "name": "stdout",
     "output_type": "stream",
     "text": [
      "Pai is 3.141593\n",
      "Pai is 3.14\n",
      "Pai is 10\n",
      "Pai is 11\n",
      "have fun +100\n",
      "have fun -0.01\n",
      "have fun  100\n",
      "have fun +100\n",
      "have fun -0.01\n",
      "---------分割线-------\n",
      "have fun 1.23e+02\n",
      "have fun 1.2312E+02\n",
      "have fun 1.23233e+06\n",
      "have fun 1.2\n"
     ]
    }
   ],
   "source": [
    "# 格式化字符： 数字格式化的那些坑\n",
    "\n",
    "m = 3.1415926\n",
    "print('Pai is %f' %m)\n",
    "print('Pai is %.2f' %m)     #%.2f,此处是四舍五入\n",
    "\n",
    "m=10.6\n",
    "print(\"Pai is %i\" %m)   # %i,直接切掉小数位\n",
    "print(\"Pai is %.0f\" %m) # %.0f ,小数位四舍五入\n",
    "\n",
    "\n",
    "m = 100\n",
    "print(\"have fun %+i\" %m)\n",
    "print(\"have fun %.2f\" % -0.009)\n",
    "\n",
    "m = 100 \n",
    "print(\"have fun % i\"  %m)   # 加空格，空格和正好只能显示一个\n",
    "print(\"have fun % +i\"  %m)  # 加空格，空格和正好只能显示一个\n",
    "print(\"have fun % .2f\"  %-0.01)\n",
    "\n",
    "print(\"---------分割线-------\")\n",
    "m = 123.123123123 \n",
    "print(\"have fun %.2e\"  %m)\n",
    "print(\"have fun %.4E\"  %m)\n",
    "\n",
    "\n",
    "m1 = 1232334.1\n",
    "m2 = 1.2\n",
    "print(\"have fun %g\"  %m1)\n",
    "print(\"have fun %g\"  %m2)\n",
    "    #位数少的时候自动识别用浮点型，数据复杂的时候自动识别用科学计数法\n",
    "\n"
   ]
  },
  {
   "cell_type": "code",
   "execution_count": 122,
   "metadata": {},
   "outputs": [
    {
     "name": "stdout",
     "output_type": "stream",
     "text": [
      "User ID:root\n",
      "小A PK制 大B\n",
      "ade\n",
      "efge\n",
      "我的工作是打怪兽\n",
      "abcdef abc{}\n",
      "4.123450 \n",
      " 4.12 \n",
      " 4.124000e+00 \n",
      " 100 \n",
      " 412.300000% \n",
      " 10\n"
     ]
    }
   ],
   "source": [
    "# 强大的格式化方法format\n",
    "\n",
    "print(\"User ID:{0}\" .format(\"root\"))\n",
    "print('{} PK制 {}' .format(\"小A\",\"大B\"))\n",
    "    # {} 在此代办占位符，其中可以有数字也可以没有\n",
    "\n",
    "    \n",
    "print(\"{}{}{}\".format(\"a\",\"d\",\"e\"))\n",
    "\n",
    "print('{0}{1}{2}{0}'.format('e','f','g'))\n",
    "\n",
    "print(\"我的工作是{work}\" .format(work = '打怪兽'))\n",
    "    # 可以用变量来表示\n",
    "\n",
    "x = 'abc{}'\n",
    "a = x.format('def')\n",
    "print(a,x)\n",
    "    # .format()  生成新值，不改变原值\n",
    "\n",
    "print(\"{:f}\".format(4.12345),'\\n',\n",
    "\"{:.2f}\".format(4.123),'\\n',\n",
    "\"{:e}\".format(4.124),'\\n',\n",
    "\"{:.0f}\".format(99.9),'\\n',\n",
    "\"{:%}\".format(4.123),'\\n',\n",
    "\"{:d}\".format(10)\n",
    "     ) \n"
   ]
  },
  {
   "cell_type": "code",
   "execution_count": 127,
   "metadata": {},
   "outputs": [
    {
     "name": "stdout",
     "output_type": "stream",
     "text": [
      "我爱北京天安门\n",
      "天安门上太阳升\n"
     ]
    }
   ],
   "source": [
    "#小作业\n",
    "\n",
    "#① 三引号创建一个有提行的文本，print()函数输出\n",
    "\n",
    "st = \"\"\"我爱北京天安门\\n天安门上太阳升\"\"\"\n",
    "print(st)"
   ]
  },
  {
   "cell_type": "code",
   "execution_count": 131,
   "metadata": {},
   "outputs": [
    {
     "name": "stdout",
     "output_type": "stream",
     "text": [
      "E:\\新环卫工作\\erp\n",
      "E:/新环卫工作/erp\n"
     ]
    }
   ],
   "source": [
    "#② 申明一个字符串变量，值为一个文件路径，注意操作习惯\n",
    "\n",
    "var = 'E:\\\\新环卫工作\\\\erp'\n",
    "var2 ='E:/新环卫工作/erp'\n",
    "print(var)\n",
    "print(var2)"
   ]
  },
  {
   "cell_type": "code",
   "execution_count": 134,
   "metadata": {},
   "outputs": [
    {
     "name": "stdout",
     "output_type": "stream",
     "text": [
      "55\n",
      "2255\n"
     ]
    }
   ],
   "source": [
    "#③ 以下输出分别是多少：33+\"22\"; 33+int(\"22\"); \"22\" + str(55); \n",
    "\n",
    "#print(33+\"22\")  输出报错 不同类型，不能直接连接\n",
    "\n",
    "print(33+int(\"22\"))\n",
    "\n",
    "print(\"22\" + str(55))\n"
   ]
  },
  {
   "cell_type": "code",
   "execution_count": 157,
   "metadata": {},
   "outputs": [
    {
     "name": "stdout",
     "output_type": "stream",
     "text": [
      "['a,b,c']\n",
      "['a', 'b', 'c', 'd']\n"
     ]
    }
   ],
   "source": [
    " # ④ m=“a,b,c”,m.split()会输出什么结果？（不加\",\"）\n",
    "    \n",
    " m =\"a,b,c\"\n",
    " q= m.split()\n",
    " print(q)\n",
    "\n",
    "n=\"a,b,c,d\"\n",
    "w = n.split(',')\n",
    " print(w)"
   ]
  },
  {
   "cell_type": "code",
   "execution_count": 159,
   "metadata": {},
   "outputs": [],
   "source": [
    "#⑤ 再回想一下：.split和.join的输出分别是什么类型的数据\n",
    "#    .split 输出列表\n",
    "#   .join 输出字符串"
   ]
  },
  {
   "cell_type": "code",
   "execution_count": null,
   "metadata": {},
   "outputs": [],
   "source": [
    "#⑥ 如果我想打%怎么办？\n",
    "  #  似乎没明白什么意思\n",
    "  #  format 格式转换\n",
    "  #  %i \n",
    "  #  %f\n",
    "  #  %s"
   ]
  },
  {
   "cell_type": "code",
   "execution_count": 167,
   "metadata": {},
   "outputs": [
    {
     "name": "stdout",
     "output_type": "stream",
     "text": [
      "abcnn\n"
     ]
    }
   ],
   "source": [
    "#⑦ 这样书写正确吗，为什么？ print(\"abc%s\") % \"nn\"\n",
    "\n",
    "print(\"abc%s\" %\"nn\")\n",
    "\n",
    "#print(\"this is  %s\" %y)  "
   ]
  },
  {
   "cell_type": "code",
   "execution_count": 172,
   "metadata": {},
   "outputs": [
    {
     "name": "stdout",
     "output_type": "stream",
     "text": [
      "245123.000000\n"
     ]
    }
   ],
   "source": [
    "# ⑧ 这样书写正确吗，为什么？ print(245%f % 123)\n",
    "\n",
    "print(\"245%f\" % 123)"
   ]
  },
  {
   "cell_type": "code",
   "execution_count": 194,
   "metadata": {},
   "outputs": [
    {
     "name": "stdout",
     "output_type": "stream",
     "text": [
      "我的工作是打豆豆\n",
      "我的工作是打豆豆我喜欢豆豆\n",
      "我的工作是打豆豆我喜欢打豆豆\n",
      "我的工作是打豆豆我喜欢打豆豆\n",
      "我的工作是…我喜欢…\n",
      "我的工作是打豆豆我喜欢打豆豆\n"
     ]
    }
   ],
   "source": [
    "#⑨ \"我的工作是…我喜欢…\" 把…替换成正确的内容    \n",
    "\n",
    "\n",
    "print(\"我的工作是%s\" %\"打豆豆\")\n",
    "\n",
    "print(\"我的工作是{}我喜欢{}\" .format('打豆豆','豆豆'))\n",
    "print(\"我的工作是{0}我喜欢{0}\" .format('打豆豆'))\n",
    "print(\"我的工作是{work}我喜欢{work}\" .format(work='打豆豆'))\n",
    "\n",
    "st=\"我的工作是…我喜欢…\" \n",
    "print(st)\n",
    "st1= st.replace(\"…\",'打豆豆')\n",
    "print(st1)"
   ]
  }
 ],
 "metadata": {
  "kernelspec": {
   "display_name": "Python 3",
   "language": "python",
   "name": "python3"
  },
  "language_info": {
   "codemirror_mode": {
    "name": "ipython",
    "version": 3
   },
   "file_extension": ".py",
   "mimetype": "text/x-python",
   "name": "python",
   "nbconvert_exporter": "python",
   "pygments_lexer": "ipython3",
   "version": "3.7.3"
  }
 },
 "nbformat": 4,
 "nbformat_minor": 2
}
