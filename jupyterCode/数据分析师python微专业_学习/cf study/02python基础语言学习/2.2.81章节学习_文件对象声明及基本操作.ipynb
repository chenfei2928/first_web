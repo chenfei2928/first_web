{
 "cells": [
  {
   "cell_type": "code",
   "execution_count": 1,
   "metadata": {},
   "outputs": [
    {
     "data": {
      "text/plain": [
       "'\\n另一种数据格式：\\n文件/文档\\n\\n'"
      ]
     },
     "execution_count": 1,
     "metadata": {},
     "output_type": "execute_result"
    }
   ],
   "source": [
    "'''\n",
    "另一种数据格式：\n",
    "文件/文档\n",
    "\n",
    "'''"
   ]
  },
  {
   "cell_type": "code",
   "execution_count": 8,
   "metadata": {},
   "outputs": [
    {
     "name": "stdout",
     "output_type": "stream",
     "text": [
      "c:/Users/Administrator/Desktop/text.txt\n",
      "C:\\Users\\Administrator\\Desktop\\text.txt\n",
      "C:\\Users\\Administrator\\Desktop\\text.txt\n"
     ]
    }
   ],
   "source": [
    "#本地文件的界定：指向一个本地存储的文件，是一个链接或者一个映射\n",
    "\n",
    "path1 ='c:/Users/Administrator/Desktop/text.txt' #单个反斜杠\n",
    "path2 = 'C:\\\\Users\\\\Administrator\\\\Desktop\\\\text.txt' # 两个斜杆：\\\\(第一个\\是转义符)\n",
    "path3 = r'C:\\Users\\Administrator\\Desktop\\text.txt' # r用于防止字符转义\n",
    "    # 三种路径书写格式\n",
    "\n",
    "print(path1)\n",
    "print(path2)\n",
    "print(path3)"
   ]
  },
  {
   "cell_type": "code",
   "execution_count": 19,
   "metadata": {},
   "outputs": [
    {
     "name": "stdout",
     "output_type": "stream",
     "text": [
      "<class '_io.TextIOWrapper'>\n",
      "<_io.TextIOWrapper name='C:\\\\Users\\\\Administrator\\\\Desktop\\\\text.txt' mode='r' encoding='cp936'>\n",
      "The Zen of Python, by Tim Peters.\n",
      "\n",
      "Beautiful is better than ugly.\n",
      "\n",
      "Explicit is better than implicit.\n",
      "\n",
      "Simple is better than complex.\n",
      "第一次读取完毕\n",
      "\n",
      "第二次读取完毕，结果为空\n",
      "The Zen of Python, by Tim Peters.\n",
      "\n",
      "Beautiful is better than ugly.\n",
      "\n",
      "Explicit is better than implicit.\n",
      "\n",
      "Simple is better than complex.\n",
      "第三次读取完毕\n"
     ]
    }
   ],
   "source": [
    "# 读取文件：open语句\n",
    "\n",
    "f = open(path2,'r')\n",
    "print(type(f))\n",
    "print(f)\n",
    "print(f.read())\n",
    "print('第一次读取完毕')\n",
    "    # open(\"路径\"，\"模式\"，\"enconding = 编码)\n",
    "    # 模式： r 读取文件，默认； w 写入 ；rw 读取+写入 ； a 追加\n",
    "    # 简单的读取方法： .read()  读取后，光标将会留在读取末尾。\n",
    "    \n",
    "\n",
    "print(f.read())\n",
    "print('第二次读取完毕，结果为空')\n",
    "    # 运行第一次.read()之后，光标位于末尾，再次读取输出为空。\n",
    "\n",
    "f.seek(0)\n",
    "print(f.read())\n",
    "print('第三次读取完毕')\n",
    "    # f.seek()  用来移动光标\n",
    "\n",
    "f.close()\n",
    "#print(f.read())\n",
    "    # 关闭文件链接，f.close() 关闭后无法读取\n",
    "    # 要养成读取后及时关闭的好习惯。\n",
    "    "
   ]
  }
 ],
 "metadata": {
  "kernelspec": {
   "display_name": "Python 3",
   "language": "python",
   "name": "python3"
  },
  "language_info": {
   "codemirror_mode": {
    "name": "ipython",
    "version": 3
   },
   "file_extension": ".py",
   "mimetype": "text/x-python",
   "name": "python",
   "nbconvert_exporter": "python",
   "pygments_lexer": "ipython3",
   "version": "3.7.3"
  }
 },
 "nbformat": 4,
 "nbformat_minor": 2
}
