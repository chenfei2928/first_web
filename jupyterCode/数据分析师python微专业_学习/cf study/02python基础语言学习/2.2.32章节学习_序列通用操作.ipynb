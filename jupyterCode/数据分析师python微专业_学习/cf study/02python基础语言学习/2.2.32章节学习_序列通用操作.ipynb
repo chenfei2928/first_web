{
 "cells": [
  {
   "cell_type": "code",
   "execution_count": 2,
   "metadata": {},
   "outputs": [
    {
     "data": {
      "text/plain": [
       "'\\n序列通用操作\\n    序列分类：可变序列 列表List；不可变序列元祖tuple、字符串srt\\n'"
      ]
     },
     "execution_count": 2,
     "metadata": {},
     "output_type": "execute_result"
    }
   ],
   "source": [
    "'''\n",
    "序列通用操作\n",
    "    序列分类：可变序列 列表List；不可变序列元祖tuple、字符串srt\n",
    "'''"
   ]
  },
  {
   "cell_type": "code",
   "execution_count": 5,
   "metadata": {},
   "outputs": [
    {
     "name": "stdout",
     "output_type": "stream",
     "text": [
      "True\n",
      "False\n"
     ]
    }
   ],
   "source": [
    "# 判断值是否属于序列\n",
    "\n",
    "lst = [1,2,3,4,5,6,7]\n",
    "a,b = 1,20\n",
    "print(a in lst)\n",
    "print(b in lst)\n",
    "\n",
    "# a 在 lst 序列中 , 如果 x 在 y 序列中返回 True。\n",
    "# b 不在 lst 序列中 , 如果 x 不在 y 序列中返回 True。"
   ]
  },
  {
   "cell_type": "code",
   "execution_count": 14,
   "metadata": {},
   "outputs": [
    {
     "name": "stdout",
     "output_type": "stream",
     "text": [
      "[1, 2, 4, 'a', 'c', 'd']\n",
      "[1, 2, 4, 1, 2, 4, 1, 2, 4] ['a', 'c', 'd', 'a', 'c', 'd', 'a', 'c', 'd', 'a', 'c', 'd']\n",
      "['a', 'c', 'd', 'a', 'c', 'd', 'a', 'c', 'd'] [1, 2, 4, 1, 2, 4, 1, 2, 4, 1, 2, 4]\n"
     ]
    }
   ],
   "source": [
    "# 序列连接与重复\n",
    "\n",
    "lst1 = [1,2,4]\n",
    "lst2 = ['a','c','d']\n",
    "\n",
    "print(lst1 + lst2)    #\"+\"：序列的链接\n",
    "print(lst1*3,lst2*4)  #   \"*\"：序列重复\n",
    "print(lst2*3,lst1 * 4) #   \"*\"：序列重复"
   ]
  },
  {
   "cell_type": "code",
   "execution_count": 16,
   "metadata": {},
   "outputs": [
    {
     "name": "stdout",
     "output_type": "stream",
     "text": [
      "1 3 0\n"
     ]
    }
   ],
   "source": [
    "# 下标索引\n",
    "\n",
    "lst = [1,2,3,4,5,6,7,8,9,0]\n",
    "\n",
    "print(lst[0],lst[2],lst[-1])\n",
    "    # 索引从0开始，eg lst[2]中，下标索引是2，指向lst的第3个值\n",
    "     # 索引-1代表最后一个值\n",
    "\n"
   ]
  },
  {
   "cell_type": "code",
   "execution_count": 23,
   "metadata": {},
   "outputs": [
    {
     "name": "stdout",
     "output_type": "stream",
     "text": [
      "[1, 2]\n",
      "[3, 4, 5]\n",
      "[1, 2, 3, 4, 5]\n",
      "[6, 7, 8, 9, 0]\n",
      "[6, 7, 8, 9]\n"
     ]
    }
   ],
   "source": [
    "# 切片\n",
    "\n",
    "lst = [1,2,3,4,5,6,7,8,9,0]\n",
    "\n",
    "print(lst[0:2])\n",
    "print(lst[2:5])\n",
    "     # 切片可以理解成列表的值区间，且是一个左闭右开区间，这里lst[2:5]代表的区间是：索引2的值 - 索引4的值\n",
    "\n",
    "print(lst[:5])\n",
    "     # 左边无索引，代表从索引0开始\n",
    "\n",
    "print(lst[5:])\n",
    "    # 右边无索引，代表以最后一个值结束\n",
    "\n",
    "print(lst[5:-1])\n",
    "    # 索引5的值 - 倒数第二个值 "
   ]
  },
  {
   "cell_type": "code",
   "execution_count": 30,
   "metadata": {},
   "outputs": [
    {
     "name": "stdout",
     "output_type": "stream",
     "text": [
      "[1, 3, 5]\n",
      "[1, 3, 5, 7, 9]\n",
      "[2, 4, 6, 8, 0]\n",
      "[1, 3, 5, 7]\n"
     ]
    }
   ],
   "source": [
    "# 步长\n",
    "\n",
    "lst = [1,2,3,4,5,6,7,8,9,0]\n",
    "\n",
    "print(lst[0:5:2])\n",
    "     # List[i:j:n]代表：索引i - 索引j，以n为步长\n",
    "    \n",
    "print(lst[::2])\n",
    "    # 按照2为步长，从第一个值开始截取lst数据\n",
    "\n",
    "print(lst[1::2])\n",
    "     # 按照2为步长，从第二个值开始截取lst数据\n",
    "\n",
    "print(lst[:-2:2])"
   ]
  },
  {
   "cell_type": "code",
   "execution_count": 5,
   "metadata": {},
   "outputs": [
    {
     "name": "stdout",
     "output_type": "stream",
     "text": [
      "10\n",
      "9 0 45\n",
      "3\n",
      "1\n",
      "3\n"
     ]
    }
   ],
   "source": [
    "# 序列的基本内置全局函数\n",
    "\n",
    "lst = [1,2,3,4,5,6,7,8,9,0]\n",
    "\n",
    "print(len(lst))\n",
    "    # 列表元素个数\n",
    "\n",
    "print(max(lst),min(lst),sum(lst))\n",
    "     # 返回列表的最大值、最小值、求和，这三个函数都只针对数字的list\n",
    "    \n",
    "print(lst.index(4))\n",
    "     # .index(obj)方法：从列表中找出某个值第一个匹配项的索引位置\n",
    "print(lst.count(4))\n",
    "    # .count(obj)方法：计算值的出现次数\n",
    "\n",
    "lst = [1,2,3,4,4,4,4,5,5,5,6,7,8,9,0]\n",
    "print(lst.count(5))\n",
    "#print(lst.count(*))\n",
    "    # .count(obj)方法：计算值的出现次数"
   ]
  },
  {
   "cell_type": "code",
   "execution_count": 48,
   "metadata": {},
   "outputs": [
    {
     "name": "stdout",
     "output_type": "stream",
     "text": [
      "2\n",
      "2\n",
      "0\n",
      "<class 'int'>\n",
      "<class 'list'>\n"
     ]
    }
   ],
   "source": [
    "## 小作业\n",
    "#① x=[1,2,3,1,[1],[1,1]]，请问x.count(1)为多少？\n",
    "\n",
    "x = [1,2,3,1,[1],[1,1]]\n",
    "    \n",
    "print(x.count(1))\n",
    "    \n",
    "#② x=[1,2,5,1,“1”，“1”]，请问x.count(1)为多少？\n",
    "\n",
    "x=[1,2,5,1,\"1\",\"1\"]\n",
    "\n",
    "print(x.count(1))\n",
    "\n",
    "#③ y=[45,67,89,45,34,22,1],请问y.index(45)等于多少？\n",
    "\n",
    "y=[45,67,89,45,34,22,1]\n",
    "print(y.index(45))\n",
    "\n",
    "#④ 创建一个列表，用type函数判断list[1]和list[2:5]的区别\n",
    "\n",
    "z = [1,2,3,4,5,67,8,9,0]\n",
    "print(type(z[1]))\n",
    "print(type(z[2:5]))"
   ]
  }
 ],
 "metadata": {
  "kernelspec": {
   "display_name": "Python 3",
   "language": "python",
   "name": "python3"
  },
  "language_info": {
   "codemirror_mode": {
    "name": "ipython",
    "version": 3
   },
   "file_extension": ".py",
   "mimetype": "text/x-python",
   "name": "python",
   "nbconvert_exporter": "python",
   "pygments_lexer": "ipython3",
   "version": "3.7.3"
  }
 },
 "nbformat": 4,
 "nbformat_minor": 2
}
