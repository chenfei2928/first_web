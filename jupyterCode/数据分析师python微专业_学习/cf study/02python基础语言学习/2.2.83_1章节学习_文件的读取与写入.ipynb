{
 "cells": [
  {
   "cell_type": "code",
   "execution_count": 1,
   "metadata": {},
   "outputs": [
    {
     "data": {
      "text/plain": [
       "'\\nos模块，提供了非常丰富的方法来处理文件和目录\\n\\n'"
      ]
     },
     "execution_count": 1,
     "metadata": {},
     "output_type": "execute_result"
    }
   ],
   "source": [
    "'''\n",
    "os模块，提供了非常丰富的方法来处理文件和目录\n",
    "\n",
    "'''"
   ]
  },
  {
   "cell_type": "code",
   "execution_count": 5,
   "metadata": {},
   "outputs": [
    {
     "name": "stdout",
     "output_type": "stream",
     "text": [
      "The Zen of Python, by Tim Peters.\n",
      "\n",
      "Beautiful is better than ugly.\n",
      "\n",
      "Explicit is better than implicit.\n",
      "\n",
      "Simple is better than complex.\n"
     ]
    }
   ],
   "source": [
    "# 文件读取 -read\n",
    "f = open('C:/Users/Administrator/Desktop/text.txt','r')\n",
    "print(f.read())\n",
    "    #直接读取，读取后光标会默认在最末尾"
   ]
  },
  {
   "cell_type": "code",
   "execution_count": 10,
   "metadata": {},
   "outputs": [
    {
     "name": "stdout",
     "output_type": "stream",
     "text": [
      "Th\n"
     ]
    }
   ],
   "source": [
    "f.seek(0)\n",
    "print(f.read(2))\n",
    "    # f.read(n): n代表读取多少个字符"
   ]
  },
  {
   "cell_type": "code",
   "execution_count": 29,
   "metadata": {},
   "outputs": [
    {
     "name": "stdout",
     "output_type": "stream",
     "text": [
      "The Zen of Python, by Tim Peters.\n",
      "\n",
      "\n",
      "\n",
      "Beaut\n",
      "iful is\n"
     ]
    }
   ],
   "source": [
    "f.seek(0)\n",
    "print(f.readline())\n",
    "print(f.readline(3))\n",
    "print(f.readline(5))\n",
    "print(f.readline(7))\n",
    "\n",
    "    # 读取行到字符串，一次性读取一行；\n",
    "    # f.readline(n),读取该行的前n个字符；"
   ]
  },
  {
   "cell_type": "code",
   "execution_count": 32,
   "metadata": {},
   "outputs": [
    {
     "name": "stdout",
     "output_type": "stream",
     "text": [
      "['The Zen of Python, by Tim Peters.\\n', '\\n', 'Beautiful is better than ugly.\\n', '\\n', 'Explicit is better than implicit.\\n', '\\n', 'Simple is better than complex.']\n",
      "<class 'str'> The Zen of Python, by Tim Peters.\n",
      "\n",
      "<class 'str'> \n",
      "\n",
      "<class 'str'> Beautiful is better than ugly.\n",
      "\n",
      "<class 'str'> \n",
      "\n",
      "<class 'str'> Explicit is better than implicit.\n",
      "\n",
      "<class 'str'> \n",
      "\n",
      "<class 'str'> Simple is better than complex.\n"
     ]
    }
   ],
   "source": [
    "f.seek(0)\n",
    "print(f.readlines())   # .readlines()输出所有行；\n",
    "\n",
    "f.seek(0)\n",
    "for line in f.readlines():\n",
    "    print(type(line),line)"
   ]
  },
  {
   "cell_type": "code",
   "execution_count": 73,
   "metadata": {},
   "outputs": [
    {
     "name": "stdout",
     "output_type": "stream",
     "text": [
      "[{'name': '五星商务酒店(南通开发区中央路店)', 'type2': '住宿服务;宾馆酒店;宾馆酒店', 'addrss': '开发区中央路28-2号与振兴路交叉口(距离星湖101街区2公里)', 'longitude': '120.927513', 'dimensionality': '31.917964', 'province': '江苏省', 'city': '南通市', 'district': '崇川区'}, {'name': '美家宾馆(新开南路)', 'type2': '住宿服务;宾馆酒店;宾馆酒店', 'addrss': '经济开发区南通市开发区新开南路德诚嘉园', 'longitude': '120.939576', 'dimensionality': '31.914068', 'province': '江苏省', 'city': '南通市', 'district': '崇川区'}, {'name': '星湖宾馆(新开南路)', 'type2': '住宿服务;宾馆酒店;宾馆酒店', 'addrss': '经济技术星湖大道1101号星湖101广场3座(近新开北路)', 'longitude': '120.939568', 'dimensionality': '31.912169', 'province': '江苏省', 'city': '南通市', 'district': '崇川区'}, {'name': '鑫源宾馆(新开南路)', 'type2': '住宿服务;宾馆酒店;宾馆酒店', 'addrss': '开发区振兴路88号', 'longitude': '120.939338', 'dimensionality': '31.915917', 'province': '江苏省', 'city': '南通市', 'district': '崇川区'}, {'name': '德诚宾馆(新开南路店)', 'type2': '住宿服务;宾馆酒店;宾馆酒店', 'addrss': '开发区新开南路德诚嘉园商铺A幢07室', 'longitude': '120.939438', 'dimensionality': '31.913324', 'province': '江苏省', 'city': '南通市', 'district': '崇川区'}, {'name': '福乐宾馆(新开南路)', 'type2': '住宿服务;宾馆酒店;宾馆酒店', 'addrss': '苏通大酒店旁', 'longitude': '120.939003', 'dimensionality': '31.909669', 'province': '江苏省', 'city': '南通市', 'district': '崇川区'}, {'name': '锦绣园宾馆(振兴东路)', 'type2': '住宿服务;宾馆酒店;宾馆酒店', 'addrss': '振兴路富新园9号楼', 'longitude': '120.936859', 'dimensionality': '31.915664', 'province': '江苏省', 'city': '南通市', 'district': '崇川区'}, {'name': '星晨宾馆(新开南路)', 'type2': '住宿服务;宾馆酒店;宾馆酒店', 'addrss': '开发区新开南路(苏通大酒店对面)', 'longitude': '120.939155', 'dimensionality': '31.910461', 'province': '江苏省', 'city': '南通市', 'district': '崇川区'}, {'name': '丽云宾馆(新开南路)', 'type2': '住宿服务;宾馆酒店;宾馆酒店', 'addrss': '新开南路苏通大酒店附近', 'longitude': '120.939285', 'dimensionality': '31.910907', 'province': '江苏省', 'city': '南通市', 'district': '崇川区'}, {'name': '天诚宾馆(新开南路)', 'type2': '住宿服务;宾馆酒店;宾馆酒店', 'addrss': '新开南路新开商城2号楼3楼', 'longitude': '120.939042', 'dimensionality': '31.911293', 'province': '江苏省', 'city': '南通市', 'district': '崇川区'}]\n",
      "\\数据转换成功！总共转换23个数据\n"
     ]
    }
   ],
   "source": [
    "#小作业\n",
    "\n",
    "#利用百度POI小插件爬取一些poi数据，然后存成txt，再用python读取，编写成一个json形式（列表字典）：\n",
    "\n",
    "#[{'name':'...', 'lng':..., 'lat':..., 'address':'...'},{...},...,]\n",
    "\n",
    "pa = 'C:/Users/Administrator/Desktop/zsfw3.txt'\n",
    "f = open(pa,'r',encoding='gbk')\n",
    "\n",
    "m =[]\n",
    "n = 0\n",
    "\n",
    "f.seek(0)\n",
    "for line in f.readlines():\n",
    "    n+=1\n",
    "    st=line.split(',')\n",
    "    # print(st,type(st))  输出切割结果\n",
    "    name =st[0]\n",
    "    type2=st[1]\n",
    "    addrss=st[2]\n",
    "    longitude=st[3]    # 经度\n",
    "    dimensionality=st[4] #维度\n",
    "    province=st[5]\n",
    "    city =st[6]\n",
    "    district=st[7]\n",
    "    data = [['name',name],['type2',type2],['addrss',addrss],['longitude',longitude],['dimensionality',dimensionality],['province',province],['city',city],['district',district]]\n",
    "    m.append(dict(data))\n",
    "\n",
    "print(m[:10])\n",
    "print('\\数据转换成功！总共转换%i个数据' %n)"
   ]
  },
  {
   "cell_type": "code",
   "execution_count": null,
   "metadata": {},
   "outputs": [],
   "source": []
  }
 ],
 "metadata": {
  "kernelspec": {
   "display_name": "Python 3",
   "language": "python",
   "name": "python3"
  },
  "language_info": {
   "codemirror_mode": {
    "name": "ipython",
    "version": 3
   },
   "file_extension": ".py",
   "mimetype": "text/x-python",
   "name": "python",
   "nbconvert_exporter": "python",
   "pygments_lexer": "ipython3",
   "version": "3.7.3"
  }
 },
 "nbformat": 4,
 "nbformat_minor": 2
}
