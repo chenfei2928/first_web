{
 "cells": [
  {
   "cell_type": "code",
   "execution_count": 2,
   "metadata": {},
   "outputs": [
    {
     "data": {
      "text/plain": [
       "'\\nOS模块，提供了非常丰富的方法用来处理文件和目录\\n\\n'"
      ]
     },
     "execution_count": 2,
     "metadata": {},
     "output_type": "execute_result"
    }
   ],
   "source": [
    "'''\n",
    "OS模块，提供了非常丰富的方法用来处理文件和目录\n",
    "\n",
    "'''"
   ]
  },
  {
   "cell_type": "code",
   "execution_count": 20,
   "metadata": {},
   "outputs": [
    {
     "name": "stdout",
     "output_type": "stream",
     "text": [
      "nt\n",
      "C:\\Users\\Administrator\\Desktop\n",
      "['11', '11.zip', '2019年2季度运维日志2.xlsx - 快捷方式.lnk', 'bigdata2.csv', 'CRM附件上传.txt', 'dashuju.py', 'dashuju2.py', 'desktop.ini', 'e-message.lnk', 'IDM.lnk', 'import.docx', 'Microsoft Edge.lnk', 'PDFelement 6 Pro', 'PotPlayerMini64.exe.lnk', 'SpeedPan.exe - 快捷方式.lnk', 'text.py', 'text.txt', 'textmodel2.py', 'textmodule2.py', 'XMind 8 Update 8.lnk', '__pycache__', '临时', '大桶厨余数据报表.cpt', '天若OCR文字识别.exe - 快捷方式.lnk', '新环卫主数据管理系统.lnk', '有道云笔记.lnk', '桑德新环卫ERP系统.lnk', '火柴.lnk']\n",
      "('C:/Users/Administrator/Desktop', 'text.txt')\n",
      "False\n",
      "True\n",
      "True\n",
      "False\n"
     ]
    }
   ],
   "source": [
    "# os模块  系统模块，常用命令\n",
    "\n",
    "import os # 导入模块\n",
    "print(os.name)\n",
    "    # 输出字符串指正在使用的平台。如果是window则用‘nt’表示，对Linux/Unix用户，它是'posix'\n",
    "print(os.getcwd())\n",
    "    # os.getcwd()函数得到当前工作目录，即当前Python脚本工作的目录路径。\n",
    "print(os.listdir())\n",
    "    # 返回指定目录下的所有文件和目录名。\n",
    "    \n",
    "#os.chdir('C:/Users/Administrator/Desktop/')\n",
    "    # 切换到目标路径，复制路径后，按tab键，自动切换为反斜杠/;\n",
    "#print(os.getcwd())\n",
    "#print(os.listdir())    \n",
    "#os.remove('bigdata.csv')\n",
    "        # 删除一个文件\n",
    "\n",
    "print(os.path.split('C:/Users/Administrator/Desktop/text.txt'))\n",
    "        # 函数返回一个路径的目录名和文件名\n",
    "print(os.path.exists('C:/Users/Administrator/Desktop/text3.txt'))\n",
    "print(os.path.exists('C:/Users/Administrator/Desktop/text.txt'))\n",
    "\n",
    "print(os.path.exists('C:/Users/Administrator/Desktop'))\n",
    "print(os.path.exists('C:/Users/Administrator/Desktop2'))\n",
    "        #用来检验给出的路径是否存在；不存在返回False,存在True\n"
   ]
  }
 ],
 "metadata": {
  "kernelspec": {
   "display_name": "Python 3",
   "language": "python",
   "name": "python3"
  },
  "language_info": {
   "codemirror_mode": {
    "name": "ipython",
    "version": 3
   },
   "file_extension": ".py",
   "mimetype": "text/x-python",
   "name": "python",
   "nbconvert_exporter": "python",
   "pygments_lexer": "ipython3",
   "version": "3.7.3"
  }
 },
 "nbformat": 4,
 "nbformat_minor": 2
}
