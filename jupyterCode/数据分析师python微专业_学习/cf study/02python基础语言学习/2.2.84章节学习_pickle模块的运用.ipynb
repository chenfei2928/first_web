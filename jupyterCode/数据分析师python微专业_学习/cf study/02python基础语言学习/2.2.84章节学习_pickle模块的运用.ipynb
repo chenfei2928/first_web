{
 "cells": [
  {
   "cell_type": "code",
   "execution_count": 1,
   "metadata": {},
   "outputs": [
    {
     "data": {
      "text/plain": [
       "'\\npickle模块的运用\\n\\npickle提供了一个简单的持久化功能。可以将对象以文件的形式存放在磁盘上。\\n\\npython的pickle模块实现了基本的数据序列和反序列化\\n\\n通过pickle模块的序列化操作我们能够将程序中运行的对象信息保存到文件中去，永久存储。\\n\\n通过pickle模块的反序列化操作，我们能够从文件中创建上一次程序保存的对象。\\n\\n'"
      ]
     },
     "execution_count": 1,
     "metadata": {},
     "output_type": "execute_result"
    }
   ],
   "source": [
    "'''\n",
    "pickle模块的运用\n",
    "\n",
    "pickle提供了一个简单的持久化功能。可以将对象以文件的形式存放在磁盘上。\n",
    "\n",
    "python的pickle模块实现了基本的数据序列和反序列化\n",
    "\n",
    "通过pickle模块的序列化操作我们能够将程序中运行的对象信息保存到文件中去，永久存储。\n",
    "\n",
    "通过pickle模块的反序列化操作，我们能够从文件中创建上一次程序保存的对象。\n",
    "\n",
    "'''"
   ]
  },
  {
   "cell_type": "code",
   "execution_count": 5,
   "metadata": {},
   "outputs": [
    {
     "name": "stdout",
     "output_type": "stream",
     "text": [
      "{'a': [12, 3, 4], 'b': ('string', 'abc'), 'c': 'hello'}\n"
     ]
    }
   ],
   "source": [
    "# 存储pickle.dump(obj,file,[,protocol])\n",
    "    # obj:想要序列化的obj对象。\n",
    "    # file 文件名称。\n",
    "    # protocol 序列号使用的协议。如果该项省略，则默认为0.如果为负数或highest_protocol,则使用最高的协议版本。\n",
    "    \n",
    "import pickle\n",
    "\n",
    "data = {'a':[12,3,4],'b':('string','abc'),'c':'hello'}\n",
    "print(data)\n",
    "    # 创建一个字典变量 data\n",
    "\n",
    "pic = open('C:\\\\Users\\\\Administrator\\\\Desktop\\\\data.pkl','wb')\n",
    "    # 以二进制来存储\n",
    "    # 'wb' 以二进制写方式打开，只能写文件，如果文件不存在，创建该文件；如果文件已存在，先清空，再打开文件。\n",
    "    \n",
    "pickle.dump(data,pic)\n",
    "pic.close()\n",
    "    # 将一个字典数据存成了pkl文件\n",
    "    "
   ]
  },
  {
   "cell_type": "code",
   "execution_count": 6,
   "metadata": {},
   "outputs": [
    {
     "name": "stdout",
     "output_type": "stream",
     "text": [
      "{'a': [12, 3, 4], 'b': ('string', 'abc'), 'c': 'hello'}\n"
     ]
    }
   ],
   "source": [
    "# 读取  pickle.load(file)\n",
    "\n",
    "f = open('C:\\\\Users\\\\Administrator\\\\Desktop\\\\data.pkl','rb')\n",
    "\n",
    "st = pickle.load(f)\n",
    "print(st)\n",
    "    #直接读取pkl文件内的数据，该数据为一个字典\n"
   ]
  }
 ],
 "metadata": {
  "kernelspec": {
   "display_name": "Python 3",
   "language": "python",
   "name": "python3"
  },
  "language_info": {
   "codemirror_mode": {
    "name": "ipython",
    "version": 3
   },
   "file_extension": ".py",
   "mimetype": "text/x-python",
   "name": "python",
   "nbconvert_exporter": "python",
   "pygments_lexer": "ipython3",
   "version": "3.7.3"
  }
 },
 "nbformat": 4,
 "nbformat_minor": 2
}
