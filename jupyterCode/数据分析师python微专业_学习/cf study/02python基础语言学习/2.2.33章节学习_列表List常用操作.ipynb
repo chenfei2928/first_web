{
 "cells": [
  {
   "cell_type": "code",
   "execution_count": 3,
   "metadata": {},
   "outputs": [
    {
     "data": {
      "text/plain": [
       "'\\n列表list常用操作\\n\\n序列是Python中最基本的数据结构，它支持字符，数字，字符串甚至可以包含列表（即嵌套）\\n列表用 [ ] 标识，是 python 最通用的复合数据类型。\\n列表中值的切片也可以用到变量 [头下标:尾下标] ，就可以截取相应的列表，从左到右索引默认 0 开始，从右到左索引默认 -1 开始，下标可以为空表示取到头或尾。\\n加号 + 是列表连接运算符，星号 * 是重复操作\\n\\n'"
      ]
     },
     "execution_count": 3,
     "metadata": {},
     "output_type": "execute_result"
    }
   ],
   "source": [
    "'''\n",
    "列表list常用操作\n",
    "\n",
    "序列是Python中最基本的数据结构，它支持字符，数字，字符串甚至可以包含列表（即嵌套）\n",
    "列表用 [ ] 标识，是 python 最通用的复合数据类型。\n",
    "列表中值的切片也可以用到变量 [头下标:尾下标] ，就可以截取相应的列表，从左到右索引默认 0 开始，从右到左索引默认 -1 开始，下标可以为空表示取到头或尾。\n",
    "加号 + 是列表连接运算符，星号 * 是重复操作\n",
    "\n",
    "'''"
   ]
  },
  {
   "cell_type": "code",
   "execution_count": 11,
   "metadata": {},
   "outputs": [
    {
     "name": "stdout",
     "output_type": "stream",
     "text": [
      "1 b [5, 6, 7]\n",
      "[5, 6, 7]\n",
      "[1, 2, 3, 1, 2, 3, 1, 2, 3]\n",
      "[1, 2, [1, 2]]\n",
      "[100, 200, 300]\n",
      "[99, 200, 300]\n"
     ]
    }
   ],
   "source": [
    "# 列表的特征\n",
    "\n",
    "lst1 = [1,2,4,'a','b','c',[5,6,7]]\n",
    "    #可以包含任意类型的对象：数值、字符串、列表等\n",
    "    \n",
    "lst2 = [1,2,4,'a','b','c',[5,6,7]]\n",
    "print(lst2[0],lst2[4],lst2[-1])\n",
    "print(lst2[-1])\n",
    "    # 通过下标索引访问序列中的值 → 序列的顺序是不能改变的,通过索引来定位列表的元素\n",
    "\n",
    "lst3 = [1,2,3]\n",
    "lst3 = lst3 * 3\n",
    "print(lst3)\n",
    "    #可随意变换列表长度，相当于随意指定新的列表\n",
    "    \n",
    "lst4 = [1,2,[1,2]]\n",
    "print(lst4)\n",
    "    #可嵌套\n",
    "\n",
    "lst5 = [100,200,300]\n",
    "print(lst5)\n",
    "lst5[0]= 99\n",
    "print(lst5)\n",
    "    #可原位改变"
   ]
  },
  {
   "cell_type": "code",
   "execution_count": 30,
   "metadata": {},
   "outputs": [
    {
     "name": "stdout",
     "output_type": "stream",
     "text": [
      "小作业\n",
      "[100, 89, 78]\n",
      "['北京', '杭州', '深圳', '广州', '沈阳']\n",
      "['小明', '小红', '团支书']\n",
      "['小明', '小红']\n",
      "['小明', '小红', '团支书']\n",
      "4\n",
      "77\n"
     ]
    }
   ],
   "source": [
    "print('小作业')\n",
    "\n",
    "#① [1,2,3]和[“1”, “2”, “3”]什么区别\n",
    "    #列表y元素类型不同，\n",
    "#② 创建一个列表，包括3个人的数学成绩100，89,78\n",
    "score = [100,89,78]\n",
    "print(score)\n",
    "\n",
    "#③ 创建一个列表，包括5个中国城市名称\n",
    "city = ['北京','杭州','深圳','广州','沈阳']\n",
    "print(city)\n",
    "\n",
    "#④ 现有一个列表name = ['小明', '小红'] ,增加“团支书”的名字上去\n",
    "name = ['小明','小红']\n",
    "name.append('团支书')\n",
    "print(name)\n",
    "\n",
    "name2 = ['小明','小红']\n",
    "add = ['团支书']\n",
    "print(name2)\n",
    "print(name2 + add)\n",
    "\n",
    "\n",
    "#⑤ 现有一个列表m=[3.1,5.5,4,3,77,8]，用print分别输出第2、4个元素\n",
    "\n",
    "m=[3.1,5.5,4,3,77,8]\n",
    "print(m[2])\n",
    "print(m[4])"
   ]
  },
  {
   "cell_type": "code",
   "execution_count": 37,
   "metadata": {},
   "outputs": [
    {
     "name": "stdout",
     "output_type": "stream",
     "text": [
      "range(0, 5) <class 'range'>\n",
      "[2, 3, 4]\n",
      "[0, 2, 4, 6, 8]\n"
     ]
    }
   ],
   "source": [
    " # 列表与生成器\n",
    "    \n",
    "print(range(5),type(range(5)))\n",
    "    # range()是生成器，横向了一个范围\n",
    "    # range()代表指向了0,1,2,3,4这几个值\n",
    "    # range(2,5)代表指向了2,3,4这几个值\n",
    "    #range(0,10,2)代表指向了0,2,4,6,8这个值，最后的2代表步长\n",
    "lst1= list(range(2,5))\n",
    "print(lst1)\n",
    "    # 通过list()函数生成列表\n",
    "lst2= list(range(0,10,2))\n",
    "print(lst2)"
   ]
  },
  {
   "cell_type": "code",
   "execution_count": 2,
   "metadata": {},
   "outputs": [
    {
     "name": "stdout",
     "output_type": "stream",
     "text": [
      "<class 'range'>\n",
      "[0, 1, 2, 3, 4]\n",
      "[4, 5, 6, 7]\n",
      "range(1, 6)\n",
      "[1, 2, 3, 4, 5, 6, 7, 8, 9, 10, 11, 12, 13, 14, 15, 16, 17, 18, 19, 20, 21, 22, 23, 24, 25, 26, 27, 28, 29, 30, 31, 32, 33, 34, 35, 36, 37, 38, 39, 40, 41, 42, 43, 44, 45, 46, 47, 48, 49] <class 'list'>\n",
      "2 9 5\n"
     ]
    }
   ],
   "source": [
    "#小作业\n",
    "\n",
    "#① range()生成的是不是都是整数?\n",
    "    #是\n",
    "\n",
    "#② 创建一个range，用type()函数查看其类型\n",
    "print(type(range(0,5)))\n",
    "    \n",
    "#③ 哪种方式书写正确：x=range(5), x=range(4:7), x=range(4,8)\n",
    "x=list(range(5))\n",
    "print(x)\n",
    "\n",
    "x=list(range(4,8))\n",
    "print(x)\n",
    "\n",
    "#④ 创建一个range，用print输出其值，看一下输出结果\n",
    "print(range(1,6))\n",
    "    \n",
    "#⑤ 用list()函数，将一个range范围变为列表\n",
    "lst2 = list(range(1,50))\n",
    "print(lst2,type(lst2))\n",
    "\n",
    "#⑥ m=range(10),请问m[2],m[-1],m[5]是多少\n",
    "m = range(10)\n",
    "print(m[2],m[-1],m[5])\n"
   ]
  },
  {
   "cell_type": "code",
   "execution_count": 51,
   "metadata": {},
   "outputs": [
    {
     "name": "stdout",
     "output_type": "stream",
     "text": [
      "[0, 1, 2, 3, 4, 5, 6, 7, 8, 9, 'hello']\n",
      "[0, 1, 2, 3, 4, 5, 6, 7, 8, 9, 99]\n",
      "[0, 1, 2, 3, 4, 5, 6, 7, 8, 9, 'hello', ['a', 'b', 'c']]\n",
      "[0, 1, 2, 3, 4, 5, 6, 7, 8, 9, 'hello', ['a', 'b', 'c'], 'd', 'e', 'f']\n"
     ]
    }
   ],
   "source": [
    "# 可变列表list常用操作 添加元素\n",
    "\n",
    "lst = list(range(10))\n",
    "lst.append('hello')\n",
    "print(lst)\n",
    "    # list.append() 添加元素\n",
    "\n",
    "\n",
    "lst2 = list(range(10))\n",
    "lst2.append(99)\n",
    "print(lst2)\n",
    "\n",
    "lst.append(['a','b','c'])\n",
    "print(lst)\n",
    "\n",
    "lst.extend(['d','e','f'])\n",
    "print(lst)\n",
    "    # 添加多个元素用.extend()方法：用新列表扩展原来的列表，注意和append()方法的区别\n",
    "\n",
    "\n"
   ]
  },
  {
   "cell_type": "code",
   "execution_count": 56,
   "metadata": {},
   "outputs": [
    {
     "name": "stdout",
     "output_type": "stream",
     "text": [
      "['Jack', 'Tom', 'Tracy', 'Alex', 'White']\n",
      "['Jack', 'Tom', 'Tracy']\n",
      "[]\n"
     ]
    }
   ],
   "source": [
    " #可变列表list常用操作   删除元素\n",
    "lst = ['Jack','Jack','Tom','Tracy','Alex','White']\n",
    "lst.remove('Jack')\n",
    "print(lst)\n",
    "    # .remove方法：移除列表中某个值的第一个匹配项\n",
    "\n",
    "del lst[3:5]\n",
    "print(lst)\n",
    "    # del语句：删除list的相应索引值\n",
    "    \n",
    "lst.clear()\n",
    "print(lst)\n",
    "    # 移除所有值"
   ]
  },
  {
   "cell_type": "code",
   "execution_count": 62,
   "metadata": {},
   "outputs": [
    {
     "name": "stdout",
     "output_type": "stream",
     "text": [
      "[0, 1, 2, 3, 4, 5, 6, 7, 8, 9]\n",
      "[0, 1, 2, 'a', 3, 4, 5, 6, 7, 8, 9]\n",
      "[0, 1, 2, 'a', [11, 12, 14], 3, 4, 5, 6, 7, 8, 9]\n"
     ]
    }
   ],
   "source": [
    "# 可变列表list常用操作    插入元素\n",
    "lst = list(range(10))\n",
    "print(lst)\n",
    "\n",
    "lst.insert(3,'a')\n",
    "print(lst)\n",
    "    # x.insert(i,m)方法：在索引i处插入m，这里索引3代表第四个值\n",
    "\n",
    "lst.insert(4,[11,12,14])\n",
    "print(lst)\n",
    "    # 插入一个列表元素"
   ]
  },
  {
   "cell_type": "code",
   "execution_count": 65,
   "metadata": {},
   "outputs": [
    {
     "name": "stdout",
     "output_type": "stream",
     "text": [
      "[0, 1, 'hello', 3, 4, 5, 6, 7, 8, 9] [0, 1, 'hello', 3, 4, 5, 6, 7, 8, 9]\n",
      "[0, 1, 2, 3, 4, 5, 6, 7, 8, 9] [0, 1, 'hello', 3, 4, 5, 6, 7, 8, 9]\n"
     ]
    }
   ],
   "source": [
    "# 可变列表list常用操作     复制\n",
    "\n",
    "lst = list(range(10))\n",
    "lst1 = lst\n",
    "lst1[2] = 'hello'\n",
    "print(lst,lst1)\n",
    "    # lst，lst1指向同一个列表\n",
    "\n",
    "lst = list(range(10))\n",
    "lst1 = lst.copy()\n",
    "lst1[2] = 'hello'\n",
    "print(lst,lst1)\n",
    "    # list.copy()方法：复制一个新的列表，lst，lst2指向两个列表（虽然两个列表值相同）"
   ]
  },
  {
   "cell_type": "code",
   "execution_count": 71,
   "metadata": {},
   "outputs": [
    {
     "name": "stdout",
     "output_type": "stream",
     "text": [
      "[4, 12, 33, 34, 67, 89, 90]\n",
      "['abc', 'gdf', 'hg', 'zsg']\n",
      "[90, 89, 67, 34, 33, 12, 4]\n",
      "['zsg', 'hg', 'gdf', 'abc']\n",
      "[90, 89, 67, 34, 33, 12, 4] [4, 12, 33, 34, 67, 89, 90, 'hello']\n"
     ]
    }
   ],
   "source": [
    "# 可变列表list常用操作  排序\n",
    "\n",
    "lst1 = [12,34,4,67,89,33,90]\n",
    "lst2 = ['abc','gdf','zsg','hg']\n",
    "lst1.sort()\n",
    "print(lst1)\n",
    "lst2.sort()\n",
    "print(lst2)\n",
    "    # 默认升序排序/字母顺序\n",
    "\n",
    "lst1.reverse()\n",
    "print(lst1)\n",
    "#lst1.sort(reverse=True)\n",
    "\n",
    "lst2.sort(reverse=True)\n",
    "print(lst2)\n",
    "    # 参数reverse：反向排序，针对数字\n",
    "\n",
    "lst3 = sorted(lst1)\n",
    "lst3.append('hello')\n",
    "print(lst1,lst3)\n",
    "    # 函数sorted():排序并复制\n"
   ]
  },
  {
   "cell_type": "code",
   "execution_count": 77,
   "metadata": {},
   "outputs": [
    {
     "name": "stdout",
     "output_type": "stream",
     "text": [
      "1997 ('a', 'b', 'c')\n",
      "('a', 'b', 'c', 'd')\n",
      "('a', 'b', 'c', 'd')\n",
      "4\n",
      "('physics', 'chemistry', 1997, 2000, 1, 2, 3, 4, 5)\n",
      "(50, 50, 50)\n",
      "5 1\n",
      "[0, 1, 2, 3, 4, 5, 6, 7, 8, 9]\n",
      "(0, 1, 2, 3, 4, 5, 6, 7, 8, 9)\n"
     ]
    }
   ],
   "source": [
    "# 讲一讲元祖tuple ：不可变的“列表”\n",
    "\n",
    "tup1 = ('physics', 'chemistry', 1997, 2000)\n",
    "tup2 = (1, 2, 3, 4, 5 )\n",
    "tup3 = \"a\", \"b\", \"c\", \"d\"  # 可以不加括号\n",
    "tup4 = (50,)  # 元组中只包含一个元素时，需要在元素后面添加逗号\n",
    "\n",
    "print(tup1[2],tup3[:3])\n",
    "     # 索引、切片和list一样\n",
    "\n",
    "print(tup3)\n",
    "#del tup3\n",
    "print(tup3)\n",
    "    # 元祖不能单独删除内部元素（不可变性），但可以del语句来删除整个元祖\n",
    "    \n",
    "print(len(tup1))\n",
    "print(tup1 + tup2)\n",
    "print(tup4*3)\n",
    "print(max(tup2),min(tup2))\n",
    "\n",
    "lst = list(range(10))\n",
    "print(lst)\n",
    "tup5 = tuple(lst)\n",
    "print(tup5)\n",
    "    # tuple()函数，将列表转换为元祖"
   ]
  },
  {
   "cell_type": "code",
   "execution_count": 119,
   "metadata": {},
   "outputs": [
    {
     "name": "stdout",
     "output_type": "stream",
     "text": [
      "[0, 1, 2, 3, 4, 5, 6, 7, 8, 9]\n",
      "[0, 1, 2, 3, 4, 5, 6, 7, 8, 9, 'asd']\n",
      "[0, 1, 2, 3, 4, 5, 6, 7, 8, 9, 'd', 'd', 'd']\n",
      "[0, 1, 2, 3, 4, 5, 6, 7, 8, 9, 'ddd']\n"
     ]
    }
   ],
   "source": [
    "#小作业\n",
    "\n",
    "#① 分别用append、extend方法，给一个序列增加一个元素1\n",
    "lst = list(range(10))\n",
    "print(lst)\n",
    "lst.append('asd')\n",
    "print(lst)\n",
    "\n",
    "lst1 = list(range(10))\n",
    "\n",
    "lst1.extend('ddd')\n",
    "print(lst1) \n",
    "\n",
    "lst2 = list(range(10))\n",
    "lst3 = ['ddd']\n",
    "lst2.extend(lst3)\n",
    "print(lst2) "
   ]
  },
  {
   "cell_type": "code",
   "execution_count": 120,
   "metadata": {},
   "outputs": [
    {
     "name": "stdout",
     "output_type": "stream",
     "text": [
      "[4, 5, 6, 7, 8]\n",
      "[4, 5, 6, 7, 8, [1, 2, 3]]\n",
      "[4, 5, 6, 7, 8, [1, 2, 3], 1, 2, 3]\n"
     ]
    }
   ],
   "source": [
    "#② x.append([1,2,3])和x.extend([1,2,3])的区别\n",
    "x = list(range(4,9))\n",
    "print(x)\n",
    "x.append([1,2,3])\n",
    "print(x)\n",
    "\n",
    "x.extend([1,2,3])\n",
    "print(x)    \n"
   ]
  },
  {
   "cell_type": "code",
   "execution_count": 121,
   "metadata": {},
   "outputs": [
    {
     "name": "stdout",
     "output_type": "stream",
     "text": [
      "分割线---------------\n",
      "[2, 3, 4]\n",
      "[2, 3, 4, 'abc']\n",
      "[2, 3, 4, 'abc', 'a', 'b', 'c']\n"
     ]
    }
   ],
   "source": [
    "#③ x.append('abc')和x.extend('abc')的区别\n",
    "print('分割线---------------')\n",
    "x = list(range(2,5))\n",
    "print(x)\n",
    "x.append('abc')\n",
    "print(x)\n",
    "\n",
    "x.extend('abc')\n",
    "print(x)\n",
    "\n"
   ]
  },
  {
   "cell_type": "code",
   "execution_count": 122,
   "metadata": {},
   "outputs": [
    {
     "name": "stdout",
     "output_type": "stream",
     "text": [
      "[1, 2, 3, 4]\n",
      "[1, 2, 'abc', 3, 4]\n"
     ]
    }
   ],
   "source": [
    "#④ 创建某一列表，在列表中间插入一个值\n",
    "\n",
    "lst4 =list(range(1,5))\n",
    "print(lst4)\n",
    "lst4.insert(2,'abc')\n",
    "print(lst4)"
   ]
  },
  {
   "cell_type": "code",
   "execution_count": 123,
   "metadata": {},
   "outputs": [
    {
     "name": "stdout",
     "output_type": "stream",
     "text": [
      "[78, 56, 45, 45, 12, 6, 2]\n",
      "[78, 56, 45, 45, 12, 6, 2]\n"
     ]
    }
   ],
   "source": [
    "#⑤ 创建一个随机数值列表，按照降序排列\n",
    "\n",
    "lst5 = [12,45,56,78,2,45,6]\n",
    "lst5.sort()\n",
    "lst5.reverse()\n",
    "print(lst5)\n",
    "\n",
    "lst51 = [12,45,56,78,2,45,6]\n",
    "lst51.sort(reverse=True)\n",
    "print(lst51)"
   ]
  },
  {
   "cell_type": "code",
   "execution_count": 124,
   "metadata": {},
   "outputs": [
    {
     "name": "stdout",
     "output_type": "stream",
     "text": [
      "[12, 45, 56, 78, 2, 45, 6] [2, 6, 12, 45, 45, 56, 78]\n"
     ]
    }
   ],
   "source": [
    "#⑥ sort()和sorted()什么区别\n",
    "lst6 = [12,45,56,78,2,45,6]\n",
    "lst61 = sorted(lst6)   #复制并排序升序\n",
    "print(lst6,lst61)\n",
    "\n",
    "# sort只是用再list上的方法（就地排序无返回值）\n",
    "# sorted 是内建函数，可对所有可迭代的对象进行排序操作。（返回新的list）\n"
   ]
  },
  {
   "cell_type": "code",
   "execution_count": 3,
   "metadata": {},
   "outputs": [
    {
     "name": "stdout",
     "output_type": "stream",
     "text": [
      "[32, 63, 12, 45, 89, 77]\n",
      "[32, 63, 45, 89, 77]\n",
      "77\n",
      "[32, 63, 45, 89]\n"
     ]
    }
   ],
   "source": [
    "#⑦ s=[32,45,63,12,45,89,77], s.remove(45), del s[2], s.pop(4)分别什么区别\n",
    "s=[32,45,63,12,45,89,77]\n",
    "s.remove(45)    #移除第一个匹配值，根据值删除\n",
    "print(s)\n",
    "\n",
    "del s[2]    #删除列表中索引值为2元素\n",
    "print(s)\n",
    "\n",
    "print(s.pop(4))  #pop() 函数用于移除列表中的一个元素（默认最后一个元素），并且返回该元素的值。根据索引删掉\n",
    "print(s)\n",
    "\n"
   ]
  },
  {
   "cell_type": "code",
   "execution_count": 4,
   "metadata": {},
   "outputs": [
    {
     "name": "stdout",
     "output_type": "stream",
     "text": [
      "None\n",
      "[4, 5, 6, 73, 4, 4, 4, 4]\n",
      "8\n",
      "[5, 6, 73]\n"
     ]
    }
   ],
   "source": [
    "#⑧ m=[4,5,6,73,4,4,4,4,2]，删除2，删除所有的4\n",
    "\n",
    "m=[4,5,6,73,4,4,4,4,2]\n",
    "#m.remove(2)\n",
    "print(m.remove(2))\n",
    "print(m)\n",
    "print(len(m))\n",
    "\n",
    "while 4 in m:        #while循环语句\n",
    "    m.remove(4)\n",
    "print(m)    \n"
   ]
  },
  {
   "cell_type": "code",
   "execution_count": null,
   "metadata": {},
   "outputs": [],
   "source": []
  }
 ],
 "metadata": {
  "kernelspec": {
   "display_name": "Python 3",
   "language": "python",
   "name": "python3"
  },
  "language_info": {
   "codemirror_mode": {
    "name": "ipython",
    "version": 3
   },
   "file_extension": ".py",
   "mimetype": "text/x-python",
   "name": "python",
   "nbconvert_exporter": "python",
   "pygments_lexer": "ipython3",
   "version": "3.7.3"
  }
 },
 "nbformat": 4,
 "nbformat_minor": 2
}
