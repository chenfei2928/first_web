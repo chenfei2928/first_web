{
 "cells": [
  {
   "cell_type": "code",
   "execution_count": 1,
   "metadata": {},
   "outputs": [
    {
     "data": {
      "text/plain": [
       "'\\n匿名函数lambda\\n\\nlambda 语句创建匿名函数\\n    \\n'"
      ]
     },
     "execution_count": 1,
     "metadata": {},
     "output_type": "execute_result"
    }
   ],
   "source": [
    "'''\n",
    "匿名函数lambda\n",
    "\n",
    "lambda 语句创建匿名函数\n",
    "    \n",
    "'''\n"
   ]
  },
  {
   "cell_type": "code",
   "execution_count": 5,
   "metadata": {},
   "outputs": [
    {
     "name": "stdout",
     "output_type": "stream",
     "text": [
      "9\n",
      "11\n"
     ]
    }
   ],
   "source": [
    "#实例\n",
    "\n",
    "def fun(a,b,c):\n",
    "    return a+b+c\n",
    "print(fun(2,3,4))\n",
    "# def创建自定义函数，求和\n",
    "\n",
    "f = lambda a,b,c:a+b+c\n",
    "print(f(2,4,5))\n",
    "\n",
    "# lambda作为一个匿名函数，是不需要函数名的。\n",
    "    #—需要一个函数，又不想动脑筋去想名字，这就是匿名函数\n",
    "#lambda的主体是一个表达式，而不是一个代码块。\n",
    "#lambda只有一行，仅仅能在lambda表达式中封装有限的逻辑进去"
   ]
  },
  {
   "cell_type": "code",
   "execution_count": 4,
   "metadata": {},
   "outputs": [
    {
     "name": "stdout",
     "output_type": "stream",
     "text": [
      "7\n"
     ]
    }
   ],
   "source": [
    "#小作业\n",
    "#① 用lambda创建一个求元素个数的匿名函数\n",
    "\n",
    "count = lambda lst:len(lst)\n",
    "print(count([1,2,3,4,56,7,9]))\n",
    "\n",
    "#此处为什么？？？需要冒号：count = lambda lst:len(lst)\n",
    "\n"
   ]
  },
  {
   "cell_type": "code",
   "execution_count": 32,
   "metadata": {},
   "outputs": [
    {
     "name": "stdout",
     "output_type": "stream",
     "text": [
      "[87, 34, 6, 5, 5, 1]\n"
     ]
    },
    {
     "data": {
      "text/plain": [
       "'\\n降序案例\\ntest = [6,1,2,3,4,5]\\na =  sorted(test,reverse=True)\\nprint a\\n结果如下：\\n[6, 5, 4, 3, 2, 1]\\n'"
      ]
     },
     "execution_count": 32,
     "metadata": {},
     "output_type": "execute_result"
    }
   ],
   "source": [
    "#② 定义一个函数，可将输入的所有数字从大到小依次排序\n",
    "\n",
    "def f(*var):\n",
    "    lst = list(var)\n",
    "    #lst2 = sorted(lst)\n",
    "    lst2 = sorted(lst,reverse=True)\n",
    "    \n",
    "    return(lst2)\n",
    "\n",
    "print(f(1,34,5,6,87,5))\n",
    "\"\"\"\n",
    "降序案例\n",
    "test = [6,1,2,3,4,5]\n",
    "a =  sorted(test,reverse=True)\n",
    "print a\n",
    "结果如下：\n",
    "[6, 5, 4, 3, 2, 1]\n",
    "\"\"\""
   ]
  },
  {
   "cell_type": "code",
   "execution_count": 33,
   "metadata": {},
   "outputs": [
    {
     "name": "stdout",
     "output_type": "stream",
     "text": [
      "成绩为C\n"
     ]
    }
   ],
   "source": [
    "#③ 定义一个函数，随机输入一个学生的成绩后，\n",
    "#学习成绩>=90分的同学用A表示，\n",
    "#60-89分之间的用B表示，\n",
    "#60分以下的用C表示，最后输出成绩评分\n",
    "\n",
    "#socre =input(\"请输入你的成绩：\")\n",
    "\n",
    "def f(sc):\n",
    "    if sc>=90:\n",
    "        print('成绩为A')\n",
    "    elif sc>=60 and sc <=89:\n",
    "        print(\"成绩为B\")\n",
    "    else:\n",
    "        print('成绩为C')\n",
    "\n",
    "f(45)\n"
   ]
  },
  {
   "cell_type": "code",
   "execution_count": 10,
   "metadata": {},
   "outputs": [
    {
     "name": "stdout",
     "output_type": "stream",
     "text": [
      "[['B', 'C', 'B', 'C', 'B', 'B'], 63.833333333333336] <class 'list'>\n",
      "['B', 'C', 'B', 'C', 'B', 'B']\n",
      "63.833333333333336\n"
     ]
    }
   ],
   "source": [
    "def f(*scores):\n",
    "    s =0\n",
    "    m =[]\n",
    "    for i in scores:\n",
    "        if i>=90:\n",
    "            m.append('A')\n",
    "        elif i>=60 and i<=89:\n",
    "            m.append('B')\n",
    "        else:\n",
    "            m.append(\"C\")\n",
    "        s+=i\n",
    "    mean=s/len(scores)\n",
    "    return[m,mean]\n",
    "result = f(89,33,81,35,67,78)\n",
    "print(result,type(result))\n",
    "print(result[0])\n",
    "print(result[1])"
   ]
  },
  {
   "cell_type": "code",
   "execution_count": 17,
   "metadata": {
    "scrolled": true
   },
   "outputs": [
    {
     "name": "stdout",
     "output_type": "stream",
     "text": [
      "字符个数letter=5,\n",
      "空格个数space=3,\n",
      "数字个数digit=5,\n",
      "其他字符个数others=2\n"
     ]
    }
   ],
   "source": [
    "s='12345werty!@   '\n",
    "\n",
    "letters= 0\n",
    "space = 0\n",
    "digit =0\n",
    "others =0\n",
    "\n",
    "for c in range(len(s)):\n",
    "    if s[c].isalpha():\n",
    "        letters+=1\n",
    "    elif s[c].isspace():\n",
    "        space+=1\n",
    "    elif s[c].isdigit():\n",
    "        digit+=1\n",
    "    else:\n",
    "        others+=1\n",
    "\n",
    "print('字符个数letter=%i,\\n空格个数space=%d,\\n数字个数digit=%d,\\n其他字符个数others=%d'%(letters,space,digit,others))\n",
    "\n",
    "#？？？字符串的某位单独索引s[1]取出后，也是字符类型，如何判断他是字母、数字、空格的；"
   ]
  },
  {
   "cell_type": "code",
   "execution_count": 9,
   "metadata": {},
   "outputs": [
    {
     "name": "stdout",
     "output_type": "stream",
     "text": [
      "请输入一个字符串：\n",
      "456789rtyuio   @#$%\n",
      "字符个数letter=6,\n",
      "空格个数space=3,\n",
      "数字个数digit=6,\n",
      "其他字符个数others=4\n"
     ]
    }
   ],
   "source": [
    "#④ 定义一个函数，可统计出输入任意的字符中英文字母、空格、数字和其它字符的个数\n",
    "\n",
    "s= input(\"请输入一个字符串：\\n\")\n",
    "\n",
    "letters= 0\n",
    "space = 0\n",
    "digit =0\n",
    "others =0\n",
    "\n",
    "for c in s:\n",
    "    if c.isalpha():\n",
    "        letters+=1\n",
    "    elif c.isspace():\n",
    "        space+=1\n",
    "    elif c.isdigit():\n",
    "        digit+=1\n",
    "    else:\n",
    "        others+=1\n",
    "\n",
    "print('字符个数letter=%d,\\n空格个数space=%d,\\n数字个数digit=%d,\\n其他字符个数others=%d'%(letters,space,digit,others))\n"
   ]
  }
 ],
 "metadata": {
  "kernelspec": {
   "display_name": "Python 3",
   "language": "python",
   "name": "python3"
  },
  "language_info": {
   "codemirror_mode": {
    "name": "ipython",
    "version": 3
   },
   "file_extension": ".py",
   "mimetype": "text/x-python",
   "name": "python",
   "nbconvert_exporter": "python",
   "pygments_lexer": "ipython3",
   "version": "3.7.3"
  }
 },
 "nbformat": 4,
 "nbformat_minor": 2
}
