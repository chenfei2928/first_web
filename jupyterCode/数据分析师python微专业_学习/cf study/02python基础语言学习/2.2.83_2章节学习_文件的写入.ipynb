{
 "cells": [
  {
   "cell_type": "code",
   "execution_count": 10,
   "metadata": {},
   "outputs": [],
   "source": [
    "# 文件写入\n",
    "\n",
    "path = 'C:/Users/Administrator/Desktop/wr3.txt'\n",
    "f2 = open(path,'w',encoding='gbk')\n",
    "f2.write('Hello world')\n",
    "    #执行后直接创建“wr3.txt”文件，并写入“hello world”\n",
    "    \n",
    "    # 11代表输入了11个字符，但是文件内真的有写入吗？打开看看\n",
    "    \n",
    "f2.close()\n",
    "    # 为什么没有？因为刚才是在内存里运行，我们需要再加上close才能写入。\n"
   ]
  },
  {
   "cell_type": "code",
   "execution_count": 50,
   "metadata": {},
   "outputs": [],
   "source": [
    "path = 'C:/Users/Administrator/Desktop/'\n",
    "f = open(path+'text_write3.txt','w',encoding='utf-8')\n",
    "lst =['a','b','c','d','e']\n",
    "f.writelines(lst)\n",
    "f.close()\n",
    "    #自己执行时，既不报错，也不创建文件，后来发现是第一行路径代码最后少一个反斜杠导致。\n",
    "    #f.writelines(list); 依次把列表元素写入，但这里没有换行？\n",
    "    "
   ]
  },
  {
   "cell_type": "code",
   "execution_count": null,
   "metadata": {},
   "outputs": [],
   "source": []
  },
  {
   "cell_type": "code",
   "execution_count": 26,
   "metadata": {},
   "outputs": [
    {
     "name": "stdout",
     "output_type": "stream",
     "text": [
      "['a\\n', 'b\\n', 'c\\n', 'd\\n', 'e\\n']\n"
     ]
    }
   ],
   "source": [
    "#如果想没一个元素换行怎么办？—>即每个元素后都有\\n;\n",
    "\n",
    "path = 'C:/Users/Administrator/Desktop/'\n",
    "f = open(path+'text_write4.txt','w',encoding='utf-8')\n",
    "lst =['a','b','c','d','e']\n",
    "\n",
    "for i in range(len(lst)):\n",
    "    lst[i]=lst[i]+'\\n'\n",
    "    \n",
    "print(lst)\n",
    "\n",
    "f.writelines(lst)\n",
    "f.close()\n",
    "    #通过遍历给每个元素加\\n"
   ]
  },
  {
   "cell_type": "code",
   "execution_count": 27,
   "metadata": {},
   "outputs": [
    {
     "data": {
      "text/plain": [
       "'\\n小作业\\n\\n两个列表[1~10],[a~j]，写入一个txt，变成以下格式\\n\\n1,a\\n\\n2,b\\n\\n3,c\\n\\n...\\n'"
      ]
     },
     "execution_count": 27,
     "metadata": {},
     "output_type": "execute_result"
    }
   ],
   "source": [
    "'''\n",
    "小作业\n",
    "\n",
    "两个列表[1~10],[a~j]，写入一个txt，变成以下格式\n",
    "\n",
    "1,a\n",
    "\n",
    "2,b\n",
    "\n",
    "3,c\n",
    "\n",
    "...\n",
    "'''"
   ]
  },
  {
   "cell_type": "code",
   "execution_count": 49,
   "metadata": {},
   "outputs": [
    {
     "name": "stdout",
     "output_type": "stream",
     "text": [
      "finished\n"
     ]
    }
   ],
   "source": [
    "lst1 = list(range(1,11))\n",
    "lst2 =['a','b','c','d','e','f','g','h','i','j']\n",
    "\n",
    "path = 'C:/Users/Administrator/Desktop/'\n",
    "f = open(path+'text_wr3.txt','w',encoding='utf-8')\n",
    "\n",
    "for i in range(10):\n",
    "    f.writelines([str(lst1[i]),',',lst2[i] +'\\n'])\n",
    "\n",
    "\n",
    "f.close()\n",
    "print('finished')\n"
   ]
  },
  {
   "cell_type": "code",
   "execution_count": 43,
   "metadata": {},
   "outputs": [
    {
     "name": "stdout",
     "output_type": "stream",
     "text": [
      "finished!\n"
     ]
    }
   ],
   "source": [
    "n = list(range(1,11))\n",
    "v = ['a','b','c','d','e','f','g','h','i','j']\n",
    "\n",
    "f = open( 'C:\\\\Users\\\\Administrator\\\\Desktop\\\\test_write3.txt', 'w', encoding = 'utf8')\n",
    "m = []\n",
    "\n",
    "for i in range(len(n)):\n",
    "    f.writelines([str(n[i]),',',v[i] + '\\n'])\n",
    "\n",
    "f.close()\n",
    "print('finished!')"
   ]
  }
 ],
 "metadata": {
  "kernelspec": {
   "display_name": "Python 3",
   "language": "python",
   "name": "python3"
  },
  "language_info": {
   "codemirror_mode": {
    "name": "ipython",
    "version": 3
   },
   "file_extension": ".py",
   "mimetype": "text/x-python",
   "name": "python",
   "nbconvert_exporter": "python",
   "pygments_lexer": "ipython3",
   "version": "3.7.3"
  }
 },
 "nbformat": 4,
 "nbformat_minor": 2
}
