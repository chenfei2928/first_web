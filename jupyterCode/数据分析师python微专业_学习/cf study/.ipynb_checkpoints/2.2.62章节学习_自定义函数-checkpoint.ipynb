{
 "cells": [
  {
   "cell_type": "code",
   "execution_count": 1,
   "metadata": {},
   "outputs": [
    {
     "data": {
      "text/plain": [
       "'\\n自定义函数\\n如何创建函数？def语句\\n\\n'"
      ]
     },
     "execution_count": 1,
     "metadata": {},
     "output_type": "execute_result"
    }
   ],
   "source": [
    "'''\n",
    "自定义函数\n",
    "如何创建函数？def语句\n",
    "    \n",
    "'''"
   ]
  },
  {
   "cell_type": "code",
   "execution_count": 8,
   "metadata": {},
   "outputs": [
    {
     "name": "stdout",
     "output_type": "stream",
     "text": [
      "输入值大于等于5\n"
     ]
    }
   ],
   "source": [
    "# 定义函数\n",
    "\n",
    "def f(x):\n",
    "    if x < 5:\n",
    "        print('输入值小于5')\n",
    "    else:\n",
    "        print('输入值大于等于5')\n",
    "    #定义函数，其中x是参数（局部变量）\n",
    "\n",
    "f(10)#运行函数"
   ]
  },
  {
   "cell_type": "code",
   "execution_count": 13,
   "metadata": {},
   "outputs": [
    {
     "name": "stdout",
     "output_type": "stream",
     "text": [
      "None 4\n"
     ]
    }
   ],
   "source": [
    "# 关于return\n",
    "\n",
    "def f1(x):\n",
    "    y=2**x\n",
    "\n",
    "def f2(x):\n",
    "    y=2**x\n",
    "    return y\n",
    "\n",
    "print(f1(2),f2(2))\n",
    "    #return语句退出函数，并返回一个表达式。\n",
    "    #不带return的函数返回值为None\n",
    "\n",
    "    "
   ]
  },
  {
   "cell_type": "code",
   "execution_count": 17,
   "metadata": {},
   "outputs": [
    {
     "name": "stdout",
     "output_type": "stream",
     "text": [
      "16\n",
      "32\n",
      "8\n"
     ]
    }
   ],
   "source": [
    "# 默认参数\n",
    "\n",
    "def f(x,y):\n",
    "    return(x**y)\n",
    "\n",
    "print(f(2,4))\n",
    "\n",
    "\n",
    "def f(x,y=3):\n",
    "    return(x**y)\n",
    "\n",
    "print(f(2,5))\n",
    "print(f(2))\n",
    "    # y = 3,这里y默认值为3，如果不输入则以默认值为主\n"
   ]
  },
  {
   "cell_type": "code",
   "execution_count": 42,
   "metadata": {},
   "outputs": [
    {
     "name": "stdout",
     "output_type": "stream",
     "text": [
      "(2,)\n",
      "('a', 'b')\n",
      "(1, 2, 3, [44, 33])\n",
      "('a', 'b')\n",
      "<class 'tuple'>\n"
     ]
    }
   ],
   "source": [
    "# 可变参数\n",
    "\n",
    "def f(*x):\n",
    "    print(x)\n",
    "    return x\n",
    "f(2)\n",
    "f('a','b')\n",
    "f(1,2,3,[44,33])\n",
    "\n",
    "print(type(f('a','b')))\n",
    "# 通过*来定义可变参数\n",
    "#默认会把可变参数传入一个元祖\n"
   ]
  },
  {
   "cell_type": "code",
   "execution_count": 54,
   "metadata": {},
   "outputs": [
    {
     "name": "stdout",
     "output_type": "stream",
     "text": [
      "请输入一个字符串:\n",
      "wert\n",
      "w\n",
      "e\n",
      "r\n",
      "t\n"
     ]
    }
   ],
   "source": [
    "#小作业\n",
    "\n",
    "#① 函数f（x），输入一个字符串，分别print出每个字母\n",
    "\n",
    "def f():\n",
    "    x=input('请输入一个字符串:\\n')\n",
    "    for i in range(len(x)):\n",
    "        print(x[i])\n",
    "\n",
    "f()\n",
    "\n"
   ]
  },
  {
   "cell_type": "code",
   "execution_count": 60,
   "metadata": {},
   "outputs": [
    {
     "name": "stdout",
     "output_type": "stream",
     "text": [
      "函数结果 25\n"
     ]
    }
   ],
   "source": [
    "#② f(x,y,z),函数内部算法：生成 ((x+y)(x-y))*z\n",
    "\n",
    "def f(x,y,z):\n",
    "    q=((x+y)*(x-y))*z\n",
    "    return(q)\n",
    "\n",
    "print('函数结果',f(3,2,5))\n",
    "\n"
   ]
  },
  {
   "cell_type": "code",
   "execution_count": 77,
   "metadata": {},
   "outputs": [
    {
     "name": "stdout",
     "output_type": "stream",
     "text": [
      "[1]\n",
      "[1, 2]\n",
      "输入内容包含非数字\n",
      "[1, 2]\n",
      "[1, 2, 4]\n",
      "[1, 2, 4, 5]\n",
      "3.0\n"
     ]
    }
   ],
   "source": [
    "\n",
    "#③ 编写一个求平均值的函数 f(*m)\n",
    "\n",
    "def f(*m):\n",
    "    s = 0\n",
    "    ls = []\n",
    "    for i in m:\n",
    "        \n",
    "        while str(i).isnumeric():\n",
    "            s+=i\n",
    "            ls.append(i)\n",
    "            break\n",
    "        else:\n",
    "            print('输入内容包含非数字')\n",
    "        print(ls)\n",
    "    return(s/len(ls))\n",
    "\n",
    "print(f(1,2,'s',4,5))\n",
    "\n",
    "\n",
    "# 比较烧脑，多学习几遍"
   ]
  },
  {
   "cell_type": "code",
   "execution_count": 86,
   "metadata": {},
   "outputs": [
    {
     "name": "stdout",
     "output_type": "stream",
     "text": [
      "12\n",
      "78.5\n"
     ]
    }
   ],
   "source": [
    "#④ 定义一个函数，用于求矩形面积、圆形面积\n",
    "    \n",
    "def area_jx(x,y):\n",
    "    area_jx= x*y\n",
    "    return area_jx\n",
    "print(area_jx(3,4))\n",
    "\n",
    "def area_yuan(x):\n",
    "    area_yuan=3.14*x**2\n",
    "    return area_yuan\n",
    "print(area_yuan(5))\n",
    "    "
   ]
  },
  {
   "cell_type": "code",
   "execution_count": 1,
   "metadata": {},
   "outputs": [
    {
     "name": "stdout",
     "output_type": "stream",
     "text": [
      "请输入一个列表：qwer\n"
     ]
    },
    {
     "ename": "NameError",
     "evalue": "name 'qwer' is not defined",
     "output_type": "error",
     "traceback": [
      "\u001b[1;31m---------------------------------------------------------------------------\u001b[0m",
      "\u001b[1;31mNameError\u001b[0m                                 Traceback (most recent call last)",
      "\u001b[1;32m<ipython-input-1-03606b9e5a13>\u001b[0m in \u001b[0;36m<module>\u001b[1;34m\u001b[0m\n\u001b[0;32m      3\u001b[0m \u001b[1;31m#并生成字典，需要用input输入\u001b[0m\u001b[1;33m\u001b[0m\u001b[1;33m\u001b[0m\u001b[1;33m\u001b[0m\u001b[0m\n\u001b[0;32m      4\u001b[0m \u001b[1;33m\u001b[0m\u001b[0m\n\u001b[1;32m----> 5\u001b[1;33m \u001b[0mlst\u001b[0m\u001b[1;33m=\u001b[0m \u001b[0meval\u001b[0m\u001b[1;33m(\u001b[0m\u001b[0minput\u001b[0m\u001b[1;33m(\u001b[0m\u001b[1;34m\"请输入一个列表：\"\u001b[0m\u001b[1;33m)\u001b[0m\u001b[1;33m)\u001b[0m\u001b[1;33m\u001b[0m\u001b[1;33m\u001b[0m\u001b[0m\n\u001b[0m\u001b[0;32m      6\u001b[0m \u001b[1;31m#lst= input(\"请输入一个列表：\")\u001b[0m\u001b[1;33m\u001b[0m\u001b[1;33m\u001b[0m\u001b[1;33m\u001b[0m\u001b[0m\n\u001b[0;32m      7\u001b[0m \u001b[1;33m\u001b[0m\u001b[0m\n",
      "\u001b[1;32m<string>\u001b[0m in \u001b[0;36m<module>\u001b[1;34m\u001b[0m\n",
      "\u001b[1;31mNameError\u001b[0m: name 'qwer' is not defined"
     ]
    }
   ],
   "source": [
    "\n",
    "#⑤ 定义一个函数，函数的作用是把输入的列表变成一连串字典的key，\n",
    "#并生成字典，需要用input输入\n",
    "\n",
    "lst= eval(input(\"请输入一个列表：\"))\n",
    "#lst= input(\"请输入一个列表：\")\n",
    "\n",
    "#    eval() 函数用来执行一个字符串表达式，并返回表达式的值。\n",
    "#    似乎没整明白\n",
    "def f(lst):\n",
    "    return(dict.fromkeys(lt,0))\n",
    "    #fromkeys() 函数用于创建一个新字典，以序列 seq 中元素做字典的键，value 为字典所有键对应的初始值。\n",
    "print(f(lst))\n",
    "\n",
    "#此题需要重复学习理解"
   ]
  }
 ],
 "metadata": {
  "kernelspec": {
   "display_name": "Python 3",
   "language": "python",
   "name": "python3"
  },
  "language_info": {
   "codemirror_mode": {
    "name": "ipython",
    "version": 3
   },
   "file_extension": ".py",
   "mimetype": "text/x-python",
   "name": "python",
   "nbconvert_exporter": "python",
   "pygments_lexer": "ipython3",
   "version": "3.7.3"
  }
 },
 "nbformat": 4,
 "nbformat_minor": 2
}
