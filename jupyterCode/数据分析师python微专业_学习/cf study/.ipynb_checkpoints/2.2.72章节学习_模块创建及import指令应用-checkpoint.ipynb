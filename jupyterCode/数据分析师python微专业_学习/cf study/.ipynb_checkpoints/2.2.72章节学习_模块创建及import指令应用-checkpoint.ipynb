{
 "cells": [
  {
   "cell_type": "code",
   "execution_count": 1,
   "metadata": {},
   "outputs": [
    {
     "data": {
      "text/plain": [
       "'\\n模块创建及import指令运用\\n\\nPython模块（Module），是一个python文件，以.py结尾，包含了python对象定义和python语句\\n'"
      ]
     },
     "execution_count": 1,
     "metadata": {},
     "output_type": "execute_result"
    }
   ],
   "source": [
    "\"\"\"\n",
    "模块创建及import指令运用\n",
    "\n",
    "Python模块（Module），是一个python文件，以.py结尾，包含了python对象定义和python语句\n",
    "\"\"\""
   ]
  },
  {
   "cell_type": "code",
   "execution_count": 2,
   "metadata": {},
   "outputs": [],
   "source": [
    "#创建一个模块，报个一个阶乘函数f1(n)、一个列表删值函数f2(lst,x),一个等差数列求和函数f3(a,d,n)\n",
    "\n",
    "def f1(n):\n",
    "    y = 1\n",
    "    for i in range(1,n+1):\n",
    "        y=y*i\n",
    "    return y\n",
    "    #创建阶乘函数f1(n)\n",
    "    \n",
    "def f2(lst,x):\n",
    "    while x in lst:\n",
    "        lst.remove(x)\n",
    "    return lst\n",
    "    #创建列表删值函数f2(lst,x)\n",
    "\n",
    "def f3(a,d,n):\n",
    "    an = a\n",
    "    s = 0\n",
    "    for i in range(n-1):\n",
    "        an = an +d\n",
    "        s = s + an\n",
    "    return s\n",
    "    # 创建等差数列求和函数f3(a,d,n)\n",
    "    \n",
    "#创建模块textmodule2，包括三个函数"
   ]
  },
  {
   "cell_type": "code",
   "execution_count": 37,
   "metadata": {},
   "outputs": [
    {
     "name": "stdout",
     "output_type": "stream",
     "text": [
      "D:\\ProgramData\\Anaconda3\\lib\\site-packages\\pandas\\__init__.py\n"
     ]
    }
   ],
   "source": [
    "# 模块路径问题\n",
    "\n",
    "import pandas\n",
    "print(pandas.__file__)\n",
    "\n",
    "import sys\n",
    "sys.path.append(\"C:\\\\Users\\\\Administrator\\\\Desktop\")"
   ]
  },
  {
   "cell_type": "code",
   "execution_count": 30,
   "metadata": {},
   "outputs": [
    {
     "name": "stdout",
     "output_type": "stream",
     "text": [
      "120\n",
      "[2, 5, 6, 8, 5, 2, 4, 4, 5]\n",
      "42\n"
     ]
    }
   ],
   "source": [
    "#调用模块语句：import\n",
    "\n",
    "import textmodule2\n",
    "\n",
    "print(textmodule2.f1(5))\n",
    "print(textmodule2.f2([2,3,5,6,8,5,3,2,4,4,5],3))\n",
    "print(textmodule2.f3(10,2,4))"
   ]
  },
  {
   "cell_type": "code",
   "execution_count": 32,
   "metadata": {},
   "outputs": [
    {
     "name": "stdout",
     "output_type": "stream",
     "text": [
      "120\n"
     ]
    }
   ],
   "source": [
    "# 简化模块名 import ... as ....\n",
    "\n",
    "import textmodule2 as tm2\n",
    "print(tm2.f1(5))"
   ]
  },
  {
   "cell_type": "code",
   "execution_count": 40,
   "metadata": {},
   "outputs": [
    {
     "name": "stdout",
     "output_type": "stream",
     "text": [
      "[34, 5, 6, 8, 6, 4, 3, 4, 6, 5]\n"
     ]
    }
   ],
   "source": [
    "# 调用部门模块语句： from....import 语句\n",
    "\n",
    "from textmodule2 import f2\n",
    "print(f2([2,34,5,6,8,6,4,3,2,4,6,5],2))\n",
    "#print(f3(10,2,10))\n",
    "    #单独导入模块的部分功能，但无法使用其他未导入功能"
   ]
  },
  {
   "cell_type": "code",
   "execution_count": 56,
   "metadata": {},
   "outputs": [
    {
     "name": "stdout",
     "output_type": "stream",
     "text": [
      "0.19845761776645177 1.8989648948615212\n",
      "4\n",
      "9 s\n",
      "[18, 4, 19, 6, 5]\n",
      "[7, 1, 3, 5, 11, 9, 13]\n"
     ]
    }
   ],
   "source": [
    "# python标准模块   ——random随机数\n",
    "\n",
    "import random\n",
    "\n",
    "x = random.random()\n",
    "y = random.random()\n",
    "print(x,y*10)\n",
    "    #random.random() 随机生成一个[0:1]的随机数\n",
    "\n",
    "m = random.randint(0,10)\n",
    "print(m)\n",
    "    #random.randint()随机生成一个[0:10]的随机数\n",
    "\n",
    "st1 = random.choice(list(range(10)))\n",
    "st2 = random.choice('asdfghjkliuytr')\n",
    "print(st1,st2)\n",
    "    #random.choice()随机获取()中的一个元素，()中必须是一个有序序列\n",
    "\n",
    "lst = list(range(20))\n",
    "sli = random.sample(lst,5)\n",
    "print(sli)\n",
    "    #random.sample(a,b)随机获取a中指定b长度的片段，不会改变原序列\n",
    "\n",
    "lst = [1,3,5,7,9,11,13]\n",
    "random.shuffle(lst)\n",
    "print(lst)\n",
    "    #random.shuffle(list) 将一个列表内的元素打乱\n",
    "    "
   ]
  },
  {
   "cell_type": "code",
   "execution_count": 64,
   "metadata": {},
   "outputs": [
    {
     "name": "stdout",
     "output_type": "stream",
     "text": [
      "hello\n",
      "hello\n",
      "Tue Jul 16 10:26:34 2019\n",
      "<class 'str'>\n",
      "time.struct_time(tm_year=2019, tm_mon=7, tm_mday=16, tm_hour=10, tm_min=26, tm_sec=34, tm_wday=1, tm_yday=197, tm_isdst=0)\n",
      "<class 'time.struct_time'>\n",
      "2019-07-16 10:26:34\n"
     ]
    }
   ],
   "source": [
    "# python标准模块   --time时间模块\n",
    "\n",
    "import time\n",
    "\n",
    "for i in range(2):\n",
    "    print('hello')\n",
    "    time.sleep(1)\n",
    "    #time.sleep()程序休息()秒\n",
    "    \n",
    "print(time.ctime())\n",
    "    #将当期时间转换为一个字符串\n",
    "print(type(time.ctime()))\n",
    "\n",
    "print(time.localtime())\n",
    "print(type(time.localtime()))\n",
    "    #将当期时间转为当前时区的struct_time\n",
    "    # wday 0-6表示周日至周六\n",
    "    # ydat 1-366 一年中的第几天\n",
    "    # isdst 是否为夏令时，默认为-1\n",
    "    \n",
    "print(time.strftime(\"%Y-%m-%d %H:%M:%S\",time.localtime()))\n",
    "    # time.strftime(a,b)\n",
    "    # a 为格式化字符串格式；\n",
    "    # b 为时间戳，一般用localtime()"
   ]
  }
 ],
 "metadata": {
  "kernelspec": {
   "display_name": "Python 3",
   "language": "python",
   "name": "python3"
  },
  "language_info": {
   "codemirror_mode": {
    "name": "ipython",
    "version": 3
   },
   "file_extension": ".py",
   "mimetype": "text/x-python",
   "name": "python",
   "nbconvert_exporter": "python",
   "pygments_lexer": "ipython3",
   "version": "3.7.3"
  }
 },
 "nbformat": 4,
 "nbformat_minor": 2
}
