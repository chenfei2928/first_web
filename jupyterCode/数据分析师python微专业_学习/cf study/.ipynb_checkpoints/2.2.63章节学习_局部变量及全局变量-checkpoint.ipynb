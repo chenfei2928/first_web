{
 "cells": [
  {
   "cell_type": "code",
   "execution_count": 1,
   "metadata": {},
   "outputs": [
    {
     "data": {
      "text/plain": [
       "'\\n局部变量及全局变量\\n定义在函数内部的变量拥有一个局部作用域，\\n定义在函数外的拥有全局作用域；\\n\\n局部变量只能在其被声明的函数内部访问，而全局变量可以在整个程序范围内访问。\\n\\n\\n'"
      ]
     },
     "execution_count": 1,
     "metadata": {},
     "output_type": "execute_result"
    }
   ],
   "source": [
    "'''\n",
    "局部变量及全局变量\n",
    "定义在函数内部的变量拥有一个局部作用域，\n",
    "定义在函数外的拥有全局作用域；\n",
    "\n",
    "局部变量只能在其被声明的函数内部访问，而全局变量可以在整个程序范围内访问。\n",
    "\n",
    "\n",
    "'''"
   ]
  },
  {
   "cell_type": "code",
   "execution_count": 3,
   "metadata": {},
   "outputs": [
    {
     "name": "stdout",
     "output_type": "stream",
     "text": [
      "请输入一个数字：56\n",
      "函数内部局部变量：我最帅\n",
      "函数外为全局变量：56\n"
     ]
    }
   ],
   "source": [
    "# 演示案例\n",
    "\n",
    "def f(m):\n",
    "    m='我最帅'\n",
    "    print('函数内部局部变量：%s' %m)\n",
    "    \n",
    "a=input('请输入一个数字：')\n",
    "f(a)\n",
    "print(\"函数外为全局变量：%s\"%a)\n",
    "\n",
    "\n",
    "# f（m）中，m是函数的参数，f(x)是吧x的值赋予了m，\n",
    "#但x值自己本身不受影响，所以执行函数后，是在函数局部“变化”了x\n",
    "# 什么是局部变量？ \n",
    "#    → 当函数定义内声明变量的时候，它们与函数外具有相同名称的其他变量没有任何关系!\n",
    "# 即变量名称对于函数来说是“局部”的。\n",
    "#这称为变量的作用域。所有变量的作用域是它们被定义的块，从它们的名称被定义的那点开始。"
   ]
  },
  {
   "cell_type": "code",
   "execution_count": 8,
   "metadata": {},
   "outputs": [
    {
     "name": "stdout",
     "output_type": "stream",
     "text": [
      "请输入一个字符：a\n",
      "输入值为：a\n",
      "函数内转换为全局变量 我是天下第一\n"
     ]
    }
   ],
   "source": [
    "# global语句  把局部变量变为全局变量\n",
    "\n",
    "def f():\n",
    "    global a\n",
    "    a='我是天下第一'\n",
    "    print('函数内转换为全局变量 %s' %a)\n",
    "\n",
    "a= input(\"请输入一个字符：\")\n",
    "print('输入值为：%s' %a)\n",
    "f()"
   ]
  },
  {
   "cell_type": "code",
   "execution_count": null,
   "metadata": {},
   "outputs": [],
   "source": []
  }
 ],
 "metadata": {
  "kernelspec": {
   "display_name": "Python 3",
   "language": "python",
   "name": "python3"
  },
  "language_info": {
   "codemirror_mode": {
    "name": "ipython",
    "version": 3
   },
   "file_extension": ".py",
   "mimetype": "text/x-python",
   "name": "python",
   "nbconvert_exporter": "python",
   "pygments_lexer": "ipython3",
   "version": "3.7.3"
  }
 },
 "nbformat": 4,
 "nbformat_minor": 2
}
