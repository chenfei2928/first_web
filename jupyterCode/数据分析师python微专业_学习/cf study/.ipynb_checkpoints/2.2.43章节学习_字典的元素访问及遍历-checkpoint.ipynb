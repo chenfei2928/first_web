{
 "cells": [
  {
   "cell_type": "code",
   "execution_count": 1,
   "metadata": {},
   "outputs": [
    {
     "data": {
      "text/plain": [
       "'\\n字典的元素访问及遍历\\n\\n如何读取字典\\n\\n'"
      ]
     },
     "execution_count": 1,
     "metadata": {},
     "output_type": "execute_result"
    }
   ],
   "source": [
    "'''\n",
    "字典的元素访问及遍历\n",
    "\n",
    "如何读取字典\n",
    "\n",
    "'''"
   ]
  },
  {
   "cell_type": "code",
   "execution_count": 7,
   "metadata": {},
   "outputs": [
    {
     "name": "stdout",
     "output_type": "stream",
     "text": [
      "5\n",
      "{'address': 'somewhere', 'num': 66663333}\n",
      "somewhere\n",
      "shop\n",
      "None\n",
      "nothing\n",
      "None\n"
     ]
    }
   ],
   "source": [
    "#字典的元素访问\n",
    "\n",
    "dic = {'a':5,'b':9,'c':11}\n",
    "print(dic['a'])\n",
    "    #不能用序列的索引方式\n",
    "    #字典没有顺序，以key来作为指向，所以指向的key必须存在\n",
    "\n",
    "poi = {'name':'shop', 'city':'shanghai', 'information':{'address':'somewhere', 'num':66663333}}\n",
    "\n",
    "print(poi['information'])\n",
    "print(poi['information']['address'])\n",
    "    #对于嵌套字典，输出嵌套内容，通过重复指向来输出\n",
    "    \n",
    "print(poi.get('name'))\n",
    "print(poi.get('type'))\n",
    "    # .get(key)方法：直接查看key的value，如果没有相应value则返回None，\n",
    "\n",
    "print(poi.get('type',print('nothing')))\n",
    "    #添加print参数可以多返回一个值\n"
   ]
  },
  {
   "cell_type": "code",
   "execution_count": 20,
   "metadata": {},
   "outputs": [
    {
     "name": "stdout",
     "output_type": "stream",
     "text": [
      "dict_keys(['name', 'city', 'information'])\n",
      "dict_keys(['name', 'city', 'information']) <class 'dict_keys'>\n",
      "['name', 'city', 'information']\n",
      "dict_values(['shop', 'shanghai', {'address': 'somewhere', 'num': 66663333}])\n",
      "dict_values(['shop', 'shanghai', {'address': 'somewhere', 'num': 66663333}]) <class 'dict_values'>\n",
      "['shop', 'shanghai', {'address': 'somewhere', 'num': 66663333}]\n",
      "---分割线--.items()方法-\n",
      "dict_items([('name', 'shop'), ('city', 'shanghai'), ('information', {'address': 'somewhere', 'num': 66663333})])\n",
      "dict_items([('name', 'shop'), ('city', 'shanghai'), ('information', {'address': 'somewhere', 'num': 66663333})]) <class 'dict_items'>\n",
      "[('name', 'shop'), ('city', 'shanghai'), ('information', {'address': 'somewhere', 'num': 66663333})]\n"
     ]
    }
   ],
   "source": [
    "poi = {'name':'shop', 'city':'shanghai', 'information':{'address':'somewhere', 'num':66663333}}\n",
    "\n",
    "print(poi.keys())\n",
    "print(poi.keys(),type(poi.keys()))\n",
    "    # .keys()方法，输出字典所有key，注意这里的输出内容格式是视图\n",
    "print(list(poi.keys()))\n",
    "    #可以用list()得到key的列表，类似range()\n",
    "\n",
    "print(poi.values())\n",
    "print(poi.values(),type(poi.values()))\n",
    "    # .valuses()方法，输出字典所有values，同.keys()方法\n",
    "print(list(poi.values()))\n",
    "print('---分割线--.items()方法-')\n",
    "\n",
    "print(poi.items())\n",
    "print(poi.items(),type(poi.items()))\n",
    "    # .items()方法，输出字典所有items元素，同.key()方法\n",
    "print(list(poi.items()))\n"
   ]
  },
  {
   "cell_type": "code",
   "execution_count": 30,
   "metadata": {},
   "outputs": [
    {
     "name": "stdout",
     "output_type": "stream",
     "text": [
      "name\n",
      "city\n",
      "information\n",
      "---key---\n",
      "shop\n",
      "shanghai\n",
      "{'address': 'somewhere', 'num': 66663333}\n",
      "---value--\n",
      "key为 name,value为 shop\n",
      "key为 city,value为 shanghai\n",
      "key为 information,value为 {'address': 'somewhere', 'num': 66663333}\n",
      "---(key,value)---\n"
     ]
    }
   ],
   "source": [
    "# 字典的元素遍历\n",
    "\n",
    "poi = {'name':'shop', 'city':'shanghai', 'information':{'address':'somewhere', 'num':66663333}}\n",
    "\n",
    "for key in poi.keys():\n",
    "    print(key)\n",
    "print('---key---')\n",
    "\n",
    "for value in poi.values():\n",
    "    print(value)\n",
    "print('---value--')\n",
    "\n",
    "for (k,v) in poi.items():\n",
    "    print('key为 %s,value为 %s' %(k,v))\n",
    "print('---(key,value)---')"
   ]
  },
  {
   "cell_type": "code",
   "execution_count": 35,
   "metadata": {},
   "outputs": [
    {
     "name": "stdout",
     "output_type": "stream",
     "text": [
      "['shop', 'shanghai', {'address': 'somewhere', 'num': 66663333}]\n",
      "False\n",
      "True\n"
     ]
    }
   ],
   "source": [
    "# 小作业\n",
    "\n",
    "#① dict.keys()生成的是不是列表？\n",
    "     #视图,如何要生成列表需要调用list函数 list(dict.keys())\n",
    "\n",
    "#② 如何判断一个value是否存在于字典中？\n",
    "    #用list（dict.values()）函数内置方法，将所有value取出赋予变量\n",
    "    #用 in 做逻辑判断 \n",
    "\n",
    "poi = {'name':'shop', 'city':'shanghai', 'information':{'address':'somewhere', 'num':66663333}}\n",
    "\n",
    "\n",
    "lst = list(poi.values())\n",
    "print(lst)\n",
    "\n",
    "print('chenfei'in lst)\n",
    "print('shanghai'in lst)\n",
    "\n"
   ]
  }
 ],
 "metadata": {
  "kernelspec": {
   "display_name": "Python 3",
   "language": "python",
   "name": "python3"
  },
  "language_info": {
   "codemirror_mode": {
    "name": "ipython",
    "version": 3
   },
   "file_extension": ".py",
   "mimetype": "text/x-python",
   "name": "python",
   "nbconvert_exporter": "python",
   "pygments_lexer": "ipython3",
   "version": "3.7.3"
  }
 },
 "nbformat": 4,
 "nbformat_minor": 2
}
