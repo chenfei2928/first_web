{
 "cells": [
  {
   "cell_type": "code",
   "execution_count": 1,
   "metadata": {},
   "outputs": [
    {
     "data": {
      "text/plain": [
       "'\\n学习参照莫烦Python课程，python基础36章节，\\n参照笔记来源于github\\n'"
      ]
     },
     "execution_count": 1,
     "metadata": {},
     "output_type": "execute_result"
    }
   ],
   "source": [
    "'''\n",
    "学习参照莫烦Python课程，python基础36章节，\n",
    "参照笔记来源于github\n",
    "'''"
   ]
  },
  {
   "cell_type": "code",
   "execution_count": 2,
   "metadata": {},
   "outputs": [],
   "source": [
    "import re"
   ]
  },
  {
   "cell_type": "code",
   "execution_count": 6,
   "metadata": {},
   "outputs": [
    {
     "name": "stdout",
     "output_type": "stream",
     "text": [
      "True\n",
      "False\n"
     ]
    }
   ],
   "source": [
    "# 简单Python匹配\n",
    "# matching string\n",
    "\n",
    "pattern1 = 'cat'\n",
    "pattern2 = 'bird'\n",
    "string = 'dog runs to cat'\n",
    "print(pattern1 in string)\n",
    "print(pattern2 in string)\n"
   ]
  },
  {
   "cell_type": "code",
   "execution_count": 9,
   "metadata": {},
   "outputs": [
    {
     "name": "stdout",
     "output_type": "stream",
     "text": [
      "<re.Match object; span=(12, 15), match='cat'>\n",
      "None\n"
     ]
    }
   ],
   "source": [
    "# 用正则寻找配对\n",
    "# regular expression\n",
    "pattern1 = 'cat'\n",
    "pattern2 = 'bird'\n",
    "string = 'dog runs to cat'\n",
    "print(re.search(pattern1,string))\n",
    "print(re.search(pattern2,string))\n"
   ]
  },
  {
   "cell_type": "code",
   "execution_count": 11,
   "metadata": {},
   "outputs": [
    {
     "name": "stdout",
     "output_type": "stream",
     "text": [
      "<re.Match object; span=(4, 7), match='run'>\n"
     ]
    }
   ],
   "source": [
    "# 匹配多种可能 使用【】\n",
    "# multiple patterns (run or ran)\n",
    "ptn =r'r[au]n'\n",
    "print(re.search(ptn,'dog runs to cat'))"
   ]
  },
  {
   "cell_type": "code",
   "execution_count": 16,
   "metadata": {},
   "outputs": [
    {
     "name": "stdout",
     "output_type": "stream",
     "text": [
      "None\n",
      "<re.Match object; span=(4, 7), match='run'>\n",
      "<re.Match object; span=(4, 7), match='r2n'>\n",
      "<re.Match object; span=(4, 7), match='run'>\n"
     ]
    }
   ],
   "source": [
    "# 匹配更多种可能\n",
    "\n",
    "print(re.search(r'r[A-Z]n','dog runs to cat'))\n",
    "print(re.search(r'r[a-z]n','dog runs to cat'))\n",
    "print(re.search(r'r[0-9]n','dog r2ns to cat'))\n",
    "print(re.search(r'r[0-9a-z]n','dog runs to cat'))\n"
   ]
  },
  {
   "cell_type": "code",
   "execution_count": 20,
   "metadata": {},
   "outputs": [
    {
     "name": "stdout",
     "output_type": "stream",
     "text": [
      "<re.Match object; span=(4, 7), match='r5n'>\n",
      "<re.Match object; span=(0, 3), match='run'>\n"
     ]
    }
   ],
   "source": [
    "# 特殊种类匹配\n",
    "\n",
    "# 数字\n",
    "\n",
    "# \\d :decimal digit    十进制数\n",
    "print(re.search(r'r\\dn','run r5n'))\n",
    "\n",
    "# \\D :any non-decimal digit    不含任意数字\n",
    "print(re.search(r'r\\Dn','run r6n'))\n"
   ]
  },
  {
   "cell_type": "code",
   "execution_count": 31,
   "metadata": {},
   "outputs": [
    {
     "name": "stdout",
     "output_type": "stream",
     "text": [
      "<re.Match object; span=(0, 3), match='r n'>\n",
      "<re.Match object; span=(4, 7), match='r7n'>\n"
     ]
    }
   ],
   "source": [
    "# 空白\n",
    "\n",
    "# \\s  any white space\n",
    "print(re.search(r'r\\sn','r n r4n'))\n",
    "\n",
    "# \\S opposite to \\S ,any non-white space\n",
    "print(re.search(r'r\\Sn','r n r7n'))"
   ]
  },
  {
   "cell_type": "code",
   "execution_count": 41,
   "metadata": {},
   "outputs": [
    {
     "name": "stdout",
     "output_type": "stream",
     "text": [
      "<re.Match object; span=(4, 7), match='r_n'>\n",
      "<re.Match object; span=(4, 7), match='r n'>\n"
     ]
    }
   ],
   "source": [
    "# 所有字母数字和“_”\n",
    "\n",
    "# \\w :[a-zA-Z0-9_]\n",
    "\n",
    "print(re.search(r'r\\wn','r n r_n'))\n",
    "\n",
    "# \\W opposite to \\w\n",
    "print(re.search(r'r\\Wn','r4n r n'))"
   ]
  },
  {
   "cell_type": "code",
   "execution_count": 60,
   "metadata": {},
   "outputs": [
    {
     "name": "stdout",
     "output_type": "stream",
     "text": [
      "<re.Match object; span=(4, 8), match='runs'>\n",
      "<re.Match object; span=(4, 8), match='runs'>\n"
     ]
    }
   ],
   "source": [
    "# 空白字符\n",
    "\n",
    "# \\b :empty string(only at the start or end of the word)\n",
    "\n",
    "print(re.search(r'\\bruns\\b','dog runs to cat'))\n",
    "\n",
    "# \\B : empty string(but not at the start or end of a word)\n",
    "\n",
    "print(re.search(r'\\Bruns','dog_runs to cat'))\n",
    "\n"
   ]
  },
  {
   "cell_type": "code",
   "execution_count": 70,
   "metadata": {},
   "outputs": [
    {
     "name": "stdout",
     "output_type": "stream",
     "text": [
      "<re.Match object; span=(0, 5), match='runs\\\\'>\n",
      "<re.Match object; span=(0, 3), match='r]n'>\n"
     ]
    }
   ],
   "source": [
    "# 第11个；\n",
    "# 特殊字符 任意字符\n",
    "\n",
    "# \\\\ match\\\n",
    "print(re.search(r'runs\\\\','runs\\s to me'))  # 什么鬼，没懂\n",
    "\n",
    "#  .  match anything (except \\n)\n",
    "\n",
    "print(re.search(r'r.n','r]ns to me'))\n"
   ]
  },
  {
   "cell_type": "code",
   "execution_count": 74,
   "metadata": {},
   "outputs": [
    {
     "name": "stdout",
     "output_type": "stream",
     "text": [
      "<re.Match object; span=(0, 3), match='dog'>\n",
      "<re.Match object; span=(12, 15), match='cat'>\n"
     ]
    }
   ],
   "source": [
    "# 句尾句首\n",
    "\n",
    "#  ^ match line beginng\n",
    "print(re.search(r'^dog','dog runs to cat'))\n",
    "\n",
    "# $ match line ending\n",
    "\n",
    "print(re.search(r'cat$','dog runs to cat'))"
   ]
  },
  {
   "cell_type": "code",
   "execution_count": 80,
   "metadata": {},
   "outputs": [
    {
     "name": "stdout",
     "output_type": "stream",
     "text": [
      "<re.Match object; span=(0, 6), match='Monday'>\n",
      "None\n"
     ]
    }
   ],
   "source": [
    "# 是否\n",
    "\n",
    "# ？ may or may not occur\n",
    "\n",
    "print(re.search(r'Mon(day)','Monday'))\n",
    "print(re.search(r'Mon(day)','Mon'))\n"
   ]
  },
  {
   "cell_type": "code",
   "execution_count": 83,
   "metadata": {},
   "outputs": [
    {
     "name": "stdout",
     "output_type": "stream",
     "text": [
      "None\n",
      "<re.Match object; span=(17, 18), match='I'>\n"
     ]
    }
   ],
   "source": [
    "# 多行匹配\n",
    "# multi-line\n",
    "\n",
    "string='''\n",
    "dog runs to cat\n",
    "I run to dog\n",
    "\n",
    "'''\n",
    "print(re.search(r'^I',string))\n",
    "\n",
    "print(re.search(r'^I',string,flags=re.M))\n"
   ]
  },
  {
   "cell_type": "code",
   "execution_count": 86,
   "metadata": {},
   "outputs": [
    {
     "name": "stdout",
     "output_type": "stream",
     "text": [
      "<re.Match object; span=(0, 1), match='a'>\n",
      "<re.Match object; span=(0, 6), match='abbbbb'>\n"
     ]
    }
   ],
   "source": [
    "#  0 或多次\n",
    "#   * occur 0 or more times\n",
    "print(re.search(r'ab*','a'))\n",
    "print(re.search(r'ab*','abbbbb'))"
   ]
  },
  {
   "cell_type": "code",
   "execution_count": 87,
   "metadata": {},
   "outputs": [
    {
     "name": "stdout",
     "output_type": "stream",
     "text": [
      "None\n",
      "<re.Match object; span=(0, 6), match='abbbbb'>\n"
     ]
    }
   ],
   "source": [
    "# 1或多次\n",
    "# + occur 1 or more times \n",
    "print(re.search(r'ab+','a'))\n",
    "print(re.search(r'ab+','abbbbb'))"
   ]
  },
  {
   "cell_type": "code",
   "execution_count": 90,
   "metadata": {},
   "outputs": [
    {
     "name": "stdout",
     "output_type": "stream",
     "text": [
      "None\n",
      "<re.Match object; span=(0, 9), match='abbbbbbbb'>\n"
     ]
    }
   ],
   "source": [
    "#  可选次数\n",
    "# {n,m}  occur n to m times\n",
    "print(re.search(r'ab{2,10}','ab'))\n",
    "print(re.search(r'ab{2,10}','abbbbbbbb'))"
   ]
  },
  {
   "cell_type": "code",
   "execution_count": 94,
   "metadata": {},
   "outputs": [
    {
     "name": "stdout",
     "output_type": "stream",
     "text": [
      "<re.Match object; span=(4, 29), match='021523, Date: Feb/12/2017'>\n",
      "021523, Date: Feb/12/2017\n",
      "021523\n",
      "Feb/12/2017\n"
     ]
    }
   ],
   "source": [
    "# group 组\n",
    "\n",
    "match = re.search(r\"(\\d+), Date: (.+)\", \"ID: 021523, Date: Feb/12/2017\")\n",
    "print(match)\n",
    "print(match.group())                                \n",
    "print(match.group(1))                               \n",
    "print(match.group(2))\n",
    "\n",
    "# 不理解"
   ]
  },
  {
   "cell_type": "code",
   "execution_count": 95,
   "metadata": {},
   "outputs": [
    {
     "name": "stdout",
     "output_type": "stream",
     "text": [
      "021523\n",
      "Feb/12/2017\n"
     ]
    }
   ],
   "source": [
    "match = re.search(r\"(?P<id>\\d+), Date: (?P<date>.+)\", \"ID: 021523, Date: Feb/12/2017\")\n",
    "print(match.group('id'))                            \n",
    "print(match.group('date'))\n",
    "\n",
    "# 不理解"
   ]
  },
  {
   "cell_type": "code",
   "execution_count": 96,
   "metadata": {},
   "outputs": [
    {
     "name": "stdout",
     "output_type": "stream",
     "text": [
      "['run', 'ran']\n"
     ]
    }
   ],
   "source": [
    "# 寻找所有匹配\n",
    "# findall\n",
    "\n",
    "print(re.findall(r'r[ua]n','run ran ren'))"
   ]
  },
  {
   "cell_type": "code",
   "execution_count": 98,
   "metadata": {},
   "outputs": [
    {
     "name": "stdout",
     "output_type": "stream",
     "text": [
      "['run', 'ran']\n"
     ]
    }
   ],
   "source": [
    " #  /   or作用\n",
    "print(re.findall(r'ran|run','run ran ren'))"
   ]
  },
  {
   "cell_type": "code",
   "execution_count": 99,
   "metadata": {},
   "outputs": [
    {
     "name": "stdout",
     "output_type": "stream",
     "text": [
      "dog catches to cat \n"
     ]
    }
   ],
   "source": [
    "# 替换\n",
    "# re.sub()   replace\n",
    "\n",
    "print(re.sub(r'r[au]ns','catches','dog runs to cat '))"
   ]
  },
  {
   "cell_type": "code",
   "execution_count": 104,
   "metadata": {},
   "outputs": [
    {
     "name": "stdout",
     "output_type": "stream",
     "text": [
      "['a', 'b', 'c', 'd', 'e']\n"
     ]
    }
   ],
   "source": [
    "# 分裂\n",
    "# re.split()\n",
    "\n",
    "print(re.split(r'[,:.]','a:b,c.d:e'))\n"
   ]
  },
  {
   "cell_type": "code",
   "execution_count": 105,
   "metadata": {},
   "outputs": [
    {
     "name": "stdout",
     "output_type": "stream",
     "text": [
      "<re.Match object; span=(4, 7), match='ran'>\n"
     ]
    }
   ],
   "source": [
    "# compile\n",
    "compile_re = re.compile(r'r[au]n')\n",
    "print(compile_re.search('dog ran to cat'))\n",
    "\n",
    "# 这个什么意思，有什么用呢？"
   ]
  }
 ],
 "metadata": {
  "kernelspec": {
   "display_name": "Python 3",
   "language": "python",
   "name": "python3"
  },
  "language_info": {
   "codemirror_mode": {
    "name": "ipython",
    "version": 3
   },
   "file_extension": ".py",
   "mimetype": "text/x-python",
   "name": "python",
   "nbconvert_exporter": "python",
   "pygments_lexer": "ipython3",
   "version": "3.7.3"
  }
 },
 "nbformat": 4,
 "nbformat_minor": 2
}
