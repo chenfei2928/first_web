{
 "cells": [
  {
   "cell_type": "code",
   "execution_count": 1,
   "metadata": {},
   "outputs": [],
   "source": [
    "import turtle\n",
    "\n",
    "turtle.pensize(10)\n",
    "turtle.pencolor('red')\n",
    "turtle.circle(105)  # 半径\n",
    "\n",
    "turtle.left(90)\n",
    "turtle.penup()\n",
    "turtle.forward(50)\n",
    "turtle.pendown()\n",
    "turtle.right(90)\n",
    "\n",
    "turtle.fillcolor('blue')\n",
    "turtle.begin_fill()\n",
    "turtle.circle(55)\n",
    "turtle.end_fill()\n",
    "\n",
    "# 五角星的一个角度36度\n",
    "\n",
    "turtle.pensize(1)\n",
    "turtle.pencolor('white')\n",
    "turtle.fillcolor('white')\n",
    "\n",
    "turtle.penup()\n",
    "turtle.left(90)\n",
    "turtle.forward(70)\n",
    "turtle.left(90)\n",
    "turtle.forward(48)\n",
    "turtle.left(180)\n",
    "turtle.pendown()\n",
    "\n",
    "turtle.begin_fill()\n",
    "i =0\n",
    "while i< 5:\n",
    "    turtle.forward(100)\n",
    "    turtle.right(144)\n",
    "    i+=1\n",
    "turtle.end_fill()    \n",
    "\n",
    "\n",
    "turtle.hideturtle()"
   ]
  }
 ],
 "metadata": {
  "kernelspec": {
   "display_name": "Python 3",
   "language": "python",
   "name": "python3"
  },
  "language_info": {
   "codemirror_mode": {
    "name": "ipython",
    "version": 3
   },
   "file_extension": ".py",
   "mimetype": "text/x-python",
   "name": "python",
   "nbconvert_exporter": "python",
   "pygments_lexer": "ipython3",
   "version": "3.7.3"
  }
 },
 "nbformat": 4,
 "nbformat_minor": 2
}
