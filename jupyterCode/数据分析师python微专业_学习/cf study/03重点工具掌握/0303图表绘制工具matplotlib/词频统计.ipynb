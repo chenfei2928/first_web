{
 "cells": [
  {
   "cell_type": "code",
   "execution_count": 1,
   "metadata": {},
   "outputs": [
    {
     "ename": "ModuleNotFoundError",
     "evalue": "No module named 'jieba'",
     "output_type": "error",
     "traceback": [
      "\u001b[1;31m---------------------------------------------------------------------------\u001b[0m",
      "\u001b[1;31mModuleNotFoundError\u001b[0m                       Traceback (most recent call last)",
      "\u001b[1;32m<ipython-input-1-cd9ec09862b7>\u001b[0m in \u001b[0;36m<module>\u001b[1;34m\u001b[0m\n\u001b[0;32m      3\u001b[0m \u001b[1;31m#   https://space.bilibili.com/39665558\u001b[0m\u001b[1;33m\u001b[0m\u001b[1;33m\u001b[0m\u001b[1;33m\u001b[0m\u001b[0m\n\u001b[0;32m      4\u001b[0m \u001b[1;33m\u001b[0m\u001b[0m\n\u001b[1;32m----> 5\u001b[1;33m \u001b[1;32mimport\u001b[0m \u001b[0mjieba\u001b[0m\u001b[1;33m.\u001b[0m\u001b[0mposseg\u001b[0m \u001b[1;32mas\u001b[0m \u001b[0mpsg\u001b[0m\u001b[1;33m\u001b[0m\u001b[1;33m\u001b[0m\u001b[0m\n\u001b[0m\u001b[0;32m      6\u001b[0m \u001b[1;33m\u001b[0m\u001b[0m\n\u001b[0;32m      7\u001b[0m \u001b[1;31m#根据词频降序排序\u001b[0m\u001b[1;33m\u001b[0m\u001b[1;33m\u001b[0m\u001b[1;33m\u001b[0m\u001b[0m\n",
      "\u001b[1;31mModuleNotFoundError\u001b[0m: No module named 'jieba'"
     ]
    }
   ],
   "source": [
    "# 转载或使用本代码，请注明原创出处：\n",
    "#   偶尔有点小迷糊\n",
    "#   https://space.bilibili.com/39665558\n",
    "\n",
    "import jieba.posseg as psg\n",
    "\n",
    "#根据词频降序排序\n",
    "def 列表中的词频排序(lst):\n",
    "    word_frequency = {}\n",
    "    for word in lst:\n",
    "        if word in word_frequency:\n",
    "            word_frequency[word] += 1\n",
    "        else:\n",
    "            word_frequency[word] = 1\n",
    "                \n",
    "    word_sort = sorted(word_frequency.items(), key = lambda x:x[1], reverse = True) \n",
    "    return word_sort\n",
    "\n",
    "    \n",
    "# 生成词云\n",
    "import numpy as np\n",
    "from PIL import Image\n",
    "from wordcloud import WordCloud,ImageColorGenerator,STOPWORDS\n",
    "\n",
    "def 生成词云(lst):\n",
    "    words_space_split = \" \".join(lst) \n",
    "\n",
    "    # 设置停用词 \n",
    "    sw = set(STOPWORDS) \n",
    "    sw.add(\"的\")\n",
    "    sw.add(\"这里不多写了，根据自己情况添加\")\n",
    "\n",
    "    # 图片模板和字体\n",
    "    image=np.array(Image.open('轮廓.jpg')) \n",
    "    font=r'./simhei.ttf' \n",
    "\n",
    "    # 生成词云\n",
    "    my_wordcloud = WordCloud(scale=4, font_path=font, mask=image, stopwords=sw, background_color = 'white',\n",
    "                             max_words = 100, max_font_size = 60, random_state=20).generate(words_space_split) \n",
    "\n",
    "    #保存生成的图片\n",
    "    my_wordcloud.to_file('词云.jpg')\n",
    "\n",
    "\n",
    "\n",
    "if __name__ == \"__main__\":\n",
    "    \n",
    "    # 1. 打开存放项目名称的txt文件\n",
    "    with open('三体.txt', 'r',encoding = 'utf-8') as f:\n",
    "        content = (f.read())\n",
    "        f.close()\n",
    "\n",
    "    # 2. 分离出感兴趣的名词，放在 lst_words 里\n",
    "    lst_words = []\n",
    "    for x in psg.cut(content):\n",
    "        # 保留名词、人名、地名，长度至少两个字\n",
    "        if x.flag in ['n', 'nr', 'ns'] and len(x.word) > 1:\n",
    "            lst_words.append(x.word)\n",
    "\n",
    "    # 3. 按照词频由大到小排序，放在 lst_sorted 里     \n",
    "    lst_sorted = 列表中的词频排序(lst_words)\n",
    "\n",
    "    # 4. 打印TOP10\n",
    "    print('\\n序号\\t名词\\t词频\\t柱图\\n')\n",
    "    for i in range(10):\n",
    "        print( '{}\\t{}\\t{}\\t{}\\n'.format(i+1, lst_sorted[i][0], lst_sorted[i][1], '▂' * (lst_sorted[i][1] // 100)) )\n",
    "\n",
    "    #\n",
    "    生成词云( [ x[0] for x in lst_sorted] )\n",
    "    \n",
    "# 转载或使用本代码，请注明原创出处：\n",
    "#   偶尔有点小迷糊\n",
    "#   https://space.bilibili.com/39665558\n",
    "    "
   ]
  }
 ],
 "metadata": {
  "kernelspec": {
   "display_name": "Python 3",
   "language": "python",
   "name": "python3"
  },
  "language_info": {
   "codemirror_mode": {
    "name": "ipython",
    "version": 3
   },
   "file_extension": ".py",
   "mimetype": "text/x-python",
   "name": "python",
   "nbconvert_exporter": "python",
   "pygments_lexer": "ipython3",
   "version": "3.7.3"
  }
 },
 "nbformat": 4,
 "nbformat_minor": 2
}
