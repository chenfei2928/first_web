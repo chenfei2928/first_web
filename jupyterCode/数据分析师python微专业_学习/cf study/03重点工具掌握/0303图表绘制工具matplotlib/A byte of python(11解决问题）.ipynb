{
 "cells": [
  {
   "cell_type": "code",
   "execution_count": 6,
   "metadata": {},
   "outputs": [
    {
     "name": "stdout",
     "output_type": "stream",
     "text": [
      "zip -qr E:\\Backup\\20190806145436.zipC:\\My Documents C:\\Code\n",
      "Backup FAILED\n"
     ]
    }
   ],
   "source": [
    "import os\n",
    "import time\n",
    "\n",
    "source = ['C:\\\\My Documents','C:\\\\Code']\n",
    "\n",
    "\n",
    "target_dir = 'E:\\\\Backup'\n",
    "\n",
    "target = target_dir + os.sep + time.strftime('%Y%m%d%H%M%S') + '.zip'\n",
    "\n",
    "zip_command = 'zip -qr {0}{1}'.format(target,' '.join(source))\n",
    "\n",
    "print(zip_command)\n",
    "if os.system(zip_command) == 0:\n",
    "    print('Successful backup to',target)\n",
    "else:\n",
    "    print('Backup FAILED')"
   ]
  },
  {
   "cell_type": "code",
   "execution_count": 10,
   "metadata": {},
   "outputs": [
    {
     "name": "stdout",
     "output_type": "stream",
     "text": [
      "Successfully created directory E:\\Backup\\20190806\n",
      "Backup FAILED\n"
     ]
    }
   ],
   "source": [
    "import os\n",
    "import time\n",
    "\n",
    "source = ['C:\\\\My Documents','C:\\\\Code']\n",
    "target_dir = 'E:\\\\Backup'\n",
    "\n",
    "today = target_dir + os.sep + time.strftime('%Y%m%d')\n",
    "now = time.strftime('%H%M%S')\n",
    "\n",
    "if not os.path.exists(today):\n",
    "    os.mkdir(today)\n",
    "    print('Successfully created directory', today)\n",
    "    \n",
    "target = today + os.sep + now + '.zip'\n",
    "\n",
    "zip_command = \"zip -qr {0} {1}\".format(target, ' '.join(source))\n",
    "\n",
    "if os.system(zip_command) == 0:\n",
    "    print('Successful backup to', target)\n",
    "else:\n",
    "    print('Backup FAILED')\n",
    "    \n",
    "#似乎执行不下去\n",
    "\n"
   ]
  }
 ],
 "metadata": {
  "kernelspec": {
   "display_name": "Python 3",
   "language": "python",
   "name": "python3"
  },
  "language_info": {
   "codemirror_mode": {
    "name": "ipython",
    "version": 3
   },
   "file_extension": ".py",
   "mimetype": "text/x-python",
   "name": "python",
   "nbconvert_exporter": "python",
   "pygments_lexer": "ipython3",
   "version": "3.7.3"
  }
 },
 "nbformat": 4,
 "nbformat_minor": 2
}
