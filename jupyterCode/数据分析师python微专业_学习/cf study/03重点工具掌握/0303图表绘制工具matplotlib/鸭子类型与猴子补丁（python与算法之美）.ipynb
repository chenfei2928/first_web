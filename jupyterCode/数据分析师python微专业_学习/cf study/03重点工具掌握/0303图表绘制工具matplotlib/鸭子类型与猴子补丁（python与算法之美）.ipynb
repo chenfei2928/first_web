{
 "cells": [
  {
   "cell_type": "code",
   "execution_count": 7,
   "metadata": {},
   "outputs": [
    {
     "name": "stdout",
     "output_type": "stream",
     "text": [
      "A duck named yayais swimming....\n",
      "gay...gay...gay...\n",
      "A duck named eeis swimming....\n",
      "goo...goo...goo...\n"
     ]
    }
   ],
   "source": [
    "# 鸭子类型是对python中数据类型本质上是由属性和行为来定义的一种解读\n",
    "\n",
    "# 这是一个鸭子（duck）类\n",
    "\n",
    "class Duck:\n",
    "    def __init__(self,name):\n",
    "        self.name = name\n",
    "    def swim(self):\n",
    "        print('A duck named '+self.name+\"is swimming....\")\n",
    "    def call(self):\n",
    "        print('gay...gay...gay...')\n",
    "        \n",
    "# 这是一个鹅（goose）类\n",
    "\n",
    "class Goose:\n",
    "    def __init__(self,name):\n",
    "        self.name = name\n",
    "    def swim(self):\n",
    "        print('A duck named '+self.name+\"is swimming....\")\n",
    "    def call(self):\n",
    "        print('goo...goo...goo...')\n",
    "\n",
    "# duckshow这个函数设计的本意是需要传入一个Duck对象作为参数的。\n",
    "\n",
    "def duckshow(duck):\n",
    "    duck.swim()\n",
    "    duck.call()\n",
    "    \n",
    "yaya = Duck('yaya')\n",
    "\n",
    "ee = Goose('ee')\n",
    "\n",
    "# 由于python是动态类型，其数据类型属于鸭子类型，没有严格类型检查。\n",
    "# Goose这个类具有和duck这个类相同的方法\n",
    "# ee这只鹅划起水来像只鸭子，叫起来也像一只鸭子。\n",
    "# 所以duckshow这个函数也可以对ee进行作用。\n",
    "\n",
    "duckshow(yaya)\n",
    "duckshow(ee)"
   ]
  },
  {
   "cell_type": "code",
   "execution_count": 15,
   "metadata": {},
   "outputs": [
    {
     "name": "stdout",
     "output_type": "stream",
     "text": [
      "Zzz...Zzz...Zzz...\n",
      "I think myself a hero and very handsome!\n",
      "Earth\n"
     ]
    }
   ],
   "source": [
    "# 猴子补丁是对Python中模块和类可以在外部被动态修改这种特性的一个比喻。\n",
    "\n",
    "# 定义一个dog类\n",
    "\n",
    "class Dog:\n",
    "    def __init__(self,name,age):\n",
    "        self.name = name\n",
    "        self.age = age\n",
    "    def sleep(self):\n",
    "        print(\"Zzz...Zzz...Zzz...\")\n",
    "# 在类的外部给Dog这个类添加猴子补丁\n",
    "def speak(self):\n",
    "    print('I think myself a hero and very handsome!')\n",
    "    \n",
    "Dog.speak = speak\n",
    "Dog.home = 'Earth'\n",
    "\n",
    "# 与类的内部定义的属性和方法无差异\n",
    "\n",
    "snoopy = Dog('snoopy',3)\n",
    "snoopy.sleep()\n",
    "snoopy.speak()\n",
    "print(snoopy.home)"
   ]
  },
  {
   "cell_type": "code",
   "execution_count": 22,
   "metadata": {},
   "outputs": [
    {
     "name": "stdout",
     "output_type": "stream",
     "text": [
      "   a  b  c  d  e\n",
      "0  5  1  1  9  9\n",
      "1  9  1  2  1  7\n",
      "2  8  4  2  2  1\n",
      "3  6  5  2  4  9\n",
      "4  1  1  2  6  3\n",
      "<class 'pandas.core.frame.DataFrame'>\n",
      "RangeIndex: 5 entries, 0 to 4\n",
      "Data columns (total 5 columns):\n",
      "a    5 non-null int32\n",
      "b    5 non-null int32\n",
      "c    5 non-null int32\n",
      "d    5 non-null int32\n",
      "e    5 non-null int32\n",
      "dtypes: int32(5)\n",
      "memory usage: 180.0 bytes\n",
      "------------------------------\n",
      "180 B\n"
     ]
    }
   ],
   "source": [
    "import numpy as np\n",
    "import pandas as pd\n",
    "\n",
    "df = pd.DataFrame(np.random.randint(1,10,size=(5,5)),\n",
    "                 columns=list('abcde'))\n",
    "print(df)\n",
    "df.info()\n",
    "print('------------------------------')\n",
    "\n",
    "# DataFrame 自带方法info打印信息太多，展示不直观.\n",
    "# 给DataFrame定义一个猴子补丁方法memory简洁展示其消耗内存。\n",
    "\n",
    "def memory(self):\n",
    "    mem = self.__sizeof__()\n",
    "    if mem<1024:\n",
    "        return(\"%s B\"%mem)\n",
    "    elif mem<1024*1024:\n",
    "        return('%s KB'%mem/1024)\n",
    "    elif mem<1024**3:\n",
    "        return('%s MB'%mem/1024**2)\n",
    "    else:\n",
    "        return('%s GB'%mem/1024**3)\n",
    "\n",
    "pd.DataFrame.memory = memory\n",
    "print(df.memory())\n"
   ]
  }
 ],
 "metadata": {
  "kernelspec": {
   "display_name": "Python 3",
   "language": "python",
   "name": "python3"
  },
  "language_info": {
   "codemirror_mode": {
    "name": "ipython",
    "version": 3
   },
   "file_extension": ".py",
   "mimetype": "text/x-python",
   "name": "python",
   "nbconvert_exporter": "python",
   "pygments_lexer": "ipython3",
   "version": "3.7.3"
  }
 },
 "nbformat": 4,
 "nbformat_minor": 2
}
