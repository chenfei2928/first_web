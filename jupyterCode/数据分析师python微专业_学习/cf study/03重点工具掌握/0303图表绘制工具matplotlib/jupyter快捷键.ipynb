{
 "cells": [
  {
   "cell_type": "markdown",
   "metadata": {},
   "source": [
    "# 高频使用"
   ]
  },
  {
   "cell_type": "markdown",
   "metadata": {},
   "source": [
    "Enter                         转入编辑模式\n",
    "\n",
    "Shift + Enter                    运行本单元，选中下单元\n",
    "\n",
    "Ctrl + Enter                     运行本单元\n",
    "\n",
    "Alt + Enter                      运行本单元，在其下插入新单元"
   ]
  },
  {
   "cell_type": "markdown",
   "metadata": {},
   "source": [
    "# 命令模式"
   ]
  },
  {
   "cell_type": "markdown",
   "metadata": {},
   "source": [
    "## 状态切换"
   ]
  },
  {
   "cell_type": "markdown",
   "metadata": {},
   "source": [
    "y：单元转入代码状态\n",
    "\n",
    "m：单元转入markdown状态"
   ]
  },
  {
   "cell_type": "markdown",
   "metadata": {},
   "source": [
    "## 标题"
   ]
  },
  {
   "cell_type": "markdown",
   "metadata": {},
   "source": [
    "1 : 设定 1 级标题\n",
    "\n",
    "2 : 设定 2 级标题\n",
    "\n",
    "3 : 设定 3 级标题\n",
    "\n",
    "4 : 设定 4 级标题\n",
    "\n",
    "5 : 设定 5 级标题\n",
    "\n",
    "6 : 设定 6 级标题"
   ]
  },
  {
   "cell_type": "markdown",
   "metadata": {},
   "source": [
    "## 单元操作"
   ]
  },
  {
   "cell_type": "markdown",
   "metadata": {},
   "source": [
    "k：选中上方单元\n",
    "\n",
    "j：选中下方单元\n",
    "\n",
    "Shift + k：扩大选中上方单元\n",
    "\n",
    "Shift + j：扩大选中下方单元\n",
    "\n",
    "a：在上方插入新单元\n",
    "\n",
    "b：在下方插入新单元\n",
    "\n",
    "x：剪切选中的单元\n",
    "\n",
    "c：复制选中的单元\n",
    "\n",
    "v：粘贴到下发单元\n",
    "\n",
    "Shift + v:黏贴到上方单元\n",
    "\n",
    "z:恢复删除的最后一个单元\n",
    "\n",
    "d+d : 删除选中的单元，双击d键\n",
    "\n",
    "shift+m：合并选中的单元"
   ]
  },
  {
   "cell_type": "markdown",
   "metadata": {},
   "source": [
    "## 文件操作"
   ]
  },
  {
   "cell_type": "markdown",
   "metadata": {},
   "source": [
    "Ctrl + s：文件存盘\n",
    "\n",
    "s：文件存盘\n",
    "\n",
    "L：显示影藏行号\n",
    "\n",
    "Esc：关闭页面\n",
    "\n",
    "q：关闭页面\n",
    "\n",
    "h：显示快捷帮助"
   ]
  },
  {
   "cell_type": "markdown",
   "metadata": {},
   "source": [
    "# 编辑模式快捷键"
   ]
  },
  {
   "cell_type": "markdown",
   "metadata": {},
   "source": [
    "Tab：代码补全或缩进\n",
    "\n",
    "Shift + Tab ：提示\n",
    "\n",
    "Ctrl + 】：缩进\n",
    "\n",
    "Ctrl + 【 ：解除缩进\n",
    "\n",
    "Ctrl + a：全选\n",
    "\n",
    "Ctrl + z：复原\n",
    "\n",
    "Ctrl + Home：跳到单元开头\n",
    "\n",
    "Ctrl + End：跳到单元末尾"
   ]
  },
  {
   "cell_type": "markdown",
   "metadata": {},
   "source": [
    "# 补充功能"
   ]
  },
  {
   "cell_type": "code",
   "execution_count": null,
   "metadata": {},
   "outputs": [],
   "source": [
    "Ctrl + Enter + - ： 分割单元（'-'号 subtract） "
   ]
  }
 ],
 "metadata": {
  "kernelspec": {
   "display_name": "Python 3",
   "language": "python",
   "name": "python3"
  },
  "language_info": {
   "codemirror_mode": {
    "name": "ipython",
    "version": 3
   },
   "file_extension": ".py",
   "mimetype": "text/x-python",
   "name": "python",
   "nbconvert_exporter": "python",
   "pygments_lexer": "ipython3",
   "version": "3.7.3"
  }
 },
 "nbformat": 4,
 "nbformat_minor": 2
}
