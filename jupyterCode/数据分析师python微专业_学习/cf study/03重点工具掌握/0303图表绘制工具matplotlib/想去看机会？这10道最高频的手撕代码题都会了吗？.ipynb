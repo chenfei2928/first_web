{
 "cells": [
  {
   "cell_type": "code",
   "execution_count": 4,
   "metadata": {},
   "outputs": [
    {
     "name": "stdout",
     "output_type": "stream",
     "text": [
      "1 2 3 6 7 "
     ]
    }
   ],
   "source": [
    "a = [1,2,3,6,7]\n",
    "for i in range(len(a)):\n",
    "    print(a[i],end=' ')"
   ]
  },
  {
   "cell_type": "code",
   "execution_count": 5,
   "metadata": {},
   "outputs": [
    {
     "name": "stdout",
     "output_type": "stream",
     "text": [
      "1\n",
      "2\n",
      "3\n",
      "6\n",
      "7\n"
     ]
    }
   ],
   "source": [
    "a = [1,2,3,6,7]\n",
    "for i in range(len(a)):\n",
    "    print(a[i])"
   ]
  },
  {
   "cell_type": "code",
   "execution_count": 6,
   "metadata": {},
   "outputs": [
    {
     "data": {
      "text/plain": [
       "'\\n1，快速排序\\n题目形式：手写一下快速排序算法。\\n题目难度：中等。\\n出现概率：约50%。手写快排绝对是手撕代码面试题中的百兽之王，掌握了它就是送分题，没有掌握它就是送命题。\\n\\n'"
      ]
     },
     "execution_count": 6,
     "metadata": {},
     "output_type": "execute_result"
    }
   ],
   "source": [
    "'''\n",
    "1，快速排序\n",
    "题目形式：手写一下快速排序算法。\n",
    "题目难度：中等。\n",
    "出现概率：约50%。手写快排绝对是手撕代码面试题中的百兽之王，掌握了它就是送分题，没有掌握它就是送命题。\n",
    "\n",
    "'''"
   ]
  },
  {
   "cell_type": "code",
   "execution_count": 1,
   "metadata": {},
   "outputs": [
    {
     "name": "stdout",
     "output_type": "stream",
     "text": [
      "[1, 1, 2, 2, 3, 3, 5, 5, 6, 6, 6, 7]\n"
     ]
    }
   ],
   "source": [
    "def quick_sort(arr,start=0,end=None):\n",
    "    if end is None:\n",
    "        end= len(arr)-1\n",
    "    if end<=start:\n",
    "        return(arr)\n",
    "    i,j = start,end\n",
    "    ref = arr[start]\n",
    "    while j>i:\n",
    "        if arr[j]>=ref:\n",
    "            j=j-1\n",
    "        else:\n",
    "            arr[i],arr[j],arr[i+1] = arr[j],arr[i+1],arr[i]\n",
    "            i = i+1\n",
    "    quick_sort(arr,start=start,end=i-1)\n",
    "    quick_sort(arr,start=i+1,end= end)\n",
    "    return(arr)\n",
    "\n",
    "print(quick_sort([1,1,3,3,2,2,6,6,6,5,5,7]))"
   ]
  }
 ],
 "metadata": {
  "kernelspec": {
   "display_name": "Python 3",
   "language": "python",
   "name": "python3"
  },
  "language_info": {
   "codemirror_mode": {
    "name": "ipython",
    "version": 3
   },
   "file_extension": ".py",
   "mimetype": "text/x-python",
   "name": "python",
   "nbconvert_exporter": "python",
   "pygments_lexer": "ipython3",
   "version": "3.7.3"
  }
 },
 "nbformat": 4,
 "nbformat_minor": 2
}
