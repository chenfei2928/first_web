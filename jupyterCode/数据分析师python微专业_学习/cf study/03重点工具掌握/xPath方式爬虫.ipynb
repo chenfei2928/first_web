{
 "cells": [
  {
   "cell_type": "code",
   "execution_count": 2,
   "metadata": {},
   "outputs": [],
   "source": [
    "import requests\n",
    "from lxml import etree"
   ]
  },
  {
   "cell_type": "code",
   "execution_count": 4,
   "metadata": {},
   "outputs": [],
   "source": [
    "url ='https://movie.douban.com/subject/1292052/'\n",
    "data =requests.get(url).text\n",
    "s = etree.HTML(data)"
   ]
  },
  {
   "cell_type": "code",
   "execution_count": 8,
   "metadata": {},
   "outputs": [
    {
     "name": "stdout",
     "output_type": "stream",
     "text": [
      "['肖申克的救赎 The Shawshank Redemption']\n"
     ]
    }
   ],
   "source": [
    "\n",
    "\n",
    "film = s.xpath('//*[@id=\"content\"]/h1/span[1]/text()')\n",
    "print(film)"
   ]
  },
  {
   "cell_type": "code",
   "execution_count": null,
   "metadata": {},
   "outputs": [],
   "source": [
    "片名 //*[@id=\"content\"]/h1/span[1]\n",
    "\n",
    "导演 //*[@id=\"info\"]/span[1]/span[2]/a\n",
    "主演1 //*[@id=\"info\"]/span[3]/span[2]/span[1]/a\n",
    "主演2 //*[@id=\"info\"]/span[3]/span[2]/span[2]/a\n",
    "主演3 //*[@id=\"info\"]/span[3]/span[2]/span[3]/a\n",
    "\n",
    "片长：//*[@id=\"info\"]/span[13]\n",
    "\n"
   ]
  }
 ],
 "metadata": {
  "kernelspec": {
   "display_name": "Python 3",
   "language": "python",
   "name": "python3"
  },
  "language_info": {
   "codemirror_mode": {
    "name": "ipython",
    "version": 3
   },
   "file_extension": ".py",
   "mimetype": "text/x-python",
   "name": "python",
   "nbconvert_exporter": "python",
   "pygments_lexer": "ipython3",
   "version": "3.7.3"
  }
 },
 "nbformat": 4,
 "nbformat_minor": 2
}
