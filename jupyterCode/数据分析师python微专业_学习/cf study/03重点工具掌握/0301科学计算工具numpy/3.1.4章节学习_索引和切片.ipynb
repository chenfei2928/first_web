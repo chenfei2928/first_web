{
 "cells": [
  {
   "cell_type": "code",
   "execution_count": 1,
   "metadata": {},
   "outputs": [],
   "source": [
    "#基本索引和切片\n",
    "\n",
    "import numpy as np\n"
   ]
  },
  {
   "cell_type": "code",
   "execution_count": 7,
   "metadata": {},
   "outputs": [
    {
     "name": "stdout",
     "output_type": "stream",
     "text": [
      "[ 0  1  2  3  4  5  6  7  8  9 10 11 12 13 14 15 16 17 18 19]\n",
      "4\n",
      "[0 1 2]\n",
      "[ 0  2  4  6  8 10 12 14 16 18]\n"
     ]
    }
   ],
   "source": [
    "ar = np.arange(20)\n",
    "print(ar)\n",
    "print(ar[4])\n",
    "print(ar[:3])\n",
    "print(ar[::2])\n",
    "    #一维数组类似list"
   ]
  },
  {
   "cell_type": "code",
   "execution_count": 18,
   "metadata": {},
   "outputs": [
    {
     "name": "stdout",
     "output_type": "stream",
     "text": [
      "[[ 0  1  2  3]\n",
      " [ 4  5  6  7]\n",
      " [ 8  9 10 11]\n",
      " [12 13 14 15]]\n",
      "[ 8  9 10 11]\n",
      "10\n",
      "[[ 4  5  6  7]\n",
      " [ 8  9 10 11]]\n",
      "10\n",
      "----------------------------------------------------------------------------------------------------\n",
      "[[2 3]\n",
      " [6 7]]\n"
     ]
    }
   ],
   "source": [
    "ar = np.arange(16).reshape(4,4)\n",
    "print(ar)\n",
    "print(ar[2])\n",
    "    #取行\n",
    "print(ar[2][2])\n",
    "    # 取第3行第3个列\n",
    "\n",
    "print(ar[1:3])\n",
    "    #取第2、3行；\n",
    "\n",
    "print(ar[2,2])\n",
    "print('----------'*10)\n",
    "print(ar[:2,2:])\n",
    "    #二维数组索引"
   ]
  },
  {
   "cell_type": "code",
   "execution_count": 22,
   "metadata": {},
   "outputs": [
    {
     "name": "stdout",
     "output_type": "stream",
     "text": [
      "[[[ 0  1]\n",
      "  [ 2  3]]\n",
      "\n",
      " [[ 4  5]\n",
      "  [ 6  7]]\n",
      "\n",
      " [[ 8  9]\n",
      "  [10 11]]]\n",
      "10\n"
     ]
    }
   ],
   "source": [
    "#三维数组\n",
    "ar = np.arange(12).reshape(3,2,2)\n",
    "print(ar)\n",
    "print(ar[2][1][0])"
   ]
  },
  {
   "cell_type": "code",
   "execution_count": 32,
   "metadata": {},
   "outputs": [
    {
     "name": "stdout",
     "output_type": "stream",
     "text": [
      "[[ 0  1  2  3]\n",
      " [ 4  5  6  7]\n",
      " [ 8  9 10 11]]\n",
      "[ True False  True]\n",
      "[ True  True False False]\n",
      "[[ 0  1  2  3]\n",
      " [ 8  9 10 11]]\n",
      "[[0 1]\n",
      " [4 5]\n",
      " [8 9]]\n",
      "[[False False False False]\n",
      " [False False  True  True]\n",
      " [ True  True  True  True]] <class 'numpy.ndarray'>\n",
      "[ 6  7  8  9 10 11]\n"
     ]
    }
   ],
   "source": [
    "# 布尔型索引及切片\n",
    "    #判断&索引\n",
    "\n",
    "ar = np.arange(12).reshape(3,4)\n",
    "print(ar)\n",
    "\n",
    "i = np.array([True,False,True])\n",
    "j = np.array([True,True,False,False])\n",
    "print(i)\n",
    "print(j)\n",
    "\n",
    "print(ar[i,:])  # 第一三行\n",
    "print(ar[ :,j])\n",
    "\n",
    "print(ar>5,type(ar>5))\n",
    "print(ar[ar>5])\n"
   ]
  },
  {
   "cell_type": "code",
   "execution_count": 39,
   "metadata": {},
   "outputs": [
    {
     "name": "stdout",
     "output_type": "stream",
     "text": [
      "[0 1 2 3 4 5 6 7 8 9]\n",
      "[  0   1   2   3   4 100   6 200 200   9]\n",
      "[0 1 2 3 4 5 6 7 8 9]\n",
      "[  0   1   2   3   4   5   6 200 200   9]\n"
     ]
    }
   ],
   "source": [
    "# 索引值的更改及复制\n",
    "\n",
    "ar = np.arange(10)\n",
    "print(ar)\n",
    "\n",
    "ar[5]=100\n",
    "ar[7:9]=200\n",
    "print(ar)\n",
    " #一个标量赋值给一个索引/切片时，会自动改变/传播原始数组\n",
    "    \n",
    "ar = np.arange(10)\n",
    "b =ar.copy()\n",
    "b[7:9]=200\n",
    "print(ar)\n",
    "print(b)\n",
    "    # 复制\n"
   ]
  },
  {
   "cell_type": "code",
   "execution_count": 40,
   "metadata": {},
   "outputs": [
    {
     "data": {
      "text/plain": [
       "'\\n\\n【课程1.4  Numpy索引及切片】 课程作业\\n\\uf06e\\t作业1：按照要求创建数组，通过索引，其ar[4]、ar[:2,3:]、ar[3][2]分别是多少\\n \\n'"
      ]
     },
     "execution_count": 40,
     "metadata": {},
     "output_type": "execute_result"
    }
   ],
   "source": [
    "\"\"\"\n",
    "\n",
    "【课程1.4  Numpy索引及切片】 课程作业\n",
    "\t作业1：按照要求创建数组，通过索引，其ar[4]、ar[:2,3:]、ar[3][2]分别是多少\n",
    " \n",
    "\"\"\""
   ]
  },
  {
   "cell_type": "code",
   "execution_count": 45,
   "metadata": {},
   "outputs": [
    {
     "name": "stdout",
     "output_type": "stream",
     "text": [
      "[[ 0  1  2  3  4]\n",
      " [ 5  6  7  8  9]\n",
      " [10 11 12 13 14]\n",
      " [15 16 17 18 19]\n",
      " [20 21 22 23 24]]\n",
      "[20 21 22 23 24]\n",
      "[[3 4]\n",
      " [8 9]]\n",
      "17\n"
     ]
    }
   ],
   "source": [
    "ar =np.arange(25).reshape(5,5)\n",
    "print(ar)\n",
    "\n",
    "print(ar[4])\n",
    "\n",
    "print(ar[:2,3:])\n",
    "\n",
    "print(ar[3][2])"
   ]
  },
  {
   "cell_type": "code",
   "execution_count": 50,
   "metadata": {},
   "outputs": [
    {
     "name": "stdout",
     "output_type": "stream",
     "text": [
      "[[0 1 2 3 4]\n",
      " [5 6 7 8 9]]\n",
      "[[False False False False False]\n",
      " [False  True  True  True  True]]\n",
      "[6 7 8 9]\n",
      "[6 7 8 9]\n"
     ]
    }
   ],
   "source": [
    "#\t作业2：按照要求创建数组，筛选出元素值大于5的值并生成新的数组\n",
    "\n",
    "ar =np.arange(10).reshape(2,5)\n",
    "print(ar)\n",
    "\n",
    "print(ar>5)\n",
    "\n",
    "print(ar[ar>5])\n",
    "\n",
    "b =ar[ar>5]\n",
    "print(b)"
   ]
  }
 ],
 "metadata": {
  "kernelspec": {
   "display_name": "Python 3",
   "language": "python",
   "name": "python3"
  },
  "language_info": {
   "codemirror_mode": {
    "name": "ipython",
    "version": 3
   },
   "file_extension": ".py",
   "mimetype": "text/x-python",
   "name": "python",
   "nbconvert_exporter": "python",
   "pygments_lexer": "ipython3",
   "version": "3.7.3"
  }
 },
 "nbformat": 4,
 "nbformat_minor": 2
}
