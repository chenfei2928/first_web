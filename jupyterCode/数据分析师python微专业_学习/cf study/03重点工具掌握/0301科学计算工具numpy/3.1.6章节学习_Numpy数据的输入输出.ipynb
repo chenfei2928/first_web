{
 "cells": [
  {
   "cell_type": "code",
   "execution_count": 1,
   "metadata": {},
   "outputs": [],
   "source": [
    "# numpy读取/写入 数组数据，文本数据"
   ]
  },
  {
   "cell_type": "code",
   "execution_count": 5,
   "metadata": {},
   "outputs": [
    {
     "name": "stdout",
     "output_type": "stream",
     "text": [
      "[[0.07052437 0.34672423 0.51382137 0.35492058 0.01125781]\n",
      " [0.1010173  0.7702009  0.20862349 0.52859482 0.1517792 ]\n",
      " [0.50670808 0.59742795 0.46359841 0.5765102  0.5213759 ]\n",
      " [0.84278    0.54832421 0.45445679 0.00631394 0.64188057]\n",
      " [0.32155411 0.24231902 0.35939852 0.4445117  0.36679158]]\n",
      "Finished!\n"
     ]
    }
   ],
   "source": [
    "# 存储数组数据 。npy文件\n",
    "import numpy as np\n",
    "import os\n",
    "os.chdir('C:/Users/Administrator/Desktop/python/')\n",
    "\n",
    "ar = np.random.rand(5,5)\n",
    "print(ar)\n",
    "np.save('text.npy',ar)\n",
    "print('Finished!')"
   ]
  },
  {
   "cell_type": "code",
   "execution_count": 7,
   "metadata": {},
   "outputs": [
    {
     "name": "stdout",
     "output_type": "stream",
     "text": [
      "[[0.07052437 0.34672423 0.51382137 0.35492058 0.01125781]\n",
      " [0.1010173  0.7702009  0.20862349 0.52859482 0.1517792 ]\n",
      " [0.50670808 0.59742795 0.46359841 0.5765102  0.5213759 ]\n",
      " [0.84278    0.54832421 0.45445679 0.00631394 0.64188057]\n",
      " [0.32155411 0.24231902 0.35939852 0.4445117  0.36679158]]\n"
     ]
    }
   ],
   "source": [
    "# 读取数组数据。 .npy文件\n",
    "\n",
    "ar_load =np.load('text.npy')\n",
    "print(ar_load)"
   ]
  },
  {
   "cell_type": "code",
   "execution_count": 14,
   "metadata": {},
   "outputs": [
    {
     "name": "stdout",
     "output_type": "stream",
     "text": [
      "[[0.71137381 0.20146787 0.66972186 0.28679458 0.03115312]\n",
      " [0.14031598 0.95118927 0.31767071 0.22868778 0.09970997]\n",
      " [0.85352012 0.32810978 0.40261605 0.00362723 0.80782028]\n",
      " [0.38188422 0.30029323 0.85941134 0.63713928 0.02251209]\n",
      " [0.45402926 0.26106795 0.31974695 0.235075   0.74880382]]\n",
      "Finished!\n",
      "[[0.711374 0.201468 0.669722 0.286795 0.031153]\n",
      " [0.140316 0.951189 0.317671 0.228688 0.09971 ]\n",
      " [0.85352  0.32811  0.402616 0.003627 0.80782 ]\n",
      " [0.381884 0.300293 0.859411 0.637139 0.022512]\n",
      " [0.454029 0.261068 0.319747 0.235075 0.748804]] float64\n"
     ]
    }
   ],
   "source": [
    "\n",
    "os.chdir('C:/Users/Administrator/Desktop/python/')\n",
    "ar = np.random.rand(5,5)\n",
    "print(ar)\n",
    "np.savetxt('numpetext.txt',ar,delimiter=',',fmt='%2f')\n",
    "print('Finished!')\n",
    "\n",
    "    #存储为txt文件；\n",
    "    \n",
    "ar_loadtxt= np.loadtxt('numpetext.txt',delimiter=',')\n",
    "print(ar_loadtxt,ar_loadtxt.dtype)"
   ]
  },
  {
   "cell_type": "code",
   "execution_count": 27,
   "metadata": {},
   "outputs": [
    {
     "name": "stdout",
     "output_type": "stream",
     "text": [
      "[[89 21 18 99 11 75 98  0 59 36]\n",
      " [75  0 92 46 88 23 96 73 21 11]\n",
      " [57 84 27  7 61 89 68 85 58 99]\n",
      " [37 77  8 78 42 23 12 47 48  3]\n",
      " [69 54 46 65 92 10 27 28 46 44]\n",
      " [93 94 99 33 15 22 45 43 54 38]\n",
      " [18 98 37 75  5 25 81 59 96 65]\n",
      " [82 62 84 93 94 96 16 57 89 65]\n",
      " [73 21 36 73 44 90 38 61  6 44]\n",
      " [81 35 50 68 49 72  7 59 97 93]]\n",
      "Finished!\n"
     ]
    }
   ],
   "source": [
    "#章节作业\n",
    "#\t作业1：创建一个10*10的整数随机数组，取值范围为0-100，并存为txt文件，用逗号分开\t\n",
    "import os\n",
    "os.chdir('C:/Users/Administrator/Desktop/python/')\n",
    "ar = np.random.randint(100,size=(10,10))\n",
    "print(ar)\n",
    "#np.savetxt('zuoye.txt',ar,delimiter=',')\n",
    "#np.savetxt('zuoye.txt',ar,delimiter=',')\n",
    "np.savetxt('array.txt',ar,delimiter=',')\n",
    "\n",
    "print('Finished!')\n",
    "\n",
    "# 报错，为啥，后期看老师怎么做的？\n",
    "\n"
   ]
  },
  {
   "cell_type": "code",
   "execution_count": 23,
   "metadata": {},
   "outputs": [
    {
     "name": "stdout",
     "output_type": "stream",
     "text": [
      "[[ 9 57 32 34 14  0 44  9 57 41]\n",
      " [71 29 94 36  1 55 39 48 58 39]\n",
      " [53 48 87  1 45  7 69 22 72 65]\n",
      " [55  4 13 35 40 68 27 46 61 48]\n",
      " [57  6 26 81 82 13 51 53 35  6]\n",
      " [16 74 65 70  6 61 81 75  6 64]\n",
      " [25 41 95 38  3  3 54 35 85 89]\n",
      " [84 32 29 51 76 26 75 60 64 31]\n",
      " [36 13  4 70 75 13 29 70 12 12]\n",
      " [93 51 14 39 52 62 26 83 22 78]] \n",
      "--------\n",
      "finished!\n"
     ]
    }
   ],
   "source": [
    "\n",
    "import os\n",
    "os.chdir('C:/Users/Administrator/Desktop/python/')\n",
    "ar = np.random.randint(100,size=(10,10))\n",
    "print(ar,'\\n--------')\n",
    "np.savetxt('array.txt',ar, delimiter=',',fmt = '%i')\n",
    "print('finished!')"
   ]
  }
 ],
 "metadata": {
  "kernelspec": {
   "display_name": "Python 3",
   "language": "python",
   "name": "python3"
  },
  "language_info": {
   "codemirror_mode": {
    "name": "ipython",
    "version": 3
   },
   "file_extension": ".py",
   "mimetype": "text/x-python",
   "name": "python",
   "nbconvert_exporter": "python",
   "pygments_lexer": "ipython3",
   "version": "3.7.3"
  }
 },
 "nbformat": 4,
 "nbformat_minor": 2
}
