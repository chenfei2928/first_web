{
 "cells": [
  {
   "cell_type": "code",
   "execution_count": 1,
   "metadata": {},
   "outputs": [
    {
     "data": {
      "text/plain": [
       "'\\nNumpy通用函数\\n基本操作\\n'"
      ]
     },
     "execution_count": 1,
     "metadata": {},
     "output_type": "execute_result"
    }
   ],
   "source": [
    "\"\"\"\n",
    "Numpy通用函数\n",
    "基本操作\n",
    "\"\"\""
   ]
  },
  {
   "cell_type": "code",
   "execution_count": 8,
   "metadata": {},
   "outputs": [
    {
     "name": "stdout",
     "output_type": "stream",
     "text": [
      "[0 1 2 3 4 5 6 7 8 9] \n",
      " [0 1 2 3 4 5 6 7 8 9]\n",
      "[[1. 1.]\n",
      " [1. 1.]\n",
      " [1. 1.]\n",
      " [1. 1.]\n",
      " [1. 1.]] \n",
      " [[1. 1. 1. 1. 1.]\n",
      " [1. 1. 1. 1. 1.]]\n"
     ]
    }
   ],
   "source": [
    "# 数组形状 .T/reshape() / .resize()\n",
    "import numpy as np\n",
    "ar1=np.arange(10)\n",
    "print(ar1,'\\n',ar1.T)\n",
    "\n",
    "ar2= np.ones((5,2))\n",
    "print(ar2,'\\n',ar2.T)\n",
    "# .T方法：转置，例如原shape为(3,4)/(4,3,2)\n",
    "        # --->所以一维数组转置后结果不变。\n",
    "\n",
    "\n"
   ]
  },
  {
   "cell_type": "code",
   "execution_count": 12,
   "metadata": {},
   "outputs": [
    {
     "name": "stdout",
     "output_type": "stream",
     "text": [
      "[0 1 2 3 4 5 6 7 8 9] \n",
      " [[0 1 2 3 4]\n",
      " [5 6 7 8 9]]\n",
      "[[0. 0. 0. 0. 0. 0. 0. 0.]\n",
      " [0. 0. 0. 0. 0. 0. 0. 0.]\n",
      " [0. 0. 0. 0. 0. 0. 0. 0.]]\n"
     ]
    }
   ],
   "source": [
    "ar3 = ar1.reshape(2,5)\n",
    "print(ar1,'\\n',ar3)\n",
    "\n",
    "ar4 = np.zeros((4,6)).reshape(3,8)\n",
    "print(ar4)"
   ]
  },
  {
   "cell_type": "code",
   "execution_count": 32,
   "metadata": {},
   "outputs": [
    {
     "name": "stdout",
     "output_type": "stream",
     "text": [
      "[[ 0  1  2  3  4]\n",
      " [ 5  6  7  8  9]\n",
      " [10 11 12 13 14]\n",
      " [15 16 17 18 19]]\n",
      "................\n",
      "[[ 0  1  2  3  4  5]\n",
      " [ 6  7  8  9 10 11]\n",
      " [12 13 14 15 16 17]\n",
      " [18 19  0  1  2  3]\n",
      " [ 4  5  6  7  8  9]] \n",
      "-------\n"
     ]
    }
   ],
   "source": [
    "#作业1：创建一个20个元素的数组，分别改变成两个形状：(4,5),(5,6) （提示：超出范围用resize）\n",
    "\n",
    "ar1 =np.arange(20)\n",
    "\n",
    "ar2=ar1.reshape(4,5)\n",
    "print(ar2)\n",
    "print('................')\n",
    "\n",
    "print(np.resize(ar1,(5,6)), '\\n-------')\n",
    "\n",
    "   #    resize:给定一个数组，和特定维度，将会返回一个给定维度形式的新数组。\n",
    "    #   如果新数组比原数组大，则将会copy原数组中的值对新数组进行填充"
   ]
  },
  {
   "cell_type": "code",
   "execution_count": 33,
   "metadata": {},
   "outputs": [
    {
     "name": "stdout",
     "output_type": "stream",
     "text": [
      "[[ 0  1  2  3]\n",
      " [ 4  5  6  7]\n",
      " [ 8  9 10 11]\n",
      " [12 13 14 15]]\n",
      "[['0' '1' '2' '3']\n",
      " ['4' '5' '6' '7']\n",
      " ['8' '9' '10' '11']\n",
      " ['12' '13' '14' '15']]\n"
     ]
    }
   ],
   "source": [
    "#作业2：创建一个(4,4)的数组，把其元素类型改为字符型\n",
    "ar =np.arange(16).reshape(4,4)\n",
    "print(ar)\n",
    "\n",
    "    #字符类型修改，不会\n",
    "\n"
   ]
  },
  {
   "cell_type": "code",
   "execution_count": 29,
   "metadata": {},
   "outputs": [
    {
     "name": "stdout",
     "output_type": "stream",
     "text": [
      "[[ 0  1  2  3]\n",
      " [ 4  5  6  7]\n",
      " [ 8  9 10 11]\n",
      " [12 13 14 15]]\n",
      "----------------------------------------\n",
      "[[100 110 120 130]\n",
      " [140 150 160 170]\n",
      " [180 190 200 210]\n",
      " [220 230 240 250]]\n",
      "----------------------------------------\n",
      "2800\n",
      "175.0\n"
     ]
    }
   ],
   "source": [
    "#作业3：根据要求创建数组，运用数组的运算方法得到结果：result = ar * 10 +100，并求出result的均值及求和\n",
    "\n",
    "ar =np.arange(16).reshape(4,4)\n",
    "print(ar)\n",
    "print('--'*20)\n",
    "ar2= ar*10+100\n",
    "print(ar2)\n",
    "print('--'*20)\n",
    "print(ar2.sum())   #数组求和\n",
    "\n",
    "    \n",
    "print(ar2.mean())   # 数组平均值"
   ]
  }
 ],
 "metadata": {
  "kernelspec": {
   "display_name": "Python 3",
   "language": "python",
   "name": "python3"
  },
  "language_info": {
   "codemirror_mode": {
    "name": "ipython",
    "version": 3
   },
   "file_extension": ".py",
   "mimetype": "text/x-python",
   "name": "python",
   "nbconvert_exporter": "python",
   "pygments_lexer": "ipython3",
   "version": "3.7.3"
  }
 },
 "nbformat": 4,
 "nbformat_minor": 2
}
