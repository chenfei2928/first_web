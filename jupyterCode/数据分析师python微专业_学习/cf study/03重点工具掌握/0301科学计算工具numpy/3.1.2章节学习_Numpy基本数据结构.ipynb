{
 "cells": [
  {
   "cell_type": "code",
   "execution_count": 3,
   "metadata": {},
   "outputs": [
    {
     "data": {
      "text/plain": [
       "'\\nNumpy基础数据结构\\n\\nNumpy数组是一个多维数组对象，称为ndarray。由两部分组成\\n① 实际的数据\\n② 描述这些数据的元数据\\n\\n'"
      ]
     },
     "execution_count": 3,
     "metadata": {},
     "output_type": "execute_result"
    }
   ],
   "source": [
    "\"\"\"\n",
    "Numpy基础数据结构\n",
    "\n",
    "Numpy数组是一个多维数组对象，称为ndarray。由两部分组成\n",
    "① 实际的数据\n",
    "② 描述这些数据的元数据\n",
    "\n",
    "\"\"\""
   ]
  },
  {
   "cell_type": "code",
   "execution_count": 17,
   "metadata": {},
   "outputs": [
    {
     "name": "stdout",
     "output_type": "stream",
     "text": [
      "[1 2 3 4 5 6 7]\n",
      "1\n",
      "(7,)\n",
      "7\n",
      "int32\n",
      "4\n",
      "<memory at 0x00000000087C81C8>\n"
     ]
    },
    {
     "data": {
      "text/plain": [
       "array([1, 2, 3, 4, 5, 6, 7])"
      ]
     },
     "execution_count": 17,
     "metadata": {},
     "output_type": "execute_result"
    }
   ],
   "source": [
    "#多维数组 ndarray\n",
    "\n",
    "import numpy as np\n",
    "\n",
    "ar = np.array([1,2,3,4,5,6,7])\n",
    "print(ar)\n",
    "    #输出数组，注意数组的格式：中括号，元素之间没有逗号。（和列表区分）\n",
    "print(ar.ndim)\n",
    "    #输出数组维度的个数（轴数），或者说“秩”维度的数量也称为rank\n",
    "print(ar.shape)\n",
    "    #数组的维度，对于n行m列的数组，shape为（n,m）\n",
    "print(ar.size)\n",
    "    #数组的元素总数，对于n行m列的数组，元素总数为n*m\n",
    "print(ar.dtype)\n",
    "    #数组中元素的类型，类似type()注意了，type()是函数，.dtype是方法\n",
    "print(ar.itemsize)\n",
    "    #数组中每个元素的字节大小，int321类型字节为4，float64的字节为8；\n",
    "    #有空B站，看下《头号玩家》\n",
    "print(ar.data)\n",
    "    #包含实际数组元素的缓冲区，由于一般通过数组的索引获取元素，\n",
    "    #所以同城不要使用这个属性\n",
    "ar  \n",
    "    #交互方式下输出，会有array（数组）\n",
    "\n",
    "#数组的基本属性\n",
    "#①数组的维数称为秩（rank），一维数组的秩为1，二维数组的秩为2，以此类推。\n",
    "#②在Numpy中，每一个线性的数组称为一个轴（axe5），秩其实是描述轴的数量。\n",
    "# 比如说，二维数组相当于两个一维数组，其中一个一维数组中每个元素\n",
    "#又是一个一维数组；所以说一维数组就是Numpy中的轴（axes），第一个轴相当于是\n",
    "#底层数组，第二个轴是底层数组里的数组。\n",
    "#而轴的数量 秩，就是数组的维度。\n"
   ]
  },
  {
   "cell_type": "code",
   "execution_count": 23,
   "metadata": {},
   "outputs": [
    {
     "name": "stdout",
     "output_type": "stream",
     "text": [
      "[0 1 2 3 4 5 6 7 8 9] <class 'numpy.ndarray'> int32\n",
      "[1.   2.   3.14 4.   5.  ] <class 'numpy.ndarray'> float64\n",
      "[['1' '2' '3']\n",
      " ['a' 'b' 'c']] (2, 3) 2 6\n",
      "[list([1, 2, 3]) ('a', 'b', 'c', 'd')] (2,) 1 2\n"
     ]
    }
   ],
   "source": [
    "#创建数组：array（函数），括号内可以是列表、元祖、数组、生成器等\n",
    "\n",
    "ar1 = np.array(range(10))   # 整型\n",
    "print(ar1,type(ar1),ar1.dtype)\n",
    "\n",
    "ar2 = np.array([1,2,3.14,4,5])  # 浮点型\n",
    "print(ar2,type(ar2),ar2.dtype)\n",
    "\n",
    "ar3 = np.array([[1,2,3],('a','b','c')])\n",
    "print(ar3,ar3.shape,ar3.ndim,ar3.size)\n",
    "\n",
    "ar4 = np.array([[1,2,3],('a','b','c','d')])\n",
    "print(ar4,ar4.shape,ar4.ndim,ar4.size)\n"
   ]
  },
  {
   "cell_type": "code",
   "execution_count": 30,
   "metadata": {},
   "outputs": [
    {
     "name": "stdout",
     "output_type": "stream",
     "text": [
      "[0 1 2 3 4 5 6 7 8 9]\n",
      "[0. 1. 2. 3. 4. 5. 6. 7. 8. 9.]\n",
      "[ 5  6  7  8  9 10 11]\n",
      "[ 5.  7.  9. 11.]\n",
      "[ 5.  7.  9. 11.]\n",
      "[   0    1    2 ... 9997 9998 9999]\n"
     ]
    }
   ],
   "source": [
    "#创建数组：arange(),类似range(),在给定间隔内返回均匀间隔的值。\n",
    "print(np.arange(10))   #返回整数\n",
    "print(np.arange(10.0)) #返回浮点型\n",
    "print(np.arange(5,12)) #返回5-11，切片\n",
    "print(np.arange(5.0,12,2))   #步长\n",
    "print(np.arange(5,12.0,2))   #步长\n",
    "\n",
    "print(np.arange(10000))\n",
    "# 如果数组太大而无法打印，Numpy会自动跳过数组的中心部分，并只打印边角\n"
   ]
  },
  {
   "cell_type": "code",
   "execution_count": 36,
   "metadata": {},
   "outputs": [
    {
     "name": "stdout",
     "output_type": "stream",
     "text": [
      "[2.   2.25 2.5  2.75 3.  ] <class 'numpy.ndarray'>\n",
      "[2.   2.25 2.5  2.75 3.  ] <class 'numpy.ndarray'>\n",
      "[2.  2.2 2.4 2.6 2.8] <class 'numpy.ndarray'>\n",
      "(array([2.  , 2.25, 2.5 , 2.75, 3.  ]), 0.25) <class 'tuple'>\n"
     ]
    }
   ],
   "source": [
    "# 创建数组：linspace():返回在间隔(开始，停止)上计算的num个均匀间隔的样本。\n",
    "\n",
    "ar1 = np.linspace(2.0,3.0, num=5)\n",
    "print(ar1,type(ar1))\n",
    "\n",
    "ar11 = np.linspace(2.0,3.0, num=5)\n",
    "print(ar11,type(ar11))\n",
    "\n",
    "ar2 = np.linspace(2.0,3.0, num=5,endpoint=False)\n",
    "print(ar2,type(ar2))\n",
    "\n",
    "ar3 = np.linspace(2.0,3.0,num=5,retstep=True)\n",
    "print(ar3,type(ar3)) \n",
    "\n",
    "#numply.linspace(start,stop,num=5,endpoint=True,retstep=False,dtype=None)\n",
    "# start 起始值\n",
    "# stop 结束值\n",
    "# num 生成样本数量，默认为5\n",
    "# endpoint 如果为真，则停止是最后一个样本。否则，不包括在内，默认值为True\\\n",
    "\n",
    "#retstep 如果为真，返回（样本，步骤），其中步长是样本之间的间距。—>\n",
    "# 输出为一个包含2个元素的元祖，第一个元素为array，第二个为实际步长\n"
   ]
  },
  {
   "cell_type": "code",
   "execution_count": 47,
   "metadata": {},
   "outputs": [
    {
     "name": "stdout",
     "output_type": "stream",
     "text": [
      "[0. 0. 0. 0. 0.] int32\n",
      "[[0 0]\n",
      " [0 0]] int32\n",
      "-----------------\n",
      "[[0 1 2 3 4]\n",
      " [5 6 7 8 9]]\n",
      "[[0 0 0 0 0]\n",
      " [0 0 0 0 0]]\n",
      "-----------------\n",
      "[1. 1. 1. 1. 1. 1. 1. 1. 1.]\n",
      "[[[1. 1. 1. 1.]\n",
      "  [1. 1. 1. 1.]\n",
      "  [1. 1. 1. 1.]]\n",
      "\n",
      " [[1. 1. 1. 1.]\n",
      "  [1. 1. 1. 1.]\n",
      "  [1. 1. 1. 1.]]]\n",
      "[[1 1 1 1 1]\n",
      " [1 1 1 1 1]]\n"
     ]
    }
   ],
   "source": [
    "# 创建数组 zeros()/  zereos_like()/ones()/onses_like()\n",
    "\n",
    "ar1 = np.zeros(5)\n",
    "print(ar1,ar2.dtype)\n",
    "ar2 = np.zeros((2,2),dtype=np.int)\n",
    "print(ar2,ar2.dtype)\n",
    "print('-----------------') \n",
    "# numpy.zeros(shape,dtype=float,order='c');返回给定形状和类型的新数组，用零填充。\n",
    "# shape 数组维度，二维以上需要用（），且输入参数为整数\n",
    "# dtype 数据类型，默认numpy.float64\n",
    "# order：是否在存储器中以C或fortran连续（按行或者列方式）存储多维数据\n",
    "\n",
    "ar3 = np.array([list(range(5)),list(range(5,10))])\n",
    "print(ar3)\n",
    "ar4 = np.zeros_like(ar3)\n",
    "print(ar4)\n",
    "print('-----------------')\n",
    "    # 返回具有与给定数组相同的形状和类型的零数组，这里ar4根据ar3的形状和dtyp创建一个全0的数组\n",
    "\n",
    "ar5 = np.ones(9)\n",
    "print(ar5)\n",
    "ar6= np.ones((2,3,4))\n",
    "print(ar6)\n",
    "ar7 = np.ones_like(ar3)\n",
    "print(ar7)\n",
    "\n",
    "   # ones()/ ones_like()//zero_like()一样，只是填充为1；"
   ]
  },
  {
   "cell_type": "code",
   "execution_count": 51,
   "metadata": {},
   "outputs": [
    {
     "name": "stdout",
     "output_type": "stream",
     "text": [
      "[[1. 0. 0. 0. 0.]\n",
      " [0. 1. 0. 0. 0.]\n",
      " [0. 0. 1. 0. 0.]\n",
      " [0. 0. 0. 1. 0.]\n",
      " [0. 0. 0. 0. 1.]]\n"
     ]
    }
   ],
   "source": [
    "# 创建数组：eye()\n",
    "print(np.eye(5))\n",
    "    #创建一个正方形的N*N的单位矩阵，对角线值为1，其余为0；"
   ]
  },
  {
   "cell_type": "code",
   "execution_count": 52,
   "metadata": {},
   "outputs": [
    {
     "data": {
      "text/plain": [
       "'\\nndarray的数据类型\\n\\nbool 用一个字节存储的布尔类型（True或False）\\n\\ninti 由所在平台决定其大小的整数（一般为int32或int64）\\n\\nint8 一个字节大小，-128 至 127\\n\\nint16 整数，-32768 至 32767\\n\\nint32 整数，-2 ** 31 至 2 ** 32 -1\\n\\nint64 整数，-2 ** 63 至 2 ** 63 - 1\\n\\nuint8 无符号整数，0 至 255\\n\\nuint16 无符号整数，0 至 65535\\n\\nuint32 无符号整数，0 至 2 ** 32 - 1\\n\\nuint64 无符号整数，0 至 2 ** 64 - 1\\n\\nfloat16 半精度浮点数：16位，正负号1位，指数5位，精度10位\\n\\nfloat32 单精度浮点数：32位，正负号1位，指数8位，精度23位\\n\\nfloat64或float 双精度浮点数：64位，正负号1位，指数11位，精度52位\\n\\ncomplex64 复数，分别用两个32位浮点数表示实部和虚部\\n\\ncomplex128或complex 复数，分别用两个64位浮点数表示实部和虚部\\n'"
      ]
     },
     "execution_count": 52,
     "metadata": {},
     "output_type": "execute_result"
    }
   ],
   "source": [
    "'''\n",
    "ndarray的数据类型\n",
    "\n",
    "bool 用一个字节存储的布尔类型（True或False）\n",
    "\n",
    "inti 由所在平台决定其大小的整数（一般为int32或int64）\n",
    "\n",
    "int8 一个字节大小，-128 至 127\n",
    "\n",
    "int16 整数，-32768 至 32767\n",
    "\n",
    "int32 整数，-2 ** 31 至 2 ** 32 -1\n",
    "\n",
    "int64 整数，-2 ** 63 至 2 ** 63 - 1\n",
    "\n",
    "uint8 无符号整数，0 至 255\n",
    "\n",
    "uint16 无符号整数，0 至 65535\n",
    "\n",
    "uint32 无符号整数，0 至 2 ** 32 - 1\n",
    "\n",
    "uint64 无符号整数，0 至 2 ** 64 - 1\n",
    "\n",
    "float16 半精度浮点数：16位，正负号1位，指数5位，精度10位\n",
    "\n",
    "float32 单精度浮点数：32位，正负号1位，指数8位，精度23位\n",
    "\n",
    "float64或float 双精度浮点数：64位，正负号1位，指数11位，精度52位\n",
    "\n",
    "complex64 复数，分别用两个32位浮点数表示实部和虚部\n",
    "\n",
    "complex128或complex 复数，分别用两个64位浮点数表示实部和虚部\n",
    "'''"
   ]
  },
  {
   "cell_type": "code",
   "execution_count": 58,
   "metadata": {},
   "outputs": [
    {
     "name": "stdout",
     "output_type": "stream",
     "text": [
      "[1 2 'a' 'hello' list([1, 2, 3]) {'two': 200, 'oen': 100}]\n",
      "(6,)\n",
      "[['0' '1' '2' '3' '4' '5']\n",
      " ['a' 'b' 'c' 'd' 'e' 'f']\n",
      " ['True' 'False' 'True' 'Fasle' 'True' 'Ture']]\n",
      "(3, 6)\n"
     ]
    }
   ],
   "source": [
    "#作业1：分别按照要求，生成一个一维数组、二维数组，并且查看其shape\n",
    "\n",
    "import numpy as np\n",
    "\n",
    "ar= np.array([1,2,'a','hello',[1,2,3],{'two':200,'oen':100} ])\n",
    "print(ar)\n",
    "print(ar.shape)\n",
    "\n",
    "ar2 =np.array([['0','1','2','3','4','5'],['a','b','c','d','e','f'],['True','False','True','Fasle','True','Ture']])\n",
    "print(ar2)\n",
    "print(ar2.shape)\n"
   ]
  },
  {
   "cell_type": "code",
   "execution_count": 61,
   "metadata": {},
   "outputs": [
    {
     "name": "stdout",
     "output_type": "stream",
     "text": [
      "[ 5  6  7  8  9 10 11 12 13 14]\n"
     ]
    }
   ],
   "source": [
    "#作业2：生成一个一维数组，起始值为5，终点值为15，样本数为10个\n",
    "\n",
    "ar=np.arange(5,15)\n",
    "print(ar)"
   ]
  },
  {
   "cell_type": "code",
   "execution_count": 68,
   "metadata": {},
   "outputs": [
    {
     "name": "stdout",
     "output_type": "stream",
     "text": [
      "[[0. 0. 0. 0.]\n",
      " [0. 0. 0. 0.]\n",
      " [0. 0. 0. 0.]\n",
      " [0. 0. 0. 0.]] \n",
      "..............\n",
      "[[1. 1. 1.]\n",
      " [1. 1. 1.]] \n",
      "...............\n",
      "[[1. 0. 0.]\n",
      " [0. 1. 0.]\n",
      " [0. 0. 1.]] \n",
      "...............\n"
     ]
    }
   ],
   "source": [
    "#作业3：按照要求创建以下数组\n",
    "    #思考，除了用np.array直接创建，能否根据规则创建；\n",
    "    \n",
    "print(np.zeros((4,4)),'\\n..............')\n",
    "print(np.ones((2,3)),'\\n...............')\n",
    "\n",
    "print(np.eye((3)),'\\n...............')\n"
   ]
  }
 ],
 "metadata": {
  "kernelspec": {
   "display_name": "Python 3",
   "language": "python",
   "name": "python3"
  },
  "language_info": {
   "codemirror_mode": {
    "name": "ipython",
    "version": 3
   },
   "file_extension": ".py",
   "mimetype": "text/x-python",
   "name": "python",
   "nbconvert_exporter": "python",
   "pygments_lexer": "ipython3",
   "version": "3.7.3"
  }
 },
 "nbformat": 4,
 "nbformat_minor": 2
}
