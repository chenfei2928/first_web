{
 "cells": [
  {
   "cell_type": "code",
   "execution_count": 3,
   "metadata": {},
   "outputs": [
    {
     "data": {
      "text/plain": [
       "'\\nPandas数据结构 Series:索引\\n\\n位置下标 / 标签索引 / 切片索引 / 布尔型索引\\n\\n'"
      ]
     },
     "execution_count": 3,
     "metadata": {},
     "output_type": "execute_result"
    }
   ],
   "source": [
    "'''\n",
    "Pandas数据结构 Series:索引\n",
    "\n",
    "位置下标 / 标签索引 / 切片索引 / 布尔型索引\n",
    "\n",
    "'''\n"
   ]
  },
  {
   "cell_type": "code",
   "execution_count": 10,
   "metadata": {},
   "outputs": [
    {
     "name": "stdout",
     "output_type": "stream",
     "text": [
      "0    0.722502\n",
      "1    0.526753\n",
      "2    0.991227\n",
      "3    0.596625\n",
      "4    0.154700\n",
      "dtype: float64\n",
      "0.7225021454979509 <class 'numpy.float64'> float64\n",
      "0.7225021454979509 <class 'float'>\n"
     ]
    }
   ],
   "source": [
    "# 位置下标，类似序列\n",
    "\n",
    "import pandas as pd\n",
    "import numpy as np\n",
    "\n",
    "s = pd.Series(np.random.rand(5))\n",
    "print(s)\n",
    "print(s[0],type(s[0]),s[0].dtype)\n",
    "\n",
    "print(float(s[0]),type(float(s[0])))\n",
    "    # 位置下标从0开始；\n",
    "    # 输出结果我numpy .float 格式；\n",
    "    # 可以通过float()函数转换为 python float 格式\n",
    "    # numpy.float 与float 占用字节不同；\n",
    "    # s[-1]结果如何？ 下标必须从0开始，最小值是0；\n"
   ]
  },
  {
   "cell_type": "code",
   "execution_count": 13,
   "metadata": {},
   "outputs": [
    {
     "name": "stdout",
     "output_type": "stream",
     "text": [
      "a    0.742813\n",
      "b    0.691091\n",
      "c    0.987183\n",
      "d    0.276558\n",
      "e    0.076226\n",
      "dtype: float64\n",
      "0.7428131077687333 <class 'numpy.float64'> float64\n",
      "a    0.742813\n",
      "b    0.691091\n",
      "e    0.076226\n",
      "dtype: float64 <class 'pandas.core.series.Series'>\n"
     ]
    }
   ],
   "source": [
    "# 标签索引\n",
    "\n",
    "s = pd.Series(np.random.rand(5),index =['a','b','c','d','e'])\n",
    "print(s)\n",
    "print(s['a'],type(s['a']),s['a'].dtype)\n",
    "    # 方法类似下标索引，用[]表示，内写上index,注意index是字符串；\n",
    "\n",
    "sci = s[['a','b','e']]\n",
    "print(sci,type(sci))\n"
   ]
  },
  {
   "cell_type": "code",
   "execution_count": 23,
   "metadata": {},
   "outputs": [
    {
     "name": "stdout",
     "output_type": "stream",
     "text": [
      "0    0.274168\n",
      "1    0.012202\n",
      "2    0.986356\n",
      "3    0.659344\n",
      "4    0.420948\n",
      "dtype: float64\n",
      "1    0.012202\n",
      "2    0.986356\n",
      "3    0.659344\n",
      "dtype: float64 0.42094776134374656\n",
      "------------------------------------------------------------\n",
      "a    0.265222\n",
      "b    0.784980\n",
      "c    0.866451\n",
      "dtype: float64 0.8664505811162759\n",
      "------------------------------------------------------------\n",
      "a    0.265222\n",
      "b    0.784980\n",
      "c    0.866451\n",
      "dtype: float64 0.759731136180421\n",
      "------------------------------------------------------------\n",
      "a    0.265222\n",
      "b    0.784980\n",
      "c    0.866451\n",
      "d    0.759731\n",
      "dtype: float64\n",
      "a    0.265222\n",
      "c    0.866451\n",
      "e    0.886885\n",
      "dtype: float64\n"
     ]
    }
   ],
   "source": [
    "# 切片索引\n",
    "\n",
    "s1 = pd.Series(np.random.rand(5))\n",
    "s2 = pd.Series(np.random.rand(5),index = ['a','b','c','d','e'])\n",
    "print(s1)\n",
    "print(s1[1:4],s1[4])\n",
    "print('---'*20)\n",
    "print(s2['a':'c'],s2['c'])\n",
    "print('---'*20)\n",
    "print(s2[0:3],s2[3])\n",
    "    # 注意：用index做切片是末端包含\n",
    "print('---'*20)\n",
    "print(s2[:-1])\n",
    "print(s2[::2])\n"
   ]
  },
  {
   "cell_type": "code",
   "execution_count": 36,
   "metadata": {},
   "outputs": [
    {
     "name": "stdout",
     "output_type": "stream",
     "text": [
      "0    44.905540\n",
      "1     7.383065\n",
      "2    14.307828\n",
      "3    12.281472\n",
      "4    74.358761\n",
      "dtype: float64\n",
      "0    44.905540\n",
      "1     7.383065\n",
      "2    14.307828\n",
      "3    12.281472\n",
      "4          NaN\n",
      "dtype: float64\n",
      "________________________________________\n",
      "0    False\n",
      "1    False\n",
      "2    False\n",
      "3    False\n",
      "4    False\n",
      "dtype: bool <class 'pandas.core.series.Series'> bool\n",
      "________________________________________\n",
      "0    False\n",
      "1    False\n",
      "2    False\n",
      "3    False\n",
      "4     True\n",
      "dtype: bool <class 'pandas.core.series.Series'> bool\n",
      "________________________________________\n",
      "0     True\n",
      "1     True\n",
      "2     True\n",
      "3     True\n",
      "4    False\n",
      "dtype: bool <class 'pandas.core.series.Series'> bool\n",
      "Series([], dtype: float64)\n",
      "________________________________________\n",
      "0    44.905540\n",
      "1     7.383065\n",
      "2    14.307828\n",
      "3    12.281472\n",
      "dtype: float64\n"
     ]
    }
   ],
   "source": [
    "# 布尔型索引\n",
    "\n",
    "s = pd.Series(np.random.rand(5)*100)\n",
    "print(s)  #添加一个空值\n",
    "s[4]=None\n",
    "print(s)\n",
    "print('__'*20)\n",
    "bs1 = s > 50\n",
    "bs2 = s.isnull()\n",
    "bs3= s.notnull()\n",
    "print(bs1,type(bs1),bs1.dtype)\n",
    "print('__'*20)\n",
    "print(bs2,type(bs2),bs2.dtype)\n",
    "print('__'*20)\n",
    "print(bs3,type(bs3),bs3.dtype)\n",
    "    # 数据做判断之后，返回的是一个由布尔值组成的新的数组；\n",
    "    # .isnull() / .notnull() 判断是否为空值。（None代办空值，NaN代办有问题的数值，两个都会识别为空值）\n",
    "\n",
    "print(s[s>50])\n",
    "print('__'*20)\n",
    "print(s[bs3])\n",
    "    # 布尔型索引方法，用【判断条件】表示，其中判断条件可以是一个语句，或者是一个 布尔型数组。\n",
    "    "
   ]
  },
  {
   "cell_type": "code",
   "execution_count": 44,
   "metadata": {},
   "outputs": [
    {
     "name": "stdout",
     "output_type": "stream",
     "text": [
      "a    79.358835\n",
      "b    93.063979\n",
      "c    19.271403\n",
      "d    88.469788\n",
      "e    94.178754\n",
      "f    86.936612\n",
      "g    71.332138\n",
      "h    16.131740\n",
      "i    52.633382\n",
      "j    30.564411\n",
      "dtype: float64\n",
      "____________________________________________________________\n",
      "79.35883515864826 19.271403192480953\n",
      "____________________________________________________________\n",
      "d    88.469788\n",
      "e    94.178754\n",
      "f    86.936612\n",
      "dtype: float64\n",
      "____________________________________________________________\n",
      "a    79.358835\n",
      "b    93.063979\n",
      "d    88.469788\n",
      "e    94.178754\n",
      "f    86.936612\n",
      "g    71.332138\n",
      "i    52.633382\n",
      "dtype: float64\n"
     ]
    }
   ],
   "source": [
    "#章节小作业\n",
    "#作业1：创建一个Series，包含10个元素，且每个值为0-100的均匀分布随机值，index为a-j，请分别筛选出：\n",
    "#① 标签为b，c的值为多少\n",
    "#② Series中第4到6个值是哪些？\n",
    "#③ Series中大于50的值有哪些？\n",
    "\n",
    "s = pd.Series(np.random.rand(10)*100,index = ['a','b','c','d','e','f','g','h','i','j'])\n",
    "#s = pd.Series(np.random.rand(10)*100, index = list('abcdefghij'))\n",
    "        #用list 创建 index 明细效率更高；\n",
    "\n",
    "print(s)\n",
    "print('___'*20)\n",
    "print(s['a'],s['c'])\n",
    "print('___'*20)\n",
    "print(s[3:6])\n",
    "print('___'*20)\n",
    "print(s[s>50])\n"
   ]
  }
 ],
 "metadata": {
  "kernelspec": {
   "display_name": "Python 3",
   "language": "python",
   "name": "python3"
  },
  "language_info": {
   "codemirror_mode": {
    "name": "ipython",
    "version": 3
   },
   "file_extension": ".py",
   "mimetype": "text/x-python",
   "name": "python",
   "nbconvert_exporter": "python",
   "pygments_lexer": "ipython3",
   "version": "3.7.3"
  }
 },
 "nbformat": 4,
 "nbformat_minor": 2
}
