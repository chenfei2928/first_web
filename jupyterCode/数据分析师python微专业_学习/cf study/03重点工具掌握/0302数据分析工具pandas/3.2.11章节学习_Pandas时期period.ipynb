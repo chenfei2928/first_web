{
 "cells": [
  {
   "cell_type": "code",
   "execution_count": 4,
   "metadata": {},
   "outputs": [
    {
     "data": {
      "text/plain": [
       "'\\nPandas时期：period\\n核心 pd.Period\\n'"
      ]
     },
     "execution_count": 4,
     "metadata": {},
     "output_type": "execute_result"
    }
   ],
   "source": [
    "\"\"\"\n",
    "Pandas时期：period\n",
    "核心 pd.Period\n",
    "\"\"\""
   ]
  },
  {
   "cell_type": "code",
   "execution_count": 2,
   "metadata": {},
   "outputs": [],
   "source": [
    "import pandas as pd"
   ]
  },
  {
   "cell_type": "code",
   "execution_count": 10,
   "metadata": {},
   "outputs": [
    {
     "name": "stdout",
     "output_type": "stream",
     "text": [
      "2017-01 <class 'pandas._libs.tslibs.period.Period'>\n",
      "2017-02\n",
      "2016-12\n",
      "2011\n"
     ]
    }
   ],
   "source": [
    "# pd.Period()创建时期\n",
    "\n",
    "p = pd.Period('2017',freq='M')\n",
    "print(p,type(p))\n",
    "    # 生成一个以2017-01开始，月为频率的时间构造器\n",
    "    # pd.Period()参数： 一个时间戳 + freq 参数\n",
    "    #  freq用于指明该Period的长度，时间戳则则说明该period在时间轴上的位置\n",
    "print(p+1)\n",
    "print(p-1)\n",
    "print(pd.Period('2012',freq='A-DEC')-1)\n",
    "    # 通过加减整数，将周期整体移动\n",
    "    # 这里是按照 月、 年移动；\n",
    "    "
   ]
  },
  {
   "cell_type": "code",
   "execution_count": 18,
   "metadata": {},
   "outputs": [
    {
     "name": "stdout",
     "output_type": "stream",
     "text": [
      "PeriodIndex(['2011-01', '2011-02', '2011-03', '2011-04', '2011-05', '2011-06',\n",
      "             '2011-07', '2011-08', '2011-09', '2011-10', '2011-11', '2011-12',\n",
      "             '2012-01'],\n",
      "            dtype='period[M]', freq='M') <class 'pandas.core.indexes.period.PeriodIndex'>\n",
      "分割线-----------1------------------------------\n",
      "2011-01 <class 'pandas._libs.tslibs.period.Period'>\n",
      "分割线-----------2------------------------------\n",
      "2011-01    0.866442\n",
      "2011-02    0.457338\n",
      "2011-03    0.035116\n",
      "2011-04    0.372927\n",
      "2011-05    0.167587\n",
      "2011-06    0.613905\n",
      "2011-07    0.679136\n",
      "2011-08    0.884737\n",
      "2011-09    0.359431\n",
      "2011-10    0.002752\n",
      "2011-11    0.189475\n",
      "2011-12    0.468280\n",
      "2012-01    0.266184\n",
      "Freq: M, dtype: float64 <class 'pandas.core.series.Series'>\n",
      "分割线-----------3------------------------------\n",
      "PeriodIndex(['2011-01', '2011-02', '2011-03', '2011-04', '2011-05', '2011-06',\n",
      "             '2011-07', '2011-08', '2011-09', '2011-10', '2011-11', '2011-12',\n",
      "             '2012-01'],\n",
      "            dtype='period[M]', freq='M')\n"
     ]
    }
   ],
   "source": [
    "# pd.period_range()创建时期范围\n",
    "\n",
    "prng= pd.period_range('1/1/2011','1/1/2012',freq='M')\n",
    "print(prng,type(prng))\n",
    "print('分割线-----------1------------------------------')\n",
    "print(prng[0],type(prng[0]))\n",
    "    # 数据格式为PeriodIndex，单个数值为Period\n",
    "print('分割线-----------2------------------------------')\n",
    "\n",
    "import numpy as np\n",
    "ts = pd.Series(np.random.rand(len(prng)),index=prng)\n",
    "print(ts,type(ts))\n",
    "print('分割线-----------3------------------------------')\n",
    "\n",
    "print(ts.index)\n",
    "   # 时间序列\n"
   ]
  },
  {
   "cell_type": "code",
   "execution_count": 28,
   "metadata": {},
   "outputs": [
    {
     "name": "stdout",
     "output_type": "stream",
     "text": [
      "2017\n",
      "2017-01\n",
      "2017-12\n",
      "----------------------分割线------------------------------\n",
      "2017-01    0.758749\n",
      "2017-02    0.228902\n",
      "2017-03    0.760596\n",
      "2017-04    0.720530\n",
      "2017-05    0.659549\n",
      "Freq: M, dtype: float64 13\n",
      "----------------------分割线--2----------------------------\n",
      "2017-01-01    0.881614\n",
      "2017-02-01    0.116355\n",
      "2017-03-01    0.648229\n",
      "2017-04-01    0.836239\n",
      "2017-05-01    0.482999\n",
      "Freq: D, dtype: float64 13\n"
     ]
    }
   ],
   "source": [
    "# asfreq: 频率转换\n",
    "\n",
    "p = pd.Period('2017',\"A-DEC\")\n",
    "print(p)\n",
    "\n",
    "print(p.asfreq('M',how='start'))\n",
    "print(p.asfreq('M',how='end')) \n",
    "# 通过.asfreq(freq, method=None, how=None)方法转换成别的频率\n",
    "print('----------------------分割线------------------------------')\n",
    "\n",
    "prng=pd.period_range('2017','2018',freq='M')\n",
    "ts1=pd.Series(np.random.rand(len(prng)),index=prng)\n",
    "print(ts1.head(),len(ts1))\n",
    "print('----------------------分割线--2----------------------------')\n",
    "ts2=pd.Series(np.random.rand(len(prng)),index=prng.asfreq('D',how='start'))\n",
    "print(ts2.head(),len(ts2))\n",
    "# asfreq也可以转换 TIMESeries 的index"
   ]
  },
  {
   "cell_type": "code",
   "execution_count": 31,
   "metadata": {},
   "outputs": [
    {
     "name": "stdout",
     "output_type": "stream",
     "text": [
      "2017-01-31    0.479852\n",
      "2017-02-28    0.243284\n",
      "2017-03-31    0.930812\n",
      "2017-04-30    0.809295\n",
      "2017-05-31    0.487989\n",
      "Freq: M, dtype: float64\n",
      "2017-01    0.479852\n",
      "2017-02    0.243284\n",
      "2017-03    0.930812\n",
      "2017-04    0.809295\n",
      "2017-05    0.487989\n",
      "Freq: M, dtype: float64\n",
      "..............................................\n",
      "<bound method NDFrame.head of 2017-01-31    0.479852\n",
      "2017-02-28    0.243284\n",
      "2017-03-31    0.930812\n",
      "2017-04-30    0.809295\n",
      "2017-05-31    0.487989\n",
      "2017-06-30    0.457588\n",
      "2017-07-31    0.347435\n",
      "2017-08-31    0.015672\n",
      "2017-09-30    0.083454\n",
      "2017-10-31    0.950260\n",
      "Freq: M, dtype: float64>\n",
      "2017-01-01    0.796739\n",
      "2017-02-01    0.035298\n",
      "2017-03-01    0.081052\n",
      "2017-04-01    0.483711\n",
      "2017-05-01    0.786953\n",
      "Freq: MS, dtype: float64\n"
     ]
    }
   ],
   "source": [
    "# '时间戳与时期之间的转换'：pd.to_period()、pd.to_timestamp()\n",
    "\n",
    "rng=pd.date_range('2017/1/1',periods=10,freq='M')\n",
    "prng= pd.period_range('2017','2018',freq='M')\n",
    "\n",
    "ts1=pd.Series(np.random.rand(len(rng)),index=rng)\n",
    "print(ts1.head())\n",
    "print(ts1.to_period().head())\n",
    "print('..............................................')\n",
    "ts2=pd.Series(np.random.rand(len(prng)),index=prng)\n",
    "print(ts1.head)\n",
    "print(ts2.to_timestamp().head())\n",
    "# 每月，转化为每月第一天\n"
   ]
  },
  {
   "cell_type": "code",
   "execution_count": 10,
   "metadata": {},
   "outputs": [
    {
     "name": "stdout",
     "output_type": "stream",
     "text": [
      "PeriodIndex(['2017-01', '2017-02', '2017-03', '2017-04', '2017-05'], dtype='period[M]', freq='M')\n",
      "2017-01    0.912296\n",
      "2017-02    0.109808\n",
      "2017-03    0.605339\n",
      "2017-04    0.393888\n",
      "2017-05    0.253507\n",
      "Freq: M, dtype: float64\n",
      "PeriodIndex(['2017-01', '2017-02', '2017-03', '2017-04', '2017-05'], dtype='period[M]', freq='M')\n",
      "2017-01-01 00:00    0.166697\n",
      "2017-01-01 02:00    0.920737\n",
      "2017-01-01 04:00    0.950741\n",
      "2017-01-01 06:00    0.611955\n",
      "2017-01-01 08:00    0.963747\n",
      "Freq: 2H, dtype: float64\n"
     ]
    }
   ],
   "source": [
    "#作业1：请输出以下时间序列，使用pd.period_range()\n",
    "prng= pd.period_range('201701','201705',freq='M')\n",
    "print(prng)\n",
    "\n",
    "import numpy as np\n",
    "ts2=pd.Series(np.random.rand(len(prng)),index=prng)\n",
    "print(ts2)\n",
    "\n",
    "\n",
    "prng2= pd.period_range('20170101',periods=5,freq='2H')\n",
    "print(prng)\n",
    "\n",
    "ts3=pd.Series(np.random.rand(len(prng)),index=prng2)\n",
    "print(ts3)\n"
   ]
  }
 ],
 "metadata": {
  "kernelspec": {
   "display_name": "Python 3",
   "language": "python",
   "name": "python3"
  },
  "language_info": {
   "codemirror_mode": {
    "name": "ipython",
    "version": 3
   },
   "file_extension": ".py",
   "mimetype": "text/x-python",
   "name": "python",
   "nbconvert_exporter": "python",
   "pygments_lexer": "ipython3",
   "version": "3.7.3"
  }
 },
 "nbformat": 4,
 "nbformat_minor": 2
}
