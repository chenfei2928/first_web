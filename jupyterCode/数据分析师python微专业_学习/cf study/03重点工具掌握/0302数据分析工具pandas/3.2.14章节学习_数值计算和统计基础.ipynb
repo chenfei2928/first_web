{
 "cells": [
  {
   "cell_type": "code",
   "execution_count": 1,
   "metadata": {},
   "outputs": [
    {
     "data": {
      "text/plain": [
       "'\\n数据计算和统计基础\\n\\n常用数学、统计方法\\n\\n'"
      ]
     },
     "execution_count": 1,
     "metadata": {},
     "output_type": "execute_result"
    }
   ],
   "source": [
    "\"\"\"\n",
    "数据计算和统计基础\n",
    "\n",
    "常用数学、统计方法\n",
    "\n",
    "\"\"\""
   ]
  },
  {
   "cell_type": "code",
   "execution_count": 12,
   "metadata": {},
   "outputs": [
    {
     "name": "stdout",
     "output_type": "stream",
     "text": [
      "   key1  key2 key3\n",
      "a   4.0   1.0    1\n",
      "b   5.0   2.0    2\n",
      "c   3.0   NaN    3\n",
      "d   NaN   4.0    j\n",
      "e   2.0   5.0    k\n",
      "float64 float64 object\n",
      "............................\n",
      "key1    3.5\n",
      "key2    3.0\n",
      "dtype: float64 <class 'pandas.core.series.Series'>\n",
      "单独统计列： 3.0\n",
      ".............2................\n",
      "a    2.5\n",
      "b    3.5\n",
      "c    3.0\n",
      "d    4.0\n",
      "e    3.5\n",
      "dtype: float64\n",
      ".................3..................\n",
      "key1   NaN\n",
      "key2   NaN\n",
      "dtype: float64\n"
     ]
    }
   ],
   "source": [
    "# 基本参数   axis 、 skipna\n",
    "\n",
    "import numpy as np\n",
    "import pandas as pd\n",
    "\n",
    "df = pd.DataFrame({'key1':[4,5,3,np.nan,2],\n",
    "                  'key2':[1,2,np.nan,4,5],\n",
    "                  'key3':[1,2,3,'j','k']},\n",
    "                  index =['a','b','c','d','e'])\n",
    "print(df)\n",
    "print(df['key1'].dtype,df['key2'].dtype,df['key3'].dtype)\n",
    "print('............................')\n",
    "\n",
    "m1 = df.mean()\n",
    "print(m1,type(m1))\n",
    "print('单独统计列：',df['key2'].mean())\n",
    "print('.............2................')\n",
    "    # np.nan 空值\n",
    "    # .mean() 计算均值\n",
    "    # 只统计数字列\n",
    "    # 可以通过索引单独统计一列\n",
    "\n",
    "m2 = df.mean(axis=1)\n",
    "print(m2)\n",
    "    # axis参数：默认为0，以列来计算，axis=1，以行来计算，这里就是按照行平均了。\n",
    "print('.................3..................')\n",
    "m3 = df.mean(skipna=False)\n",
    "print(m3)\n",
    "    # skipna参数，是否忽略NaN值，默认为True；若False，有NaN的列统计结果认为NaN\n",
    "    "
   ]
  },
  {
   "cell_type": "code",
   "execution_count": 28,
   "metadata": {},
   "outputs": [
    {
     "name": "stdout",
     "output_type": "stream",
     "text": [
      "   key1      key2\n",
      "0     0  7.485749\n",
      "1     1  0.627087\n",
      "2     2  4.798046\n",
      "3     3  1.488012\n",
      "4     4  6.018853\n",
      "5     5  2.467736\n",
      "6     6  5.060753\n",
      "7     7  3.632464\n",
      "8     8  7.770147\n",
      "9     9  4.323108\n",
      ".........................................\n",
      "key1    10\n",
      "key2    10\n",
      "dtype: int64 --->count统计非NaN值的数量！\n",
      "key1    0.000000\n",
      "key2    0.627087\n",
      "dtype: float64 --->统计最小值\n",
      "7.770147465428713 ---统计最大值\n",
      "...........................................................\n",
      "key1    4.950000\n",
      "key2    4.774299\n",
      "Name: 0.55, dtype: float64 ---quantitle统计分位数，参数q确定位置\n",
      "...........................................................\n",
      "key1    45.000000\n",
      "key2    43.671956\n",
      "dtype: float64 ----sum求和\n",
      "key1    4.500000\n",
      "key2    4.367196\n",
      "dtype: float64 ----mean求平均值\n",
      "key1    4.500000\n",
      "key2    4.560577\n",
      "dtype: float64 -------median求算术中位数，50%分位数\n",
      "...........................................................\n",
      "key1    3.027650\n",
      "key2    2.383459\n",
      "dtype: float64 -----标准差\n",
      " key1    9.166667\n",
      "key2    5.680879\n",
      "dtype: float64 ---方差\n",
      "...........................................................\n",
      "key1    0.000000\n",
      "key2   -0.090069\n",
      "dtype: float64 ---skew样本的偏度\n",
      "key1   -1.200000\n",
      "key2   -0.862546\n",
      "dtype: float64 ---kurt样本的峰度\n"
     ]
    }
   ],
   "source": [
    "# 主要数学计算方法，可用于Series 和DataFrame\n",
    "\n",
    "df = pd.DataFrame({'key1':np.arange(10),\n",
    "                'key2':np.random.rand(10)*10})\n",
    "print(df)\n",
    "print('.........................................')\n",
    "\n",
    "print(df.count(),'--->count统计非NaN值的数量！')\n",
    "print(df.min(),'--->统计最小值')\n",
    "print(df['key2'].max(),'---统计最大值')\n",
    "print('...........................................................')\n",
    "print(df.quantile(q=0.55),'---quantitle统计分位数，参数q确定位置')\n",
    "print('...........................................................')\n",
    "\n",
    "print(df.sum(),'----sum求和')\n",
    "print(df.mean(),'----mean求平均值')\n",
    "print(df.median(),'-------median求算术中位数，50%分位数')\n",
    "print('...........................................................')\n",
    "print(df.std(),'-----标准差\\n',df.var(),'---方差')\n",
    "print('...........................................................')\n",
    "\n",
    "print(df.skew(),'---skew样本的偏度')\n",
    "print(df.kurt(),'---kurt样本的峰度')\n"
   ]
  },
  {
   "cell_type": "code",
   "execution_count": 35,
   "metadata": {},
   "outputs": [
    {
     "name": "stdout",
     "output_type": "stream",
     "text": [
      "   key1      key2  key1_s     key2_s  key1_p         key2_p\n",
      "0     0  7.485749       0   7.485749       0       7.485749\n",
      "1     1  0.627087       1   8.112836       0       4.694218\n",
      "2     2  4.798046       3  12.910882       0      22.523074\n",
      "3     3  1.488012       6  14.398894       0      33.514600\n",
      "4     4  6.018853      10  20.417747       0     201.719461\n",
      "5     5  2.467736      15  22.885483       0     497.790383\n",
      "6     6  5.060753      21  27.946236       0    2519.194340\n",
      "7     7  3.632464      28  31.578700       0    9150.881901\n",
      "8     8  7.770147      36  39.348847       0   71103.701812\n",
      "9     9  4.323108      45  43.671956       0  307389.002484 ----cumsum样本的累计和\n",
      "\n",
      "   key1      key2  key1_s     key2_s  key1_p         key2_p\n",
      "0     0  7.485749       0   7.485749       0       7.485749\n",
      "1     1  0.627087       1   8.112836       0       4.694218\n",
      "2     2  4.798046       3  12.910882       0      22.523074\n",
      "3     3  1.488012       6  14.398894       0      33.514600\n",
      "4     4  6.018853      10  20.417747       0     201.719461\n",
      "5     5  2.467736      15  22.885483       0     497.790383\n",
      "6     6  5.060753      21  27.946236       0    2519.194340\n",
      "7     7  3.632464      28  31.578700       0    9150.881901\n",
      "8     8  7.770147      36  39.348847       0   71103.701812\n",
      "9     9  4.323108      45  43.671956       0  307389.002484 -----cumprod样本的累计积\n",
      "   key1      key2  key1_s     key2_s  key1_p         key2_p\n",
      "0   0.0  7.485749     0.0   7.485749     0.0       7.485749\n",
      "1   1.0  7.485749     1.0   8.112836     0.0       7.485749\n",
      "2   2.0  7.485749     3.0  12.910882     0.0      22.523074\n",
      "3   3.0  7.485749     6.0  14.398894     0.0      33.514600\n",
      "4   4.0  7.485749    10.0  20.417747     0.0     201.719461\n",
      "5   5.0  7.485749    15.0  22.885483     0.0     497.790383\n",
      "6   6.0  7.485749    21.0  27.946236     0.0    2519.194340\n",
      "7   7.0  7.485749    28.0  31.578700     0.0    9150.881901\n",
      "8   8.0  7.770147    36.0  39.348847     0.0   71103.701812\n",
      "9   9.0  7.770147    45.0  43.671956     0.0  307389.002484 最大值\n",
      "    key1      key2  key1_s    key2_s  key1_p    key2_p\n",
      "0   0.0  7.485749     0.0  7.485749     0.0  7.485749\n",
      "1   0.0  0.627087     0.0  7.485749     0.0  4.694218\n",
      "2   0.0  0.627087     0.0  7.485749     0.0  4.694218\n",
      "3   0.0  0.627087     0.0  7.485749     0.0  4.694218\n",
      "4   0.0  0.627087     0.0  7.485749     0.0  4.694218\n",
      "5   0.0  0.627087     0.0  7.485749     0.0  4.694218\n",
      "6   0.0  0.627087     0.0  7.485749     0.0  4.694218\n",
      "7   0.0  0.627087     0.0  7.485749     0.0  4.694218\n",
      "8   0.0  0.627087     0.0  7.485749     0.0  4.694218\n",
      "9   0.0  0.627087     0.0  7.485749     0.0  4.694218 ---- cummax,cummin 分别求累计最大值，最小值\n"
     ]
    }
   ],
   "source": [
    "# 主要数学计算方法，可用于Series和DataFrame\n",
    "\n",
    "df['key1_s']= df['key1'].cumsum()\n",
    "df['key2_s']= df['key2'].cumsum()\n",
    "print(df,'----cumsum样本的累计和\\n')\n",
    "\n",
    "df['key1_p'] = df['key1'].cumprod()\n",
    "df['key2_p'] = df['key2'].cumprod()\n",
    "print(df,'-----cumprod样本的累计积')\n",
    "\n",
    "print(df.cummax(),'最大值\\n',df.cummin(),'---- cummax,cummin 分别求累计最大值，最小值')\n"
   ]
  },
  {
   "cell_type": "code",
   "execution_count": 41,
   "metadata": {},
   "outputs": [
    {
     "name": "stdout",
     "output_type": "stream",
     "text": [
      "0     a\n",
      "1     s\n",
      "2     d\n",
      "3     v\n",
      "4     a\n",
      "5     s\n",
      "6     d\n",
      "7     c\n",
      "8     f\n",
      "9     g\n",
      "10    g\n",
      "dtype: object <class 'pandas.core.series.Series'>\n",
      "['a' 's' 'd' 'v' 'c' 'f' 'g'] <class 'numpy.ndarray'>\n",
      "0    a\n",
      "1    s\n",
      "2    d\n",
      "3    v\n",
      "4    c\n",
      "5    f\n",
      "6    g\n",
      "dtype: object\n",
      "['a' 'c' 'd' 'f' 'g' 's' 'v']\n"
     ]
    }
   ],
   "source": [
    "# 唯一值 .unique()\n",
    "\n",
    "s = pd.Series(list('asdvasdcfgg'))\n",
    "sq = s.unique()\n",
    "print(s,type(s))\n",
    "print(sq,type(sq))\n",
    "print(pd.Series(sq))\n",
    "    # 得到一个唯一值数组\n",
    "    # 通过pd.Series 重新变成新的Series\n",
    "sq.sort()\n",
    "print(sq)\n",
    "    # 重新排序"
   ]
  },
  {
   "cell_type": "code",
   "execution_count": 44,
   "metadata": {},
   "outputs": [
    {
     "name": "stdout",
     "output_type": "stream",
     "text": [
      "a    2\n",
      "g    2\n",
      "d    2\n",
      "f    1\n",
      "s    2\n",
      "v    1\n",
      "c    1\n",
      "dtype: int64\n"
     ]
    }
   ],
   "source": [
    "# 值计数 ： .valuse_counts()\n",
    "sc = s.value_counts(sort=False)   # 也可以这样写：pd.value_counts(sc, sort = False)\n",
    "print(sc)\n",
    "# 得到一个新的Series，计算出不同值出现的频率\n",
    "# sort参数：排序，默认为True"
   ]
  },
  {
   "cell_type": "code",
   "execution_count": 51,
   "metadata": {},
   "outputs": [
    {
     "name": "stdout",
     "output_type": "stream",
     "text": [
      "0    10\n",
      "1    11\n",
      "2    12\n",
      "3    13\n",
      "4    14\n",
      "dtype: int32\n",
      "  key1  key2\n",
      "0    a     4\n",
      "1    s     5\n",
      "2    d     6\n",
      "3    c     7\n",
      "4    b     8\n",
      "5    v     9\n",
      "6    a    10\n",
      "7    s    11\n",
      "8    d    12\n",
      "0    False\n",
      "1    False\n",
      "2    False\n",
      "3    False\n",
      "4     True\n",
      "dtype: bool\n",
      ".......................\n",
      "    key1   key2\n",
      "0   True  False\n",
      "1  False  False\n",
      "2  False  False\n",
      "3  False  False\n",
      "4  False   True\n",
      "5  False  False\n",
      "6   True  False\n",
      "7  False  False\n",
      "8  False  False\n"
     ]
    }
   ],
   "source": [
    "# 成员资格\n",
    "s = pd.Series(np.arange(10,15))\n",
    "df = pd.DataFrame({'key1':list('asdcbvasd'),\n",
    "                  'key2':np.arange(4,13)})\n",
    "print(s)\n",
    "print(df)\n",
    "\n",
    "print(s.isin([5,14]))\n",
    "print('.......................')\n",
    "print(df.isin(['a','bc','10',8]))"
   ]
  },
  {
   "cell_type": "code",
   "execution_count": 68,
   "metadata": {},
   "outputs": [
    {
     "name": "stdout",
     "output_type": "stream",
     "text": [
      "        key1       key2\n",
      "0  71.317379  86.902718\n",
      "1  94.865477  44.547452\n",
      "2  26.402858  74.525316\n",
      "3  14.095201  97.036475\n",
      "4  49.799316  41.209890\n",
      "key1    57.519343\n",
      "key2    68.844370\n",
      "dtype: float64 ----mean求平均值\n",
      "key1    60.558347\n",
      "key2    74.525316\n",
      "dtype: float64 -------median求算术中位数，50%分位数\n",
      "        key1       key2  key1_cumsum  key2_cumsum\n",
      "0  71.317379  86.902718    71.317379    86.902718\n",
      "1  94.865477  44.547452   166.182856   131.450170\n",
      "2        NaN  74.525316          NaN   205.975486\n",
      "3  14.095201  97.036475   180.278057   303.011961\n",
      "4  49.799316  41.209890   230.077373   344.221851 ----cumsum样本的累计和\n",
      "\n"
     ]
    }
   ],
   "source": [
    "#作业1：如图创建一个Dataframe（5*2，值为0-100的随机值），并分别计算key1和key2的均值、中位数、累积和\n",
    "\n",
    "df = pd.DataFrame(np.random.rand(5,2)*100,\n",
    "                 columns=['key1','key2'])\n",
    "print(df)\n",
    "df['key1'][2]=np.nan\n",
    "print(df.mean(),'----mean求平均值')\n",
    "print(df.median(),'-------median求算术中位数，50%分位数')\n",
    "\n",
    "df['key1_cumsum']= df['key1'].cumsum()\n",
    "df['key2_cumsum']= df['key2'].cumsum()\n",
    "print(df,'----cumsum样本的累计和\\n')\n"
   ]
  },
  {
   "cell_type": "code",
   "execution_count": 80,
   "metadata": {},
   "outputs": [
    {
     "name": "stdout",
     "output_type": "stream",
     "text": [
      "请随机输入一组元素，用英文逗号隔开：\n",
      "w,w,rt,y,u,i\n",
      "0     w\n",
      "1     w\n",
      "2    rt\n",
      "3     y\n",
      "4     u\n",
      "5     i\n",
      "dtype: object\n",
      "['w' 'rt' 'y' 'u' 'i']\n",
      "数组值不唯一\n"
     ]
    }
   ],
   "source": [
    "#作业2：写出一个输入元素直接生成数组的代码块，然后创建一个函数，该函数功能用于判断一个Series是否是唯一值数组，返回“是”和“不是”\n",
    "\n",
    "def str(s):\n",
    "    s1 = s.unique()\n",
    "    print(s1)\n",
    "    if len(s) ==len(s1):\n",
    "        print( '数组值唯一')\n",
    "    else:\n",
    "        print( '数组值不唯一')\n",
    "\n",
    "st= input('请随机输入一组元素，用英文逗号隔开：\\n')\n",
    "lst = st.split(',')\n",
    "s = pd.Series(lst)\n",
    "print(s)\n",
    "str(s)"
   ]
  }
 ],
 "metadata": {
  "kernelspec": {
   "display_name": "Python 3",
   "language": "python",
   "name": "python3"
  },
  "language_info": {
   "codemirror_mode": {
    "name": "ipython",
    "version": 3
   },
   "file_extension": ".py",
   "mimetype": "text/x-python",
   "name": "python",
   "nbconvert_exporter": "python",
   "pygments_lexer": "ipython3",
   "version": "3.7.3"
  }
 },
 "nbformat": 4,
 "nbformat_minor": 2
}
