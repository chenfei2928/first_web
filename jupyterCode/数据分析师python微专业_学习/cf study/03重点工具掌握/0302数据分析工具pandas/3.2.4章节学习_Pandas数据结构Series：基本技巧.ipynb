{
 "cells": [
  {
   "cell_type": "code",
   "execution_count": 1,
   "metadata": {},
   "outputs": [
    {
     "data": {
      "text/plain": [
       "'\\nPanda数据结构Series：基本技巧\\n数据查看 / 重新索引 /对齐 / 添加、修改、删除值\\n\\n'"
      ]
     },
     "execution_count": 1,
     "metadata": {},
     "output_type": "execute_result"
    }
   ],
   "source": [
    "'''\n",
    "Panda数据结构Series：基本技巧\n",
    "数据查看 / 重新索引 /对齐 / 添加、修改、删除值\n",
    "\n",
    "'''"
   ]
  },
  {
   "cell_type": "code",
   "execution_count": 4,
   "metadata": {},
   "outputs": [
    {
     "name": "stdout",
     "output_type": "stream",
     "text": [
      "0    0.584624\n",
      "1    0.170896\n",
      "2    0.104766\n",
      "3    0.842465\n",
      "4    0.138354\n",
      "5    0.257955\n",
      "6    0.660415\n",
      "7    0.814603\n",
      "8    0.855766\n",
      "9    0.096080\n",
      "dtype: float64\n",
      "------------------------------------------------------------\n",
      "45    0.102392\n",
      "46    0.114760\n",
      "47    0.763162\n",
      "48    0.779263\n",
      "49    0.301946\n",
      "dtype: float64\n"
     ]
    }
   ],
   "source": [
    "# 数据查看\n",
    "import numpy as np\n",
    "import pandas as pd\n",
    "\n",
    "s = pd.Series(np.random.rand(50))\n",
    "print(s.head(10))\n",
    "print('---'*20)\n",
    "print(s.tail())\n",
    "    # .head()查看头部数据\n",
    "    # .tail() 查看尾部数据\n",
    "    # 默认查看5条"
   ]
  },
  {
   "cell_type": "code",
   "execution_count": 11,
   "metadata": {},
   "outputs": [
    {
     "name": "stdout",
     "output_type": "stream",
     "text": [
      "a    0.565016\n",
      "b    0.160539\n",
      "c    0.718145\n",
      "dtype: float64\n",
      "..............................\n",
      "c    0.718145\n",
      "b    0.160539\n",
      "a    0.565016\n",
      "d         NaN\n",
      "dtype: float64\n",
      "..............................\n",
      "c    0.718145\n",
      "b    0.160539\n",
      "a    0.565016\n",
      "d    0.000000\n",
      "dtype: float64\n"
     ]
    }
   ],
   "source": [
    "# 重新索引 reindex\n",
    "# .reindex 将会根据索引重新排序，如果当前索引不存在，则引入缺失值。\n",
    "\n",
    "s = pd.Series(np.random.rand(3),index=['a','b','c'])\n",
    "print(s)\n",
    "print('...'*10)\n",
    "s2 =s.reindex(['c','b','a','d'])\n",
    "print(s2)\n",
    "    #.reindex()中也是写列表\n",
    "    # 这里'd'索引不存在，所以值为NaN\n",
    "print('...'*10)\n",
    "s3 = s.reindex(['c','b','a','d'],fill_value =0)\n",
    "print(s3)\n",
    "    # fill_value 参数，填充缺失值的值"
   ]
  },
  {
   "cell_type": "code",
   "execution_count": 13,
   "metadata": {},
   "outputs": [
    {
     "name": "stdout",
     "output_type": "stream",
     "text": [
      "Jack     0.157131\n",
      "Marry    0.030587\n",
      "Tom      0.637303\n",
      "dtype: float64\n",
      "..............................\n",
      "Wang     0.750622\n",
      "Jack     0.681310\n",
      "Marry    0.509067\n",
      "dtype: float64\n",
      "..............................\n",
      "Jack     0.838440\n",
      "Marry    0.539654\n",
      "Tom           NaN\n",
      "Wang          NaN\n",
      "dtype: float64\n"
     ]
    }
   ],
   "source": [
    "# Series对齐\n",
    "\n",
    "s1 = pd.Series(np.random.rand(3),index = ['Jack','Marry',\"Tom\"])\n",
    "s2 = pd.Series(np.random.rand(3),index =['Wang',\"Jack\",\"Marry\"])\n",
    "print(s1)\n",
    "print('...'*10)\n",
    "print(s2)\n",
    "print('...'*10)\n",
    "print(s1+s2)\n",
    "    # Series 和 ndarray 之间的主要区别是，Series上的操作会根据标签自动补齐\n",
    "    # index 顺序不会影响数值计算，以标签来计算\n",
    "    # 空值和任何值计算结果认为空值\n"
   ]
  },
  {
   "cell_type": "code",
   "execution_count": 17,
   "metadata": {},
   "outputs": [
    {
     "name": "stdout",
     "output_type": "stream",
     "text": [
      "n    0.753304\n",
      "g    0.992182\n",
      "j    0.038340\n",
      "u    0.570896\n",
      "r    0.345097\n",
      "dtype: float64\n",
      "................................................................................\n",
      "g    0.992182\n",
      "j    0.038340\n",
      "u    0.570896\n",
      "r    0.345097\n",
      "dtype: float64\n",
      "................................................................................\n",
      "n    0.753304\n",
      "u    0.570896\n",
      "r    0.345097\n",
      "dtype: float64\n",
      "................................................................................\n",
      "n    0.753304\n",
      "g    0.992182\n",
      "j    0.038340\n",
      "u    0.570896\n",
      "r    0.345097\n",
      "dtype: float64\n"
     ]
    }
   ],
   "source": [
    "# 删除  drop\n",
    "\n",
    "s = pd.Series(np.random.rand(5),index=list('ngjur'))\n",
    "print(s)\n",
    "print('....'*20)\n",
    "s1 = s.drop('n')\n",
    "s2 = s.drop(['g','j'])\n",
    "print(s1)\n",
    "print('....'*20)\n",
    "print(s2)\n",
    "print('....'*20)\n",
    "print(s)\n",
    "    # drop 删除元素之后返回副本(inplace = False)"
   ]
  },
  {
   "cell_type": "code",
   "execution_count": 20,
   "metadata": {
    "scrolled": true
   },
   "outputs": [
    {
     "name": "stdout",
     "output_type": "stream",
     "text": [
      "0    0.069536\n",
      "1    0.087004\n",
      "2    0.533083\n",
      "3    0.350897\n",
      "4    0.909179\n",
      "dtype: float64\n",
      "n    0.580515\n",
      "g    0.554371\n",
      "j    0.571293\n",
      "u    0.303558\n",
      "r    0.132497\n",
      "dtype: float64\n",
      "...............................................\n",
      "0      0.069536\n",
      "1      0.087004\n",
      "2      0.533083\n",
      "3      0.350897\n",
      "4      0.909179\n",
      "5    100.000000\n",
      "dtype: float64\n",
      "n      0.580515\n",
      "g      0.554371\n",
      "j      0.571293\n",
      "u      0.303558\n",
      "r      0.132497\n",
      "a    100.000000\n",
      "dtype: float64\n",
      "...............................................\n",
      "0      0.069536\n",
      "1      0.087004\n",
      "2      0.533083\n",
      "3      0.350897\n",
      "4      0.909179\n",
      "5    100.000000\n",
      "n      0.580515\n",
      "g      0.554371\n",
      "j      0.571293\n",
      "u      0.303558\n",
      "r      0.132497\n",
      "a    100.000000\n",
      "dtype: float64\n",
      "0      0.069536\n",
      "1      0.087004\n",
      "2      0.533083\n",
      "3      0.350897\n",
      "4      0.909179\n",
      "5    100.000000\n",
      "dtype: float64\n"
     ]
    }
   ],
   "source": [
    "# 添加\n",
    "\n",
    "s1 = pd.Series(np.random.rand(5))\n",
    "s2 = pd.Series(np.random.rand(5),index=list('ngjur'))\n",
    "print(s1)\n",
    "print(s2)\n",
    "print('...............................................')\n",
    "s1[5]=100\n",
    "s2['a']=100\n",
    "print(s1)\n",
    "print(s2)\n",
    "print('...............................................')\n",
    "    # 直接通过下标索引/标签 index 添加值\n",
    "\n",
    "s3 = s1.append(s2)\n",
    "print(s3)\n",
    "print(s1)\n",
    "    # 通过.append方法，直接添加一个数组\n",
    "    # .append方法生成一个新的数组，不改变之前的数组"
   ]
  },
  {
   "cell_type": "code",
   "execution_count": 24,
   "metadata": {},
   "outputs": [
    {
     "name": "stdout",
     "output_type": "stream",
     "text": [
      "a    0.533589\n",
      "b    0.499563\n",
      "c    0.173096\n",
      "dtype: float64\n",
      "a    100.0\n",
      "b    200.0\n",
      "c    200.0\n",
      "dtype: float64\n"
     ]
    }
   ],
   "source": [
    "# 修改\n",
    "\n",
    "s = pd.Series(np.random.rand(3),index=['a','b','c'])\n",
    "print(s)\n",
    "s['a']=100\n",
    "s['b','c']=200\n",
    "print(s)\n",
    "    # 通过索引直接修改，类似序列"
   ]
  },
  {
   "cell_type": "code",
   "execution_count": 7,
   "metadata": {},
   "outputs": [
    {
     "name": "stdout",
     "output_type": "stream",
     "text": [
      "a    0\n",
      "b    1\n",
      "c    2\n",
      "d    3\n",
      "e    4\n",
      "f    5\n",
      "g    6\n",
      "h    7\n",
      "i    8\n",
      "j    9\n",
      "dtype: int32\n",
      "a    100\n",
      "b      1\n",
      "c      2\n",
      "d      3\n",
      "e    100\n",
      "f    100\n",
      "g      6\n",
      "h      7\n",
      "i      8\n",
      "j      9\n",
      "dtype: int32\n"
     ]
    }
   ],
   "source": [
    "# 章节小作业\n",
    "\n",
    "#  作业1：如图创建Series，并按照要求修改得到结果\n",
    "import numpy as np\n",
    "import pandas as pd\n",
    "\n",
    "s =pd.Series(np.arange(10),index=list('abcdefghij'))\n",
    "print(s)\n",
    "\n",
    "s['a']=100\n",
    "s['e','f']=100\n",
    "print(s)\n",
    "\n"
   ]
  },
  {
   "cell_type": "code",
   "execution_count": 8,
   "metadata": {},
   "outputs": [
    {
     "name": "stdout",
     "output_type": "stream",
     "text": [
      "a    1.675857\n",
      "b    9.383098\n",
      "c    4.414837\n",
      "d    3.898458\n",
      "e    0.858886\n",
      "dtype: float64\n",
      "c    1.897101\n",
      "d    8.489784\n",
      "e    0.412809\n",
      "f    8.939111\n",
      "g    4.834755\n",
      "dtype: float64\n",
      "........................................\n",
      "a          NaN\n",
      "b          NaN\n",
      "c     6.311938\n",
      "d    12.388242\n",
      "e     1.271695\n",
      "f          NaN\n",
      "g          NaN\n",
      "dtype: float64\n"
     ]
    }
   ],
   "source": [
    "\n",
    "#  作业2：已有s1，s2（值为0-10的随机数），请求出s1+s2的值\t\n",
    "\n",
    "s1 = pd.Series(np.random.rand(5)*10,index=list('abcde'))\n",
    "\n",
    "s2 = pd.Series(np.random.rand(5)*10,index=list('cdefg'))\n",
    "\n",
    "print(s1)\n",
    "print(s2)\n",
    "print('....'*10)\n",
    "print(s1+s2)"
   ]
  }
 ],
 "metadata": {
  "kernelspec": {
   "display_name": "Python 3",
   "language": "python",
   "name": "python3"
  },
  "language_info": {
   "codemirror_mode": {
    "name": "ipython",
    "version": 3
   },
   "file_extension": ".py",
   "mimetype": "text/x-python",
   "name": "python",
   "nbconvert_exporter": "python",
   "pygments_lexer": "ipython3",
   "version": "3.7.3"
  }
 },
 "nbformat": 4,
 "nbformat_minor": 2
}
