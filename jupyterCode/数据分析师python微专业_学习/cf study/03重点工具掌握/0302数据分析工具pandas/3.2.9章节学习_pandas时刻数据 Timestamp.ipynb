{
 "cells": [
  {
   "cell_type": "code",
   "execution_count": 1,
   "metadata": {},
   "outputs": [
    {
     "data": {
      "text/plain": [
       "'\\nPandas时刻数据：Timestamp\\n时刻数据代表时间点，是pandas的数据原型，是将值与时间点相关联的最基本类型的时间序列数据\\n\\npandas.Timestamp()\\n\\n'"
      ]
     },
     "execution_count": 1,
     "metadata": {},
     "output_type": "execute_result"
    }
   ],
   "source": [
    "\"\"\"\n",
    "Pandas时刻数据：Timestamp\n",
    "时刻数据代表时间点，是pandas的数据原型，是将值与时间点相关联的最基本类型的时间序列数据\n",
    "\n",
    "pandas.Timestamp()\n",
    "\n",
    "\"\"\""
   ]
  },
  {
   "cell_type": "code",
   "execution_count": 15,
   "metadata": {},
   "outputs": [
    {
     "name": "stdout",
     "output_type": "stream",
     "text": [
      "2019-12-02 12:45:30 <class 'pandas._libs.tslibs.timestamps.Timestamp'>\n",
      "2017-12-21 00:00:00\n",
      "2017-12-21 15:00:22\n"
     ]
    }
   ],
   "source": [
    "# pd.TimeStamp()\n",
    "import datetime\n",
    "import numpy as np\n",
    "import pandas as pd\n",
    "\n",
    "date1 = datetime.datetime(2019,12,2,12,45,30)\n",
    "date2 = '2017-12-21'\n",
    "t1 = pd.Timestamp(date1)\n",
    "t2 = pd.Timestamp(date2)\n",
    "print(t1,type(t1))\n",
    "print(t2)\n",
    "print(pd.Timestamp('2017-12-21 15:00:22'))\n",
    "    # 直接生成pandas的时刻数据 —>时间戳\n",
    "    # 数据类型为 pandas的timestamp\n"
   ]
  },
  {
   "cell_type": "code",
   "execution_count": 21,
   "metadata": {},
   "outputs": [
    {
     "name": "stdout",
     "output_type": "stream",
     "text": [
      "2016-12-01 12:45:30 <class 'pandas._libs.tslibs.timestamps.Timestamp'>\n",
      "2017-12-21 00:00:00 <class 'pandas._libs.tslibs.timestamps.Timestamp'>\n",
      "DatetimeIndex(['2017-12-31', '2018-03-05', '2019-05-12'], dtype='datetime64[ns]', freq=None) <class 'pandas.core.indexes.datetimes.DatetimeIndex'>\n"
     ]
    }
   ],
   "source": [
    "# pd.to_datatime\n",
    "\n",
    "from datetime import datetime\n",
    "\n",
    "date1 = datetime(2016,12,1,12,45,30)\n",
    "date2 = '2017-12-21'\n",
    "t1 = pd.to_datetime(date1)\n",
    "t2 = pd.to_datetime(date2)\n",
    "print(t1,type(t1))\n",
    "print(t2,type(t2))\n",
    "    # pd.to_datetime() ;如果是单个时间数据，转换成pandas的时刻数据，数据类型为Timestamp\n",
    "\n",
    "lis_date =['2017-12-31','2018-3-5','2019-5-12']\n",
    "t3 = pd.to_datetime(lis_date)\n",
    "print(t3,type(t3))\n",
    "    # 多个时间数据，将会转换为pandas的DatetimeIndex"
   ]
  },
  {
   "cell_type": "code",
   "execution_count": 28,
   "metadata": {},
   "outputs": [
    {
     "name": "stdout",
     "output_type": "stream",
     "text": [
      "[datetime.datetime(2015, 6, 1, 0, 0), datetime.datetime(2015, 7, 1, 0, 0), datetime.datetime(2015, 8, 1, 0, 0), datetime.datetime(2015, 9, 1, 0, 0), datetime.datetime(2015, 10, 1, 0, 0)]\n",
      "DatetimeIndex(['2015-06-01', '2015-07-01', '2015-08-01', '2015-09-01',\n",
      "               '2015-10-01'],\n",
      "              dtype='datetime64[ns]', freq=None)\n",
      "..............分割线111....................................\n",
      "['2017-2-1', '2017-2-2', '2017-2-3', '2017-2-4', '2017-2-5', '2017-2-6']\n",
      "DatetimeIndex(['2017-02-01', '2017-02-02', '2017-02-03', '2017-02-04',\n",
      "               '2017-02-05', '2017-02-06'],\n",
      "              dtype='datetime64[ns]', freq=None)\n",
      "..............分割线22....................................\n",
      "['2017-2-1', '2017-2-2', '2017-2-3', 'hello world', '2017-2-5', '2017-2-6']\n",
      "Index(['2017-2-1', '2017-2-2', '2017-2-3', 'hello world', '2017-2-5',\n",
      "       '2017-2-6'],\n",
      "      dtype='object') <class 'pandas.core.indexes.base.Index'>\n",
      "..............分割线333....................................\n",
      "DatetimeIndex(['2017-02-01', '2017-02-02', '2017-02-03', 'NaT', '2017-02-05',\n",
      "               '2017-02-06'],\n",
      "              dtype='datetime64[ns]', freq=None) <class 'pandas.core.indexes.datetimes.DatetimeIndex'>\n"
     ]
    }
   ],
   "source": [
    "# pd.to_datetime   —> 多个时间数据转换时间戳索引\n",
    "\n",
    "date1 = [datetime(2015,6,1),datetime(2015,7,1),datetime(2015,8,1),datetime(2015,9,1),datetime(2015,10,1)]\n",
    "print(date1)\n",
    "t1 = pd.to_datetime(date1)\n",
    "print(t1)\n",
    "print('..............分割线111....................................')\n",
    "\n",
    "date2 = ['2017-2-1','2017-2-2','2017-2-3','2017-2-4','2017-2-5','2017-2-6']\n",
    "print(date2)\n",
    "t2 = pd.to_datetime(date2)\n",
    "print(t2)\n",
    "    # 多个时间数据转换为 DatetimeIndex\n",
    "print('..............分割线22....................................')\n",
    "\n",
    "date3 = ['2017-2-1','2017-2-2','2017-2-3','hello world','2017-2-5','2017-2-6']\n",
    "print(date3)\n",
    "t3 = pd.to_datetime(date3,errors= 'ignore')\n",
    "print(t3,type(t3))\n",
    "    # 当一组时间序列中夹杂其他格式数据，可用errors参数返回\n",
    "    # errors = 'ignore':不可解析时返回原始输入，这里就是直接生成一般数组\n",
    "print('..............分割线333....................................')\n",
    "\n",
    "t4 = pd.to_datetime(date3,errors='coerce')\n",
    "print(t4,type(t4))\n",
    "    # errors = 'coerce':不可扩展，缺失值返回NaT（Not a Time），结果认为 DatetimeIndex\n"
   ]
  },
  {
   "cell_type": "code",
   "execution_count": 55,
   "metadata": {},
   "outputs": [
    {
     "name": "stdout",
     "output_type": "stream",
     "text": [
      "['2019-7-1', '2019-7-2', '2019-7-3', '2019-7-4', '2019-7-5', '2019-7-6', '2019-7-7', '2019-7-8', '2019-7-9', '2019-7-10', '2019-7-11', '2019-7-12', '2019-7-13', '2019-7-14', '2019-7-15', '2019-7-16', '2019-7-17', '2019-7-18', '2019-7-19', '2019-7-20', '2019-7-21', '2019-7-22', '2019-7-23', '2019-7-24', '2019-7-25', '2019-7-26', '2019-7-27', '2019-7-28', '2019-7-29', '2019-7-30', '2019-7-31']\n",
      "DatetimeIndex(['2019-07-01', '2019-07-02', '2019-07-03', '2019-07-04',\n",
      "               '2019-07-05', '2019-07-06', '2019-07-07', '2019-07-08',\n",
      "               '2019-07-09', '2019-07-10', '2019-07-11', '2019-07-12',\n",
      "               '2019-07-13', '2019-07-14', '2019-07-15', '2019-07-16',\n",
      "               '2019-07-17', '2019-07-18', '2019-07-19', '2019-07-20',\n",
      "               '2019-07-21', '2019-07-22', '2019-07-23', '2019-07-24',\n",
      "               '2019-07-25', '2019-07-26', '2019-07-27', '2019-07-28',\n",
      "               '2019-07-29', '2019-07-30', '2019-07-31'],\n",
      "              dtype='datetime64[ns]', freq=None)\n",
      "2019-7-16\n",
      "2019-07-16 00:00:00\n"
     ]
    }
   ],
   "source": [
    "#作业1：请通过迭代创建一个时间列表（如图，时间区间为任意一个月，这里可以用for语句），然后转化成DatetimeIndex，并print月中是多少号\n",
    "\n",
    "lis=[]\n",
    "for i in range(1,32):\n",
    "    date = '2019-7-%s'%i\n",
    "    lis.append(date)\n",
    "print(lis)\n",
    "\n",
    "t1 = pd.to_datetime(lis)\n",
    "print(t1)\n",
    "\n",
    "\n",
    "mid= lis[int((len(lis)+1)/2-1)]\n",
    "\n",
    "print(mid)\n",
    "print(pd.to_datetime(mid))"
   ]
  },
  {
   "cell_type": "code",
   "execution_count": 69,
   "metadata": {},
   "outputs": [
    {
     "name": "stdout",
     "output_type": "stream",
     "text": [
      "20150501,20150502,20150503,20150504,20150505,20150506,20150507,20150508 <class '_io.TextIOWrapper'>\n",
      "['20150501', '20150502', '20150503', '20150504', '20150505', '20150506', '20150507', '20150508']\n",
      "DatetimeIndex(['2015-05-01', '2015-05-02', '2015-05-03', '2015-05-04',\n",
      "               '2015-05-05', '2015-05-06', '2015-05-07', '2015-05-08'],\n",
      "              dtype='datetime64[ns]', freq=None)\n"
     ]
    }
   ],
   "source": [
    "# \t作业2：请如图创建一个包含时间日期的txt文件，通过open语句读取后转化成DatetimeIndex\n",
    "\n",
    "\n",
    "d = open('C:/Users/Administrator/Desktop/python/date.txt','r')\n",
    "\n",
    "print(d.read(),type(d))\n",
    "\n",
    "li=[]\n",
    "d.seek(0)\n",
    "for line in d.readlines():\n",
    "    s=line.split(',')\n",
    "    print(s)\n",
    "\n",
    "da =pd.to_datetime(s)\n",
    "print(da)\n",
    "\n",
    "\n"
   ]
  }
 ],
 "metadata": {
  "kernelspec": {
   "display_name": "Python 3",
   "language": "python",
   "name": "python3"
  },
  "language_info": {
   "codemirror_mode": {
    "name": "ipython",
    "version": 3
   },
   "file_extension": ".py",
   "mimetype": "text/x-python",
   "name": "python",
   "nbconvert_exporter": "python",
   "pygments_lexer": "ipython3",
   "version": "3.7.3"
  }
 },
 "nbformat": 4,
 "nbformat_minor": 2
}
