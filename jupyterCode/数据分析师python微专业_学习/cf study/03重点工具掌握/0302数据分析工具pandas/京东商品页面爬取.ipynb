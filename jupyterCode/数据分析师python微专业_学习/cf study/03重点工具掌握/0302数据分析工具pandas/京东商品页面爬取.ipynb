{
 "cells": [
  {
   "cell_type": "code",
   "execution_count": 2,
   "metadata": {},
   "outputs": [
    {
     "data": {
      "text/plain": [
       "200"
      ]
     },
     "execution_count": 2,
     "metadata": {},
     "output_type": "execute_result"
    }
   ],
   "source": [
    "import requests\n",
    "r=requests.get('https://item.jd.com/100004076535.html')\n",
    "r.status_code"
   ]
  },
  {
   "cell_type": "code",
   "execution_count": 7,
   "metadata": {},
   "outputs": [
    {
     "data": {
      "text/plain": [
       "'gbk'"
      ]
     },
     "execution_count": 7,
     "metadata": {},
     "output_type": "execute_result"
    }
   ],
   "source": [
    "r.encoding"
   ]
  },
  {
   "cell_type": "code",
   "execution_count": 9,
   "metadata": {},
   "outputs": [],
   "source": [
    "r.raise_for_status()"
   ]
  },
  {
   "cell_type": "code",
   "execution_count": 10,
   "metadata": {},
   "outputs": [
    {
     "data": {
      "text/plain": [
       "'GB2312'"
      ]
     },
     "execution_count": 10,
     "metadata": {},
     "output_type": "execute_result"
    }
   ],
   "source": [
    "r.apparent_encoding"
   ]
  },
  {
   "cell_type": "code",
   "execution_count": 6,
   "metadata": {},
   "outputs": [
    {
     "data": {
      "text/plain": [
       "'<!DOCTYPE HTML>\\n<html lang=\"zh-CN\">\\n<head>\\n    <!--yushou-->\\n    <meta http-equiv=\"Content-Type\" content=\"text/html; charset=gbk\" />\\n    <title>【华为荣耀9X】【预售赠耳机】荣耀9X新品手机 麒麟810 4000mAh超强续航 4800万超清夜拍 6.59英寸 全网通6GB+64GB 魅海蓝【行情 报价 价格 评测】-京东</title>\\n    <meta name=\"keywords\" content=\"HUAWEI荣耀9X,华为荣耀9X,华为荣耀9X报价,HUAWEI荣耀9X报价\"/>\\n    <meta name=\"description\" content=\"【华为荣耀9X】京东JD.COM提供华为荣耀9X正品行货，并包括HUAWEI荣耀9X网购指南，以及华为荣耀9X图片、荣耀9X参数、荣耀9X评论、荣耀9X心得、荣耀9X技巧等信息，网购华为荣耀9X上京东,放心又轻松\" />\\n    <meta name=\"format-detection\" content=\"telephone=no\">\\n    <meta http-equiv=\"mobile-agent\" content=\"format=xhtml; url=//item.m.jd.com/product/100004076535.html\">\\n    <meta http-equiv=\"mobile-agent\" content=\"format=html5; url=//item.m.jd.com/product/100004076535.html\">\\n    <meta http-equiv=\"X-UA-Compatible\" content=\"IE=Edge\">\\n    <link rel=\"canonical\" href=\"//item.jd.com/100004076535.html\"/>\\n        <link rel=\"dns-prefetch\" href=\"//misc.360buyimg.com\"/>\\n    <link rel=\"dns-prefetch\" href=\"//static.360buyimg.com\"/>\\n    <link'"
      ]
     },
     "execution_count": 6,
     "metadata": {},
     "output_type": "execute_result"
    }
   ],
   "source": [
    "r.text[:1000]"
   ]
  },
  {
   "cell_type": "code",
   "execution_count": 11,
   "metadata": {},
   "outputs": [
    {
     "name": "stdout",
     "output_type": "stream",
     "text": [
      "<!DOCTYPE HTML>\n",
      "<html lang=\"zh-CN\">\n",
      "<head>\n",
      "    <!--yushou-->\n",
      "    <meta http-equiv=\"Content-Type\" content=\"text/html; charset=gbk\" />\n",
      "    <title>【华为荣耀9X】【预售赠耳机】荣耀9X新品手机 麒麟810 4000mAh超强续航 4800万超清夜拍 6.59英寸 全网通6GB+64GB 魅海蓝【行情 报价 价格 评测】-京东</title>\n",
      "    <meta name=\"keywords\" content=\"HUAWEI荣耀9X,华为荣耀9X,华为荣耀9X报价,HUAWEI荣耀9X报价\"/>\n",
      "    <meta name=\"description\" content=\"【华为荣耀9X】京东JD.COM提供华为荣耀9X正品行货，并包括HUAWEI荣耀9X网购指南，以及华为荣耀9X图片、荣耀9X参数、荣耀9X评论、荣耀9X心得、荣耀9X技巧等信息，网购华为荣耀9X上京东,放心又轻松\" />\n",
      "    <meta name=\"format-detection\" content=\"telephone=no\">\n",
      "    <meta http-equiv=\"mobile-agent\" content=\"format=xhtml; url=//item.m.jd.com/product/100004076535.html\">\n",
      "    <meta http-equiv=\"mobile-agent\" content=\"format=html5; url=//item.m.jd.com/product/100004076535.html\">\n",
      "    <meta http-equiv=\"X-UA-Compatible\" content=\"IE=Edge\">\n",
      "    <link rel=\"canonical\" href=\"//item.jd.com/100004076535.html\"/>\n",
      "        <link rel=\"dns-prefetch\" href=\"//misc.360buyimg.com\"/>\n",
      "    <link rel=\"dns-prefetch\" href=\"//static.360buyimg.com\"/>\n",
      "    <link\n"
     ]
    }
   ],
   "source": [
    "import requests\n",
    "url ='https://item.jd.com/100004076535.html'\n",
    "try:\n",
    "    r= requests.get(url)\n",
    "    r.raise_for_status()\n",
    "    r.encoding = r.apparent_encoding\n",
    "    print(r.text[:1000])\n",
    "except:\n",
    "    print('爬取失败')"
   ]
  }
 ],
 "metadata": {
  "kernelspec": {
   "display_name": "Python 3",
   "language": "python",
   "name": "python3"
  },
  "language_info": {
   "codemirror_mode": {
    "name": "ipython",
    "version": 3
   },
   "file_extension": ".py",
   "mimetype": "text/x-python",
   "name": "python",
   "nbconvert_exporter": "python",
   "pygments_lexer": "ipython3",
   "version": "3.7.3"
  }
 },
 "nbformat": 4,
 "nbformat_minor": 2
}
