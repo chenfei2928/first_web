{
 "cells": [
  {
   "cell_type": "code",
   "execution_count": 3,
   "metadata": {},
   "outputs": [
    {
     "data": {
      "text/plain": [
       "'\\nPandas数据结构DataFrame：索引\\nDataFrame即有行索引也有列索引，可以被看作由Series组成的字典（共用一个索引）\\n\\n选择列、选择行、切片、布尔判断\\n'"
      ]
     },
     "execution_count": 3,
     "metadata": {},
     "output_type": "execute_result"
    }
   ],
   "source": [
    "\"\"\"\n",
    "Pandas数据结构DataFrame：索引\n",
    "DataFrame即有行索引也有列索引，可以被看作由Series组成的字典（共用一个索引）\n",
    "\n",
    "选择列、选择行、切片、布尔判断\n",
    "\"\"\""
   ]
  },
  {
   "cell_type": "code",
   "execution_count": 4,
   "metadata": {},
   "outputs": [],
   "source": [
    "import numpy as np\n",
    "import pandas as pd"
   ]
  },
  {
   "cell_type": "code",
   "execution_count": 18,
   "metadata": {},
   "outputs": [
    {
     "name": "stdout",
     "output_type": "stream",
     "text": [
      "               a         b          c          d\n",
      "one    73.653417  82.93020  66.423761  91.469201\n",
      "two    20.838579  73.30973  93.488844  56.351450\n",
      "three  19.299775  94.54470  84.519301  93.149101\n",
      "--------------fgx-1--------\n",
      "one      73.653417\n",
      "two      20.838579\n",
      "three    19.299775\n",
      "Name: a, dtype: float64 <class 'pandas.core.series.Series'>\n",
      "--------------fgx-2--------\n",
      "               a          c\n",
      "one    73.653417  66.423761\n",
      "two    20.838579  93.488844\n",
      "three  19.299775  84.519301 <class 'pandas.core.frame.DataFrame'>\n",
      "--------------fgx-3--------\n",
      "a    73.653417\n",
      "b    82.930200\n",
      "c    66.423761\n",
      "d    91.469201\n",
      "Name: one, dtype: float64 <class 'pandas.core.series.Series'>\n",
      "--------------fgx-4--------\n",
      "               a        b          c          d\n",
      "one    73.653417  82.9302  66.423761  91.469201\n",
      "three  19.299775  94.5447  84.519301  93.149101 <class 'pandas.core.frame.DataFrame'>\n"
     ]
    }
   ],
   "source": [
    "# 选择行与列\n",
    "df = pd.DataFrame(np.random.rand(12).reshape(3,4)*100,\n",
    "                 index=['one','two','three'],\n",
    "                 columns=['a','b','c','d'])\n",
    "print(df)\n",
    "print('--------------fgx-1--------')\n",
    "data1 = df['a']\n",
    "print(data1,type(data1))\n",
    "print('--------------fgx-2--------')\n",
    "data2=df[['a','c']]              #双中括号\n",
    "print(data2,type(data2))\n",
    "    # 按照列名选择列，只选择一列输出Series，选择多列输出DataFrame;\n",
    "print('--------------fgx-3--------')\n",
    "data3=df.loc['one']\n",
    "print(data3,type(data3))\n",
    "print('--------------fgx-4--------')\n",
    "data4=df.loc[['one','three']]    #双中括号\n",
    "print(data4,type(data4))  \n"
   ]
  },
  {
   "cell_type": "code",
   "execution_count": 26,
   "metadata": {},
   "outputs": [
    {
     "name": "stdout",
     "output_type": "stream",
     "text": [
      "               a          b          c          d\n",
      "one    52.020812  91.500135  80.910576  82.592957\n",
      "two    81.366739  44.050876  17.587026  90.917660\n",
      "three  61.229102  85.090220  94.553000  84.296717\n",
      "------分割线--1--------------------\n",
      "one      52.020812\n",
      "two      81.366739\n",
      "three    61.229102\n",
      "Name: a, dtype: float64\n",
      "               b          c\n",
      "one    91.500135  80.910576\n",
      "two    44.050876  17.587026\n",
      "three  85.090220  94.553000\n",
      "------分割线--2--------------------\n",
      "             a          b          c          d\n",
      "one  52.020812  91.500135  80.910576  82.592957 <class 'pandas.core.frame.DataFrame'>\n"
     ]
    }
   ],
   "source": [
    "# df[]  选择列\n",
    "# 一般用于选择列，也可以选择行\n",
    "\n",
    "df = pd.DataFrame(np.random.rand(12).reshape(3,4)*100,\n",
    "                 index=['one','two','three'],\n",
    "                 columns=['a','b','c','d'])\n",
    "print(df)\n",
    "print('------分割线--1--------------------')\n",
    "\n",
    "data1 = df['a']\n",
    "data2 = df[['b','c']]  # 尝试输入 data2 = df[['b','c','e']]\n",
    "print(data1)\n",
    "print(data2)\n",
    "    # df[]默认选择列，[]中写列名（所以一般数据columns都会单独制定，不会用默认数字列名，以免和index冲突）\n",
    "    # 单选列为Series，print结果为Series格式\n",
    "    # 多选列为DataFrame，print结果为DataFrame格式\n",
    "print('------分割线--2--------------------')\n",
    "\n",
    "data3=df[:1]\n",
    "print(data3,type(data3))\n",
    "    # df[]中为数字时，默认选择行，且只能进行切片的选择，不能单独选择。（df[0])\n",
    "    # 数据结果为DataFrame，即便只选择一行。\n",
    "    # df[]不能通过索引标签名来选择行 df['one']\n",
    "    \n",
    "    ###核心笔记：df[col]一般用于选择列，[]中写列名\n"
   ]
  },
  {
   "cell_type": "code",
   "execution_count": 43,
   "metadata": {},
   "outputs": [
    {
     "name": "stdout",
     "output_type": "stream",
     "text": [
      "               a          b          c          d\n",
      "one    50.721368  13.627735  40.687840  19.035268\n",
      "two    85.940590  65.840855  29.000521  61.841011\n",
      "three  36.415940  17.582261  49.632056  12.677988\n",
      "four    8.464321  14.050238  65.904091  77.720542\n",
      "           a          b          c          d\n",
      "0  21.314143  62.961886  52.387880   5.172236\n",
      "1  59.829401  83.284049  69.751763  81.482492\n",
      "2  88.344320  95.802364  65.385654  58.039725\n",
      "3  53.726211  31.881767  71.723111   0.359121\n",
      "........................分割线...............................\n",
      "a    50.721368\n",
      "b    13.627735\n",
      "c    40.687840\n",
      "d    19.035268\n",
      "Name: one, dtype: float64 <class 'pandas.core.series.Series'>\n",
      "..........分割线2..................\n",
      "a    59.829401\n",
      "b    83.284049\n",
      "c    69.751763\n",
      "d    81.482492\n",
      "Name: 1, dtype: float64 <class 'pandas.core.series.Series'>\n",
      "........................分割线3...............................\n",
      "              a          b          c          d\n",
      "two    85.94059  65.840855  29.000521  61.841011\n",
      "three  36.41594  17.582261  49.632056  12.677988\n",
      "           a          b          c          d\n",
      "3  53.726211  31.881767  71.723111   0.359121\n",
      "2  88.344320  95.802364  65.385654  58.039725\n",
      "1  59.829401  83.284049  69.751763  81.482492\n",
      "........................分割线4.........................\n",
      "               a          b          c          d\n",
      "one    50.721368  13.627735  40.687840  19.035268\n",
      "two    85.940590  65.840855  29.000521  61.841011\n",
      "three  36.415940  17.582261  49.632056  12.677988\n",
      "           a          b          c          d\n",
      "1  59.829401  83.284049  69.751763  81.482492\n",
      "2  88.344320  95.802364  65.385654  58.039725\n",
      "3  53.726211  31.881767  71.723111   0.359121\n",
      "切片索引\n"
     ]
    }
   ],
   "source": [
    "# df.loc[]   按index选择行\n",
    "\n",
    "df1 = pd.DataFrame(np.random.rand(16).reshape(4,4)*100,\n",
    "                  index=['one','two','three','four'],\n",
    "                  columns=['a','b','c','d'])\n",
    "\n",
    "df2 = pd.DataFrame(np.random.rand(16).reshape(4,4)*100,\n",
    "                  columns=['a','b','c','d'])\n",
    "\n",
    "print(df1)\n",
    "print(df2)\n",
    "print('........................分割线...............................')\n",
    "\n",
    "data1 = df1.loc['one']\n",
    "print(data1,type(data1))\n",
    "print('..........分割线2..................')\n",
    "\n",
    "data2 = df2.loc[1]\n",
    "print(data2,type(data1))\n",
    "    # 单个标签索引，返回Series    \n",
    "    \n",
    "print('........................分割线3...............................')\n",
    "\n",
    "data3 = df1.loc[['two','three']]\n",
    "print(data3)\n",
    "\n",
    "data4= df2.loc[[3,2,1]]\n",
    "print(data4)\n",
    "    # 多个标签索引，如果标签不存在，则返回NaN（自己测试报错）\n",
    "    # 顺序可变\n",
    "print('........................分割线4.........................')\n",
    "\n",
    "data5 = df1.loc['one':'three']\n",
    "print(data5)\n",
    "\n",
    "data6 =df2.loc[1:3]\n",
    "print(data6)\n",
    "print('切片索引')\n",
    "    #可以做切片对象\n",
    "    #切片首末均包含\n",
    "    \n",
    "#核心笔记： df.loc[]主要针对index选择行，通知支持指定index，及默认数字。\n"
   ]
  },
  {
   "cell_type": "code",
   "execution_count": 62,
   "metadata": {},
   "outputs": [
    {
     "name": "stdout",
     "output_type": "stream",
     "text": [
      "               a          b          c          d\n",
      "one    24.101100  35.322566  76.392143  13.149242\n",
      "two     9.443685  78.603684  26.568527  59.498632\n",
      "three  88.837460  16.095520  80.343078  93.762704\n",
      "four   38.473715  29.178750  12.971180  10.290244\n",
      "...............................\n",
      "a     9.443685\n",
      "b    78.603684\n",
      "c    26.568527\n",
      "d    59.498632\n",
      "Name: two, dtype: float64\n",
      "...............2............\n",
      "a    38.473715\n",
      "b    29.178750\n",
      "c    12.971180\n",
      "d    10.290244\n",
      "Name: four, dtype: float64\n",
      "................3...............\n",
      "              a          b          c          d\n",
      "one    24.10110  35.322566  76.392143  13.149242\n",
      "three  88.83746  16.095520  80.343078  93.762704\n",
      "               a          b          c          d\n",
      "four   38.473715  29.178750  12.971180  10.290244\n",
      "three  88.837460  16.095520  80.343078  93.762704\n",
      "two     9.443685  78.603684  26.568527  59.498632\n",
      "................3...............\n",
      "               a          b          c          d\n",
      "two     9.443685  78.603684  26.568527  59.498632\n",
      "three  88.837460  16.095520  80.343078  93.762704\n",
      "              a          b          c          d\n",
      "one    24.10110  35.322566  76.392143  13.149242\n",
      "three  88.83746  16.095520  80.343078  93.762704\n"
     ]
    }
   ],
   "source": [
    " # df.iloc[] -按照整数位置（从轴的0到length-1）选择行\n",
    " # 类似list的索引，其顺序就是DataFrame的整数位置，从0开始计\n",
    "\n",
    "df = pd.DataFrame(np.random.rand(16).reshape(4,4)*100,\n",
    "                  index=['one','two','three','four'],\n",
    "                  columns=['a','b','c','d'])\n",
    "print(df)\n",
    "print('...............................')\n",
    "\n",
    "print(df.iloc[1])\n",
    "print('...............2............')\n",
    "print(df.iloc[-1])\n",
    "    #单位置索引\n",
    "    # 和loc索引不同，不能索引超出数据行数的位置。\n",
    "print('................3...............')\n",
    "        \n",
    "print(df.iloc[[0,2]])\n",
    "print(df.iloc[[3,2,1]])\n",
    "    #多位置索引\n",
    "    # 顺序可变\n",
    "print('................3...............')\n",
    "\n",
    "print(df.iloc[1:3])\n",
    "print(df.iloc[::2])\n",
    "    #切片索引\n",
    "    # 左闭右开\n"
   ]
  },
  {
   "cell_type": "code",
   "execution_count": 73,
   "metadata": {
    "scrolled": true
   },
   "outputs": [
    {
     "name": "stdout",
     "output_type": "stream",
     "text": [
      "               a          b          c          d\n",
      "one    58.698251  81.293845  43.182923  38.688042\n",
      "two    32.801751  78.076696  89.943392  99.248982\n",
      "three  79.350616  35.018212  64.679944  91.363261\n",
      "four   68.239136  71.684258  25.188002  79.932155\n",
      "----------------------------------\n",
      "           a      b      c      d\n",
      "one    False  False  False  False\n",
      "two    False  False  False  False\n",
      "three  False  False  False  False\n",
      "four   False  False  False  False <class 'pandas.core.frame.DataFrame'>\n",
      "        a   b   c   d\n",
      "one   NaN NaN NaN NaN\n",
      "two   NaN NaN NaN NaN\n",
      "three NaN NaN NaN NaN\n",
      "four  NaN NaN NaN NaN\n",
      "----------------------------------\n",
      "one       True\n",
      "two      False\n",
      "three     True\n",
      "four      True\n",
      "Name: a, dtype: bool <class 'pandas.core.series.Series'>\n",
      "               a          b          c          d\n",
      "one    58.698251  81.293845  43.182923  38.688042\n",
      "three  79.350616  35.018212  64.679944  91.363261\n",
      "four   68.239136  71.684258  25.188002  79.932155\n",
      "----------------------------------\n",
      "           a      b\n",
      "one     True   True\n",
      "two    False   True\n",
      "three   True  False\n",
      "four    True   True <class 'pandas.core.frame.DataFrame'>\n",
      "               a          b   c   d\n",
      "one    58.698251  81.293845 NaN NaN\n",
      "two          NaN  78.076696 NaN NaN\n",
      "three  79.350616        NaN NaN NaN\n",
      "four   68.239136  71.684258 NaN NaN\n",
      "           a      b      c      d\n",
      "one    False  False   True   True\n",
      "three  False   True  False  False <class 'pandas.core.frame.DataFrame'>\n",
      "        a          b          c          d\n",
      "one   NaN        NaN  43.182923  38.688042\n",
      "two   NaN        NaN        NaN        NaN\n",
      "three NaN  35.018212        NaN        NaN\n",
      "four  NaN        NaN        NaN        NaN\n"
     ]
    }
   ],
   "source": [
    "# 布尔型索引\n",
    "# 和Series 原理相同\n",
    "\n",
    "df = pd.DataFrame(np.random.rand(16).reshape(4,4)*100,\n",
    "                 index =['one','two','three','four'],\n",
    "                 columns=['a','b','c','d'])\n",
    "print(df)\n",
    "print('----------------------------------')\n",
    "\n",
    "b1 = df<20\n",
    "print(b1,type(b1))\n",
    "print(df[b1])  # 也可以书写为df[df<20]\n",
    "    #不做索引则会对数据每个值进行判断\n",
    "    #索引结果保留 所有数据；True返回原数据，False返回值为NaN\n",
    "    \n",
    "print('----------------------------------')\n",
    "b2 = df['a']>50\n",
    "print(b2,type(b2))\n",
    "print(df[b2])\n",
    "    # 单列做判断\n",
    "    # 索引结果保留，单列判断为True的行数据，包括其他列\n",
    "print('----------------------------------')\n",
    "\n",
    "b3 = df[['a','b']]>50\n",
    "print(b3,type(b3))\n",
    "print(df[b3])\n",
    "    # 多列做判断\n",
    "    # 索引结果保留 所有数据：True返回原数据，False返回值为NaN\n",
    "\n",
    "b4 =df.loc[['one','three']]<50\n",
    "print(b4,type(b4))\n",
    "print(df[b4])  \n",
    "    # 多行做判断\n",
    "    # 索引结果保留所有数据：True返回原数据，False返回值为NaN\n",
    "    \n"
   ]
  },
  {
   "cell_type": "code",
   "execution_count": 80,
   "metadata": {},
   "outputs": [
    {
     "name": "stdout",
     "output_type": "stream",
     "text": [
      "               a          b          c          d\n",
      "one     1.616035  61.928194   0.887149  28.665893\n",
      "two    22.437584   1.063654   3.264088  93.474081\n",
      "three  97.849872  72.160103  48.127822  48.732527\n",
      "four   69.577781  81.737867  10.815263  89.861221\n",
      "------\n",
      "one       1.616035\n",
      "three    97.849872\n",
      "Name: a, dtype: float64\n",
      "               b          c          d\n",
      "one    61.928194   0.887149  28.665893\n",
      "three  72.160103  48.127822  48.732527\n",
      "             a          b         c          d\n",
      "one   1.616035  61.928194  0.887149  28.665893\n",
      "two  22.437584   1.063654  3.264088  93.474081\n"
     ]
    }
   ],
   "source": [
    "# 多重索引，比如同时索引行和列\n",
    "# 先选择行再选择列 —— 相当于对于一个数据，先筛选字段，在选择数据量\n",
    "df = pd.DataFrame(np.random.rand(16).reshape(4,4)*100,\n",
    "                   index = ['one','two','three','four'],\n",
    "                   columns = ['a','b','c','d'])\n",
    "print(df)\n",
    "print('------')\n",
    "\n",
    "print(df['a'].loc[['one','three']])   #选择a列的one、three行\n",
    "print(df[['b','c','d']].iloc[::2])    #选择b、c、d列的 one、three行\n",
    "print(df[df['a']<50].iloc[:2])      # 选择满足判断索引的前两行数据"
   ]
  },
  {
   "cell_type": "code",
   "execution_count": 81,
   "metadata": {},
   "outputs": [
    {
     "data": {
      "text/plain": [
       "'\\n作业1：如图创建Dataframe(4*4，值为0-100的随机数)，通过索引得到以下值\\n\\n① 索引得到b，c列的所有值\\n\\n② 索引得到第三第四行的数据\\n\\n③ 按顺序索引得到two，one行的值\\n④ 索引得到大于50的值\\n'"
      ]
     },
     "execution_count": 81,
     "metadata": {},
     "output_type": "execute_result"
    }
   ],
   "source": [
    "'''\n",
    "作业1：如图创建Dataframe(4*4，值为0-100的随机数)，通过索引得到以下值\n",
    "\n",
    "① 索引得到b，c列的所有值\n",
    "\n",
    "② 索引得到第三第四行的数据\n",
    "\n",
    "③ 按顺序索引得到two，one行的值\n",
    "④ 索引得到大于50的值\n",
    "'''\n"
   ]
  },
  {
   "cell_type": "code",
   "execution_count": 106,
   "metadata": {},
   "outputs": [
    {
     "name": "stdout",
     "output_type": "stream",
     "text": [
      "               a          b          c          d\n",
      "one    60.174283  99.293360  56.770624  65.283958\n",
      "two    23.696065  71.962077  57.263170   5.777485\n",
      "three  74.271791  76.499899  89.681148   6.840548\n",
      "four   58.141682  72.533759   0.929512  29.350818\n",
      "------\n",
      "① 索引得到b，c列的所有值\n",
      "               b          c\n",
      "one    99.293360  56.770624\n",
      "two    71.962077  57.263170\n",
      "three  76.499899  89.681148\n",
      "four   72.533759   0.929512\n",
      ".....② 索引得到第三第四行的数据....\n",
      "               a          b          c          d\n",
      "three  74.271791  76.499899  89.681148   6.840548\n",
      "four   58.141682  72.533759   0.929512  29.350818\n",
      "               a          b          c          d\n",
      "three  74.271791  76.499899  89.681148   6.840548\n",
      "four   58.141682  72.533759   0.929512  29.350818\n",
      "③ 按顺序索引得到two，one行的值\n",
      "             a          b          c          d\n",
      "two  23.696065  71.962077  57.263170   5.777485\n",
      "one  60.174283  99.293360  56.770624  65.283958\n",
      "④ 索引得到大于50的值\n",
      "               a          b          c          d\n",
      "one    60.174283  99.293360  56.770624  65.283958\n",
      "two          NaN  71.962077  57.263170        NaN\n",
      "three  74.271791  76.499899  89.681148        NaN\n",
      "four   58.141682  72.533759        NaN        NaN\n"
     ]
    }
   ],
   "source": [
    "df = pd.DataFrame(np.random.rand(16).reshape(4,4)*100,\n",
    "                   index = ['one','two','three','four'],\n",
    "                   columns = ['a','b','c','d'])\n",
    "print(df)\n",
    "print('------')\n",
    "print('① 索引得到b，c列的所有值')\n",
    "print(df[['b','c']])\n",
    "print('.....② 索引得到第三第四行的数据....')\n",
    "print(df.loc[['three','four']])\n",
    "#print(df.loc[1:3])\n",
    "print(df[2:4])\n",
    "print('③ 按顺序索引得到two，one行的值')\n",
    "print(df.loc[['two','one']])\n",
    "print('④ 索引得到大于50的值')\n",
    "print(df[df>50])"
   ]
  }
 ],
 "metadata": {
  "kernelspec": {
   "display_name": "Python 3",
   "language": "python",
   "name": "python3"
  },
  "language_info": {
   "codemirror_mode": {
    "name": "ipython",
    "version": 3
   },
   "file_extension": ".py",
   "mimetype": "text/x-python",
   "name": "python",
   "nbconvert_exporter": "python",
   "pygments_lexer": "ipython3",
   "version": "3.7.3"
  }
 },
 "nbformat": 4,
 "nbformat_minor": 2
}
