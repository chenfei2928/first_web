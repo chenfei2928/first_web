{
 "cells": [
  {
   "cell_type": "code",
   "execution_count": 3,
   "metadata": {},
   "outputs": [
    {
     "data": {
      "text/plain": [
       "'\\n数据分组\\n\\n分组统计 —groupby功能\\n①根据某些条件将数据拆分成组\\n②对每个组独立应用函数\\n③将结果合并到一个数据结构中\\n\\nDataFrame在行（axis=0）或列（axis=1）上进行分组，将一个函数应用到各个分组并产生一个新值，然后函数执行结果被合并到最终的结果对象中。\\n\\ndf.groupby(by=None,axis=0,axis=1, level=None as_index=True,sort=True,goup_keys=True, squeeze=False, **kwargs)\\n\\n'"
      ]
     },
     "execution_count": 3,
     "metadata": {},
     "output_type": "execute_result"
    }
   ],
   "source": [
    "'''\n",
    "数据分组\n",
    "\n",
    "分组统计 —groupby功能\n",
    "①根据某些条件将数据拆分成组\n",
    "②对每个组独立应用函数\n",
    "③将结果合并到一个数据结构中\n",
    "\n",
    "DataFrame在行（axis=0）或列（axis=1）上进行分组，将一个函数应用到各个分组并产生一个新值，然后函数执行结果被合并到最终的结果对象中。\n",
    "\n",
    "df.groupby(by=None,axis=0,axis=1, level=None as_index=True,sort=True,goup_keys=True, squeeze=False, **kwargs)\n",
    "\n",
    "'''"
   ]
  },
  {
   "cell_type": "code",
   "execution_count": 6,
   "metadata": {},
   "outputs": [],
   "source": [
    "import pandas as pd\n",
    "import numpy as np"
   ]
  },
  {
   "cell_type": "code",
   "execution_count": 16,
   "metadata": {},
   "outputs": [
    {
     "name": "stdout",
     "output_type": "stream",
     "text": [
      "     A      B         C         D\n",
      "0  foo    one -0.326477  0.157415\n",
      "1  bar    one  0.246116 -0.119822\n",
      "2  foo    two  1.006412 -0.427123\n",
      "3  bar  three  1.337611  1.425761\n",
      "4  foo    two -0.790050 -1.427672\n",
      "5  bar    two  0.045805 -0.466265\n",
      "6  foo    one  0.661627 -1.259604\n",
      "7  foo  three -0.154377 -1.234809\n",
      ".................................................\n",
      "<pandas.core.groupby.generic.DataFrameGroupBy object at 0x000001B54E082470> <class 'pandas.core.groupby.generic.DataFrameGroupBy'>\n",
      ".....................2...........................\n",
      "            C         D\n",
      "A                      \n",
      "bar  0.543178  0.279891\n",
      "foo  0.079427 -0.838359 <class 'pandas.core.frame.DataFrame'> \n",
      " Index(['C', 'D'], dtype='object')\n",
      ".....................3...........................\n",
      "                  C         D\n",
      "A   B                        \n",
      "bar one    0.246116 -0.119822\n",
      "    three  1.337611  1.425761\n",
      "    two    0.045805 -0.466265\n",
      "foo one    0.167575 -0.551095\n",
      "    three -0.154377 -1.234809\n",
      "    two    0.108181 -0.927397 <class 'pandas.core.frame.DataFrame'> \n",
      " Index(['C', 'D'], dtype='object')\n",
      ".....................4...........................\n",
      "A\n",
      "bar    0.279891\n",
      "foo   -0.838359\n",
      "Name: D, dtype: float64 <class 'pandas.core.series.Series'>\n"
     ]
    }
   ],
   "source": [
    "# 分组\n",
    "\n",
    "df = pd.DataFrame({'A' : ['foo', 'bar', 'foo', 'bar','foo', 'bar', 'foo', 'foo'],\n",
    "                   'B' : ['one', 'one', 'two', 'three', 'two', 'two', 'one', 'three'],\n",
    "                   'C' : np.random.randn(8),\n",
    "                   'D' : np.random.randn(8)})\n",
    "print(df)\n",
    "print('.................................................')\n",
    "\n",
    "print(df.groupby('A'),type(df.groupby('A')))\n",
    "print('.....................2...........................')\n",
    "    #直接分组得到一个groupby对象，是一个中间数据，没有进行计算。\n",
    "\n",
    "a = df.groupby('A').mean()\n",
    "print(a,type(a),'\\n',a.columns)\n",
    "print('.....................3...........................')\n",
    "\n",
    "b = df.groupby(['A','B']).mean()\n",
    "print(b,type(b),'\\n',b.columns)\n",
    "print('.....................4...........................')\n",
    "\n",
    "c = df.groupby('A')['D'].mean()     # 以A分组，算D的平均值\n",
    "print(c,type(c))\n",
    "\n",
    "# 通过分组后的计算，得到一个新的DataFrame\n",
    "# 默认axis=0,以行来分组；\n",
    "# 可单个或多个列分组([])\n"
   ]
  },
  {
   "cell_type": "code",
   "execution_count": 37,
   "metadata": {},
   "outputs": [
    {
     "name": "stdout",
     "output_type": "stream",
     "text": [
      "   X  Y\n",
      "0  A  1\n",
      "1  B  4\n",
      "2  A  3\n",
      "3  B  2\n",
      "<pandas.core.groupby.generic.DataFrameGroupBy object at 0x000001B54E082D68> <class 'pandas.core.groupby.generic.DataFrameGroupBy'>\n",
      "...................0..........................\n",
      "[('A',    X  Y\n",
      "0  A  1\n",
      "2  A  3), ('B',    X  Y\n",
      "1  B  4\n",
      "3  B  2)] --可迭代对象，直接生成list\n",
      "\n",
      "('A',    X  Y\n",
      "0  A  1\n",
      "2  A  3) ---以元祖形式显示\n",
      "\n",
      "A\n",
      "   X  Y\n",
      "0  A  1\n",
      "2  A  3\n",
      "###\n",
      "B\n",
      "   X  Y\n",
      "1  B  4\n",
      "3  B  2\n",
      "###\n",
      "-----------------------------------------------------\n",
      "   X  Y\n",
      "0  A  1\n",
      "2  A  3 \n",
      "\n",
      "   X  Y\n",
      "1  B  4\n",
      "3  B  2 \n",
      "\n",
      ".....................................................\n",
      "{'A': Int64Index([0, 2], dtype='int64'), 'B': Int64Index([1, 3], dtype='int64')}\n",
      "Int64Index([0, 2], dtype='int64')\n",
      "------------这段似乎没看懂--------------------\n",
      "X\n",
      "A    2\n",
      "B    2\n",
      "dtype: int64 <class 'pandas.core.series.Series'>\n",
      "-----------------新的开始---------------------\n",
      "     A      B         C         D\n",
      "0  foo    one  0.333532  1.349997\n",
      "1  bar    one -0.687232  1.414410\n",
      "2  foo    two -0.269347  0.500026\n",
      "3  bar  three  1.230610 -2.206777\n",
      "4  foo    two  0.406104  0.003179\n",
      "5  bar    two  0.577485  1.639696\n",
      "6  foo    one  0.703384 -0.205333\n",
      "7  foo  three -0.299282 -0.870081\n",
      "{('bar', 'one'): Int64Index([1], dtype='int64'), ('bar', 'three'): Int64Index([3], dtype='int64'), ('bar', 'two'): Int64Index([5], dtype='int64'), ('foo', 'one'): Int64Index([0, 6], dtype='int64'), ('foo', 'three'): Int64Index([7], dtype='int64'), ('foo', 'two'): Int64Index([2, 4], dtype='int64')}\n",
      "............有妖气...................\n",
      "Int64Index([7], dtype='int64')\n"
     ]
    }
   ],
   "source": [
    "# 分组- 可迭代对象\n",
    "\n",
    "df = pd.DataFrame({'X':['A','B','A','B'],'Y':[1,4,3,2]})\n",
    "print(df)\n",
    "print(df.groupby('X'),type(df.groupby('X')))\n",
    "print('...................0..........................')\n",
    "\n",
    "print(list(df.groupby('X')),'--可迭代对象，直接生成list\\n')\n",
    "print(list(df.groupby('X'))[0],'---以元祖形式显示\\n')\n",
    "for n,g in df.groupby('X'):\n",
    "      print(n)\n",
    "      print(g)\n",
    "      print('###')\n",
    "        # n是组名，g是分组后的DataFrame\n",
    "print('-----------------------------------------------------')\n",
    "\n",
    "print(df.groupby(['X']).get_group('A'),'\\n')\n",
    "print(df.groupby(['X']).get_group('B'),'\\n')\n",
    "    # .get_group() 提取分组后的组\n",
    "print('.....................................................')\n",
    "\n",
    "grouped = df.groupby(['X'])\n",
    "print(grouped.groups)\n",
    "print(grouped.groups['A'])\n",
    "    # .groups  将分组后的groups转为dict\n",
    "    #  可以字典索引方法来查看groups里的元素\n",
    "print('------------这段似乎没看懂--------------------')\n",
    "\n",
    "sz = grouped.size()\n",
    "print(sz,type(sz))\n",
    "print('-----------------新的开始---------------------')\n",
    "#   .size()  查看分组后的长度\n",
    "df = pd.DataFrame({'A' : ['foo', 'bar', 'foo', 'bar','foo', 'bar', 'foo', 'foo'],\n",
    "                   'B' : ['one', 'one', 'two', 'three', 'two', 'two', 'one', 'three'],\n",
    "                   'C' : np.random.randn(8),\n",
    "                   'D' : np.random.randn(8)})\n",
    "\n",
    "grouped = df.groupby([\"A\",\"B\"]).groups\n",
    "print(df)\n",
    "print(grouped)\n",
    "print('............有妖气...................')\n",
    "print(grouped[('foo','three')])\n",
    "    # 按照两个列进行分组"
   ]
  },
  {
   "cell_type": "code",
   "execution_count": 39,
   "metadata": {},
   "outputs": [
    {
     "name": "stdout",
     "output_type": "stream",
     "text": [
      "      data1     data2 key1 key2\n",
      "0  0.507210  0.356144    a  one\n",
      "1  0.295908  0.666067    b  two\n",
      "data1    float64\n",
      "data2    float64\n",
      "key1      object\n",
      "key2      object\n",
      "dtype: object\n",
      "__________________\n",
      "float64\n",
      "      data1     data2\n",
      "0  0.507210  0.356144\n",
      "1  0.295908  0.666067\n",
      "$$$$\n",
      "object\n",
      "  key1 key2\n",
      "0    a  one\n",
      "1    b  two\n",
      "$$$$\n"
     ]
    }
   ],
   "source": [
    "# 其他轴上的分组\n",
    "df = pd.DataFrame({'data1':np.random.rand(2),\n",
    "                  'data2':np.random.rand(2),\n",
    "                  'key1':['a','b'],\n",
    "                  'key2':['one','two']})\n",
    "print(df)\n",
    "print(df.dtypes)\n",
    "print('__________________')\n",
    "for n,p in df.groupby(df.dtypes,axis=1):\n",
    "    print(n)\n",
    "    print(p)\n",
    "    print('$$$$')\n",
    "# 按照值类型分列"
   ]
  },
  {
   "cell_type": "code",
   "execution_count": 43,
   "metadata": {},
   "outputs": [
    {
     "name": "stdout",
     "output_type": "stream",
     "text": [
      "    a   b   c   d\n",
      "0   0   1   2   3\n",
      "1   4   5   6   7\n",
      "2   8   9  10  11\n",
      "3  12  13  14  15\n",
      "-----\n",
      "{'a': 'one', 'b': 'one', 'c': 'two', 'd': 'two', 'e': 'three'}\n",
      "   one  two\n",
      "0    1    5\n",
      "1    9   13\n",
      "2   17   21\n",
      "3   25   29\n",
      "---------------------------------------\n",
      "a      one\n",
      "b      one\n",
      "c      two\n",
      "d      two\n",
      "e    three\n",
      "dtype: object \n",
      "\n",
      "one      2\n",
      "three    1\n",
      "two      2\n",
      "dtype: int64\n"
     ]
    }
   ],
   "source": [
    "# 通过字典或者Series分组\n",
    "df = pd.DataFrame(np.arange(16).reshape(4,4),\n",
    "                  columns = ['a','b','c','d'])\n",
    "print(df)\n",
    "print('-----')\n",
    "\n",
    "mapping = {'a':'one','b':'one','c':'two','d':'two','e':'three'}\n",
    "print(mapping)\n",
    "by_column = df.groupby(mapping,axis =1)\n",
    "print(by_column.sum())\n",
    "    # mapping中，a，b列对应的为one，  c，d列对应的为two，以字典来分组\n",
    "print('---------------------------------------')\n",
    "\n",
    "s = pd.Series(mapping)\n",
    "print(s,'\\n')\n",
    "print(s.groupby(s).count())\n",
    "    # s中，index中a,b对应的为one，c,d对应的为two，以Series来分组\n",
    "    "
   ]
  },
  {
   "cell_type": "code",
   "execution_count": 45,
   "metadata": {},
   "outputs": [
    {
     "name": "stdout",
     "output_type": "stream",
     "text": [
      "      a   b   c   d\n",
      "abc   0   1   2   3\n",
      "bcd   4   5   6   7\n",
      "aa    8   9  10  11\n",
      "b    12  13  14  15 \n",
      "\n",
      "    a   b   c   d\n",
      "1  12  13  14  15\n",
      "2   8   9  10  11\n",
      "3   4   6   8  10\n"
     ]
    }
   ],
   "source": [
    "# 通过函数分组\n",
    "df = pd.DataFrame(np.arange(16).reshape(4,4),\n",
    "                  columns = ['a','b','c','d'],\n",
    "                 index = ['abc','bcd','aa','b'])\n",
    "print(df,'\\n')\n",
    "print(df.groupby(len).sum())\n",
    "    # 按照字母长度分组"
   ]
  },
  {
   "cell_type": "code",
   "execution_count": 56,
   "metadata": {},
   "outputs": [
    {
     "name": "stdout",
     "output_type": "stream",
     "text": [
      "1     1\n",
      "2     2\n",
      "3     3\n",
      "1    10\n",
      "2    20\n",
      "3    30\n",
      "dtype: int64\n",
      "<pandas.core.groupby.generic.SeriesGroupBy object at 0x000001B54E082DA0>\n",
      "1    1\n",
      "2    2\n",
      "3    3\n",
      "dtype: int64 --first:非NaN的第一个值\n",
      "\n",
      "1    10\n",
      "2    20\n",
      "3    30\n",
      "dtype: int64 --last:非NaN的最后一个值\n",
      "\n",
      "1    11\n",
      "2    22\n",
      "3    33\n",
      "dtype: int64 ---sum:非NaN的和\n",
      "\n",
      "1     5.5\n",
      "2    11.0\n",
      "3    16.5\n",
      "dtype: float64 --mean:非NaN的平均值\n",
      "\n",
      "1     5.5\n",
      "2    11.0\n",
      "3    16.5\n",
      "dtype: float64 --median:非NaN的算术中位数\n",
      "\n",
      "1    2\n",
      "2    2\n",
      "3    2\n",
      "dtype: int64 → count：非NaN的值\n",
      "\n",
      "1    1\n",
      "2    2\n",
      "3    3\n",
      "dtype: int64 → min、max：非NaN的最小值、最大值\n",
      "\n",
      "1     6.363961\n",
      "2    12.727922\n",
      "3    19.091883\n",
      "dtype: float64 → std，var：非NaN的标准差和方差(这个不太理解)\n",
      "\n",
      "1    10\n",
      "2    40\n",
      "3    90\n",
      "dtype: int64 → prod：非NaN的积\n",
      "\n"
     ]
    }
   ],
   "source": [
    "# 分组计算函数方法\n",
    "s = pd.Series([1, 2, 3, 10, 20, 30], index = [1, 2, 3, 1, 2, 3])\n",
    "print(s)\n",
    "\n",
    "grouped = s.groupby(level=0)  # 唯一索引用.groupby(level=0)，将同一个index的分为一组\n",
    "print(grouped)\n",
    "\n",
    "print(grouped.first(),'--first:非NaN的第一个值\\n')\n",
    "print(grouped.last(),'--last:非NaN的最后一个值\\n')\n",
    "print(grouped.sum(),'---sum:非NaN的和\\n')\n",
    "print(grouped.mean(),'--mean:非NaN的平均值\\n')\n",
    "print(grouped.median(),'--median:非NaN的算术中位数\\n')\n",
    "print(grouped.count(),'→ count：非NaN的值\\n')\n",
    "print(grouped.min(),'→ min、max：非NaN的最小值、最大值\\n')\n",
    "print(grouped.std(),'→ std，var：非NaN的标准差和方差(这个不太理解)\\n')\n",
    "print(grouped.prod(),'→ prod：非NaN的积\\n')"
   ]
  },
  {
   "cell_type": "code",
   "execution_count": 60,
   "metadata": {},
   "outputs": [
    {
     "name": "stdout",
     "output_type": "stream",
     "text": [
      "   a         b         c         d\n",
      "0  1  0.312677  0.328683  0.252720\n",
      "1  1  0.053759  0.302067  0.547328\n",
      "2  2  0.435654  0.536580  0.264867\n",
      "3  2  0.326777  0.455638  0.302090\n",
      ".....xxfgx..........\n",
      "          b                   c                   d          \n",
      "       mean       sum      mean       sum      mean       sum\n",
      "a                                                            \n",
      "1  0.183218  0.366436  0.315375  0.630750  0.400024  0.800048\n",
      "2  0.381215  0.762431  0.496109  0.992218  0.283479  0.566958\n",
      ".....xxfgx..2........\n",
      "    result1   result2\n",
      "a                    \n",
      "1  0.183218  0.366436\n",
      "2  0.381215  0.762431\n"
     ]
    },
    {
     "name": "stderr",
     "output_type": "stream",
     "text": [
      "D:\\ProgramData\\Anaconda3\\lib\\site-packages\\ipykernel_launcher.py:12: FutureWarning: using a dict on a Series for aggregation\n",
      "is deprecated and will be removed in a future version\n",
      "  if sys.path[0] == '':\n"
     ]
    }
   ],
   "source": [
    "# 多函数计算 :agg()\n",
    "\n",
    "df = pd.DataFrame({'a':[1,1,2,2],\n",
    "                  'b':np.random.rand(4),\n",
    "                  'c':np.random.rand(4),\n",
    "                  'd':np.random.rand(4),})\n",
    "print(df)\n",
    "print('.....xxfgx..........')\n",
    "print(df.groupby('a').agg(['mean',np.sum]))\n",
    "print('.....xxfgx..2........')\n",
    "print(df.groupby('a')['b'].agg({'result1':np.mean,\n",
    "                              'result2':np.sum}))\n"
   ]
  },
  {
   "cell_type": "code",
   "execution_count": null,
   "metadata": {},
   "outputs": [],
   "source": [
    "# 章节小作业 暂时未做；\n"
   ]
  }
 ],
 "metadata": {
  "kernelspec": {
   "display_name": "Python 3",
   "language": "python",
   "name": "python3"
  },
  "language_info": {
   "codemirror_mode": {
    "name": "ipython",
    "version": 3
   },
   "file_extension": ".py",
   "mimetype": "text/x-python",
   "name": "python",
   "nbconvert_exporter": "python",
   "pygments_lexer": "ipython3",
   "version": "3.7.3"
  }
 },
 "nbformat": 4,
 "nbformat_minor": 2
}
