{
 "cells": [
  {
   "cell_type": "code",
   "execution_count": 4,
   "metadata": {},
   "outputs": [
    {
     "data": {
      "text/plain": [
       "\"\\n连接 — 沿轴执行连接操作\\npd.concat(objs,axis=0,join='outer',join_axes=None,ignore_index=False,\\n            key=None,levels=None,names=None,verify_integrity=False,copy=True)\\n            \\n\""
      ]
     },
     "execution_count": 4,
     "metadata": {},
     "output_type": "execute_result"
    }
   ],
   "source": [
    "# 连接与修补   concat ,combline_first\n",
    "\"\"\"\n",
    "连接 — 沿轴执行连接操作\n",
    "pd.concat(objs,axis=0,join='outer',join_axes=None,ignore_index=False,\n",
    "            key=None,levels=None,names=None,verify_integrity=False,copy=True)\n",
    "            \n",
    "\"\"\"\n",
    "\n"
   ]
  },
  {
   "cell_type": "code",
   "execution_count": 5,
   "metadata": {},
   "outputs": [],
   "source": [
    "import numpy  as np\n",
    "import pandas as pd"
   ]
  },
  {
   "cell_type": "code",
   "execution_count": 42,
   "metadata": {},
   "outputs": [
    {
     "name": "stdout",
     "output_type": "stream",
     "text": [
      "0    1\n",
      "1    2\n",
      "2    3\n",
      "0    2\n",
      "1    3\n",
      "2    4\n",
      "dtype: int64\n",
      "a    1\n",
      "b    2\n",
      "c    2\n",
      "d    4\n",
      "e    3\n",
      "h    3\n",
      "dtype: int64\n",
      "     0    1\n",
      "a  1.0  NaN\n",
      "b  NaN  2.0\n",
      "c  2.0  NaN\n",
      "d  NaN  4.0\n",
      "e  NaN  3.0\n",
      "h  3.0  NaN\n"
     ]
    }
   ],
   "source": [
    "s1 = pd.Series([1,2,3])\n",
    "s2 = pd.Series([2,3,4])\n",
    "s3 = pd.Series([1,2,3],index = ['a','c','h'])\n",
    "s4 = pd.Series([2,3,4],index = ['b','e','d'])\n",
    "print(pd.concat([s1,s2]))\n",
    "print(pd.concat([s3,s4]).sort_index())\n",
    "   # 默认axis=0，行；\n",
    "    \n",
    "print(pd.concat([s3,s4], axis=1,sort=True))\n",
    "        # 执行报错，需再看看；"
   ]
  },
  {
   "cell_type": "code",
   "execution_count": null,
   "metadata": {},
   "outputs": [],
   "source": []
  },
  {
   "cell_type": "code",
   "execution_count": 44,
   "metadata": {},
   "outputs": [
    {
     "name": "stdout",
     "output_type": "stream",
     "text": [
      "a    1\n",
      "b    2\n",
      "c    3\n",
      "dtype: int64\n",
      "b    2\n",
      "c    3\n",
      "d    4\n",
      "dtype: int64\n",
      "     0    1\n",
      "a  1.0  NaN\n",
      "b  2.0  2.0\n",
      "c  3.0  3.0\n",
      "d  NaN  4.0\n",
      "   0  1\n",
      "b  2  2\n",
      "c  3  3\n",
      "     0    1\n",
      "a  1.0  NaN\n",
      "b  2.0  2.0\n",
      "d  NaN  4.0\n"
     ]
    }
   ],
   "source": [
    "# 连接方式   join   join_axes\n",
    "s5 = pd.Series([1,2,3],index = ['a','b','c'])\n",
    "s6 = pd.Series([2,3,4],index = ['b','c','d'])\n",
    "\n",
    "print(s5)\n",
    "print(s6)\n",
    "result = pd.concat([s5, s6], axis=1,sort=False)\n",
    "print(result)\n",
    "\n",
    "print(pd.concat([s5, s6], axis=1,sort=False,join='inner'))\n",
    "\n",
    "print(pd.concat([s5, s6], axis=1,sort=False,join_axes=[['a','b','d']]))\n",
    "# join：{'inner'，'outer'}，默认为“outer”。如何处理其他轴上的索引。outer为联合和inner为交集。\n",
    "# join_axes：指定联合的index"
   ]
  },
  {
   "cell_type": "code",
   "execution_count": 49,
   "metadata": {},
   "outputs": [
    {
     "name": "stdout",
     "output_type": "stream",
     "text": [
      "one  a    1\n",
      "     b    2\n",
      "     c    3\n",
      "two  b    2\n",
      "     c    3\n",
      "     d    4\n",
      "dtype: int64 <class 'pandas.core.series.Series'>\n",
      "MultiIndex(levels=[['one', 'two'], ['a', 'b', 'c', 'd']],\n",
      "           codes=[[0, 0, 0, 1, 1, 1], [0, 1, 2, 1, 2, 3]])\n",
      "   one  two\n",
      "a  1.0  NaN\n",
      "b  2.0  2.0\n",
      "c  3.0  3.0\n",
      "d  NaN  4.0 <class 'pandas.core.frame.DataFrame'>\n"
     ]
    }
   ],
   "source": [
    "# 覆盖列名\n",
    "sre = pd.concat([s5,s6], keys = ['one','two'])\n",
    "print(sre,type(sre))\n",
    "print(sre.index)\n",
    "# keys：序列，默认值无。使用传递的键作为最外层构建层次索引\n",
    "\n",
    "sre = pd.concat([s5,s6], axis=1, keys = ['one','two'],sort=False)\n",
    "print(sre,type(sre))\n",
    "# axis = 1, 覆盖列名\n"
   ]
  },
  {
   "cell_type": "code",
   "execution_count": 71,
   "metadata": {},
   "outputs": [
    {
     "name": "stdout",
     "output_type": "stream",
     "text": [
      "     0    1    2\n",
      "0  NaN  3.0  5.0\n",
      "1 -4.6  NaN  NaN\n",
      "2  NaN  7.0  NaN\n",
      "      0    1    2\n",
      "1 -42.6  NaN -8.2\n",
      "2  -5.0  1.6  4.0\n",
      "     0    1    2\n",
      "0  NaN  3.0  5.0\n",
      "1 -4.6  NaN -8.2\n",
      "2 -5.0  7.0  4.0\n",
      "-----\n",
      "      0    1    2\n",
      "0   NaN  3.0  5.0\n",
      "1 -42.6  NaN -8.2\n",
      "2  -5.0  1.6  4.0\n"
     ]
    }
   ],
   "source": [
    "# 修补 pd.combine_first()\n",
    "\n",
    "df1 = pd.DataFrame([[np.nan, 3., 5.], [-4.6, np.nan, np.nan],[np.nan, 7., np.nan]])\n",
    "df2 = pd.DataFrame([[-42.6, np.nan, -8.2], [-5., 1.6, 4]],index=[1, 2])\n",
    "print(df1)\n",
    "print(df2)\n",
    "print(df1.combine_first(df2))\n",
    "print('-----')\n",
    "# 根据index，df1的空值被df2替代\n",
    "# 如果df2的index多于df1，则更新到df1上，比如index=['a',1]\n",
    "\n",
    "\n",
    "df1.update(df2)\n",
    "print(df1)\n",
    "# update，直接df2覆盖df1，相同index位置"
   ]
  },
  {
   "cell_type": "code",
   "execution_count": 59,
   "metadata": {},
   "outputs": [
    {
     "name": "stdout",
     "output_type": "stream",
     "text": [
      "     value1    value2\n",
      "a  0.579894  0.575142\n",
      "b  0.616836  0.737185\n",
      "c  0.373200  0.019300\n",
      "d  0.193232  0.555745\n",
      "     value1    value2\n",
      "e  0.919511  0.397799\n",
      "f  0.783952  0.403975\n",
      "g  0.434203  0.743560\n",
      "h  0.418176  0.326844\n",
      "     value1    value2\n",
      "a  0.579894  0.575142\n",
      "b  0.616836  0.737185\n",
      "c  0.373200  0.019300\n",
      "d  0.193232  0.555745\n",
      "e  0.919511  0.397799\n",
      "f  0.783952  0.403975\n",
      "g  0.434203  0.743560\n",
      "h  0.418176  0.326844\n"
     ]
    }
   ],
   "source": [
    "#作业1：按要求创建Dataframe df1、df2，并连接成df3\n",
    "\n",
    "df1 = pd.DataFrame({'value1':np.random.rand(4),\n",
    "                    'value2':np.random.rand(4)},\n",
    "                    index=['a','b','c','d'])\n",
    "\n",
    "df2 = pd.DataFrame({'value1':np.random.rand(4),\n",
    "                    'value2':np.random.rand(4)},\n",
    "                    index=['e','f','g','h'])\n",
    "\n",
    "print(df1)\n",
    "print(df2)\n",
    "\n",
    "print(pd.concat([df1,df2]))\n"
   ]
  },
  {
   "cell_type": "code",
   "execution_count": 72,
   "metadata": {},
   "outputs": [
    {
     "name": "stdout",
     "output_type": "stream",
     "text": [
      "    values1   values2\n",
      "a  0.522362  0.789837\n",
      "b       NaN  0.499752\n",
      "c       NaN  0.748399\n",
      "d  0.195470  0.404237\n",
      "   values1  values2\n",
      "a        0        1\n",
      "b        2        3\n",
      "c        4        5\n",
      "d        6        7\n",
      "    values1   values2\n",
      "a  0.522362  0.789837\n",
      "b  2.000000  0.499752\n",
      "c  4.000000  0.748399\n",
      "d  0.195470  0.404237\n"
     ]
    }
   ],
   "source": [
    "#按要求创建Dataframe df1、df2，并用df2的值修补df1，生成df3\n",
    "\n",
    "\n",
    "df1 = pd.DataFrame({'values1':[0.522362,np.nan,np.nan,0.195470],\n",
    "                    'values2':np.random.rand(4)},\n",
    "                    index=['a','b','c','d'])\n",
    "print(df1)\n",
    "\n",
    "df2 = pd.DataFrame(np.arange(8).reshape(4,2),\n",
    "                  index = list('abcd'),\n",
    "                  columns = ['values1','values2'])\n",
    "print(df2)\n",
    "\n",
    "df3 = df1.combine_first(df2)\n",
    "print(df3)\n",
    "\n"
   ]
  }
 ],
 "metadata": {
  "kernelspec": {
   "display_name": "Python 3",
   "language": "python",
   "name": "python3"
  },
  "language_info": {
   "codemirror_mode": {
    "name": "ipython",
    "version": 3
   },
   "file_extension": ".py",
   "mimetype": "text/x-python",
   "name": "python",
   "nbconvert_exporter": "python",
   "pygments_lexer": "ipython3",
   "version": "3.7.3"
  }
 },
 "nbformat": 4,
 "nbformat_minor": 2
}
