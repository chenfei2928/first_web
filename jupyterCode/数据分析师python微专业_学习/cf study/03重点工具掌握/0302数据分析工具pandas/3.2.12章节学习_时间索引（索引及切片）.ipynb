{
 "cells": [
  {
   "cell_type": "code",
   "execution_count": 2,
   "metadata": {},
   "outputs": [
    {
     "data": {
      "text/plain": [
       "'\\n时间序列—索引及切片\\nTimeSeries是Series的一个子类，所以Series索引及数据选取方面的方法基本一样。\\n同样TimeSeries通过时间序列有更便捷的方法做索引和切片\\n'"
      ]
     },
     "execution_count": 2,
     "metadata": {},
     "output_type": "execute_result"
    }
   ],
   "source": [
    "'''\n",
    "时间序列—索引及切片\n",
    "TimeSeries是Series的一个子类，所以Series索引及数据选取方面的方法基本一样。\n",
    "同样TimeSeries通过时间序列有更便捷的方法做索引和切片\n",
    "'''"
   ]
  },
  {
   "cell_type": "code",
   "execution_count": 3,
   "metadata": {},
   "outputs": [],
   "source": [
    "import numpy as np\n",
    "import pandas as pd"
   ]
  },
  {
   "cell_type": "code",
   "execution_count": 4,
   "metadata": {},
   "outputs": [],
   "source": [
    "from datetime import datetime"
   ]
  },
  {
   "cell_type": "code",
   "execution_count": null,
   "metadata": {},
   "outputs": [],
   "source": []
  },
  {
   "cell_type": "code",
   "execution_count": 13,
   "metadata": {},
   "outputs": [
    {
     "name": "stdout",
     "output_type": "stream",
     "text": [
      "2017-01-01    0.662859\n",
      "2017-01-02    0.311621\n",
      "2017-01-03    0.652021\n",
      "2017-01-04    0.781960\n",
      "2017-01-05    0.877261\n",
      "Freq: D, dtype: float64\n",
      "0.6628589358405231\n",
      "2017-01-01    0.662859\n",
      "2017-01-02    0.311621\n",
      "Freq: D, dtype: float64\n",
      "0.3116210575072619\n",
      "0.3116210575072619\n",
      "0.3116210575072619\n",
      "0.3116210575072619\n"
     ]
    }
   ],
   "source": [
    "# 索引\n",
    "\n",
    "rng = pd.date_range('2017/1','2017/3')\n",
    "ts = pd.Series(np.random.rand(len(rng)),index=rng)\n",
    "              \n",
    "print(ts.head())\n",
    "\n",
    "print(ts[0])\n",
    "print(ts[:2])\n",
    "    # 基本下标位置索引\n",
    "print(ts['2017/1/2'])\n",
    "print(ts['20170102'])\n",
    "print(ts['1/2/2017'])\n",
    "print(ts[datetime(2017,1,2)])\n",
    "    # 时间序列标签索引，支持各种时间字符串，以及datetime.datetime\n",
    "    # 时间序列按照时间先后顺序，不用考虑时间问题\n",
    "    # 索引方法同样适用于DataFrame\n"
   ]
  },
  {
   "cell_type": "code",
   "execution_count": 20,
   "metadata": {},
   "outputs": [
    {
     "name": "stdout",
     "output_type": "stream",
     "text": [
      "2017-01-05 00:00:00    0.383544\n",
      "2017-01-05 12:00:00    0.030816\n",
      "2017-01-06 00:00:00    0.390305\n",
      "2017-01-06 12:00:00    0.429702\n",
      "2017-01-07 00:00:00    0.865619\n",
      "2017-01-07 12:00:00    0.136744\n",
      "2017-01-08 00:00:00    0.307522\n",
      "2017-01-08 12:00:00    0.323462\n",
      "2017-01-09 00:00:00    0.240764\n",
      "2017-01-09 12:00:00    0.533908\n",
      "2017-01-10 00:00:00    0.790388\n",
      "2017-01-10 12:00:00    0.957651\n",
      "Freq: 12H, dtype: float64\n",
      "2017-02-01 00:00:00    0.292854\n",
      "2017-02-01 12:00:00    0.183418\n",
      "2017-02-02 00:00:00    0.880299\n",
      "2017-02-02 12:00:00    0.549819\n",
      "2017-02-03 00:00:00    0.887488\n",
      "Freq: 12H, dtype: float64\n"
     ]
    }
   ],
   "source": [
    "# 切片\n",
    "\n",
    "rng = pd.date_range('2017/1','2017/3',freq='12H')\n",
    "ts = pd.Series(np.random.rand(len(rng)),index=rng)\n",
    "print(ts['2017/1/5':'2017/1/10'])\n",
    "\n",
    "print(ts['2017/2'].head())"
   ]
  },
  {
   "cell_type": "code",
   "execution_count": 35,
   "metadata": {},
   "outputs": [
    {
     "name": "stdout",
     "output_type": "stream",
     "text": [
      "2015-01-01    0.722668\n",
      "2015-01-02    0.817481\n",
      "2015-01-03    0.095423\n",
      "2015-01-04    0.928164\n",
      "2015-01-01    0.917825\n",
      "2015-01-02    0.910492\n",
      "dtype: float64\n",
      "True False\n",
      "2015-01-01    0.722668\n",
      "2015-01-01    0.917825\n",
      "dtype: float64 <class 'pandas.core.series.Series'>\n",
      "2015-01-04    0.928164\n",
      "dtype: float64 <class 'pandas.core.series.Series'>\n",
      "2015-01-01    0.820247\n",
      "2015-01-02    0.863986\n",
      "2015-01-03    0.095423\n",
      "2015-01-04    0.928164\n",
      "dtype: float64\n"
     ]
    }
   ],
   "source": [
    "# 重复索引的时间序列\n",
    "dates = pd.DatetimeIndex(['1/1/2015','1/2/2015','1/3/2015','1/4/2015','1/1/2015','1/2/2015'])\n",
    "ts = pd.Series(np.random.rand(6), index = dates)\n",
    "print(ts)\n",
    "\n",
    "print(ts.is_unique,ts.index.is_unique)\n",
    "\n",
    "print(ts['20150101'],type(ts['20150101']))\n",
    "    #index有重复将返回多个值\n",
    "print(ts['20150104'],type(ts['20150104']))\n",
    "    \n",
    "print(ts.groupby(level=0).mean())\n",
    "\n",
    "\n"
   ]
  },
  {
   "cell_type": "code",
   "execution_count": 36,
   "metadata": {},
   "outputs": [
    {
     "data": {
      "text/plain": [
       "'\\n如图创建时间序列(10*3，值为0-100的随机数)，通过索引得到以下值\\n① 索引得到前4行的所有值\\n② 索引得到2017-12-4 12:00:00的数据\\n③ 索引得到2017-12-4 - 2017-12-5的数据\\n\\n'"
      ]
     },
     "execution_count": 36,
     "metadata": {},
     "output_type": "execute_result"
    }
   ],
   "source": [
    "'''\n",
    "如图创建时间序列(10*3，值为0-100的随机数)，通过索引得到以下值\n",
    "① 索引得到前4行的所有值\n",
    "② 索引得到2017-12-4 12:00:00的数据\n",
    "③ 索引得到2017-12-4 - 2017-12-5的数据\n",
    "\n",
    "'''"
   ]
  },
  {
   "cell_type": "code",
   "execution_count": 52,
   "metadata": {},
   "outputs": [
    {
     "name": "stdout",
     "output_type": "stream",
     "text": [
      "                        value1     value2     value3\n",
      "2017-12-01 00:00:00  97.496883  78.429857  64.671036\n",
      "2017-12-01 12:00:00  58.951774  79.098581   4.280533\n",
      "2017-12-02 00:00:00  74.506007  52.481007  19.871868\n",
      "2017-12-02 12:00:00  61.772663  37.381363  66.764789\n",
      "2017-12-03 00:00:00  80.090019  97.145088  55.059881\n",
      "2017-12-03 12:00:00  81.712618  84.487950  29.614135\n",
      "2017-12-04 00:00:00   1.077063  66.230797  49.358052\n",
      "2017-12-04 12:00:00  97.341136  47.635835  49.873120\n",
      "2017-12-05 00:00:00  54.698532   9.927150  26.282155\n",
      "2017-12-05 12:00:00  94.877753  11.620042  12.822162\n",
      "                        value1     value2     value3\n",
      "2017-12-01 00:00:00  97.496883  78.429857  64.671036\n",
      "2017-12-01 12:00:00  58.951774  79.098581   4.280533\n",
      "2017-12-02 00:00:00  74.506007  52.481007  19.871868\n",
      "2017-12-02 12:00:00  61.772663  37.381363  66.764789\n",
      "value1    97.341136\n",
      "value2    47.635835\n",
      "value3    49.873120\n",
      "Name: 2017-12-04 12:00:00, dtype: float64\n",
      "                        value1     value2     value3\n",
      "2017-12-04 00:00:00   1.077063  66.230797  49.358052\n",
      "2017-12-04 12:00:00  97.341136  47.635835  49.873120\n",
      "2017-12-05 00:00:00  54.698532   9.927150  26.282155\n",
      "2017-12-05 12:00:00  94.877753  11.620042  12.822162\n"
     ]
    }
   ],
   "source": [
    "rng = pd.date_range('2017/12/1',periods=10,freq='12H')\n",
    "ts = pd.DataFrame(np.random.rand(10,3)*100,index=rng,\n",
    "              columns=['value1','value2','value3'])\n",
    "               \n",
    "print(ts)\n",
    "\n",
    "print(ts[:4])\n",
    "\n",
    "print(ts.loc['2017-12-04 12:00:00'])\n",
    "\n",
    "\n",
    "print(ts.loc['2017-12-04':'2017-12-05'])\n"
   ]
  },
  {
   "cell_type": "code",
   "execution_count": null,
   "metadata": {},
   "outputs": [],
   "source": []
  }
 ],
 "metadata": {
  "kernelspec": {
   "display_name": "Python 3",
   "language": "python",
   "name": "python3"
  },
  "language_info": {
   "codemirror_mode": {
    "name": "ipython",
    "version": 3
   },
   "file_extension": ".py",
   "mimetype": "text/x-python",
   "name": "python",
   "nbconvert_exporter": "python",
   "pygments_lexer": "ipython3",
   "version": "3.7.3"
  }
 },
 "nbformat": 4,
 "nbformat_minor": 2
}
