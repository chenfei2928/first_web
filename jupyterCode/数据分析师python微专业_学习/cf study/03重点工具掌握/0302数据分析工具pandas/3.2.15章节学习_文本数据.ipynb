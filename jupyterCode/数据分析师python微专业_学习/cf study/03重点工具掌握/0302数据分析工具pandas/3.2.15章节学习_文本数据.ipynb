{
 "cells": [
  {
   "cell_type": "code",
   "execution_count": 1,
   "metadata": {},
   "outputs": [
    {
     "data": {
      "text/plain": [
       "'\\n文本数据\\nPandas针对字符串配备的一套方法，使其易于对数组的每个元素进行操作\\n'"
      ]
     },
     "execution_count": 1,
     "metadata": {},
     "output_type": "execute_result"
    }
   ],
   "source": [
    "'''\n",
    "文本数据\n",
    "Pandas针对字符串配备的一套方法，使其易于对数组的每个元素进行操作\n",
    "'''"
   ]
  },
  {
   "cell_type": "code",
   "execution_count": 7,
   "metadata": {},
   "outputs": [
    {
     "name": "stdout",
     "output_type": "stream",
     "text": [
      "0          A\n",
      "1          B\n",
      "2          C\n",
      "3    bbhello\n",
      "4        123\n",
      "5        NaN\n",
      "6         hi\n",
      "dtype: object\n",
      "  key1  key2\n",
      "0    a   hee\n",
      "1    b    fv\n",
      "2    c     w\n",
      "3    d  hija\n",
      "4    e   123\n",
      "5    f   NaN\n",
      "---------------------\n",
      "0    0.0\n",
      "1    0.0\n",
      "2    0.0\n",
      "3    2.0\n",
      "4    0.0\n",
      "5    NaN\n",
      "6    0.0\n",
      "dtype: float64\n",
      "0     HEE\n",
      "1      FV\n",
      "2       W\n",
      "3    HIJA\n",
      "4     123\n",
      "5     NaN\n",
      "Name: key2, dtype: object\n",
      "  KEY1  KEY2\n",
      "0    a   hee\n",
      "1    b    fv\n",
      "2    c     w\n",
      "3    d  hija\n",
      "4    e   123\n",
      "5    f   NaN\n"
     ]
    }
   ],
   "source": [
    "# 通过str访问， 且自动排除丢失/na值\n",
    "import numpy as np\n",
    "import pandas as pd\n",
    "\n",
    "s = pd.Series(['A','B','C','bbhello','123',np.nan,'hi'])\n",
    "\n",
    "df = pd.DataFrame({'key1':list('abcdef'),\n",
    "                  'key2':['hee','fv','w','hija','123',np.nan]})\n",
    "print(s)\n",
    "print(df)\n",
    "print('---------------------')\n",
    "\n",
    "print(s.str.count('b'))\n",
    "print(df['key2'].str.upper())\n",
    "    # 直接通过.str调用字符串方法\n",
    "    # 可以对Series、DataFrame 使用\n",
    "    \n",
    "df.columns = df.columns.str.upper()\n",
    "print(df)\n",
    "    # df.columns 是一个index对象，也可使用.str\n"
   ]
  },
  {
   "cell_type": "code",
   "execution_count": 15,
   "metadata": {},
   "outputs": [
    {
     "name": "stdout",
     "output_type": "stream",
     "text": [
      "0          A\n",
      "1          b\n",
      "2    bbhello\n",
      "3        123\n",
      "4        NaN\n",
      "dtype: object\n",
      "0          a\n",
      "1          b\n",
      "2    bbhello\n",
      "3        123\n",
      "4        NaN\n",
      "dtype: object lower小写\n",
      "0          A\n",
      "1          B\n",
      "2    BBHELLO\n",
      "3        123\n",
      "4        NaN\n",
      "dtype: object upper大写\n",
      "0    1.0\n",
      "1    1.0\n",
      "2    7.0\n",
      "3    3.0\n",
      "4    NaN\n",
      "dtype: float64 ---len字符长度\n",
      "0    False\n",
      "1     True\n",
      "2     True\n",
      "3    False\n",
      "4      NaN\n",
      "dtype: object ----判断起始是否为b\n",
      "0    False\n",
      "1    False\n",
      "2    False\n",
      "3     True\n",
      "4      NaN\n",
      "dtype: object -----判断结束是否为3\n"
     ]
    }
   ],
   "source": [
    "# 字符串常用方法   lower  upper len startswith  endswith\n",
    "\n",
    "s = pd.Series(['A','b','bbhello','123',np.nan])\n",
    "print(s)\n",
    "\n",
    "print(s.str.lower(),'lower小写')\n",
    "print(s.str.upper(),'upper大写')\n",
    "print(s.str.len(),'---len字符长度')\n",
    "print(s.str.startswith('b'),'----判断起始是否为b')\n",
    "print(s.str.endswith('3'),'-----判断结束是否为3')"
   ]
  },
  {
   "cell_type": "code",
   "execution_count": 29,
   "metadata": {},
   "outputs": [
    {
     "name": "stdout",
     "output_type": "stream",
     "text": [
      "0         jack\n",
      "1        jil l\n",
      "2      jesse  \n",
      "3        frank\n",
      "dtype: object\n",
      "    Column  A  Column  B  \n",
      "0    0.093397     0.382363\n",
      "1    0.691015     0.943837\n",
      "2    0.879433     0.356941\n",
      "....................................\n",
      "0     jack\n",
      "1    jil l\n",
      "2    jesse\n",
      "3    frank\n",
      "dtype: object\n",
      "0       jack\n",
      "1      jil l\n",
      "2    jesse  \n",
      "3      frank\n",
      "dtype: object\n",
      "0       jack\n",
      "1      jil l\n",
      "2      jesse\n",
      "3      frank\n",
      "dtype: object\n",
      "   Column  A  Column  B\n",
      "0   0.093397   0.382363\n",
      "1   0.691015   0.943837\n",
      "2   0.879433   0.356941\n"
     ]
    }
   ],
   "source": [
    "# 字符串常用方法   strip\n",
    "\n",
    "s = pd.Series([' jack','jil l','  jesse  ','frank'])\n",
    "\n",
    "df = pd.DataFrame(np.random.rand(3,2),\n",
    "                 columns=[' Column  A','Column  B  '],\n",
    "                 index = range(3))\n",
    "print(s)\n",
    "print(df)\n",
    "print('....................................')\n",
    "\n",
    "print(s.str.strip())  # 去除字符串中的空格\n",
    "print(s.str.lstrip()) # 去除字符串中的左空格\n",
    "print(s.str.rstrip()) # 去除字符串中的右空格\n",
    "\n",
    "df.columns=df.columns.str.strip()\n",
    "print(df)\n",
    "    # 这里去掉了columns的前后空格，但没有去掉中间空格\n"
   ]
  },
  {
   "cell_type": "code",
   "execution_count": 31,
   "metadata": {},
   "outputs": [
    {
     "name": "stdout",
     "output_type": "stream",
     "text": [
      "   --Column-A-  -Columns-B-\n",
      "0     0.176200     0.569480\n",
      "1     0.532171     0.847236\n",
      "2     0.095675     0.923350\n",
      "   hehe-Column-A-  heheColumns-B-\n",
      "0        0.176200        0.569480\n",
      "1        0.532171        0.847236\n",
      "2        0.095675        0.923350\n"
     ]
    }
   ],
   "source": [
    "# 字符串常用方法  -replace\n",
    "\n",
    "df = pd.DataFrame(np.random.rand(3,2),\n",
    "                 columns=['  Column A ',' Columns B '],\n",
    "                 index = range(3))\n",
    "df.columns=df.columns.str.replace(' ','-')\n",
    "print(df)\n",
    "    # 替换\n",
    "\n",
    "df.columns=df.columns.str.replace('-','hehe',n=1)\n",
    "print(df)\n",
    " # n 替换个数\n"
   ]
  },
  {
   "cell_type": "code",
   "execution_count": 39,
   "metadata": {},
   "outputs": [
    {
     "name": "stdout",
     "output_type": "stream",
     "text": [
      "0    [a, b, c]\n",
      "1    [1, 2, 3]\n",
      "2          NaN\n",
      "3          NaN\n",
      "dtype: object\n",
      "...................\n",
      "['a', 'b', 'c']\n",
      ".....2..........\n",
      "0      a\n",
      "1      1\n",
      "2    NaN\n",
      "3    NaN\n",
      "dtype: object\n",
      "0      b\n",
      "1      2\n",
      "2    NaN\n",
      "3    NaN\n",
      "dtype: object\n",
      "........3..........\n",
      "     0    1    2\n",
      "0    a    b    c\n",
      "1    1    2    3\n",
      "2  NaN  NaN  NaN\n",
      "3  NaN  NaN  NaN\n",
      "     0    1\n",
      "0    a  b,c\n",
      "1    1  2,3\n",
      "2  NaN  NaN\n",
      "3  NaN  NaN\n",
      "     0    1\n",
      "0  a,b    c\n",
      "1  1,2    3\n",
      "2  NaN  NaN\n",
      "3  NaN  NaN\n",
      "--4---\n",
      "0    [a, b, c]\n",
      "1    [1, 2, 3]\n",
      "2          NaN\n",
      "Name: key2, dtype: object\n"
     ]
    }
   ],
   "source": [
    "# 字符串常用方法   -split  rsplit\n",
    "\n",
    "s = pd.Series(['a,b,c','1,2,3',['a,,,c'],np.nan])\n",
    "print(s.str.split(','))\n",
    "print('...................')\n",
    "    # 类似字符串的split\n",
    "\n",
    "print(s.str.split(',')[0])\n",
    "print('.....2..........')\n",
    "   # 直接索引得到一个list\n",
    "\n",
    "print(s.str.split(',').str[0])\n",
    "print(s.str.split(',').str.get(1))\n",
    "print('........3..........')\n",
    "    # 可以使用get或[]符号访问拆分列表中的元素\n",
    "print(s.str.split(',', expand=True))\n",
    "print(s.str.split(',', expand=True, n = 1))\n",
    "print(s.str.rsplit(',', expand=True, n = 1))\n",
    "print('--4---')\n",
    "    # 可以使用expand可以轻松扩展此操作以返回DataFrame\n",
    "    # n参数限制分割数\n",
    "    # rsplit类似于split，反向工作，即从字符串的末尾到字符串的开头\n",
    "\n",
    "df = pd.DataFrame({'key1':['a,b,c','1,2,3',[':,., ']],\n",
    "                  'key2':['a-b-c','1-2-3',[':-.- ']]})\n",
    "print(df['key2'].str.split('-'))\n",
    "# Dataframe使用split"
   ]
  },
  {
   "cell_type": "code",
   "execution_count": 46,
   "metadata": {},
   "outputs": [
    {
     "name": "stdout",
     "output_type": "stream",
     "text": [
      "0      A\n",
      "1      b\n",
      "2      C\n",
      "3      b\n",
      "4      1\n",
      "5    NaN\n",
      "6      h\n",
      "dtype: object\n",
      "0      A\n",
      "1      b\n",
      "2      C\n",
      "3     bb\n",
      "4     12\n",
      "5    NaN\n",
      "6     hj\n",
      "dtype: object\n",
      "0      h\n",
      "1      f\n",
      "2      w\n",
      "3      h\n",
      "4      1\n",
      "5    NaN\n",
      "Name: key2, dtype: object\n"
     ]
    }
   ],
   "source": [
    "# 字符串索引\n",
    "\n",
    "s = pd.Series(['A','b','C','bbhello','123',np.nan,'hj'])\n",
    "df = pd.DataFrame({'key1':list('abcdef'),\n",
    "                  'key2':['hee','fv','w','hija','123',np.nan]})\n",
    "\n",
    "print(s.str[0])   # 取第一个字符串\n",
    "print(s.str[:2])  # 取前两个字符串\n",
    "print(df['key2'].str[0])\n",
    "                # str之后和字符串本身索引方式相同"
   ]
  },
  {
   "cell_type": "code",
   "execution_count": 47,
   "metadata": {},
   "outputs": [
    {
     "name": "stdout",
     "output_type": "stream",
     "text": [
      "     name gender     score\n",
      "0    jack     M   90-92-89\n",
      "1     tom      M  89-78-88\n",
      "2   Marry      F  90-92-95\n",
      "3    zack     M   78-88-76\n",
      "4  heheda      F  60-60-67\n"
     ]
    }
   ],
   "source": [
    "#如图创建一个Dataframe，并分别通过字符串常用方法得到3个Series或得到新的Dataframe：\n",
    "#① name字段首字母全部大写\n",
    "#② gender字段去除所有空格\n",
    "#③ score字段按照-拆分，分别是math，english，art三个学分\n",
    "df = pd.DataFrame({'name':['jack','tom','Marry','zack','heheda'],\n",
    "                  'gender':['M ','M','   F','  M ','  F'],\n",
    "                  'score':['90-92-89','89-78-88','90-92-95','78-88-76','60-60-67']})\n",
    "print(df)"
   ]
  },
  {
   "cell_type": "code",
   "execution_count": 53,
   "metadata": {},
   "outputs": [
    {
     "name": "stdout",
     "output_type": "stream",
     "text": [
      "     name gender     score\n",
      "0    jack     M   90-92-89\n",
      "1     tom      M  89-78-88\n",
      "2   Marry      F  90-92-95\n",
      "3    zack     M   78-88-76\n",
      "4  heheda      F  60-60-67\n",
      "     name gender     score\n",
      "0    JACK     M   90-92-89\n",
      "1     TOM      M  89-78-88\n",
      "2   MARRY      F  90-92-95\n",
      "3    ZACK     M   78-88-76\n",
      "4  HEHEDA      F  60-60-67\n",
      "     name gender     score\n",
      "0    JACK      M  90-92-89\n",
      "1     TOM      M  89-78-88\n",
      "2   MARRY      F  90-92-95\n",
      "3    ZACK      M  78-88-76\n",
      "4  HEHEDA      F  60-60-67\n",
      "     name gender     score math\n",
      "0    JACK      M  90-92-89   90\n",
      "1     TOM      M  89-78-88   89\n",
      "2   MARRY      F  90-92-95   90\n",
      "3    ZACK      M  78-88-76   78\n",
      "4  HEHEDA      F  60-60-67   60\n",
      "     name gender     score math english\n",
      "0    JACK      M  90-92-89   90      92\n",
      "1     TOM      M  89-78-88   89      78\n",
      "2   MARRY      F  90-92-95   90      92\n",
      "3    ZACK      M  78-88-76   78      88\n",
      "4  HEHEDA      F  60-60-67   60      60\n",
      "     name gender     score math english art\n",
      "0    JACK      M  90-92-89   90      92  89\n",
      "1     TOM      M  89-78-88   89      78  88\n",
      "2   MARRY      F  90-92-95   90      92  95\n",
      "3    ZACK      M  78-88-76   78      88  76\n",
      "4  HEHEDA      F  60-60-67   60      60  67\n",
      "     name gender math english art\n",
      "0    JACK      M   90      92  89\n",
      "1     TOM      M   89      78  88\n",
      "2   MARRY      F   90      92  95\n",
      "3    ZACK      M   78      88  76\n",
      "4  HEHEDA      F   60      60  67\n"
     ]
    }
   ],
   "source": [
    "df = pd.DataFrame({'name':['jack','tom','Marry','zack','heheda'],\n",
    "                  'gender':['M ','M','   F','  M ','  F'],\n",
    "                  'score':['90-92-89','89-78-88','90-92-95','78-88-76','60-60-67']})\n",
    "print(df)\n",
    "\n",
    "df['name'] = df['name'].str.upper()\n",
    "print(df)\n",
    "df['gender'] = df['gender'].str.strip()\n",
    "print(df)\n",
    "df['math'] = df['score'].str.split('-', expand=True)[0]\n",
    "print(df)\n",
    "df['english'] = df['score'].str.split('-', expand=True)[1]\n",
    "print(df)\n",
    "df['art'] = df['score'].str.split('-', expand=True)[2]\n",
    "print(df)\n",
    "\n",
    "del df['score']\n",
    "print(df)"
   ]
  }
 ],
 "metadata": {
  "kernelspec": {
   "display_name": "Python 3",
   "language": "python",
   "name": "python3"
  },
  "language_info": {
   "codemirror_mode": {
    "name": "ipython",
    "version": 3
   },
   "file_extension": ".py",
   "mimetype": "text/x-python",
   "name": "python",
   "nbconvert_exporter": "python",
   "pygments_lexer": "ipython3",
   "version": "3.7.3"
  }
 },
 "nbformat": 4,
 "nbformat_minor": 2
}
