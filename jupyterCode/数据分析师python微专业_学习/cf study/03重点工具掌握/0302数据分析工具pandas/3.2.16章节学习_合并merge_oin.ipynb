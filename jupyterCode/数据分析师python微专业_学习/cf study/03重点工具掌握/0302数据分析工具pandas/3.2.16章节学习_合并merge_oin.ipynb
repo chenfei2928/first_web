{
 "cells": [
  {
   "cell_type": "code",
   "execution_count": 4,
   "metadata": {},
   "outputs": [
    {
     "data": {
      "text/plain": [
       "\"\\n合并   merge、join\\nPandas具有全功能的，高性能内存中连接操作，与SQL等关系数据库非常相似\\n\\npd.merge(left,right,how='inner',on=None,left_on=None,right_on=None,\\n        left_index=False,right_index=False,sort=True,\\n        suffixes=('_x','_y'),copy=True,indicator=False)\\n\""
      ]
     },
     "execution_count": 4,
     "metadata": {},
     "output_type": "execute_result"
    }
   ],
   "source": [
    "'''\n",
    "合并   merge、join\n",
    "Pandas具有全功能的，高性能内存中连接操作，与SQL等关系数据库非常相似\n",
    "\n",
    "pd.merge(left,right,how='inner',on=None,left_on=None,right_on=None,\n",
    "        left_index=False,right_index=False,sort=True,\n",
    "        suffixes=('_x','_y'),copy=True,indicator=False)\n",
    "'''"
   ]
  },
  {
   "cell_type": "code",
   "execution_count": 5,
   "metadata": {},
   "outputs": [],
   "source": [
    "import pandas as pd\n",
    "import numpy as np"
   ]
  },
  {
   "cell_type": "code",
   "execution_count": 11,
   "metadata": {},
   "outputs": [
    {
     "name": "stdout",
     "output_type": "stream",
     "text": [
      "  key   A   B\n",
      "0  K0  A0  B0\n",
      "1  K1  A1  B1\n",
      "2  K2  A2  B2\n",
      "3  K3  A3  B3\n",
      "  key   C   D\n",
      "0  K0  C0  D0\n",
      "1  K1  C1  D1\n",
      "2  K2  C2  D2\n",
      "3  K3  C3  D3\n",
      "_____________________________\n",
      "  key   A   B   C   D\n",
      "0  K0  A0  B0  C0  D0\n",
      "1  K1  A1  B1  C1  D1\n",
      "2  K2  A2  B2  C2  D2\n",
      "3  K3  A3  B3  C3  D3\n",
      "************************************************************************************************************************\n",
      "  key1 key2   A   B\n",
      "0   K0   K0  A0  B0\n",
      "1   K0   K1  A1  B1\n",
      "2   K1   K0  A2  B2\n",
      "3   K2   K1  A3  B3\n",
      "  key1 key2   C   D\n",
      "0   K0   K0  C0  D0\n",
      "1   K1   K0  C1  D1\n",
      "2   K1   K0  C2  D2\n",
      "3   K2   K0  C3  D3\n",
      "  key1 key2   A   B   C   D\n",
      "0   K0   K0  A0  B0  C0  D0\n",
      "1   K1   K0  A2  B2  C1  D1\n",
      "2   K1   K0  A2  B2  C2  D2\n"
     ]
    }
   ],
   "source": [
    "# merge合并 → 类似excel的vlookup\n",
    "\n",
    "df1 = pd.DataFrame({'key': ['K0', 'K1', 'K2', 'K3'],\n",
    "                     'A': ['A0', 'A1', 'A2', 'A3'],\n",
    "                     'B': ['B0', 'B1', 'B2', 'B3']})\n",
    "df2 = pd.DataFrame({'key': ['K0', 'K1', 'K2', 'K3'],\n",
    "                      'C': ['C0', 'C1', 'C2', 'C3'],\n",
    "                      'D': ['D0', 'D1', 'D2', 'D3']})\n",
    "df3 = pd.DataFrame({'key1': ['K0', 'K0', 'K1', 'K2'],\n",
    "                    'key2': ['K0', 'K1', 'K0', 'K1'],\n",
    "                    'A': ['A0', 'A1', 'A2', 'A3'],\n",
    "                    'B': ['B0', 'B1', 'B2', 'B3']})\n",
    "df4 = pd.DataFrame({'key1': ['K0', 'K1', 'K1', 'K2'],\n",
    "                    'key2': ['K0', 'K0', 'K0', 'K0'],\n",
    "                    'C': ['C0', 'C1', 'C2', 'C3'],\n",
    "                    'D': ['D0', 'D1', 'D2', 'D3']})\n",
    "print(df1)\n",
    "print(df2)\n",
    "print('_____________________________')\n",
    "print(pd.merge(df1, df2, on='key'))\n",
    "            # left：第一个df\n",
    "            # right：第二个df\n",
    "            # on：参考键\n",
    "print('****'*30)\n",
    "print(df3)\n",
    "print(df4)\n",
    "print(pd.merge(df3,df4,on=['key1','key2']))\n",
    "            #多个键连接"
   ]
  },
  {
   "cell_type": "code",
   "execution_count": 19,
   "metadata": {
    "scrolled": true
   },
   "outputs": [
    {
     "name": "stdout",
     "output_type": "stream",
     "text": [
      "  key1 key2   A   B\n",
      "0   K0   K0  A0  B0\n",
      "1   K0   K1  A1  B1\n",
      "2   K1   K0  A2  B2\n",
      "3   K2   K1  A3  B3\n",
      "  key1 key2   C   D\n",
      "0   K0   K0  C0  D0\n",
      "1   K1   K0  C1  D1\n",
      "2   K1   K0  C2  D2\n",
      "3   K2   K0  C3  D3\n",
      "@@@@@@@@@@@@@@@@@@@@\n",
      "  key1 key2   A   B   C   D\n",
      "0   K0   K0  A0  B0  C0  D0\n",
      "1   K1   K0  A2  B2  C1  D1\n",
      "2   K1   K0  A2  B2  C2  D2\n",
      "@@@@@@@@@@@@@@@@@@@@\n",
      "  key1 key2    A    B    C    D\n",
      "0   K0   K0   A0   B0   C0   D0\n",
      "1   K0   K1   A1   B1  NaN  NaN\n",
      "2   K1   K0   A2   B2   C1   D1\n",
      "3   K1   K0   A2   B2   C2   D2\n",
      "4   K2   K1   A3   B3  NaN  NaN\n",
      "5   K2   K0  NaN  NaN   C3   D3\n",
      "@@@@@@@@@@@@@@@@@@@@\n",
      "  key1 key2   A   B    C    D\n",
      "0   K0   K0  A0  B0   C0   D0\n",
      "1   K0   K1  A1  B1  NaN  NaN\n",
      "2   K1   K0  A2  B2   C1   D1\n",
      "3   K1   K0  A2  B2   C2   D2\n",
      "4   K2   K1  A3  B3  NaN  NaN\n",
      "@@@@@@@@@@@@@@@@@@@@\n",
      "  key1 key2    A    B   C   D\n",
      "0   K0   K0   A0   B0  C0  D0\n",
      "1   K1   K0   A2   B2  C1  D1\n",
      "2   K1   K0   A2   B2  C2  D2\n",
      "3   K2   K0  NaN  NaN  C3  D3\n"
     ]
    }
   ],
   "source": [
    "# 参数how — 合并方式\n",
    "print(df3)\n",
    "print(df4)\n",
    "print('@@'*10)\n",
    "\n",
    "print(pd.merge(df3,df4,on=['key1','key2'],how='inner'))\n",
    "    # inner ，默认取交集\n",
    "print('@@'*10)\n",
    "\n",
    "print(pd.merge(df3,df4,on=['key1','key2'],how='outer'))\n",
    "    # outer ,取并集，数据缺失范围显示NaN\n",
    "print('@@'*10)\n",
    "\n",
    "print(pd.merge(df3,df4,on=['key1','key2'],how='left'))\n",
    "    # left,按照df3为参考合并；缺失显示NaN\n",
    "print('@@'*10)\n",
    "\n",
    "print(pd.merge(df3,df4,on=['key1','key2'],how='right'))\n",
    "    # right,按照df4为参考合并，缺失显示NaN\n"
   ]
  },
  {
   "cell_type": "code",
   "execution_count": 22,
   "metadata": {},
   "outputs": [
    {
     "name": "stdout",
     "output_type": "stream",
     "text": [
      "  lkey  data1\n",
      "0    b      0\n",
      "1    b      1\n",
      "2    a      2\n",
      "3    c      3\n",
      "4    a      4\n",
      "5    a      5\n",
      "6    b      6\n",
      "  rkey  date2\n",
      "0    a      0\n",
      "1    b      1\n",
      "2    d      2\n",
      "  lkey  data1 rkey  date2\n",
      "0    b      0    b      1\n",
      "1    b      1    b      1\n",
      "2    b      6    b      1\n",
      "3    a      2    a      0\n",
      "4    a      4    a      0\n",
      "5    a      5    a      0\n"
     ]
    }
   ],
   "source": [
    "# 参数 left_on  ,right_on ,left_index, right_index   当键不为一个列时，可以单独设置左键和有键\n",
    "\n",
    "df1 = pd.DataFrame({'lkey':list('bbacaab'),\n",
    "                   'data1':range(7)})\n",
    "df2 = pd.DataFrame({'rkey':list('abd'),\n",
    "                   'date2':range(3)})\n",
    "print(df1)\n",
    "print(df2)\n",
    "print(pd.merge(df1,df2,left_on='lkey',right_on='rkey'))\n",
    "    # df1以“lkey”为键，df2以'rkey'为键\n"
   ]
  },
  {
   "cell_type": "code",
   "execution_count": 27,
   "metadata": {},
   "outputs": [
    {
     "name": "stdout",
     "output_type": "stream",
     "text": [
      "  key  data1\n",
      "0   a      0\n",
      "1   b      1\n",
      "2   c      2\n",
      "3   d      3\n",
      "4   f      4\n",
      "5   e      5\n",
      "6   g      6\n",
      "   date2\n",
      "a    100\n",
      "b    101\n",
      "c    102\n",
      "d    103\n",
      "e    104\n",
      "  key  data1  date2\n",
      "0   a      0    100\n",
      "1   b      1    101\n",
      "2   c      2    102\n",
      "3   d      3    103\n",
      "5   e      5    104\n"
     ]
    }
   ],
   "source": [
    "df1 = pd.DataFrame({'key':list('abcdfeg'),\n",
    "                   'data1':range(7)})\n",
    "df2 = pd.DataFrame({'date2':range(100,105)},\n",
    "                  index = list('abcde'))\n",
    "print(df1)\n",
    "print(df2)\n",
    "print(pd.merge(df1,df2,left_on='key',right_index=True))\n",
    "    #df1 以key为键，df2以index为键\n",
    "    #left_index;为True时，第一个df以index为键，默认为False\n",
    "    #right_index；为Tru时，第二个df以index为键，默认为False\n",
    "\n",
    "# 所以left_on, right_on, left_index, right_index可以相互组合：\n",
    "# left_on + right_on, left_on + right_index, left_index + right_on, left_index + right_index    "
   ]
  },
  {
   "cell_type": "code",
   "execution_count": 37,
   "metadata": {},
   "outputs": [
    {
     "name": "stdout",
     "output_type": "stream",
     "text": [
      "  key  data1\n",
      "0   b      1\n",
      "1   b      3\n",
      "2   a      2\n",
      "3   c      4\n",
      "4   a      5\n",
      "5   a      9\n",
      "6   b      7\n",
      "  key  date2\n",
      "0   a     11\n",
      "1   b      2\n",
      "2   d     33\n",
      "  key  data1  date2\n",
      "0   b    1.0    2.0\n",
      "1   b    3.0    2.0\n",
      "2   b    7.0    2.0\n",
      "3   a    2.0   11.0\n",
      "4   a    5.0   11.0\n",
      "5   a    9.0   11.0\n",
      "6   c    4.0    NaN\n",
      "7   d    NaN   33.0\n",
      "##############################\n",
      "  key  data1  date2\n",
      "0   a    2.0   11.0\n",
      "1   a    5.0   11.0\n",
      "2   a    9.0   11.0\n",
      "3   b    1.0    2.0\n",
      "4   b    3.0    2.0\n",
      "5   b    7.0    2.0\n",
      "6   c    4.0    NaN\n",
      "7   d    NaN   33.0\n",
      "##############################\n",
      "  key  data1  date2\n",
      "3   b    1.0    2.0\n",
      "0   a    2.0   11.0\n",
      "4   b    3.0    2.0\n",
      "6   c    4.0    NaN\n",
      "1   a    5.0   11.0\n",
      "5   b    7.0    2.0\n",
      "2   a    9.0   11.0\n",
      "7   d    NaN   33.0\n"
     ]
    }
   ],
   "source": [
    "# 参数\n",
    "df1 = pd.DataFrame({'key':list('bbacaab'),\n",
    "                   'data1':[1,3,2,4,5,9,7]})\n",
    "df2 = pd.DataFrame({'key':list('abd'),\n",
    "                   'date2':[11,2,33]})\n",
    "print(df1)\n",
    "print(df2)\n",
    "x1 = pd.merge(df1,df2,on='key',how='outer')\n",
    "print(x1)\n",
    "print('###'*10)\n",
    "x2 = pd.merge(df1,df2,on='key',sort='True',how='outer')\n",
    "print(x2)\n",
    "    # sort 按照字典顺序通过 连接键 对结果DataFrame进行排序。默认为False，设置False会大幅提高性能\n",
    "print('###'*10)\n",
    "\n",
    "print(x2.sort_values('data1'))\n",
    "    # 可直接用DataFrame的排序方法，sort_values,sort_index\n",
    "    "
   ]
  },
  {
   "cell_type": "code",
   "execution_count": 41,
   "metadata": {
    "scrolled": true
   },
   "outputs": [
    {
     "name": "stdout",
     "output_type": "stream",
     "text": [
      "     A   B\n",
      "K0  A0  B0\n",
      "K1  A1  B1\n",
      "K2  A2  B2\n",
      "     C   D\n",
      "K0  C0  D0\n",
      "K2  C2  D2\n",
      "K3  C3  D3\n",
      "     A   B    C    D\n",
      "K0  A0  B0   C0   D0\n",
      "K1  A1  B1  NaN  NaN\n",
      "K2  A2  B2   C2   D2\n",
      "      A    B    C    D\n",
      "K0   A0   B0   C0   D0\n",
      "K1   A1   B1  NaN  NaN\n",
      "K2   A2   B2   C2   D2\n",
      "K3  NaN  NaN   C3   D3\n",
      "!!!!!!!!!!!!!!!!!!!!!!!!!!!!!!!!!!!!!!!!!!!!!\n",
      "  key  data1\n",
      "0   b      1\n",
      "1   b      3\n",
      "2   a      2\n",
      "3   c      4\n",
      "4   a      5\n",
      "5   a      9\n",
      "6   b      7\n",
      "  key  date2\n",
      "0   a     11\n",
      "1   b      2\n",
      "2   d     33\n",
      "  key_1  data1 key_2  date2\n",
      "0     b      1     a     11\n",
      "1     b      3     b      2\n",
      "2     a      2     d     33\n",
      "  key  data1  date2\n",
      "0   b      1   11.0\n",
      "1   b      3    2.0\n",
      "2   a      2   33.0\n",
      "3   c      4    NaN\n",
      "4   a      5    NaN\n",
      "5   a      9    NaN\n",
      "6   b      7    NaN\n",
      "-----\n"
     ]
    }
   ],
   "source": [
    "# pd.join() → 直接通过索引链接\n",
    "\n",
    "left = pd.DataFrame({'A': ['A0', 'A1', 'A2'],\n",
    "                     'B': ['B0', 'B1', 'B2']},\n",
    "                    index=['K0', 'K1', 'K2'])\n",
    "right = pd.DataFrame({'C': ['C0', 'C2', 'C3'],\n",
    "                      'D': ['D0', 'D2', 'D3']},\n",
    "                     index=['K0', 'K2', 'K3'])\n",
    "print(left)\n",
    "print(right)\n",
    "print(left.join(right))\n",
    "print(left.join(right,how='outer'))\n",
    "        # 等价于：pd.merge(left, right, left_index=True, right_index=True, how='outer')\n",
    "print('!!!'*15)\n",
    "print(df1)\n",
    "print(df2)\n",
    "print(pd.merge(df1, df2, left_index=True, right_index=True, suffixes=('_1', '_2')))  \n",
    "print(df1.join(df2['date2']))\n",
    "print('-----')\n",
    "# suffixes=('_x', '_y')默认后缀  啥意思，没看懂\n"
   ]
  },
  {
   "cell_type": "code",
   "execution_count": 48,
   "metadata": {},
   "outputs": [
    {
     "name": "stdout",
     "output_type": "stream",
     "text": [
      "  key    value1\n",
      "0   a  0.276542\n",
      "1   b  0.527467\n",
      "2   c  0.933809\n",
      "  key    value1\n",
      "0   b  0.440101\n",
      "1   c  0.440885\n",
      "2   d  0.587197\n",
      "  key  value1_x  value1_y\n",
      "0   a  0.276542       NaN\n",
      "1   b  0.527467  0.440101\n",
      "2   c  0.933809  0.440885\n",
      "3   d       NaN  0.587197\n"
     ]
    }
   ],
   "source": [
    "#章节作业\n",
    "#作业1：按要求创建Dataframe df1、df2，并合并成df3\n",
    "df1 = pd.DataFrame({'key': ['a', 'b', 'c'],\n",
    "                     'value1':np.random.rand(3)})\n",
    "\n",
    "df2 = pd.DataFrame({'key': [ 'b', 'c','d'],\n",
    "                     'value1':np.random.rand(3)})\n",
    "\n",
    "print(df1)\n",
    "print(df2)\n",
    "print(pd.merge(df1,df2,on=['key','key'],how='outer'))"
   ]
  },
  {
   "cell_type": "code",
   "execution_count": 57,
   "metadata": {
    "scrolled": true
   },
   "outputs": [
    {
     "name": "stdout",
     "output_type": "stream",
     "text": [
      "  lkey    value1\n",
      "0    a  0.899217\n",
      "1    b  0.017732\n",
      "2    c  0.946902\n",
      "  rkey    value1\n",
      "0    b  0.673407\n",
      "1    c  0.140342\n",
      "2    d  0.103259\n",
      "  lkey  value1_x rkey  value1_y\n",
      "0    a  0.899217  NaN       NaN\n",
      "1    b  0.017732    b  0.673407\n",
      "2    c  0.946902    c  0.140342\n"
     ]
    }
   ],
   "source": [
    "#作业2：按要求创建Dataframe df1、df2，并合并成df3\t\n",
    "df1 = pd.DataFrame({'lkey': ['a', 'b', 'c'],\n",
    "                     'value1':np.random.rand(3)})\n",
    "\n",
    "df2 = pd.DataFrame({'rkey': [ 'b', 'c','d'],\n",
    "                     'value1':np.random.rand(3)})\n",
    "\n",
    "print(df1)\n",
    "print(df2)\n",
    "print(pd.merge(df1,df2,left_on='lkey',right_on='rkey',how='left'))\n"
   ]
  },
  {
   "cell_type": "code",
   "execution_count": 65,
   "metadata": {},
   "outputs": [
    {
     "name": "stdout",
     "output_type": "stream",
     "text": [
      "  key    value1\n",
      "0   a  0.862100\n",
      "1   b  0.453401\n",
      "2   c  0.919311\n",
      "     value2  value3\n",
      "b  0.932013       5\n",
      "c  0.484846       6\n",
      "d  0.085538       7\n",
      "  key    value1    value2  value3\n",
      "1   b  0.453401  0.932013       5\n",
      "2   c  0.919311  0.484846       6\n"
     ]
    }
   ],
   "source": [
    "#作业3：按要求创建Dataframe df1、df2，并合并成df3\t\n",
    "\n",
    "df1 = pd.DataFrame({'key': ['a', 'b', 'c'],\n",
    "                     'value1':np.random.rand(3)})\n",
    "\n",
    "df2 = pd.DataFrame({'value2':np.random.rand(3),\n",
    "                    'value3':[5,6,7]},\n",
    "                    index=['b','c','d'])\n",
    "                   \n",
    "print(df1)\n",
    "print(df2)\n",
    "print(pd.merge(df1,df2,left_on='key',right_index=True))\n"
   ]
  }
 ],
 "metadata": {
  "kernelspec": {
   "display_name": "Python 3",
   "language": "python",
   "name": "python3"
  },
  "language_info": {
   "codemirror_mode": {
    "name": "ipython",
    "version": 3
   },
   "file_extension": ".py",
   "mimetype": "text/x-python",
   "name": "python",
   "nbconvert_exporter": "python",
   "pygments_lexer": "ipython3",
   "version": "3.7.3"
  }
 },
 "nbformat": 4,
 "nbformat_minor": 2
}
