{
 "cells": [
  {
   "cell_type": "code",
   "execution_count": 1,
   "metadata": {},
   "outputs": [
    {
     "data": {
      "text/plain": [
       "'\\n时间模块：datetime\\ndatetime模块：主要掌握 datetime(),datetime.datetime(),datetime.timedelta()\\n日期解析方法：parser.parse\\n\\n'"
      ]
     },
     "execution_count": 1,
     "metadata": {},
     "output_type": "execute_result"
    }
   ],
   "source": [
    "\"\"\"\n",
    "时间模块：datetime\n",
    "datetime模块：主要掌握 datetime(),datetime.datetime(),datetime.timedelta()\n",
    "日期解析方法：parser.parse\n",
    "\n",
    "\"\"\""
   ]
  },
  {
   "cell_type": "code",
   "execution_count": 5,
   "metadata": {},
   "outputs": [
    {
     "name": "stdout",
     "output_type": "stream",
     "text": [
      "2019-07-25 <class 'datetime.date'>\n",
      "2019-07-25 <class 'str'>\n",
      "2016-06-01 <class 'datetime.date'>\n"
     ]
    }
   ],
   "source": [
    "# datetime.data:   date对象\n",
    "\n",
    "import datetime\n",
    "today = datetime.date.today()\n",
    "print(today,type(today))\n",
    "print(str(today),type(str(today)))\n",
    "    # datetime.date.today() 返回今日\n",
    "    # 输出格式为 date类\n",
    "\n",
    "t = datetime.date(2016,6,1)\n",
    "print(t,type(t))\n",
    "    #(年、月、日) 直接得到当日日期\n"
   ]
  },
  {
   "cell_type": "code",
   "execution_count": 11,
   "metadata": {},
   "outputs": [
    {
     "name": "stdout",
     "output_type": "stream",
     "text": [
      "2019-07-25 08:57:19.374499 <class 'datetime.datetime'>\n",
      "2019-07-25 08:57:19.374499 <class 'str'>\n",
      "2019-06-01 00:00:00 2018-10-03 12:44:55\n",
      "240 days, 11:15:05\n"
     ]
    }
   ],
   "source": [
    "# datetime.datatime:  datetime 对象\n",
    "\n",
    "now = datetime.datetime.now()\n",
    "print(now,type(now))\n",
    "print(str(now),type(str(now)))\n",
    "    # .now()方法，输出当期时间\n",
    "    # 输出格式为datetime类\n",
    "    # 可通过str()转化为字符串\n",
    "\n",
    "t1 = datetime.datetime(2019,6,1)\n",
    "t2 = datetime.datetime(2018,10,3,12,44,55)\n",
    "print(t1,t2)\n",
    "    #(年，月，日，时，分，秒)，至少输入年、月、日\n",
    "print(t1-t2)\n",
    "    #相减得到时间差，timedelta\n",
    "    "
   ]
  },
  {
   "cell_type": "code",
   "execution_count": 16,
   "metadata": {
    "scrolled": true
   },
   "outputs": [
    {
     "name": "stdout",
     "output_type": "stream",
     "text": [
      "2019-07-25 09:05:02.832395\n",
      "2019-07-24 09:05:02.832395\n",
      "2019-07-18 09:05:02.832395\n"
     ]
    }
   ],
   "source": [
    "# datetime.timedelta: 时间差\n",
    "\n",
    "today = datetime.datetime.today()\n",
    "print(today)\n",
    "\n",
    "yestoday = today -datetime.timedelta(1)\n",
    "print(yestoday)\n",
    "\n",
    "print(today - datetime.timedelta(7))\n",
    "    #时间差主要用作时间的加减法，相当于可被识别的时间差值。"
   ]
  },
  {
   "cell_type": "code",
   "execution_count": 19,
   "metadata": {},
   "outputs": [
    {
     "name": "stdout",
     "output_type": "stream",
     "text": [
      "2018-12-09 00:00:00 <class 'datetime.datetime'>\n",
      "2000-01-01 00:00:00 \n",
      " 2019-05-01 00:00:00 \n",
      " 2019-01-05 00:00:00 \n",
      " 2014-01-22 00:00:00 \n",
      " 2019-01-31 22:45:00\n"
     ]
    }
   ],
   "source": [
    "# parser.parse:  日期字符串转换\n",
    "\n",
    "from dateutil.parser import parse\n",
    "\n",
    "date = '12-9-2018'\n",
    "t = parse(date)\n",
    "print(t,type(t))\n",
    "    # 直接将str转化成datetime.datetime\n",
    "\n",
    "print(parse('2000-1-1'),'\\n',\n",
    "      parse('5/1/2019'),'\\n',\n",
    "      parse('5/1/2019',dayfirst=True),'\\n',# 国际通用格式中，日在月之前，可以通过dayfirst来设置\n",
    "      parse('22/1/2014'),'\\n',\n",
    "      parse('Jan 31,1998 10:45 PM'))"
   ]
  },
  {
   "cell_type": "code",
   "execution_count": 31,
   "metadata": {},
   "outputs": [
    {
     "name": "stdout",
     "output_type": "stream",
     "text": [
      "1请输出当前时间 2019-07-25 09:23:45.541573\n",
      "2请输出时间：2017-05-01 12:30:00\n",
      "2017-05-01 12:30:00\n",
      "3请输出时间：2000-12-01 00:00:00\n",
      "2000-12-01 00:00:00\n"
     ]
    }
   ],
   "source": [
    "#作业1：请调用datetime模块，输出以下时间信息\n",
    "print('1请输出当前时间',datetime.datetime.now())\n",
    "print('2请输出时间：2017-05-01 12:30:00')\n",
    "date1 = datetime.datetime(2017,5,1,12,30)  # 每个首位不能是0；\n",
    "print(date1)\n",
    "print('3请输出时间：2000-12-01 00:00:00')\n",
    "print(parse('2000-12-01 00:00:00'))"
   ]
  }
 ],
 "metadata": {
  "kernelspec": {
   "display_name": "Python 3",
   "language": "python",
   "name": "python3"
  },
  "language_info": {
   "codemirror_mode": {
    "name": "ipython",
    "version": 3
   },
   "file_extension": ".py",
   "mimetype": "text/x-python",
   "name": "python",
   "nbconvert_exporter": "python",
   "pygments_lexer": "ipython3",
   "version": "3.7.3"
  }
 },
 "nbformat": 4,
 "nbformat_minor": 2
}
