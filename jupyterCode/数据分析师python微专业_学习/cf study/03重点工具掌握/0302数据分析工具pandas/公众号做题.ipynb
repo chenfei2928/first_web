{
 "cells": [
  {
   "cell_type": "code",
   "execution_count": 1,
   "metadata": {},
   "outputs": [
    {
     "data": {
      "text/plain": [
       "'\\n简单题目：\\n\\n3124是数字1,2,3和4的一种可能的排列。如果所有排列都以数字或字母顺序进行列出，我们称之为词典顺序。\\n\\n比如0,1,2 的字典排列是：012 021 102 120 201 210。\\n\\n\\n那么0,1,2,3,4,5,6,7,8,9的字典排列第1百万个数字是多少？\\n'"
      ]
     },
     "execution_count": 1,
     "metadata": {},
     "output_type": "execute_result"
    }
   ],
   "source": [
    "\"\"\"\n",
    "简单题目：\n",
    "\n",
    "3124是数字1,2,3和4的一种可能的排列。如果所有排列都以数字或字母顺序进行列出，我们称之为词典顺序。\n",
    "\n",
    "比如0,1,2 的字典排列是：012 021 102 120 201 210。\n",
    "\n",
    "\n",
    "那么0,1,2,3,4,5,6,7,8,9的字典排列第1百万个数字是多少？\n",
    "\"\"\"\n"
   ]
  },
  {
   "cell_type": "code",
   "execution_count": null,
   "metadata": {},
   "outputs": [],
   "source": [
    "lis= [0,1,2]\n",
    "\n"
   ]
  }
 ],
 "metadata": {
  "kernelspec": {
   "display_name": "Python 3",
   "language": "python",
   "name": "python3"
  },
  "language_info": {
   "codemirror_mode": {
    "name": "ipython",
    "version": 3
   },
   "file_extension": ".py",
   "mimetype": "text/x-python",
   "name": "python",
   "nbconvert_exporter": "python",
   "pygments_lexer": "ipython3",
   "version": "3.7.3"
  }
 },
 "nbformat": 4,
 "nbformat_minor": 2
}
