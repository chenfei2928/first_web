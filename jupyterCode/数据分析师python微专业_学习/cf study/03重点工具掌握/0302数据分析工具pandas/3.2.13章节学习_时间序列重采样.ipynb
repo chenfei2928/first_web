{
 "cells": [
  {
   "cell_type": "code",
   "execution_count": 4,
   "metadata": {},
   "outputs": [
    {
     "data": {
      "text/plain": [
       "'\\n时间序列—重采样\\n将时间序列从一个频率转换为另一个频率的过程，且会有数据的结合\\n\\n降采样： 高频数据—>低频数据： eg 以天为频率的数据转换为以月为频率的数据\\n升采样：低频数据—>高频数据;   eg 以年为频率的数据转换为以月为频率的数据\\n\\n'"
      ]
     },
     "execution_count": 4,
     "metadata": {},
     "output_type": "execute_result"
    }
   ],
   "source": [
    "'''\n",
    "时间序列—重采样\n",
    "将时间序列从一个频率转换为另一个频率的过程，且会有数据的结合\n",
    "\n",
    "降采样： 高频数据—>低频数据： eg 以天为频率的数据转换为以月为频率的数据\n",
    "升采样：低频数据—>高频数据;   eg 以年为频率的数据转换为以月为频率的数据\n",
    "\n",
    "'''"
   ]
  },
  {
   "cell_type": "code",
   "execution_count": 14,
   "metadata": {},
   "outputs": [],
   "source": [
    "import numpy as np\n",
    "import pandas as pd"
   ]
  },
  {
   "cell_type": "code",
   "execution_count": 12,
   "metadata": {},
   "outputs": [
    {
     "name": "stdout",
     "output_type": "stream",
     "text": [
      "2019-01-01     0\n",
      "2019-01-02     1\n",
      "2019-01-03     2\n",
      "2019-01-04     3\n",
      "2019-01-05     4\n",
      "2019-01-06     5\n",
      "2019-01-07     6\n",
      "2019-01-08     7\n",
      "2019-01-09     8\n",
      "2019-01-10     9\n",
      "2019-01-11    10\n",
      "2019-01-12    11\n",
      "Freq: D, dtype: int32\n",
      "-——————分割线————————————\n",
      "DatetimeIndexResampler [freq=<5 * Days>, axis=0, closed=left, label=left, convention=start, base=0] <class 'pandas.core.resample.DatetimeIndexResampler'>\n",
      "-——————分割线——2——————————\n",
      "2019-01-01    10\n",
      "2019-01-06    35\n",
      "2019-01-11    21\n",
      "Freq: 5D, dtype: int32 <class 'pandas.core.series.Series'>\n",
      "2019-01-01     2.0\n",
      "2019-01-06     7.0\n",
      "2019-01-11    10.5\n",
      "Freq: 5D, dtype: float64 ----求平均值\n",
      "2019-01-01     4\n",
      "2019-01-06     9\n",
      "2019-01-11    11\n",
      "Freq: 5D, dtype: int32 ------求最大值\n",
      "2019-01-01     0\n",
      "2019-01-06     5\n",
      "2019-01-11    10\n",
      "Freq: 5D, dtype: int32 ------求最小值\n",
      "2019-01-01     2.0\n",
      "2019-01-06     7.0\n",
      "2019-01-11    10.5\n",
      "Freq: 5D, dtype: float64 ------求中间值\n",
      "2019-01-01     0\n",
      "2019-01-06     5\n",
      "2019-01-11    10\n",
      "Freq: 5D, dtype: int32 ------求第一个值\n",
      "2019-01-01     4\n",
      "2019-01-06     9\n",
      "2019-01-11    11\n",
      "Freq: 5D, dtype: int32 ------求最后值\n",
      "            open  high  low  close\n",
      "2019-01-01     0     4    0      4\n",
      "2019-01-06     5     9    5      9\n",
      "2019-01-11    10    11   10     11 ------ohlc重采样\n"
     ]
    }
   ],
   "source": [
    "# 重采样 .resample()\n",
    "# 创建一个以天为频率的TimeSeries,重采样为按2天为频率\n",
    "\n",
    "rng = pd.date_range('20190101',periods=12)\n",
    "ts = pd.Series(np.arange(12),index=rng)\n",
    "print(ts)\n",
    "print('-——————分割线————————————')\n",
    "\n",
    "ts_re = ts.resample('5D')\n",
    "print(ts_re,type(ts_re))\n",
    "print('-——————分割线——2——————————')\n",
    "ts_re2 = ts.resample('5D').sum()\n",
    "print(ts_re2,type(ts_re2))\n",
    "    # .resample('5D');得到一个重采样构建器，频率改为5天；\n",
    "    # .resample('5D').sum() 得到一个新的聚合后的Series，聚合方式为求和。\n",
    "    # freq: 重采样频率— .resample('5D')\n",
    "    # .sum() 聚合方法\n",
    "\n",
    "print(ts.resample('5D').mean(),'----求平均值')\n",
    "print(ts.resample('5D').max(),'------求最大值')\n",
    "print(ts.resample('5D').min(),'------求最小值')\n",
    "print(ts.resample('5D').median(),'------求中间值')\n",
    "print(ts.resample('5D').first(),'------求第一个值')\n",
    "print(ts.resample('5D').last(),'------求最后值')\n",
    "print(ts.resample('5D').ohlc(),'------ohlc重采样')\n",
    "        # ohlc：金融领域的时间序列聚合方式—>open开盘、high最大值、low最小值、close收盘价\n",
    "    "
   ]
  },
  {
   "cell_type": "code",
   "execution_count": null,
   "metadata": {},
   "outputs": [],
   "source": []
  },
  {
   "cell_type": "code",
   "execution_count": 25,
   "metadata": {},
   "outputs": [
    {
     "name": "stdout",
     "output_type": "stream",
     "text": [
      "2019-01-01     1\n",
      "2019-01-02     2\n",
      "2019-01-03     3\n",
      "2019-01-04     4\n",
      "2019-01-05     5\n",
      "2019-01-06     6\n",
      "2019-01-07     7\n",
      "2019-01-08     8\n",
      "2019-01-09     9\n",
      "2019-01-10    10\n",
      "2019-01-11    11\n",
      "2019-01-12    12\n",
      "Freq: D, dtype: int32\n",
      "2019-01-01    15\n",
      "2019-01-06    40\n",
      "2019-01-11    23\n",
      "Freq: 5D, dtype: int32 ---默认\n",
      "2019-01-01    15\n",
      "2019-01-06    40\n",
      "2019-01-11    23\n",
      "Freq: 5D, dtype: int32 --left\n",
      "2018-12-27     1\n",
      "2019-01-01    20\n",
      "2019-01-06    45\n",
      "2019-01-11    12\n",
      "Freq: 5D, dtype: int32 --right\n",
      "2019-01-01    15\n",
      "2019-01-06    40\n",
      "2019-01-11    23\n",
      "Freq: 5D, dtype: int32 ---leftlable-\n",
      "2019-01-06    15\n",
      "2019-01-11    40\n",
      "2019-01-16    23\n",
      "Freq: 5D, dtype: int32 ---rightable-\n"
     ]
    }
   ],
   "source": [
    "# 降采样\n",
    "\n",
    "rng = pd.date_range('20190101',periods=12)\n",
    "ts = pd.Series(np.arange(1,13),index=rng)\n",
    "print(ts)\n",
    "\n",
    "print(ts.resample('5D').sum(),'---默认')\n",
    "print(ts.resample('5D',closed  = 'left').sum(),'--left')\n",
    "print(ts.resample('5D',closed  = 'right').sum(),'--right')\n",
    "        # closed：各时间段哪一端是闭合（即包含）的，默认 左闭右闭\n",
    "        # 详解：这里values为0-11，按照5D重采样 → [1,2,3,4,5],[6,7,8,9,10],[11,12]\n",
    "        # left指定间隔左边为结束 → [1,2,3,4,5],[6,7,8,9,10],[11,12]\n",
    "        # right指定间隔右边为结束 → [1],[2,3,4,5,6],[7,8,9,10,11],[12]\n",
    "print(ts.resample('5D', label = 'left').sum(),'---leftlable-')\n",
    "print(ts.resample('5D', label = 'right').sum(),'---rightable-')\n",
    "\n",
    "        # label：聚合值的index，默认为取左\n",
    "        # 值采样认为默认（这里closed默认）"
   ]
  },
  {
   "cell_type": "code",
   "execution_count": 30,
   "metadata": {},
   "outputs": [
    {
     "ename": "IndentationError",
     "evalue": "unexpected indent (<ipython-input-30-bcd533c57015>, line 9)",
     "output_type": "error",
     "traceback": [
      "\u001b[1;36m  File \u001b[1;32m\"<ipython-input-30-bcd533c57015>\"\u001b[1;36m, line \u001b[1;32m9\u001b[0m\n\u001b[1;33m    .asfreq() 不做填充，返回Nan\u001b[0m\n\u001b[1;37m    ^\u001b[0m\n\u001b[1;31mIndentationError\u001b[0m\u001b[1;31m:\u001b[0m unexpected indent\n"
     ]
    }
   ],
   "source": [
    "# 升采样及插值\n",
    "\n",
    "rng= pd.date_range('2019/1/1 0:0:0',periods=5,freq='H')\n",
    "ts = pd.DataFrame(np.arange(15).reshape(5,3),index=rng,\n",
    "                 columns = ['a','b','c'])\n",
    "print(ts)\n",
    "\n",
    "print(ts.resample('15T').asfreq())\n",
    "        .asfreq() 不做填充，返回Nan\n",
    "print(ts.resample('15T').ffill())\n",
    "        .ffill() 向上填充\n",
    "print(ts.resample('15T').bfill())\n",
    "        .bfill() 向下填充"
   ]
  },
  {
   "cell_type": "code",
   "execution_count": 44,
   "metadata": {},
   "outputs": [
    {
     "name": "stdout",
     "output_type": "stream",
     "text": [
      "2016-01     0\n",
      "2016-02     1\n",
      "2016-03     2\n",
      "2016-04     3\n",
      "2016-05     4\n",
      "2016-06     5\n",
      "2016-07     6\n",
      "2016-08     7\n",
      "2016-09     8\n",
      "2016-10     9\n",
      "2016-11    10\n",
      "2016-12    11\n",
      "2017-01    12\n",
      "Freq: M, dtype: int32\n",
      "2016-01-01     0\n",
      "2016-01-16     0\n",
      "2016-01-31     0\n",
      "2016-02-15     1\n",
      "2016-03-01     2\n",
      "2016-03-16     2\n",
      "2016-03-31     2\n",
      "2016-04-15     3\n",
      "2016-04-30     3\n",
      "2016-05-15     4\n",
      "2016-05-30     4\n",
      "2016-06-14     5\n",
      "2016-06-29     5\n",
      "2016-07-14     6\n",
      "2016-07-29     6\n",
      "2016-08-13     7\n",
      "2016-08-28     7\n",
      "2016-09-12     8\n",
      "2016-09-27     8\n",
      "2016-10-12     9\n",
      "2016-10-27     9\n",
      "2016-11-11    10\n",
      "2016-11-26    10\n",
      "2016-12-11    11\n",
      "2016-12-26    11\n",
      "2017-01-10    12\n",
      "2017-01-25    12\n",
      "Freq: 15D, dtype: int32\n"
     ]
    },
    {
     "ename": "IncompatibleFrequency",
     "evalue": "Frequency <MonthEnd> cannot be resampled to <3 * MonthEnds>, as they are not sub or super periods",
     "output_type": "error",
     "traceback": [
      "\u001b[1;31m---------------------------------------------------------------------------\u001b[0m",
      "\u001b[1;31mIncompatibleFrequency\u001b[0m                     Traceback (most recent call last)",
      "\u001b[1;32m<ipython-input-44-f59af06facdd>\u001b[0m in \u001b[0;36m<module>\u001b[1;34m\u001b[0m\n\u001b[0;32m      8\u001b[0m \u001b[1;33m\u001b[0m\u001b[0m\n\u001b[0;32m      9\u001b[0m \u001b[1;33m\u001b[0m\u001b[0m\n\u001b[1;32m---> 10\u001b[1;33m \u001b[0mprint\u001b[0m\u001b[1;33m(\u001b[0m\u001b[0mts\u001b[0m\u001b[1;33m.\u001b[0m\u001b[0mresample\u001b[0m\u001b[1;33m(\u001b[0m\u001b[1;34m'3M'\u001b[0m\u001b[1;33m)\u001b[0m\u001b[1;33m.\u001b[0m\u001b[0msum\u001b[0m\u001b[1;33m(\u001b[0m\u001b[1;33m)\u001b[0m\u001b[1;33m)\u001b[0m  \u001b[1;31m# 降采样\u001b[0m\u001b[1;33m\u001b[0m\u001b[1;33m\u001b[0m\u001b[0m\n\u001b[0m\u001b[0;32m     11\u001b[0m        \u001b[1;31m# 频率不对？？？\u001b[0m\u001b[1;33m\u001b[0m\u001b[1;33m\u001b[0m\u001b[1;33m\u001b[0m\u001b[0m\n\u001b[0;32m     12\u001b[0m \u001b[1;33m\u001b[0m\u001b[0m\n",
      "\u001b[1;32mD:\\ProgramData\\Anaconda3\\lib\\site-packages\\pandas\\core\\resample.py\u001b[0m in \u001b[0;36mf\u001b[1;34m(self, _method, min_count, *args, **kwargs)\u001b[0m\n\u001b[0;32m    852\u001b[0m     \u001b[1;32mdef\u001b[0m \u001b[0mf\u001b[0m\u001b[1;33m(\u001b[0m\u001b[0mself\u001b[0m\u001b[1;33m,\u001b[0m \u001b[0m_method\u001b[0m\u001b[1;33m=\u001b[0m\u001b[0mmethod\u001b[0m\u001b[1;33m,\u001b[0m \u001b[0mmin_count\u001b[0m\u001b[1;33m=\u001b[0m\u001b[1;36m0\u001b[0m\u001b[1;33m,\u001b[0m \u001b[1;33m*\u001b[0m\u001b[0margs\u001b[0m\u001b[1;33m,\u001b[0m \u001b[1;33m**\u001b[0m\u001b[0mkwargs\u001b[0m\u001b[1;33m)\u001b[0m\u001b[1;33m:\u001b[0m\u001b[1;33m\u001b[0m\u001b[1;33m\u001b[0m\u001b[0m\n\u001b[0;32m    853\u001b[0m         \u001b[0mnv\u001b[0m\u001b[1;33m.\u001b[0m\u001b[0mvalidate_resampler_func\u001b[0m\u001b[1;33m(\u001b[0m\u001b[0m_method\u001b[0m\u001b[1;33m,\u001b[0m \u001b[0margs\u001b[0m\u001b[1;33m,\u001b[0m \u001b[0mkwargs\u001b[0m\u001b[1;33m)\u001b[0m\u001b[1;33m\u001b[0m\u001b[1;33m\u001b[0m\u001b[0m\n\u001b[1;32m--> 854\u001b[1;33m         \u001b[1;32mreturn\u001b[0m \u001b[0mself\u001b[0m\u001b[1;33m.\u001b[0m\u001b[0m_downsample\u001b[0m\u001b[1;33m(\u001b[0m\u001b[0m_method\u001b[0m\u001b[1;33m,\u001b[0m \u001b[0mmin_count\u001b[0m\u001b[1;33m=\u001b[0m\u001b[0mmin_count\u001b[0m\u001b[1;33m)\u001b[0m\u001b[1;33m\u001b[0m\u001b[1;33m\u001b[0m\u001b[0m\n\u001b[0m\u001b[0;32m    855\u001b[0m     \u001b[0mf\u001b[0m\u001b[1;33m.\u001b[0m\u001b[0m__doc__\u001b[0m \u001b[1;33m=\u001b[0m \u001b[0mgetattr\u001b[0m\u001b[1;33m(\u001b[0m\u001b[0mGroupBy\u001b[0m\u001b[1;33m,\u001b[0m \u001b[0mmethod\u001b[0m\u001b[1;33m)\u001b[0m\u001b[1;33m.\u001b[0m\u001b[0m__doc__\u001b[0m\u001b[1;33m\u001b[0m\u001b[1;33m\u001b[0m\u001b[0m\n\u001b[0;32m    856\u001b[0m     \u001b[0msetattr\u001b[0m\u001b[1;33m(\u001b[0m\u001b[0mResampler\u001b[0m\u001b[1;33m,\u001b[0m \u001b[0mmethod\u001b[0m\u001b[1;33m,\u001b[0m \u001b[0mf\u001b[0m\u001b[1;33m)\u001b[0m\u001b[1;33m\u001b[0m\u001b[1;33m\u001b[0m\u001b[0m\n",
      "\u001b[1;32mD:\\ProgramData\\Anaconda3\\lib\\site-packages\\pandas\\core\\resample.py\u001b[0m in \u001b[0;36m_downsample\u001b[1;34m(self, how, **kwargs)\u001b[0m\n\u001b[0;32m   1164\u001b[0m         raise IncompatibleFrequency(\n\u001b[0;32m   1165\u001b[0m             \u001b[1;34m'Frequency {} cannot be resampled to {}, as they are not '\u001b[0m\u001b[1;33m\u001b[0m\u001b[1;33m\u001b[0m\u001b[0m\n\u001b[1;32m-> 1166\u001b[1;33m             'sub or super periods'.format(ax.freq, self.freq))\n\u001b[0m\u001b[0;32m   1167\u001b[0m \u001b[1;33m\u001b[0m\u001b[0m\n\u001b[0;32m   1168\u001b[0m     \u001b[1;32mdef\u001b[0m \u001b[0m_upsample\u001b[0m\u001b[1;33m(\u001b[0m\u001b[0mself\u001b[0m\u001b[1;33m,\u001b[0m \u001b[0mmethod\u001b[0m\u001b[1;33m,\u001b[0m \u001b[0mlimit\u001b[0m\u001b[1;33m=\u001b[0m\u001b[1;32mNone\u001b[0m\u001b[1;33m,\u001b[0m \u001b[0mfill_value\u001b[0m\u001b[1;33m=\u001b[0m\u001b[1;32mNone\u001b[0m\u001b[1;33m)\u001b[0m\u001b[1;33m:\u001b[0m\u001b[1;33m\u001b[0m\u001b[1;33m\u001b[0m\u001b[0m\n",
      "\u001b[1;31mIncompatibleFrequency\u001b[0m: Frequency <MonthEnd> cannot be resampled to <3 * MonthEnds>, as they are not sub or super periods"
     ]
    }
   ],
   "source": [
    "# 时期重采样 ——period\n",
    "\n",
    "prng = pd.period_range('2016','2017',freq='M')\n",
    "ts = pd.Series(np.arange(len(prng)),index=prng)\n",
    "print(ts)\n",
    "\n",
    "print(ts.resample('15D').ffill()) # 升采样\n",
    "\n",
    "\n",
    "print(ts.resample('3M').sum())  # 降采样\n",
    "       # 频率不对？？？\n",
    "\n"
   ]
  },
  {
   "cell_type": "code",
   "execution_count": 50,
   "metadata": {},
   "outputs": [
    {
     "name": "stdout",
     "output_type": "stream",
     "text": [
      "2017-01-01    0.489235\n",
      "2017-01-02    0.569140\n",
      "2017-01-03    0.077798\n",
      "2017-01-04    0.626419\n",
      "2017-01-05    0.255969\n",
      "2017-01-06    0.837411\n",
      "2017-01-07    0.424668\n",
      "2017-01-08    0.560864\n",
      "2017-01-09    0.683644\n",
      "2017-01-10    0.811633\n",
      "Freq: D, dtype: float64\n",
      "2017-01-01    0.378724\n",
      "2017-01-04    0.573266\n",
      "2017-01-07    0.556392\n",
      "2017-01-10    0.811633\n",
      "Freq: 3D, dtype: float64\n",
      "2017-01-01 00:00:00    0.489235\n",
      "2017-01-01 12:00:00    0.489235\n",
      "2017-01-02 00:00:00    0.569140\n",
      "2017-01-02 12:00:00    0.569140\n",
      "2017-01-03 00:00:00    0.077798\n",
      "2017-01-03 12:00:00    0.077798\n",
      "2017-01-04 00:00:00    0.626419\n",
      "2017-01-04 12:00:00    0.626419\n",
      "2017-01-05 00:00:00    0.255969\n",
      "2017-01-05 12:00:00    0.255969\n",
      "2017-01-06 00:00:00    0.837411\n",
      "2017-01-06 12:00:00    0.837411\n",
      "2017-01-07 00:00:00    0.424668\n",
      "2017-01-07 12:00:00    0.424668\n",
      "2017-01-08 00:00:00    0.560864\n",
      "2017-01-08 12:00:00    0.560864\n",
      "2017-01-09 00:00:00    0.683644\n",
      "2017-01-09 12:00:00    0.683644\n",
      "2017-01-10 00:00:00    0.811633\n",
      "Freq: 12H, dtype: float64\n"
     ]
    }
   ],
   "source": [
    "#13节作业\n",
    "#作业1：按要求创建时间序列ts1，通过降采样和升采样，转换成ts2，ts3\n",
    "\n",
    "rng = pd.date_range('2017/1/1','2017/1/10')\n",
    "ts = pd.Series(np.random.rand(len(rng)),index=rng)\n",
    "              \n",
    "print(ts)\n",
    "\n",
    "ts2= ts.resample('3D').mean()\n",
    "print(ts2)\n",
    "\n",
    "ts3= ts.resample('12H').ffill()\n",
    "print(ts3)"
   ]
  }
 ],
 "metadata": {
  "kernelspec": {
   "display_name": "Python 3",
   "language": "python",
   "name": "python3"
  },
  "language_info": {
   "codemirror_mode": {
    "name": "ipython",
    "version": 3
   },
   "file_extension": ".py",
   "mimetype": "text/x-python",
   "name": "python",
   "nbconvert_exporter": "python",
   "pygments_lexer": "ipython3",
   "version": "3.7.3"
  }
 },
 "nbformat": 4,
 "nbformat_minor": 2
}
