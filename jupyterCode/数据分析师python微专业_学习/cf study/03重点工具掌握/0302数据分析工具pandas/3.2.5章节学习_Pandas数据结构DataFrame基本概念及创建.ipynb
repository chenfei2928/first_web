{
 "cells": [
  {
   "cell_type": "code",
   "execution_count": 4,
   "metadata": {},
   "outputs": [
    {
     "data": {
      "text/plain": [
       "'\\nPandas数据结构Dataframe：基本概念及创建\\n二维数组 DataFrame是一个表格型的数据结构，包含一组有序的列，其列的值类型可以是数值、字符串、布尔值等。\\nDataFrame中的数据以一个或多个二维块存放，不是列表、字典或一维数组结构。\\n\\n'"
      ]
     },
     "execution_count": 4,
     "metadata": {},
     "output_type": "execute_result"
    }
   ],
   "source": [
    "'''\n",
    "Pandas数据结构DataFrame：基本概念及创建\n",
    "二维数组 DataFrame是一个表格型的数据结构，包含一组有序的列，其列的值类型可以是数值、字符串、布尔值等。\n",
    "DataFrame中的数据以一个或多个二维块存放，不是列表、字典或一维数组结构。\n",
    "\n",
    "'''"
   ]
  },
  {
   "cell_type": "code",
   "execution_count": 5,
   "metadata": {},
   "outputs": [],
   "source": [
    "import numpy as np\n",
    "import pandas as pd"
   ]
  },
  {
   "cell_type": "code",
   "execution_count": 17,
   "metadata": {},
   "outputs": [
    {
     "name": "stdout",
     "output_type": "stream",
     "text": [
      "    name  age grender\n",
      "0   Jack   18       m\n",
      "1    Tom   19       m\n",
      "2  Marry   20       w\n",
      "<class 'pandas.core.frame.DataFrame'>\n",
      "RangeIndex(start=0, stop=3, step=1) 该数据类型为： <class 'pandas.core.indexes.range.RangeIndex'>\n",
      "Index(['name', 'age', 'grender'], dtype='object') 该数据类型为： <class 'pandas.core.indexes.base.Index'>\n",
      "[['Jack' 18 'm']\n",
      " ['Tom' 19 'm']\n",
      " ['Marry' 20 'w']] 该数据类型为： <class 'numpy.ndarray'>\n"
     ]
    }
   ],
   "source": [
    "# DataFrame 数据结构\n",
    "# DataFrame 是一个表格型的数据结构，“带有标签的二维数组”\n",
    "# DataFrame 带有inex（行标签） 和columns（列标签）\n",
    "\n",
    "\n",
    "data = {'name':['Jack','Tom',\"Marry\"],\n",
    "        'age':[18,19,20],'grender':['m','m','w']}\n",
    "frame = pd.DataFrame(data)\n",
    "print(frame)\n",
    "print(type(frame))\n",
    "\n",
    "print(frame.index,'该数据类型为：',type(frame.index))\n",
    "print(frame.columns,'该数据类型为：',type(frame.columns))\n",
    "print(frame.values,'该数据类型为：',type(frame.values))\n",
    "    #查看数据，数据类型为DataFrame\n",
    "    # .index 查看行标签\n",
    "    # .columns 查看列标签\n",
    "    # .values 查看值，数据类型为ndarray\n"
   ]
  },
  {
   "cell_type": "code",
   "execution_count": 27,
   "metadata": {},
   "outputs": [
    {
     "name": "stdout",
     "output_type": "stream",
     "text": [
      "{'a': [1, 2, 3], 'b': [3, 4, 5], 'c': [5, 6, 7]}\n",
      "   a  b  c\n",
      "0  1  3  5\n",
      "1  2  4  6\n",
      "2  3  5  7\n",
      "--------------------分割线-----------------------\n",
      "{'one': array([0.50821452, 0.7820953 , 0.91382488]), 'two': array([0.54864507, 0.9694734 , 0.70961345])}\n",
      "        one       two\n",
      "0  0.508215  0.548645\n",
      "1  0.782095  0.969473\n",
      "2  0.913825  0.709613\n",
      "--------------------分割线-----------------------\n",
      "   a  b  c    d\n",
      "0  1  3  5  NaN\n",
      "1  2  4  6  NaN\n",
      "2  3  5  7  NaN\n",
      "--------------------分割线-----------------------\n",
      "   b  c\n",
      "0  3  5\n",
      "1  4  6\n",
      "2  5  7\n",
      "--------------------分割线4-----------------------\n",
      "         one       two\n",
      "f1  0.508215  0.548645\n",
      "f2  0.782095  0.969473\n",
      "f3  0.913825  0.709613\n"
     ]
    }
   ],
   "source": [
    "# DataFrame 创建方法一： 由数组/list组成的字典\n",
    "# 创建方法：pandas.DataFrame()\n",
    "\n",
    "data1 = {'a':[1,2,3],'b':[3,4,5],'c':[5,6,7]}\n",
    "print(data1)\n",
    "df1=pd.DataFrame(data1)\n",
    "print(df1)\n",
    "print('--------------------分割线-----------------------')\n",
    "data2 = {'one':np.random.rand(3),'two':np.random.rand(3)}   # 不懂columns 必须相同数量值\n",
    "print(data2)\n",
    "df2=pd.DataFrame(data2)\n",
    "print(df2)\n",
    "    # 由数组/list组成的字典，创建DataFrame ，columns为字典key，index为默认数字标签\n",
    "    # 字典的值的长度必须保持一致！\n",
    "print('--------------------分割线-----------------------')\n",
    "df1 = pd.DataFrame(data1,columns=['a','b','c','d'])\n",
    "print(df1)\n",
    "print('--------------------分割线-----------------------')\n",
    "df1 = pd.DataFrame(data1,columns=['b','c'])\n",
    "print(df1)\n",
    "    # columns参数，可以重新制定列的顺序，格式为list，如果现有数据中没有该列（比如d），则产生NaN值；\n",
    "    # columns重新制定时，列的数量可以少于原数据\n",
    "print('--------------------分割线4-----------------------')\n",
    "\n",
    "df2 = pd.DataFrame(data2,index =['f1','f2','f3'])\n",
    "print(df2)\n",
    "    # index参数，重新定义index,格式为list,长度必须保持一致。\n",
    "    "
   ]
  },
  {
   "cell_type": "code",
   "execution_count": 31,
   "metadata": {},
   "outputs": [
    {
     "name": "stdout",
     "output_type": "stream",
     "text": [
      "{'one': 0    0.598472\n",
      "1    0.585149\n",
      "dtype: float64, 'two': 0    0.448015\n",
      "1    0.180315\n",
      "2    0.515393\n",
      "dtype: float64}\n",
      "        one       two\n",
      "0  0.598472  0.448015\n",
      "1  0.585149  0.180315\n",
      "2       NaN  0.515393\n",
      "-------------------------fgx------------------\n",
      "{'one': a    0.314499\n",
      "b    0.418558\n",
      "dtype: float64, 'two': a    0.728723\n",
      "b    0.712972\n",
      "c    0.735729\n",
      "dtype: float64}\n",
      "        one       two\n",
      "a  0.314499  0.728723\n",
      "b  0.418558  0.712972\n",
      "c       NaN  0.735729\n"
     ]
    }
   ],
   "source": [
    "# DataFrame 创建方法二： 由Series组成的字典\n",
    "\n",
    "data1 = {'one':pd.Series(np.random.rand(2)),'two':pd.Series(np.random.rand(3))}\n",
    "print(data1)\n",
    "df1 = pd.DataFrame(data1)\n",
    "print(df1)\n",
    "print('-------------------------fgx------------------')\n",
    "\n",
    "data2 = {'one':pd.Series(np.random.rand(2),index=['a','b']),\n",
    "         'two':pd.Series(np.random.rand(3),index=['a','b','c'])}\n",
    "print(data2)\n",
    "df2 = pd.DataFrame(data2)\n",
    "print(df2)\n",
    "    # 由Series组成的字典，创建DataFrame，columns为字典key，index为Series的标签（如果Series没有指定标签，则是默认数字标签）\n",
    "    # Series可以长度不一样，生成的DataFrame会出现NaN值"
   ]
  },
  {
   "cell_type": "code",
   "execution_count": 39,
   "metadata": {},
   "outputs": [
    {
     "name": "stdout",
     "output_type": "stream",
     "text": [
      "[[0.96100332 0.67810509 0.24576513]\n",
      " [0.20628872 0.6809652  0.21918307]\n",
      " [0.12449281 0.82415361 0.87981196]]\n",
      "          0         1         2\n",
      "0  0.961003  0.678105  0.245765\n",
      "1  0.206289  0.680965  0.219183\n",
      "2  0.124493  0.824154  0.879812\n",
      "        one       two     three\n",
      "a  0.961003  0.678105  0.245765\n",
      "b  0.206289  0.680965  0.219183\n",
      "c  0.124493  0.824154  0.879812\n"
     ]
    }
   ],
   "source": [
    "# DataFrame 创建方法三：通过二维数组直接创建\n",
    "\n",
    "ar = np.random.rand(9).reshape(3,3)\n",
    "print(ar)\n",
    "df1=pd.DataFrame(ar)\n",
    "print(df1)\n",
    "\n",
    "df2=pd.DataFrame(ar,index=['a','b','c'],columns=['one','two','three'])\n",
    "print(df2)\n",
    "    # 通过二维数组直接创建DataFrame，得到一样形状的结果数据，如果不指定index和columns，两者均返回默认数字格式\n",
    "    # index和columns 指定长度与原数据保持一致"
   ]
  },
  {
   "cell_type": "code",
   "execution_count": 44,
   "metadata": {},
   "outputs": [
    {
     "name": "stdout",
     "output_type": "stream",
     "text": [
      "[{'one': 1, 'two': 2}, {'one': 5, 'two': 10, 'three': 20}]\n",
      "   one  three  two\n",
      "0    1    NaN    2\n",
      "1    5   20.0   10\n",
      "   one  three  two\n",
      "a    1    NaN    2\n",
      "b    5   20.0   10\n",
      "   one  two\n",
      "0    1    2\n",
      "1    5   10\n"
     ]
    }
   ],
   "source": [
    "# DataFrame 创建方法四：由字典组成的列表\n",
    "\n",
    "data=[{'one':1,\"two\":2},{'one':5,'two':10,'three':20}]\n",
    "print(data)\n",
    "df1=pd.DataFrame(data)\n",
    "print(df1)\n",
    "\n",
    "df2=pd.DataFrame(data,index=['a','b'])\n",
    "print(df2)\n",
    "\n",
    "df3= pd.DataFrame(data,columns=['one','two'])\n",
    "print(df3)\n",
    "    # 由字典组成的列表创建DataFrame，columns为字典的key，index不做指定则为默认数组标签\n",
    "    # columns 和 index 参数分别重新制定相应列及行标签\n",
    "    "
   ]
  },
  {
   "cell_type": "code",
   "execution_count": 47,
   "metadata": {},
   "outputs": [
    {
     "name": "stdout",
     "output_type": "stream",
     "text": [
      "         Jack  Marry   Tom\n",
      "art        78     92   NaN\n",
      "english    89     95  67.0\n",
      "math       90     83  78.0\n",
      "         Jack   Tom  Bob\n",
      "art        78   NaN  NaN\n",
      "english    89  67.0  NaN\n",
      "math       90  78.0  NaN\n",
      "   Jack  Marry  Tom\n",
      "a   NaN    NaN  NaN\n",
      "b   NaN    NaN  NaN\n",
      "c   NaN    NaN  NaN\n"
     ]
    }
   ],
   "source": [
    "# DataFrame 创建方法五：由字典组成的字典\n",
    "\n",
    "data = {'Jack':{'math':90,'english':89,'art':78},\n",
    "        'Marry':{'math':83,'english':95,'art':92},\n",
    "        'Tom':{'math':78,'english':67}}\n",
    "\n",
    "df1 = pd.DataFrame(data)\n",
    "print(df1)\n",
    "    #由字典组成的字典创建DataFrame，columns为字典的key，index为子字典的key\n",
    "df2 = pd.DataFrame(data,columns =['Jack','Tom','Bob'])\n",
    "df3 = pd.DataFrame(data,index =['a','b','c'])\n",
    "print(df2)\n",
    "print(df3)\n",
    "    # columns参数可以增加和减少现有列，如出现新的列，值为NaN\n",
    "    # index 在这里和之间不同，并不能改变原有index，如果指向新的标签，值为NaN（非常重要）\n",
    "\n"
   ]
  },
  {
   "cell_type": "code",
   "execution_count": 52,
   "metadata": {},
   "outputs": [
    {
     "name": "stdout",
     "output_type": "stream",
     "text": [
      "{'one': [1, 2, 3, 4, 5], 'two': [2, 3, 4, 5, 6], 'three': [3, 4, 5, 6, 7], 'four': [4, 5, 6, 7, 8]}\n",
      "   one  two  three  four\n",
      "0    1    2      3     4\n",
      "1    2    3      4     5\n",
      "2    3    4      5     6\n",
      "3    4    5      6     7\n",
      "4    5    6      7     8\n",
      "   four  one  three  two\n",
      "a     4    1      3    2\n",
      "b     5    2      4    3\n",
      "c     6    3      5    4\n",
      "d     7    4      6    5\n",
      "e     8    5      7    6\n"
     ]
    }
   ],
   "source": [
    "# 作业1：用四种不同的方法，创建以下Dataframe（保证columns和index一致，值不做要求）\n",
    "\n",
    "#方法1  由数组列表组成的字典创建DataFrame\n",
    "\n",
    "data1 = {'one':[1,2,3,4,5],'two':[2,3,4,5,6],'three':[3,4,5,6,7],'four':[4,5,6,7,8]}\n",
    "print(data1)\n",
    "df1=pd.DataFrame(data1)\n",
    "print(df1)\n",
    "df2 = pd.DataFrame(data1,index =['a','b','c','d','e'],columns=['four','one','three','two'])\n",
    "print(df2)\n",
    "\n",
    "\n"
   ]
  },
  {
   "cell_type": "code",
   "execution_count": 62,
   "metadata": {},
   "outputs": [
    {
     "name": "stdout",
     "output_type": "stream",
     "text": [
      "        one       two     three      four\n",
      "a  0.933387  0.173397  0.799569  0.299086\n",
      "b  0.631715  0.847021  0.298100  0.266711\n",
      "c  0.381337  0.548610  0.665023  0.504664\n",
      "d  0.667255  0.121870  0.522442  0.898146\n",
      "e  0.253710  0.962665  0.138702  0.097342\n"
     ]
    }
   ],
   "source": [
    "#方法2:由Series组成的字典\n",
    "\n",
    "\n",
    "data = {'one':pd.Series(np.random.rand(5),index=['a','b','c','d','e']),\n",
    "        'two':pd.Series(np.random.rand(5),index=['a','b','c','d','e']),\n",
    "        'three':pd.Series(np.random.rand(5),index=['a','b','c','d','e']),\n",
    "        'four':pd.Series(np.random.rand(5),index=['a','b','c','d','e'])}\n",
    "df1=pd.DataFrame(data)\n",
    "print(df1)\n"
   ]
  },
  {
   "cell_type": "code",
   "execution_count": 64,
   "metadata": {},
   "outputs": [
    {
     "name": "stdout",
     "output_type": "stream",
     "text": [
      "[[0.61222744 0.78605641 0.82264612 0.03447133]\n",
      " [0.17405401 0.8100513  0.44471717 0.25425735]\n",
      " [0.99550968 0.76122152 0.87669246 0.56487948]\n",
      " [0.18353376 0.38105031 0.0013959  0.99189963]\n",
      " [0.69720182 0.8854286  0.46347198 0.17183764]]\n",
      "          0         1         2         3\n",
      "0  0.612227  0.786056  0.822646  0.034471\n",
      "1  0.174054  0.810051  0.444717  0.254257\n",
      "2  0.995510  0.761222  0.876692  0.564879\n",
      "3  0.183534  0.381050  0.001396  0.991900\n",
      "4  0.697202  0.885429  0.463472  0.171838\n",
      "        one       two     three      four\n",
      "a  0.612227  0.786056  0.822646  0.034471\n",
      "b  0.174054  0.810051  0.444717  0.254257\n",
      "c  0.995510  0.761222  0.876692  0.564879\n",
      "d  0.183534  0.381050  0.001396  0.991900\n",
      "e  0.697202  0.885429  0.463472  0.171838\n"
     ]
    }
   ],
   "source": [
    "#方法三：通过二维数组直接创建\n",
    "\n",
    "ar = np.random.rand(20).reshape(5,4)\n",
    "print(ar)\n",
    "df1=pd.DataFrame(ar)\n",
    "print(df1)\n",
    "\n",
    "df2=pd.DataFrame(ar,index=['a','b','c','d','e'],columns=['one','two','three','four'])\n",
    "print(df2)"
   ]
  },
  {
   "cell_type": "code",
   "execution_count": 69,
   "metadata": {},
   "outputs": [
    {
     "name": "stdout",
     "output_type": "stream",
     "text": [
      "[{'one': 1, 'two': 2, 'three': 56, 'four': 78}, {'one': 5, 'two': 10, 'three': 20, 'four': 78}, {'one': 15, 'two': 20, 'three': 50, 'four': 88}, {'one': 55, 'two': 17, 'three': 27, 'four': 74}, {'one': 85, 'two': 19, 'three': 23, 'four': 58}]\n",
      "   four  one  three  two\n",
      "0    78    1     56    2\n",
      "1    78    5     20   10\n",
      "2    88   15     50   20\n",
      "3    74   55     27   17\n",
      "4    58   85     23   19\n",
      "   four  one  three  two\n",
      "a    78    1     56    2\n",
      "b    78    5     20   10\n",
      "c    88   15     50   20\n",
      "d    74   55     27   17\n",
      "e    58   85     23   19\n"
     ]
    }
   ],
   "source": [
    "#方法四：由字典组成的列表\n",
    "\n",
    "data=[{'one':1,\"two\":2,'three':56,'four':78},\n",
    "      {'one':5,'two':10,'three':20,'four':78},\n",
    "      {'one':15,'two':20,'three':50,'four':88},\n",
    "      {'one':55,'two':17,'three':27,'four':74},\n",
    "      {'one':85,'two':19,'three':23,'four':58}]\n",
    "print(data)\n",
    "df1=pd.DataFrame(data)\n",
    "print(df1)\n",
    "\n",
    "df2=pd.DataFrame(data,index=['a','b','c','d','e'])\n",
    "print(df2)\n"
   ]
  },
  {
   "cell_type": "code",
   "execution_count": 72,
   "metadata": {},
   "outputs": [
    {
     "name": "stdout",
     "output_type": "stream",
     "text": [
      "   one   two  tree  four\n",
      "a   90  83.0  78.0  78.0\n",
      "b   89  95.0  67.0  67.0\n",
      "c   78  92.0   NaN   NaN\n",
      "d   90   NaN   NaN   NaN\n",
      "e   98   NaN   NaN   NaN\n"
     ]
    }
   ],
   "source": [
    "# 方法五：由字典组成的字典\n",
    "\n",
    "data = {'one':{'a':90,'b':89,'c':78,'d':90,'e':98},\n",
    "        'two':{'a':83,'b':95,'c':92},\n",
    "        'tree':{'a':78,'b':67},\n",
    "        'four':{'a':78,'b':67}}\n",
    "\n",
    "df1 = pd.DataFrame(data)\n",
    "print(df1)\n"
   ]
  }
 ],
 "metadata": {
  "kernelspec": {
   "display_name": "Python 3",
   "language": "python",
   "name": "python3"
  },
  "language_info": {
   "codemirror_mode": {
    "name": "ipython",
    "version": 3
   },
   "file_extension": ".py",
   "mimetype": "text/x-python",
   "name": "python",
   "nbconvert_exporter": "python",
   "pygments_lexer": "ipython3",
   "version": "3.7.3"
  }
 },
 "nbformat": 4,
 "nbformat_minor": 2
}
