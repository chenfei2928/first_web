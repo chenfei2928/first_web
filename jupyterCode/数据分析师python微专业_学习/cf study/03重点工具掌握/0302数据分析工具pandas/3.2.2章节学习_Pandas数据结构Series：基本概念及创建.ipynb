{
 "cells": [
  {
   "cell_type": "code",
   "execution_count": 1,
   "metadata": {},
   "outputs": [
    {
     "data": {
      "text/plain": [
       "''"
      ]
     },
     "execution_count": 1,
     "metadata": {},
     "output_type": "execute_result"
    }
   ],
   "source": [
    "\"\"\"\n",
    "Pandas数据结构Series：基本概念及创建\n",
    "一维数组 Series\n",
    "\n",
    "\"\"\""
   ]
  },
  {
   "cell_type": "code",
   "execution_count": 9,
   "metadata": {},
   "outputs": [
    {
     "name": "stdout",
     "output_type": "stream",
     "text": [
      "0    0.196939\n",
      "1    0.062284\n",
      "2    0.462150\n",
      "3    0.766174\n",
      "4    0.991497\n",
      "dtype: float64\n",
      "<class 'pandas.core.series.Series'>\n",
      "RangeIndex(start=0, stop=5, step=1) <class 'pandas.core.indexes.range.RangeIndex'>\n",
      "[0.1969391  0.06228433 0.46215047 0.76617411 0.99149706] <class 'numpy.ndarray'>\n"
     ]
    }
   ],
   "source": [
    "# Series 数据结构\n",
    "# Series 是带有标签的一维数组，可以保存任务数据类型（整型、字符串、浮点型、Python对象等），轴标签统称为索引\n",
    "\n",
    "import numpy as np\n",
    "import pandas as pd\n",
    "    #导入numpy、pandas 模块；\n",
    "\n",
    "s = pd.Series(np.random.rand(5))\n",
    "print(s)\n",
    "print(type(s))\n",
    "    # 查看数据、数据类型\n",
    "print(s.index,type(s.index))\n",
    "print(s.values,type(s.values))\n",
    "    # .index查看Series索引，类型为 rangeindex\n",
    "    # .values查看Series值，类型是ndarray\n",
    "\n",
    "    # 核心：series相比于ndarray，是一个自带索引index的数组 —> 一维数组 + 对应索引\n",
    "    # 所以当只看series的值的时候，就是一个ndarray\n",
    "    # series和ndarray较相似，索引切片功能差别不大\n",
    "    # series和dict相比，series更像一个有顺序的字典（dict本身不存在顺序），其索引原理与字典类似（一个用key,一个用index）"
   ]
  },
  {
   "cell_type": "code",
   "execution_count": 17,
   "metadata": {},
   "outputs": [
    {
     "name": "stdout",
     "output_type": "stream",
     "text": [
      "a            1\n",
      "b            2\n",
      "c        hello\n",
      "4    [1, 2, 4]\n",
      "5            5\n",
      "dtype: object\n"
     ]
    }
   ],
   "source": [
    "# Series 创建方法一：由字典创建，字典的key就是index，values就是values\n",
    "\n",
    "dic ={'a':1,'b':2,'c':'hello','4':[1,2,4],'5':5}\n",
    "s= pd.Series(dic)\n",
    "print(s)\n",
    "    #注意：key肯定是字符串，假如values类型不止一个会怎么样？\n",
    "            #经测试，同样作为一个values输出，但dtype变为object；\n",
    "    "
   ]
  },
  {
   "cell_type": "code",
   "execution_count": 24,
   "metadata": {},
   "outputs": [
    {
     "name": "stdout",
     "output_type": "stream",
     "text": [
      "[-0.53715174  0.596349    0.52741167 -0.17493882  0.35273321]\n",
      "0   -0.537152\n",
      "1    0.596349\n",
      "2    0.527412\n",
      "3   -0.174939\n",
      "4    0.352733\n",
      "dtype: float64\n",
      "----------------------------------------\n",
      "aa   -0.537152\n",
      "b     0.596349\n",
      "c     0.527412\n",
      "d    -0.174939\n",
      "e     0.352733\n",
      "dtype: object\n"
     ]
    }
   ],
   "source": [
    "# Series 创建方法二： 由数据创建（一维数组）\n",
    "\n",
    "arr = np.random.randn(5)\n",
    "print(arr)\n",
    "s = pd.Series(arr)\n",
    "print(s)\n",
    "    #默认index是从0开始，步长为1的数字\n",
    "print('----'*10)\n",
    "\n",
    "s= pd.Series(arr,index=['aa','b','c','d','e'],dtype=np.object)\n",
    "print(s)\n",
    "    # index参数：设置index，长度保持一致\n",
    "            # ??？ 长度一致什么意思？为什么索引‘aa’，‘a’均可；\n",
    "    # dtype参数：设置数值类型"
   ]
  },
  {
   "cell_type": "code",
   "execution_count": 26,
   "metadata": {},
   "outputs": [
    {
     "name": "stdout",
     "output_type": "stream",
     "text": [
      "0    10\n",
      "1    10\n",
      "2    10\n",
      "3    10\n",
      "dtype: int64\n"
     ]
    }
   ],
   "source": [
    "# Series 创建方法三：由标量创建\n",
    "\n",
    "s =pd.Series(10,index =range(4))\n",
    "print(s)\n",
    "    # 如何data是标量值，则必须提供索引。该值会重复，来匹配索引的长度"
   ]
  },
  {
   "cell_type": "code",
   "execution_count": 32,
   "metadata": {},
   "outputs": [
    {
     "name": "stdout",
     "output_type": "stream",
     "text": [
      "0    0.182829\n",
      "1    0.240836\n",
      "2   -0.871232\n",
      "3   -0.427999\n",
      "4    0.510180\n",
      "dtype: float64\n",
      "--------------------\n",
      "0    0.296857\n",
      "1    0.124275\n",
      "2    0.564867\n",
      "3    0.821109\n",
      "4    0.559902\n",
      "Name: test, dtype: float64\n",
      "--------------------\n",
      "None test <class 'str'>\n",
      "0    0.296857\n",
      "1    0.124275\n",
      "2    0.564867\n",
      "3    0.821109\n",
      "4    0.559902\n",
      "Name: hahahha, dtype: float64\n",
      "hahahha test\n"
     ]
    }
   ],
   "source": [
    "# Series名称属性：name\n",
    "\n",
    "s1 = pd.Series(np.random.randn(5))\n",
    "print(s1)\n",
    "print('--'*10)\n",
    "\n",
    "s2 = pd.Series(np.random.rand(5),name ='test')\n",
    "print(s2)\n",
    "print('--'*10)\n",
    "print(s1.name,s2.name,type(s2.name))\n",
    "  # name为Series的一个参数，创建一个数组的名称\n",
    "  # .name方法，输出数组的名称，输出格式为str，如果没用定义输出名称，输出为None\n",
    "\n",
    "s3 = s2.rename('hahahha')\n",
    "print(s3)\n",
    "print(s3.name,s2.name)"
   ]
  },
  {
   "cell_type": "code",
   "execution_count": 36,
   "metadata": {},
   "outputs": [
    {
     "name": "stdout",
     "output_type": "stream",
     "text": [
      "Jack     99.0\n",
      "Marry    92.0\n",
      "Tom      89.0\n",
      "Zack     65.0\n",
      "Name: 作业1, dtype: float64\n"
     ]
    }
   ],
   "source": [
    "# 章节小作业：\n",
    "# 作业1：分别由字典、数组的方式，创建以下要求的Series\n",
    "\n",
    "#方式一 字典方式创建\n",
    "\n",
    "dic = {'Jack':99.0,'Marry':92.0,'Tom':89.0,'Zack':65.0}\n",
    "s = pd.Series(dic,name='作业1')\n",
    "print(s)"
   ]
  },
  {
   "cell_type": "code",
   "execution_count": 41,
   "metadata": {},
   "outputs": [
    {
     "name": "stdout",
     "output_type": "stream",
     "text": [
      "[90.0, 92.0, 89.0, 65.0]\n",
      "Jack     90.0\n",
      "Marry    92.0\n",
      "Tom      89.0\n",
      "Zack     65.0\n",
      "Name: 作业1, dtype: float64\n"
     ]
    }
   ],
   "source": [
    "# 方式二  数组方式创建；\n",
    "\n",
    "lis = [90.0,92.0,89.0,65.0]\n",
    "print(lis)\n",
    "\n",
    "s = pd.Series(lis,index=['Jack','Marry','Tom','Zack'],name='作业1')\n",
    "print(s)"
   ]
  }
 ],
 "metadata": {
  "kernelspec": {
   "display_name": "Python 3",
   "language": "python",
   "name": "python3"
  },
  "language_info": {
   "codemirror_mode": {
    "name": "ipython",
    "version": 3
   },
   "file_extension": ".py",
   "mimetype": "text/x-python",
   "name": "python",
   "nbconvert_exporter": "python",
   "pygments_lexer": "ipython3",
   "version": "3.7.3"
  }
 },
 "nbformat": 4,
 "nbformat_minor": 2
}
