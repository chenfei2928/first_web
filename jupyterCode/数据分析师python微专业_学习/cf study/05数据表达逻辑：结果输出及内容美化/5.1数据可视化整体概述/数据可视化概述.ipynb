{
 "cells": [
  {
   "cell_type": "markdown",
   "metadata": {},
   "source": [
    "# 一、什么是数据可视化"
   ]
  },
  {
   "cell_type": "markdown",
   "metadata": {},
   "source": [
    "1、 图表比数据表更有表现力\n",
    "\n",
    "2、数据可视化是为了更好地促进行动，所以要让行动的决策人看懂！\n",
    "\n",
    "3、在已知的图表类型中进行选择时，先想想自己想要解决的到底是什么问题！\n",
    "\n",
    "4、已有的图片类型，仍可以继续创造。\n",
    "    "
   ]
  },
  {
   "cell_type": "markdown",
   "metadata": {},
   "source": [
    "## 数据可视化——\n",
    "    数据视觉，以数据为工具，以可视化为手段，目的是描述真实，探索世界\n",
    "\n"
   ]
  },
  {
   "cell_type": "markdown",
   "metadata": {},
   "source": [
    "## Seaborn\n",
    "    是基于Matplotlib的python数据可视化库，提供更高层次的API封装，包括一些高级图表可视化等工具"
   ]
  },
  {
   "cell_type": "markdown",
   "metadata": {},
   "source": [
    "## Bokeh\n",
    "    Bokeh可以建立一个可 交互的线上可视化服务器.\n",
    "\n"
   ]
  },
  {
   "cell_type": "markdown",
   "metadata": {},
   "source": [
    "## Gephi\n",
    "    Gephi是一款开源免费跨平台的复杂网络分析软件，其主要用于各种网络和复杂系统，动态和分层图的交互可视化与探测开源工具。\n",
    "\n"
   ]
  },
  {
   "cell_type": "markdown",
   "metadata": {},
   "source": [
    "## 空间可视化\n",
    "    空间可视化将会涉及多个软件进行数据处理，包括Powermap，echarts等。"
   ]
  },
  {
   "cell_type": "markdown",
   "metadata": {},
   "source": [
    "# 二、数据可视化技术体系及方向"
   ]
  },
  {
   "cell_type": "markdown",
   "metadata": {},
   "source": [
    "## 分析图表\n",
    "    单维度\n",
    "    \n",
    "    多维度\n",
    "   \n",
    "    空间图表\n",
    "   \n",
    "    关系图表\n",
    "\n"
   ]
  },
  {
   "cell_type": "markdown",
   "metadata": {},
   "source": [
    "## 动态交互\n",
    "    eg：Echarts  雨量流量关系图\n",
    "    \n",
    "    eg：百度图说\n",
    "    \n",
    "    \n",
    "    "
   ]
  },
  {
   "cell_type": "markdown",
   "metadata": {},
   "source": [
    "## 商业智能\n",
    "    eg：BDP    线上免费插件\n",
    "    \n",
    "    eg: tableau  线下付费\n",
    "    \n",
    "    eg：Microsoft PowerBI \n",
    "    \n",
    "    eg：脉策数据 Datamap\n",
    "    \n",
    "    \n",
    "    "
   ]
  },
  {
   "cell_type": "markdown",
   "metadata": {},
   "source": [
    "# 三、数据图表表达的逻辑原理\n",
    "     原则一：认清需求，推敲点睛\n",
    "     \n",
    "     原则二：深入了解，扎实掌握\n",
    "     \n",
    "     原则三：善用软件，设计美学\n",
    "     \n",
    "  \n",
    "  \n",
    "  需求（决定） 数据  （决定）  图表 （优化）需求\n",
    "  用正确的图表来表达合适的内容。\n",
    "  "
   ]
  },
  {
   "cell_type": "markdown",
   "metadata": {},
   "source": [
    "# 四、设计美学"
   ]
  },
  {
   "cell_type": "markdown",
   "metadata": {},
   "source": [
    "少即是多\n",
    "    \n",
    "    不同的类型适合不同的场景\n",
    "    \n",
    "    简单的排版要比花哨的排版更难\n",
    "    \n",
    "信息图表\n",
    "    \n",
    " \n",
    "数据为镜，二战之殇（视频）待查看；\n",
    "        http://www.fallen.io/\n",
    "\n"
   ]
  }
 ],
 "metadata": {
  "kernelspec": {
   "display_name": "Python 3",
   "language": "python",
   "name": "python3"
  },
  "language_info": {
   "codemirror_mode": {
    "name": "ipython",
    "version": 3
   },
   "file_extension": ".py",
   "mimetype": "text/x-python",
   "name": "python",
   "nbconvert_exporter": "python",
   "pygments_lexer": "ipython3",
   "version": "3.7.3"
  }
 },
 "nbformat": 4,
 "nbformat_minor": 2
}
