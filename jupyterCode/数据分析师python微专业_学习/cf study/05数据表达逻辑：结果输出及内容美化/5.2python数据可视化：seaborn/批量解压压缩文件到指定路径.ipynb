{
 "cells": [
  {
   "cell_type": "markdown",
   "metadata": {},
   "source": [
    "D:\\BaiduNetdiskDownload"
   ]
  },
  {
   "cell_type": "markdown",
   "metadata": {},
   "source": [
    "### 导入需要使用到的模块，zipfile, os两个，这两个都是python自带的模块所以直接导入就可以了。"
   ]
  },
  {
   "cell_type": "code",
   "execution_count": 4,
   "metadata": {},
   "outputs": [],
   "source": [
    "import zipfile\n",
    "import os\n",
    "    # 将zip文件解压处理，并放到指定的文件夹里面"
   ]
  },
  {
   "cell_type": "markdown",
   "metadata": {},
   "source": [
    "### 定义一个函数去读取指定文件夹下面的所有文件名字，以便后续解压调用。\n",
    "\n"
   ]
  },
  {
   "cell_type": "code",
   "execution_count": 5,
   "metadata": {},
   "outputs": [],
   "source": [
    "def unzip_file(zip_file_name,destination_path):\n",
    "    archive = zipfile.ZipFile(zip_file_name,mode='r')\n",
    "    for file in archive.namelist():\n",
    "        archive.extract(file,destination_path)"
   ]
  },
  {
   "cell_type": "markdown",
   "metadata": {},
   "source": [
    "### 设置源文件路径，以及需要解压到的指定路径\n",
    "\n"
   ]
  },
  {
   "cell_type": "code",
   "execution_count": 6,
   "metadata": {},
   "outputs": [],
   "source": [
    "a ='D:\\\\BaiduNetdiskDownload'   # zip file 压缩文件路径\n",
    "\n",
    "b ='D:\\\\BaiduNetdiskDownload\\\\jieya'  # 解压后存放路径"
   ]
  },
  {
   "cell_type": "markdown",
   "metadata": {},
   "source": [
    "### 定义解压函数，将指定的zip文件里面的内容解压到指定路径里面去。\n",
    "\n"
   ]
  },
  {
   "cell_type": "code",
   "execution_count": 10,
   "metadata": {},
   "outputs": [],
   "source": [
    "\n",
    "def zipfile_name(file_dir):\n",
    "    \n",
    "    # 读取文件夹下面的文件名.zip\n",
    "    L = []\n",
    "    for root,dirs,files in os.walk(file_dir):\n",
    "        for file in files:\n",
    "            if os.path.splitext(file)[1] == '.zip':\n",
    "                \n",
    "                # 读取带zip文件\n",
    "                L.append(os.path.join(root,file))\n",
    "    return L\n"
   ]
  },
  {
   "cell_type": "markdown",
   "metadata": {},
   "source": [
    "### 主函数\n",
    "\n"
   ]
  },
  {
   "cell_type": "code",
   "execution_count": 14,
   "metadata": {},
   "outputs": [
    {
     "name": "stdout",
     "output_type": "stream",
     "text": [
      "done\n"
     ]
    }
   ],
   "source": [
    "def main():\n",
    "    fn = zipfile_name(a)\n",
    "    for file in fn:\n",
    "        unzip_file(file,b)\n",
    "if __name__ == '__main__':\n",
    "    main()\n",
    "print('done')"
   ]
  },
  {
   "cell_type": "markdown",
   "metadata": {},
   "source": [
    "### 结果"
   ]
  },
  {
   "cell_type": "code",
   "execution_count": 15,
   "metadata": {},
   "outputs": [
    {
     "ename": "SyntaxError",
     "evalue": "invalid character in identifier (<ipython-input-15-0dffb943cc1a>, line 1)",
     "output_type": "error",
     "traceback": [
      "\u001b[1;36m  File \u001b[1;32m\"<ipython-input-15-0dffb943cc1a>\"\u001b[1;36m, line \u001b[1;32m1\u001b[0m\n\u001b[1;33m    1、确实可以解压出来，但中文名字乱码；\u001b[0m\n\u001b[1;37m                      ^\u001b[0m\n\u001b[1;31mSyntaxError\u001b[0m\u001b[1;31m:\u001b[0m invalid character in identifier\n"
     ]
    }
   ],
   "source": [
    "#1、确实可以解压出来，但中文名字乱码；\n",
    "#2、解压文件最后以原来文件夹命名；\n",
    "#3、深入学习下这个模块；\n",
    "    "
   ]
  }
 ],
 "metadata": {
  "kernelspec": {
   "display_name": "Python 3",
   "language": "python",
   "name": "python3"
  },
  "language_info": {
   "codemirror_mode": {
    "name": "ipython",
    "version": 3
   },
   "file_extension": ".py",
   "mimetype": "text/x-python",
   "name": "python",
   "nbconvert_exporter": "python",
   "pygments_lexer": "ipython3",
   "version": "3.7.3"
  }
 },
 "nbformat": 4,
 "nbformat_minor": 2
}
