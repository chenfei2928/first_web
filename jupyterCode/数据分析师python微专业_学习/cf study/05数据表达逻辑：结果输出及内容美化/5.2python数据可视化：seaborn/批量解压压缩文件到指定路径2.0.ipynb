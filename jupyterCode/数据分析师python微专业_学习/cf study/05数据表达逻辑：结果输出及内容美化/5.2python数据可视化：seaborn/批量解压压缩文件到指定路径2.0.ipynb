{
 "cells": [
  {
   "cell_type": "code",
   "execution_count": 2,
   "metadata": {},
   "outputs": [],
   "source": [
    "import os\n",
    "import shutil\n",
    "import zipfile\n",
    " \n",
    "# 首先引入需要的工具包\n",
    "# shutil为后期移动文件所需，可以忽略此项\n",
    " "
   ]
  },
  {
   "cell_type": "code",
   "execution_count": 3,
   "metadata": {},
   "outputs": [],
   "source": [
    "# 路径改这里！\n",
    "parent_path = r'D:\\BaiduNetdiskDownload\\安娜尔资料\\测试' \n",
    " \n",
    "# 文件类型选择\n",
    "# 可以自行更改压缩文件类型，需要引入其它工具包，如tarfile等\n",
    "# 这里是因为在自己的windows上，zip比较常见，其他类型请自行更改\n",
    "\n",
    "file_flag = '.zip'"
   ]
  },
  {
   "cell_type": "code",
   "execution_count": 4,
   "metadata": {},
   "outputs": [],
   "source": [
    " \n",
    "# 删除已解压的zip文件\n",
    "# 不建议初次使用，在确定程序无误后可以添加使用\n",
    "def del_old_zip(file_path):\n",
    "    os.remove(file_path)\n",
    " "
   ]
  },
  {
   "cell_type": "code",
   "execution_count": 5,
   "metadata": {},
   "outputs": [],
   "source": [
    " \n",
    "# 解压\n",
    "def decompress(file_path, root):\n",
    "    # 开始\n",
    "    # zipfile打开zip文件\n",
    "    z = zipfile.ZipFile(f'{file_path}', 'r')\n",
    " \n",
    "    # 解压\n",
    "    z.extractall(path=f\"{root}\")    # path为解压路径，解包后位于该路径下\n",
    " \n",
    "    # 判断是否需要重复解包\n",
    "    for names in z.namelist():\n",
    "        if names.endswith(file_flag):\n",
    "            z.close()\n",
    "            return 1\n",
    " \n",
    "    # 结束\n",
    "    z.close()\n",
    " \n",
    "    return 0\n",
    " \n",
    " \n",
    "# 因为我在使用过程中发现有些zip解包后会混在一起\n",
    "# 在平时大家手动解压时可能也会遇到提示是否覆盖的问题\n",
    "# 下面的两个函数解决这一问题\n",
    " \n",
    "# 开始要先创建一个大文件夹  与压缩包名字相同\n",
    "# 避免后期混乱和麻烦\n",
    "def start_dir_make(root, dirname):\n",
    "    os.chdir(root)\n",
    "    os.mkdir(dirname)\n",
    "    return os.path.join(root, dirname)\n",
    " "
   ]
  },
  {
   "cell_type": "code",
   "execution_count": 6,
   "metadata": {},
   "outputs": [],
   "source": [
    " \n",
    "# 去除多余文件夹\n",
    "def rem_dir_extra(root, father_dir_name):\n",
    "    # 递归要注意信息的正常处理  搞不好上一个调用已经改变了东西  而下面的调用还是使用之前的数据\n",
    " \n",
    "    try:\n",
    " \n",
    "       # 判断文件夹重名  开始\n",
    "        for item in os.listdir(os.path.join(root, father_dir_name)):\n",
    " \n",
    "            # 第一步判断是不是一个文件夹，如果不是则跳过本次循环\n",
    "            if not os.path.isdir(os.path.join(root, father_dir_name, item)):\n",
    "                continue\n",
    " \n",
    "            # 判断是否要脱掉一层目录结构\n",
    "            # 文件夹名字要相同，且子目录中只有单独的一个文件夹\n",
    "            if item == father_dir_name and len(\n",
    "                    os.listdir(os.path.join(root, father_dir_name))) == 1:\n",
    " \n",
    "                # 改变工作目录\n",
    "                os.chdir(root)\n",
    "                 \n",
    "                # 将无用文件夹重命名，因为直接移动会有重名错误\n",
    "                os.rename(father_dir_name, father_dir_name + '-old')\n",
    "                 \n",
    "                # 移动文件后删除空文件夹\n",
    "                shutil.move(os.path.join(root, father_dir_name + '-old', item), os.path.join(root))\n",
    "                os.rmdir(os.path.join(root, father_dir_name + '-old'))\n",
    " \n",
    "                # 将去掉一层目录结构后的文件夹继续作为父本递归处理下去\n",
    "                # 这里要注意，上面已经发生过数据的改动，所以下面递归传参一定要正确！\n",
    "                rem_dir_extra(root, item)\n",
    " \n",
    "            else:\n",
    " \n",
    "                # 处理那些不满足上面条件的文件夹\n",
    "                rem_dir_extra(os.path.join(root, father_dir_name), item)\n",
    " \n",
    "    except Exception as e:\n",
    " \n",
    "        # 打印错误信息\n",
    "        print(\"清除文件夹出错\" + str(e))\n",
    "        "
   ]
  },
  {
   "cell_type": "code",
   "execution_count": 7,
   "metadata": {},
   "outputs": [
    {
     "name": "stdout",
     "output_type": "stream",
     "text": [
      "文件：D:\\BaiduNetdiskDownload\\安娜尔资料\\测试\\31刘润 商业洞察力30讲 （完）.zip\n",
      "解压完成\n",
      "\n",
      "文件：D:\\BaiduNetdiskDownload\\安娜尔资料\\测试\\行动变现：如何让我们的拼搏更有价值.zip\n",
      "解压完成\n",
      "\n",
      "解压完成啦，记得检查有没有zip格式之外的呀!\n",
      "\n",
      "其他格式需要自己改一下了\n"
     ]
    }
   ],
   "source": [
    " \n",
    "# 入口\n",
    "if __name__ == '__main__':\n",
    " \n",
    "    flag = 1\n",
    " \n",
    "    while flag:\n",
    " \n",
    "        #  循环遍历文件夹\n",
    "        for root, dirs, files in os.walk(parent_path):\n",
    " \n",
    "            # 读取文件名\n",
    "            for name in files:\n",
    " \n",
    "                if name.endswith(file_flag):\n",
    " \n",
    "                    # 创建文件夹\n",
    "                    new_ws = start_dir_make(root, name.replace(file_flag, ''))\n",
    " \n",
    "                    # zip文件地址\n",
    "                    zip_path = os.path.join(root, name)\n",
    " \n",
    "                    # 解压\n",
    "                    flag = decompress(zip_path, new_ws)\n",
    " \n",
    "                    # 删除解压后的文件\n",
    "                    # 有点危险\n",
    "                    # 但不删除又可能会重复运行\n",
    "                     # 一定要备份或先测试，不然可能会凉，自己选择修改\n",
    "                    del_old_zip(zip_path)\n",
    " \n",
    "                    # 去掉多余的文件结构\n",
    "                    rem_dir_extra(root, name.replace(file_flag, ''))\n",
    " \n",
    "                    print(f'{root}\\\\{name}'.join(['文件：', '\\n解压完成\\n']))\n",
    " \n",
    " \n",
    "    # 由于解压可能解了好几次 所以可能会有已经解压好的父级目录重名无法处理 这里要再处理一次\n",
    "    rem_dir_extra(os.path.split(parent_path)[0], os.path.split(parent_path)[1])\n",
    " \n",
    " \n",
    "    print(\"解压完成啦，记得检查有没有zip格式之外的呀!\\n\\n其他格式需要自己改一下了\")"
   ]
  },
  {
   "cell_type": "code",
   "execution_count": null,
   "metadata": {},
   "outputs": [],
   "source": [
    "#备注：可以解压，但里面文件依然会发生乱码"
   ]
  }
 ],
 "metadata": {
  "kernelspec": {
   "display_name": "Python 3",
   "language": "python",
   "name": "python3"
  },
  "language_info": {
   "codemirror_mode": {
    "name": "ipython",
    "version": 3
   },
   "file_extension": ".py",
   "mimetype": "text/x-python",
   "name": "python",
   "nbconvert_exporter": "python",
   "pygments_lexer": "ipython3",
   "version": "3.7.3"
  }
 },
 "nbformat": 4,
 "nbformat_minor": 2
}
