{
 "cells": [
  {
   "cell_type": "code",
   "execution_count": 1,
   "metadata": {},
   "outputs": [
    {
     "data": {
      "text/plain": [
       "'\\n异常值处理\\n异常值是指样本中的个别值，其数值明显偏离其余的观察值。\\n异常值也称离群点。异常值的分析也称为离群点的分析。\\n\\n异常值分析  — 3西格玛原则  / 箱型图分析\\n异常值处理方法  — 删除/ 修正填补；\\n4\\n\\n'"
      ]
     },
     "execution_count": 1,
     "metadata": {},
     "output_type": "execute_result"
    }
   ],
   "source": [
    "'''\n",
    "异常值处理\n",
    "异常值是指样本中的个别值，其数值明显偏离其余的观察值。\n",
    "异常值也称离群点。异常值的分析也称为离群点的分析。\n",
    "\n",
    "异常值分析  — 3西格玛原则  / 箱型图分析\n",
    "异常值处理方法  — 删除/ 修正填补；\n",
    "4\n",
    "\n",
    "'''"
   ]
  },
  {
   "cell_type": "code",
   "execution_count": 2,
   "metadata": {},
   "outputs": [],
   "source": [
    "import numpy as np\n",
    "import pandas as pd\n",
    "import matplotlib.pyplot as plt\n",
    "%matplotlib inline"
   ]
  },
  {
   "cell_type": "code",
   "execution_count": 5,
   "metadata": {},
   "outputs": [
    {
     "data": {
      "text/plain": [
       "0   -118.865208\n",
       "1    108.818406\n",
       "2     60.499233\n",
       "3    -40.869344\n",
       "4    -97.612861\n",
       "dtype: float64"
      ]
     },
     "execution_count": 5,
     "metadata": {},
     "output_type": "execute_result"
    }
   ],
   "source": [
    "# 异常值分析\n",
    "# (1) 3西格玛原则：如果数据服从正态分布，异常值被定义为一组测定值中与平均值的偏差超过3倍的值。 p(/x -u/ >30)<=0.003\n",
    "\n",
    "data = pd.Series(np.random.randn(10000)*100)\n",
    "data.head()"
   ]
  }
 ],
 "metadata": {
  "kernelspec": {
   "display_name": "Python 3",
   "language": "python",
   "name": "python3"
  },
  "language_info": {
   "codemirror_mode": {
    "name": "ipython",
    "version": 3
   },
   "file_extension": ".py",
   "mimetype": "text/x-python",
   "name": "python",
   "nbconvert_exporter": "python",
   "pygments_lexer": "ipython3",
   "version": "3.7.3"
  }
 },
 "nbformat": 4,
 "nbformat_minor": 2
}
