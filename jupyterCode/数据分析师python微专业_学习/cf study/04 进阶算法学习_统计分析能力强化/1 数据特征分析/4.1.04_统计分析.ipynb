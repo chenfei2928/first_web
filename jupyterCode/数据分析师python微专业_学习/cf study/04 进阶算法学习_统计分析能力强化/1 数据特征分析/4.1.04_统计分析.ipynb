{
 "cells": [
  {
   "cell_type": "code",
   "execution_count": 1,
   "metadata": {},
   "outputs": [
    {
     "data": {
      "text/plain": [
       "'\\n统计分析\\n统计指标对定量数据进行统计描述，常从集中趋势和离中趋势两个方面进行分析\\n集中趋势度量 / 离中趋势度量\\n\\n'"
      ]
     },
     "execution_count": 1,
     "metadata": {},
     "output_type": "execute_result"
    }
   ],
   "source": [
    "'''\n",
    "统计分析\n",
    "统计指标对定量数据进行统计描述，常从集中趋势和离中趋势两个方面进行分析\n",
    "集中趋势度量 / 离中趋势度量\n",
    "\n",
    "'''"
   ]
  },
  {
   "cell_type": "code",
   "execution_count": 2,
   "metadata": {},
   "outputs": [],
   "source": [
    "import numpy as np\n",
    "import pandas as pd\n",
    "import matplotlib.pyplot as plt\n",
    "%matplotlib inline"
   ]
  },
  {
   "cell_type": "code",
   "execution_count": 9,
   "metadata": {},
   "outputs": [
    {
     "name": "stdout",
     "output_type": "stream",
     "text": [
      "   value         f\n",
      "0    102  0.012338\n",
      "1    106  0.007459\n",
      "2    112  0.010952\n",
      "3    107  0.001089\n",
      "4    109  0.013280\n",
      "---------\n",
      "简单算术平均值为：109.70\n",
      "加权算术平均值为：109.65\n"
     ]
    }
   ],
   "source": [
    "# 1、集中趋势度量\n",
    "# 指一组数据向某一中心靠拢的倾向，核心在于寻找数据的代表或中心值——统计平均数\n",
    "# 算数平均数、位置平均数\n",
    "# （1） 算数平均数\n",
    "\n",
    "data = pd.DataFrame({'value':np.random.randint(100,120,100),\n",
    "                     'f':np.random.rand(100)})\n",
    "\n",
    "data['f'] = data['f']/data['f'].sum()  # f为权重，这里将f列设置成总和为1的权重占比\n",
    "print(data.head())\n",
    "print('---------')\n",
    "    # 创建数据\n",
    "    \n",
    "mean = data['value'].mean()\n",
    "print('简单算术平均值为：%.2f' %mean)\n",
    "    # 简单算术平均值 = 总和 / 样本数量 （不涉及权重）\n",
    "\n",
    "mean_w = (data['value']*data['f']).sum()/ data['f'].sum()\n",
    "print('加权算术平均值为：%.2f' % mean_w)\n",
    "    # 加权算术平均值 =（x1f1 + x2f2 + ... + xnfn） / （f1 + f2 + ....+ fn）\n"
   ]
  },
  {
   "cell_type": "markdown",
   "metadata": {},
   "source": [
    "在这里强调一下 kind参数——'line', 'bar', 'barh', 'kde':\n",
    "\n",
    "直方图：是一种可以对值频率离散化显示的柱状图。通过调用Series.hist()方法即可创建。\n",
    "\n",
    "密度图：与直方图相关的一种类型图，是通过计算“可能会产生观测数据的连续概率分布的估计”而产生的，通过给plot传入参数kind = 'kde' 即可。\n",
    "\n",
    "散布图：是观测两个一维数据序列之间关系的有效手段，使用pd.scatter_matrix()即可建立。\n"
   ]
  },
  {
   "cell_type": "code",
   "execution_count": 23,
   "metadata": {},
   "outputs": [
    {
     "name": "stdout",
     "output_type": "stream",
     "text": [
      "众数为 [117]\n",
      "中位数为110\n"
     ]
    },
    {
     "data": {
      "text/plain": [
       "<matplotlib.axes._subplots.AxesSubplot at 0x241a1c517b8>"
      ]
     },
     "execution_count": 23,
     "metadata": {},
     "output_type": "execute_result"
    },
    {
     "data": {
      "image/png": "[encoded data removed]",
      "text/plain": [
       "<Figure size 432x288 with 1 Axes>"
      ]
     },
     "metadata": {
      "needs_background": "light"
     },
     "output_type": "display_data"
    }
   ],
   "source": [
    "# 1、集中趋势度量\n",
    "# （2）位置平均数\n",
    "\n",
    "m = data['value'].mode()\n",
    "print('众数为',m.tolist())\n",
    "    # 众数是一组数据中出现次数最多的数，这里可能返回多个值。\n",
    "\n",
    "med = data['value'].median()\n",
    "print('中位数为%i'%med)\n",
    "    # 中位数指将总体各单位标志按照大小顺序排序后，中间位置的数字\n",
    "    \n",
    "data['value'].plot(kind='kde',style='--k',grid =True)\n",
    "    # 密度曲线\n",
    "\n",
    "#下面部分报错，暂时不写；\n"
   ]
  },
  {
   "cell_type": "code",
   "execution_count": 25,
   "metadata": {},
   "outputs": [
    {
     "name": "stdout",
     "output_type": "stream",
     "text": [
      "                A_sale      B_sale\n",
      "2017-06-01  981.859562  127.539497\n",
      "2017-06-02  362.532916  982.078752\n",
      "2017-06-03  372.500120  693.997195\n",
      "2017-06-04  258.156458  639.228938\n",
      "2017-06-05  236.372199  841.417463\n"
     ]
    }
   ],
   "source": [
    "# 2、离中趋势度量\n",
    "# 指一组数据中各数据以不同程度的距离偏离中心的趋势\n",
    "# 极差与分位数、方差与标准差、离散系数\n",
    "\n",
    "data = pd.DataFrame({'A_sale':np.random.rand(30)*1000,\n",
    "                    'B_sale':np.random.rand(30)*1000},\n",
    "                   index = pd.period_range('20170601','20170630'))\n",
    "print(data.head())\n",
    "    # 创建数据\n",
    "    # A/B 销售额量级在同一水平"
   ]
  },
  {
   "cell_type": "code",
   "execution_count": 38,
   "metadata": {},
   "outputs": [
    {
     "name": "stdout",
     "output_type": "stream",
     "text": [
      "A销售额的极差是：955.92,B销售额的极差是：966.09\n",
      "--------------------------------------------------------------\n",
      "count     30.000000\n",
      "mean     526.959818\n",
      "std      260.513798\n",
      "min       25.936048\n",
      "25%      323.591892\n",
      "50%      511.456123\n",
      "75%      729.034997\n",
      "max      981.859562\n",
      "Name: A_sale, dtype: float64 count     30.000000\n",
      "mean     542.429176\n",
      "std      307.262110\n",
      "min       15.987345\n",
      "25%      283.129295\n",
      "50%      595.485468\n",
      "75%      815.440584\n",
      "max      982.078752\n",
      "Name: B_sale, dtype: float64\n",
      "A销售额的分位差为：405.44,B销售额的分位差为：532.31。\n",
      "------------------------------------------------------------------\n"
     ]
    },
    {
     "data": {
      "text/plain": [
       "<matplotlib.axes._subplots.AxesSubplot at 0x241a1fcdd68>"
      ]
     },
     "execution_count": 38,
     "metadata": {},
     "output_type": "execute_result"
    },
    {
     "data": {
      "image/png": "[encoded data removed]",
      "text/plain": [
       "<Figure size 720x216 with 1 Axes>"
      ]
     },
     "metadata": {
      "needs_background": "light"
     },
     "output_type": "display_data"
    }
   ],
   "source": [
    "# （1）极差、分位差\n",
    "\n",
    "a_r = data['A_sale'].max() -data['A_sale'].min()\n",
    "b_r = data['B_sale'].max() -data['B_sale'].min()\n",
    "print('A销售额的极差是：%.2f,B销售额的极差是：%.2f'%(a_r,b_r))\n",
    " # 极差\n",
    " # 没有考虑中间变量的变动，测定离中趋势不稳定\n",
    "print('--------------------------------------------------------------')\n",
    "sta = data['A_sale'].describe()\n",
    "stb = data['B_sale'].describe()\n",
    "print(sta,stb)\n",
    "\n",
    "a_iqr = sta.loc['75%'] - sta.loc['25%']\n",
    "b_iqr = stb.loc['75%'] - stb.loc['25%']\n",
    "print('A销售额的分位差为：%.2f,B销售额的分位差为：%.2f。'%(a_iqr,b_iqr))\n",
    "  # 分位差\n",
    "print('------------------------------------------------------------------')\n",
    "\n",
    "color = dict(boxes='DarkGreen', whiskers='DarkOrange', medians='DarkBlue', caps='Gray')\n",
    "data.plot.box(vert=False,grid=True,  color=color,  figsize=(10,3))\n",
    "    #箱型图"
   ]
  },
  {
   "cell_type": "code",
   "execution_count": 45,
   "metadata": {},
   "outputs": [
    {
     "name": "stdout",
     "output_type": "stream",
     "text": [
      "A销售额的标准差为：260.51, B销售额的标准差为：307.26\n",
      "A销售额的方差为：67867.44, B销售额的方差为：94410.00\n"
     ]
    }
   ],
   "source": [
    "#(2) 方差与标准差\n",
    " \n",
    "a_std = sta.loc['std']\n",
    "b_std = stb.loc['std']\n",
    "a_var = data['A_sale'].var()\n",
    "b_var = data['B_sale'].var()\n",
    "print('A销售额的标准差为：%.2f, B销售额的标准差为：%.2f' % (a_std,b_std))\n",
    "print('A销售额的方差为：%.2f, B销售额的方差为：%.2f' % (a_var,b_var))\n",
    "# 方差 → 各组中数值与算数平均数离差平方的算术平均数\n",
    "# 标准差 → 方差的平方根\n",
    "# 标准差是最常用的离中趋势指标 → 标准差越大，离中趋势越明显\n",
    "\n",
    "#下面密度图线报错"
   ]
  }
 ],
 "metadata": {
  "kernelspec": {
   "display_name": "Python 3",
   "language": "python",
   "name": "python3"
  },
  "language_info": {
   "codemirror_mode": {
    "name": "ipython",
    "version": 3
   },
   "file_extension": ".py",
   "mimetype": "text/x-python",
   "name": "python",
   "nbconvert_exporter": "python",
   "pygments_lexer": "ipython3",
   "version": "3.7.3"
  }
 },
 "nbformat": 4,
 "nbformat_minor": 2
}
