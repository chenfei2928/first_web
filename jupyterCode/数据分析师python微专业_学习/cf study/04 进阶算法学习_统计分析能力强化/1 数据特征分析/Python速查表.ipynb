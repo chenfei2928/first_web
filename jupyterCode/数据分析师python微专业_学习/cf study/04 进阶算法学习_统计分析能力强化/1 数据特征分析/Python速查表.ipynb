{
 "cells": [
  {
   "cell_type": "markdown",
   "metadata": {},
   "source": [
    "# 变量（variable）与字符串（string）\n",
    "* 变量用于存储各种值。\n",
    "* 字符串是用单引号或双引号标注的一系列字符。"
   ]
  },
  {
   "cell_type": "markdown",
   "metadata": {
    "ExecuteTime": {
     "end_time": "2019-07-01T01:16:21.848128Z",
     "start_time": "2019-07-01T01:16:21.841128Z"
    }
   },
   "source": [
    "## 用 print 函数输出 Hello World"
   ]
  },
  {
   "cell_type": "code",
   "execution_count": 1,
   "metadata": {
    "ExecuteTime": {
     "end_time": "2019-07-01T03:54:49.663966Z",
     "start_time": "2019-07-01T03:54:49.636966Z"
    }
   },
   "outputs": [
    {
     "name": "stdout",
     "output_type": "stream",
     "text": [
      "Hello World\n"
     ]
    }
   ],
   "source": [
    "print(\"Hello World\")"
   ]
  },
  {
   "cell_type": "markdown",
   "metadata": {
    "ExecuteTime": {
     "end_time": "2019-07-01T01:16:59.863164Z",
     "start_time": "2019-07-01T01:16:59.848163Z"
    }
   },
   "source": [
    "## 把 Hello World 存为变量"
   ]
  },
  {
   "cell_type": "code",
   "execution_count": 2,
   "metadata": {
    "ExecuteTime": {
     "end_time": "2019-07-01T03:54:49.687966Z",
     "start_time": "2019-07-01T03:54:49.671966Z"
    }
   },
   "outputs": [
    {
     "data": {
      "text/plain": [
       "'Hello World!'"
      ]
     },
     "execution_count": 2,
     "metadata": {},
     "output_type": "execute_result"
    }
   ],
   "source": [
    "msg = \"Hello World!\"\n",
    "msg"
   ]
  },
  {
   "cell_type": "markdown",
   "metadata": {
    "ExecuteTime": {
     "end_time": "2019-07-01T01:18:55.419719Z",
     "start_time": "2019-07-01T01:18:55.394716Z"
    }
   },
   "source": [
    "## 连接字符创"
   ]
  },
  {
   "cell_type": "code",
   "execution_count": 3,
   "metadata": {
    "ExecuteTime": {
     "end_time": "2019-07-01T03:54:49.708966Z",
     "start_time": "2019-07-01T03:54:49.692966Z"
    }
   },
   "outputs": [
    {
     "data": {
      "text/plain": [
       "'张三'"
      ]
     },
     "execution_count": 3,
     "metadata": {},
     "output_type": "execute_result"
    }
   ],
   "source": [
    "first_name = \"三\"\n",
    "last_name = \"张\"\n",
    "full_name = last_name + first_name\n",
    "full_name"
   ]
  },
  {
   "cell_type": "markdown",
   "metadata": {},
   "source": [
    "# 列表（list）\n",
    "列表存储一系列按指定顺序排序的值。可以通过索引或循环访问列表里的值。"
   ]
  },
  {
   "cell_type": "markdown",
   "metadata": {
    "ExecuteTime": {
     "end_time": "2019-07-01T01:22:32.703445Z",
     "start_time": "2019-07-01T01:22:32.685443Z"
    }
   },
   "source": [
    "## 生成列表"
   ]
  },
  {
   "cell_type": "code",
   "execution_count": 4,
   "metadata": {
    "ExecuteTime": {
     "end_time": "2019-07-01T03:54:49.722966Z",
     "start_time": "2019-07-01T03:54:49.713966Z"
    }
   },
   "outputs": [
    {
     "data": {
      "text/plain": [
       "['凤凰', '永久', '捷安特']"
      ]
     },
     "execution_count": 4,
     "metadata": {},
     "output_type": "execute_result"
    }
   ],
   "source": [
    "bikes = [\"凤凰\",\"永久\",\"捷安特\"]\n",
    "bikes"
   ]
  },
  {
   "cell_type": "markdown",
   "metadata": {
    "ExecuteTime": {
     "end_time": "2019-07-01T01:22:56.895864Z",
     "start_time": "2019-07-01T01:22:56.876862Z"
    }
   },
   "source": [
    "## 提取列表中的第一个值\n",
    "Python 的列表从 0 开始"
   ]
  },
  {
   "cell_type": "code",
   "execution_count": 5,
   "metadata": {
    "ExecuteTime": {
     "end_time": "2019-07-01T03:54:49.735966Z",
     "start_time": "2019-07-01T03:54:49.726966Z"
    }
   },
   "outputs": [
    {
     "data": {
      "text/plain": [
       "'凤凰'"
      ]
     },
     "execution_count": 5,
     "metadata": {},
     "output_type": "execute_result"
    }
   ],
   "source": [
    "first_bike = bikes[0]\n",
    "first_bike"
   ]
  },
  {
   "cell_type": "markdown",
   "metadata": {
    "ExecuteTime": {
     "end_time": "2019-07-01T01:24:17.287231Z",
     "start_time": "2019-07-01T01:24:17.276227Z"
    }
   },
   "source": [
    "## 提取列表中的最后一个值"
   ]
  },
  {
   "cell_type": "code",
   "execution_count": 6,
   "metadata": {
    "ExecuteTime": {
     "end_time": "2019-07-01T03:54:49.768966Z",
     "start_time": "2019-07-01T03:54:49.739966Z"
    },
    "scrolled": true
   },
   "outputs": [
    {
     "data": {
      "text/plain": [
       "'捷安特'"
      ]
     },
     "execution_count": 6,
     "metadata": {},
     "output_type": "execute_result"
    }
   ],
   "source": [
    "last_bike = bikes[-1]\n",
    "last_bike"
   ]
  },
  {
   "cell_type": "markdown",
   "metadata": {
    "ExecuteTime": {
     "end_time": "2019-07-01T01:24:49.267018Z",
     "start_time": "2019-07-01T01:24:49.254013Z"
    }
   },
   "source": [
    "## 使用循环输出列表的值\n",
    "\n",
    "此处使用了 Python 的循环，后文有详解"
   ]
  },
  {
   "cell_type": "code",
   "execution_count": 7,
   "metadata": {
    "ExecuteTime": {
     "end_time": "2019-07-01T03:54:49.802966Z",
     "start_time": "2019-07-01T03:54:49.773966Z"
    }
   },
   "outputs": [
    {
     "name": "stdout",
     "output_type": "stream",
     "text": [
      "凤凰\n",
      "永久\n",
      "捷安特\n"
     ]
    }
   ],
   "source": [
    "for bike in bikes: \n",
    "    print(bike)"
   ]
  },
  {
   "cell_type": "markdown",
   "metadata": {
    "ExecuteTime": {
     "end_time": "2019-07-01T01:28:24.336011Z",
     "start_time": "2019-07-01T01:28:24.323006Z"
    }
   },
   "source": [
    "## 为列表添加值"
   ]
  },
  {
   "cell_type": "code",
   "execution_count": 8,
   "metadata": {
    "ExecuteTime": {
     "end_time": "2019-07-01T03:54:49.844966Z",
     "start_time": "2019-07-01T03:54:49.808966Z"
    }
   },
   "outputs": [
    {
     "data": {
      "text/plain": [
       "['凤凰', '永久', '捷安特']"
      ]
     },
     "execution_count": 8,
     "metadata": {},
     "output_type": "execute_result"
    }
   ],
   "source": [
    "# 生成一个空列表\n",
    "bikes = [] \n",
    "# 通过 append 方法为列表添加值\n",
    "\n",
    "bikes.append(\"凤凰\")\n",
    "bikes.append(\"永久\")\n",
    "bikes.append(\"捷安特\")\n",
    "bikes"
   ]
  },
  {
   "cell_type": "markdown",
   "metadata": {
    "ExecuteTime": {
     "end_time": "2019-07-01T01:30:28.338859Z",
     "start_time": "2019-07-01T01:30:28.323856Z"
    }
   },
   "source": [
    "## 用循环生成数字列表"
   ]
  },
  {
   "cell_type": "code",
   "execution_count": 9,
   "metadata": {
    "ExecuteTime": {
     "end_time": "2019-07-01T03:54:49.887966Z",
     "start_time": "2019-07-01T03:54:49.848966Z"
    }
   },
   "outputs": [
    {
     "data": {
      "text/plain": [
       "[1, 4, 9, 16, 25, 36, 49, 64, 81, 100]"
      ]
     },
     "execution_count": 9,
     "metadata": {},
     "output_type": "execute_result"
    }
   ],
   "source": [
    "squares = []\n",
    "\n",
    "# 此处使用了 range 函数\n",
    "\n",
    "for x in range(1,11): \n",
    "    squares.append(x**2) # x**2，x 的平方\n",
    "squares"
   ]
  },
  {
   "cell_type": "markdown",
   "metadata": {
    "ExecuteTime": {
     "end_time": "2019-07-01T01:34:01.666516Z",
     "start_time": "2019-07-01T01:34:01.654513Z"
    }
   },
   "source": [
    "## 列表推导式\n",
    "这是 Python 特有的写法，简化循环的代码复杂度，属于常用知识点\n",
    "\n",
    "这段代码的效果与上面的代码相同"
   ]
  },
  {
   "cell_type": "code",
   "execution_count": 10,
   "metadata": {
    "ExecuteTime": {
     "end_time": "2019-07-01T03:54:49.933966Z",
     "start_time": "2019-07-01T03:54:49.891966Z"
    },
    "scrolled": true
   },
   "outputs": [
    {
     "data": {
      "text/plain": [
       "[1, 4, 9, 16, 25, 36, 49, 64, 81, 100]"
      ]
     },
     "execution_count": 10,
     "metadata": {},
     "output_type": "execute_result"
    }
   ],
   "source": [
    "squares = [x**2 for x in range(1,11)]\n",
    "squares"
   ]
  },
  {
   "cell_type": "markdown",
   "metadata": {
    "ExecuteTime": {
     "end_time": "2019-07-01T01:37:19.445064Z",
     "start_time": "2019-07-01T01:37:19.430061Z"
    }
   },
   "source": [
    "## 截取列表的内容-选择前两项\n",
    "finisher 是参赛者的意思"
   ]
  },
  {
   "cell_type": "code",
   "execution_count": 11,
   "metadata": {
    "ExecuteTime": {
     "end_time": "2019-07-01T03:54:49.966966Z",
     "start_time": "2019-07-01T03:54:49.937966Z"
    }
   },
   "outputs": [
    {
     "data": {
      "text/plain": [
       "['张三', '李四']"
      ]
     },
     "execution_count": 11,
     "metadata": {},
     "output_type": "execute_result"
    }
   ],
   "source": [
    "finishers = [\"张三\",\"李四\",\"王五\",\"赵六\"]\n",
    "first_two = finishers[:2]\n",
    "first_two"
   ]
  },
  {
   "cell_type": "markdown",
   "metadata": {
    "ExecuteTime": {
     "end_time": "2019-07-01T01:39:19.377079Z",
     "start_time": "2019-07-01T01:39:19.354076Z"
    }
   },
   "source": [
    "## 截取列表的内容-选择后两项"
   ]
  },
  {
   "cell_type": "code",
   "execution_count": 12,
   "metadata": {
    "ExecuteTime": {
     "end_time": "2019-07-01T03:54:50.005966Z",
     "start_time": "2019-07-01T03:54:49.970966Z"
    }
   },
   "outputs": [
    {
     "data": {
      "text/plain": [
       "['王五', '赵六']"
      ]
     },
     "execution_count": 12,
     "metadata": {},
     "output_type": "execute_result"
    }
   ],
   "source": [
    "finishers = [\"张三\",\"李四\",\"王五\",\"赵六\"]\n",
    "last_two = finishers[-2:]\n",
    "last_two"
   ]
  },
  {
   "cell_type": "markdown",
   "metadata": {
    "ExecuteTime": {
     "end_time": "2019-07-01T01:40:11.140254Z",
     "start_time": "2019-07-01T01:40:11.126253Z"
    }
   },
   "source": [
    "## 截取列表的内容-选择其中两项"
   ]
  },
  {
   "cell_type": "code",
   "execution_count": 13,
   "metadata": {
    "ExecuteTime": {
     "end_time": "2019-07-01T03:54:50.034966Z",
     "start_time": "2019-07-01T03:54:50.008966Z"
    }
   },
   "outputs": [
    {
     "data": {
      "text/plain": [
       "['李四', '王五']"
      ]
     },
     "execution_count": 13,
     "metadata": {},
     "output_type": "execute_result"
    }
   ],
   "source": [
    "finishers = [\"张三\",\"李四\",\"王五\",\"赵六\"]\n",
    "middle_two = finishers[1:3]\n",
    "middle_two"
   ]
  },
  {
   "cell_type": "markdown",
   "metadata": {
    "ExecuteTime": {
     "end_time": "2019-07-01T02:10:20.995326Z",
     "start_time": "2019-07-01T02:10:20.987326Z"
    }
   },
   "source": [
    "## 复制列表\n",
    "[:] 代表选择列表中的全部元素"
   ]
  },
  {
   "cell_type": "code",
   "execution_count": 14,
   "metadata": {
    "ExecuteTime": {
     "end_time": "2019-07-01T03:54:50.078966Z",
     "start_time": "2019-07-01T03:54:50.039966Z"
    }
   },
   "outputs": [
    {
     "data": {
      "text/plain": [
       "['张三', '李四', '王五', '赵六']"
      ]
     },
     "execution_count": 14,
     "metadata": {},
     "output_type": "execute_result"
    }
   ],
   "source": [
    "copy_of_finishers = finishers[:]\n",
    "copy_of_finishers"
   ]
  },
  {
   "cell_type": "markdown",
   "metadata": {},
   "source": [
    "# 元组（Tuple）\n",
    "元组与列表类似，但元组里的值不能修改"
   ]
  },
  {
   "cell_type": "markdown",
   "metadata": {
    "ExecuteTime": {
     "end_time": "2019-07-01T01:49:27.953493Z",
     "start_time": "2019-07-01T01:49:27.941493Z"
    }
   },
   "source": [
    "## 创建元组"
   ]
  },
  {
   "cell_type": "code",
   "execution_count": 15,
   "metadata": {
    "ExecuteTime": {
     "end_time": "2019-07-01T03:54:50.120966Z",
     "start_time": "2019-07-01T03:54:50.082966Z"
    }
   },
   "outputs": [
    {
     "data": {
      "text/plain": [
       "(1920, 1080)"
      ]
     },
     "execution_count": 15,
     "metadata": {},
     "output_type": "execute_result"
    }
   ],
   "source": [
    "dimensions = (1920,1080)\n",
    "dimensions"
   ]
  },
  {
   "cell_type": "markdown",
   "metadata": {},
   "source": [
    "# 字典\n",
    "字典存储一组关联信息，字典里的每对数据，都以键值对（Key-Value Pair）的方式显示"
   ]
  },
  {
   "cell_type": "markdown",
   "metadata": {},
   "source": [
    "## 简单的字典"
   ]
  },
  {
   "cell_type": "code",
   "execution_count": 16,
   "metadata": {
    "ExecuteTime": {
     "end_time": "2019-07-01T03:54:50.163966Z",
     "start_time": "2019-07-01T03:54:50.124966Z"
    }
   },
   "outputs": [
    {
     "data": {
      "text/plain": [
       "{'color': '绿色', 'points': 5}"
      ]
     },
     "execution_count": 16,
     "metadata": {},
     "output_type": "execute_result"
    }
   ],
   "source": [
    "alien = {'color':\"绿色\",\"points\":5}\n",
    "alien"
   ]
  },
  {
   "cell_type": "markdown",
   "metadata": {},
   "source": [
    "## 提取字典里的值"
   ]
  },
  {
   "cell_type": "code",
   "execution_count": 17,
   "metadata": {
    "ExecuteTime": {
     "end_time": "2019-07-01T03:54:50.231966Z",
     "start_time": "2019-07-01T03:54:50.168966Z"
    },
    "scrolled": true
   },
   "outputs": [
    {
     "name": "stdout",
     "output_type": "stream",
     "text": [
      "异形的颜色是绿色\n"
     ]
    }
   ],
   "source": [
    "print(\"异形的颜色是\" + alien['color'])"
   ]
  },
  {
   "cell_type": "markdown",
   "metadata": {},
   "source": [
    "## 添加新的键值对"
   ]
  },
  {
   "cell_type": "code",
   "execution_count": 18,
   "metadata": {
    "ExecuteTime": {
     "end_time": "2019-07-01T03:54:50.275966Z",
     "start_time": "2019-07-01T03:54:50.240966Z"
    }
   },
   "outputs": [
    {
     "data": {
      "text/plain": [
       "{'color': '绿色', 'points': 5, 'x_position': 0}"
      ]
     },
     "execution_count": 18,
     "metadata": {},
     "output_type": "execute_result"
    }
   ],
   "source": [
    "alien['x_position'] = 0\n",
    "alien"
   ]
  },
  {
   "cell_type": "markdown",
   "metadata": {},
   "source": [
    "# 用户输入\n",
    "Python 可以接受用户输入，所有的用户输入都被存储为字符串"
   ]
  },
  {
   "cell_type": "markdown",
   "metadata": {},
   "source": [
    "## 输入文字"
   ]
  },
  {
   "cell_type": "code",
   "execution_count": 19,
   "metadata": {
    "ExecuteTime": {
     "end_time": "2019-07-01T03:54:59.246966Z",
     "start_time": "2019-07-01T03:54:50.281966Z"
    }
   },
   "outputs": [
    {
     "name": "stdout",
     "output_type": "stream",
     "text": [
      "请输入您的姓名：张三\n",
      "嗨，张三!\n"
     ]
    }
   ],
   "source": [
    "name = input(\"请输入您的姓名：\")\n",
    "print(\"嗨，\" + name + \"!\")"
   ]
  },
  {
   "cell_type": "markdown",
   "metadata": {},
   "source": [
    "## 输入数字"
   ]
  },
  {
   "cell_type": "code",
   "execution_count": 20,
   "metadata": {
    "ExecuteTime": {
     "end_time": "2019-07-01T03:55:02.914966Z",
     "start_time": "2019-07-01T03:54:59.250966Z"
    }
   },
   "outputs": [
    {
     "name": "stdout",
     "output_type": "stream",
     "text": [
      "请输入您的年龄:30\n"
     ]
    },
    {
     "data": {
      "text/plain": [
       "int"
      ]
     },
     "execution_count": 20,
     "metadata": {},
     "output_type": "execute_result"
    }
   ],
   "source": [
    "age = input(\"请输入您的年龄:\")\n",
    "\n",
    "# int 函数将数字型字符串转换为整数\n",
    "age = int(age)\n",
    "\n",
    "# 使用 type 函数查看数据类型\n",
    "type(age)"
   ]
  },
  {
   "cell_type": "code",
   "execution_count": 21,
   "metadata": {
    "ExecuteTime": {
     "end_time": "2019-07-01T03:55:06.708966Z",
     "start_time": "2019-07-01T03:55:02.919966Z"
    }
   },
   "outputs": [
    {
     "name": "stdout",
     "output_type": "stream",
     "text": [
      "圆周率的值是多少：3.14\n"
     ]
    },
    {
     "data": {
      "text/plain": [
       "float"
      ]
     },
     "execution_count": 21,
     "metadata": {},
     "output_type": "execute_result"
    }
   ],
   "source": [
    "pi = input(\"圆周率的值是多少：\")\n",
    "\n",
    "# float 函数将数字型字符串转换为浮点数\n",
    "pi = float(pi)\n",
    "\n",
    "# 使用 type 函数查看数据类型\n",
    "type(pi)"
   ]
  },
  {
   "cell_type": "markdown",
   "metadata": {},
   "source": [
    "# if 语句\n",
    "if 语句用于检测特定条件，然后做出相应的反应。"
   ]
  },
  {
   "cell_type": "markdown",
   "metadata": {},
   "source": [
    "## 条件测试\n",
    "\n",
    "* 等于 x == 20\n",
    "* 不等于 x != 20\n",
    "* 大于 x > 20\n",
    "* 小于 x < 20\n",
    "* 大于等于 x >= 20\n",
    "* 小于等于 x <= 20"
   ]
  },
  {
   "cell_type": "code",
   "execution_count": 22,
   "metadata": {
    "ExecuteTime": {
     "end_time": "2019-07-01T03:55:06.726966Z",
     "start_time": "2019-07-01T03:55:06.716966Z"
    }
   },
   "outputs": [
    {
     "data": {
      "text/plain": [
       "(False, True, True, False, False, True)"
      ]
     },
     "execution_count": 22,
     "metadata": {},
     "output_type": "execute_result"
    }
   ],
   "source": [
    "# 把 x 赋值为 5\n",
    "x = 5\n",
    "\n",
    "# 通过逗号，把代码放在一行，可以查看所有表达式的结果\n",
    "x == 20, x != 20, x < 20, x > 20, x >= 20, x <= 20"
   ]
  },
  {
   "cell_type": "markdown",
   "metadata": {
    "ExecuteTime": {
     "end_time": "2019-07-01T01:53:38.860032Z",
     "start_time": "2019-07-01T01:53:38.844031Z"
    }
   },
   "source": [
    "## 列表条件测试\n",
    "* in\n",
    "* not in"
   ]
  },
  {
   "cell_type": "code",
   "execution_count": 23,
   "metadata": {
    "ExecuteTime": {
     "end_time": "2019-07-01T03:55:06.742966Z",
     "start_time": "2019-07-01T03:55:06.731966Z"
    },
    "scrolled": true
   },
   "outputs": [
    {
     "data": {
      "text/plain": [
       "(True, True)"
      ]
     },
     "execution_count": 23,
     "metadata": {},
     "output_type": "execute_result"
    }
   ],
   "source": [
    "\"凤凰\" in bikes, \"大行\" not in bikes"
   ]
  },
  {
   "cell_type": "markdown",
   "metadata": {},
   "source": [
    "## 布尔值"
   ]
  },
  {
   "cell_type": "code",
   "execution_count": 24,
   "metadata": {
    "ExecuteTime": {
     "end_time": "2019-07-01T03:55:06.782966Z",
     "start_time": "2019-07-01T03:55:06.749966Z"
    }
   },
   "outputs": [
    {
     "data": {
      "text/plain": [
       "(True, False)"
      ]
     },
     "execution_count": 24,
     "metadata": {},
     "output_type": "execute_result"
    }
   ],
   "source": [
    "game_active = True\n",
    "can_edit = False\n",
    "game_active,can_edit"
   ]
  },
  {
   "cell_type": "markdown",
   "metadata": {},
   "source": [
    "## 简单的 if 测试"
   ]
  },
  {
   "cell_type": "code",
   "execution_count": 25,
   "metadata": {
    "ExecuteTime": {
     "end_time": "2019-07-01T03:55:06.797966Z",
     "start_time": "2019-07-01T03:55:06.790966Z"
    }
   },
   "outputs": [
    {
     "name": "stdout",
     "output_type": "stream",
     "text": [
      "你已经成年了！\n"
     ]
    }
   ],
   "source": [
    "age = 20\n",
    "if age >= 18:\n",
    "    print(\"你已经成年了！\")"
   ]
  },
  {
   "cell_type": "markdown",
   "metadata": {},
   "source": [
    "## if-elif-else 语句"
   ]
  },
  {
   "cell_type": "code",
   "execution_count": 26,
   "metadata": {
    "ExecuteTime": {
     "end_time": "2019-07-01T03:55:06.828966Z",
     "start_time": "2019-07-01T03:55:06.821966Z"
    }
   },
   "outputs": [],
   "source": [
    "if age < 4:\n",
    "    ticket_price = 0\n",
    "elif age <18:\n",
    "    ticket_price = 10\n",
    "else:\n",
    "    ticket_price = 15"
   ]
  },
  {
   "cell_type": "markdown",
   "metadata": {},
   "source": [
    "# For 循环\n",
    "For 语句一直循环，直到完成范围内的所有内容"
   ]
  },
  {
   "cell_type": "markdown",
   "metadata": {},
   "source": [
    "## 循环输出所有的键值对"
   ]
  },
  {
   "cell_type": "code",
   "execution_count": 27,
   "metadata": {
    "ExecuteTime": {
     "end_time": "2019-07-01T03:55:06.839966Z",
     "start_time": "2019-07-01T03:55:06.833966Z"
    }
   },
   "outputs": [
    {
     "name": "stdout",
     "output_type": "stream",
     "text": [
      "张三的幸运数字是17\n",
      "李四的幸运数字是6\n"
     ]
    }
   ],
   "source": [
    "fav_numbers = {\"张三\": 17,\"李四\":6}\n",
    "for name, number in fav_numbers.items():\n",
    "    print(name + \"的幸运数字是\" + str(number))"
   ]
  },
  {
   "cell_type": "markdown",
   "metadata": {},
   "source": [
    "## 循环输出所有的键（Key）"
   ]
  },
  {
   "cell_type": "code",
   "execution_count": 28,
   "metadata": {
    "ExecuteTime": {
     "end_time": "2019-07-01T03:55:06.863966Z",
     "start_time": "2019-07-01T03:55:06.844966Z"
    }
   },
   "outputs": [
    {
     "name": "stdout",
     "output_type": "stream",
     "text": [
      "张三有个幸运数字\n",
      "李四有个幸运数字\n"
     ]
    }
   ],
   "source": [
    "fav_numbers = {\"张三\": 17,\"李四\":6}\n",
    "for name in fav_numbers.keys():\n",
    "    print(name + \"有个幸运数字\")"
   ]
  },
  {
   "cell_type": "markdown",
   "metadata": {},
   "source": [
    "## 循环输出所有的值（Value）"
   ]
  },
  {
   "cell_type": "code",
   "execution_count": 29,
   "metadata": {
    "ExecuteTime": {
     "end_time": "2019-07-01T03:55:06.878966Z",
     "start_time": "2019-07-01T03:55:06.867966Z"
    }
   },
   "outputs": [
    {
     "name": "stdout",
     "output_type": "stream",
     "text": [
      "17是个幸运数字\n",
      "6是个幸运数字\n"
     ]
    }
   ],
   "source": [
    "fav_numbers = {\"张三\": 17,\"李四\":6}\n",
    "for number in fav_numbers.values():\n",
    "    print(str(number) + \"是个幸运数字\")"
   ]
  },
  {
   "cell_type": "markdown",
   "metadata": {},
   "source": [
    "# While 循环\n",
    "while 循环重复一组代码，直到条件为 True"
   ]
  },
  {
   "cell_type": "markdown",
   "metadata": {},
   "source": [
    "## 简单的 while 循环"
   ]
  },
  {
   "cell_type": "code",
   "execution_count": 30,
   "metadata": {
    "ExecuteTime": {
     "end_time": "2019-07-01T03:55:06.887966Z",
     "start_time": "2019-07-01T03:55:06.882966Z"
    }
   },
   "outputs": [
    {
     "name": "stdout",
     "output_type": "stream",
     "text": [
      "1\n",
      "2\n",
      "3\n",
      "4\n",
      "5\n"
     ]
    }
   ],
   "source": [
    "current_value = 1\n",
    "while current_value <= 5:\n",
    "    print(current_value)\n",
    "    current_value += 1 # a += 1 等价于 a = a+1"
   ]
  },
  {
   "cell_type": "markdown",
   "metadata": {},
   "source": [
    "## 让用户选择何时退出"
   ]
  },
  {
   "cell_type": "code",
   "execution_count": 31,
   "metadata": {
    "ExecuteTime": {
     "end_time": "2019-07-01T03:55:10.734966Z",
     "start_time": "2019-07-01T03:55:06.892966Z"
    },
    "scrolled": true
   },
   "outputs": [
    {
     "name": "stdout",
     "output_type": "stream",
     "text": [
      "请输入信息：退出\n",
      "退出\n"
     ]
    }
   ],
   "source": [
    "mag = \"\"\n",
    "while msg != \"退出\":\n",
    "    msg = input(\"请输入信息：\")\n",
    "    print(msg)"
   ]
  },
  {
   "cell_type": "markdown",
   "metadata": {},
   "source": [
    "# 函数\n",
    "* 函数是一组有自己名字的，用于执行一个指定任务的代码。传递给函数的信息叫做实参（Argument），函数接收的信息叫形参（parameter）\n",
    "* 三个引号（\"\"\" \"\"\"）括起来的是文档字符串，也就是函数的说明文字"
   ]
  },
  {
   "cell_type": "markdown",
   "metadata": {},
   "source": [
    "## 简单的函数"
   ]
  },
  {
   "cell_type": "code",
   "execution_count": 35,
   "metadata": {
    "ExecuteTime": {
     "end_time": "2019-07-01T04:03:54.936966Z",
     "start_time": "2019-07-01T04:03:54.923966Z"
    }
   },
   "outputs": [
    {
     "name": "stdout",
     "output_type": "stream",
     "text": [
      "您好！\n"
     ]
    }
   ],
   "source": [
    "def greet_user():\n",
    "    \"\"\"显示简单的欢迎语\"\"\"\n",
    "    print(\"您好！\")\n",
    "greet_user()    "
   ]
  },
  {
   "cell_type": "markdown",
   "metadata": {
    "ExecuteTime": {
     "end_time": "2019-07-01T04:03:56.384966Z",
     "start_time": "2019-07-01T04:03:56.369966Z"
    }
   },
   "source": [
    "## 通过 __doc__ 属性调用函数说明"
   ]
  },
  {
   "cell_type": "code",
   "execution_count": 36,
   "metadata": {
    "ExecuteTime": {
     "end_time": "2019-07-01T04:03:56.384966Z",
     "start_time": "2019-07-01T04:03:56.369966Z"
    }
   },
   "outputs": [
    {
     "data": {
      "text/plain": [
       "'显示简单的欢迎语'"
      ]
     },
     "execution_count": 36,
     "metadata": {},
     "output_type": "execute_result"
    }
   ],
   "source": [
    "  \n",
    "greet_user.__doc__"
   ]
  },
  {
   "cell_type": "markdown",
   "metadata": {},
   "source": [
    "## 带参数的函数"
   ]
  },
  {
   "cell_type": "code",
   "execution_count": 33,
   "metadata": {
    "ExecuteTime": {
     "end_time": "2019-07-01T04:01:00.621966Z",
     "start_time": "2019-07-01T04:01:00.605966Z"
    }
   },
   "outputs": [
    {
     "name": "stdout",
     "output_type": "stream",
     "text": [
      "张三，您好！\n"
     ]
    }
   ],
   "source": [
    "def greet_user(username):\n",
    "    \"\"\"显示个性化的欢迎语\"\"\"\n",
    "    print(username + \"，您好！\")\n",
    "greet_user(\"张三\")"
   ]
  },
  {
   "cell_type": "markdown",
   "metadata": {},
   "source": [
    "## 带默认值的函数"
   ]
  },
  {
   "cell_type": "code",
   "execution_count": 37,
   "metadata": {
    "ExecuteTime": {
     "end_time": "2019-07-01T04:06:27.738966Z",
     "start_time": "2019-07-01T04:06:27.723966Z"
    }
   },
   "outputs": [
    {
     "name": "stdout",
     "output_type": "stream",
     "text": [
      "您有一张培根比萨饼的订单！\n"
     ]
    }
   ],
   "source": [
    "def make_pizaa(topping=\"培根\"):\n",
    "    \"\"\"制作一张单一配料的比萨饼\"\"\"\n",
    "    print(\"您有一张\" + topping + \"比萨饼的订单！\")\n",
    "    \n",
    "make_pizaa()"
   ]
  },
  {
   "cell_type": "code",
   "execution_count": 39,
   "metadata": {
    "ExecuteTime": {
     "end_time": "2019-07-01T04:07:12.183966Z",
     "start_time": "2019-07-01T04:07:12.168966Z"
    },
    "scrolled": true
   },
   "outputs": [
    {
     "name": "stdout",
     "output_type": "stream",
     "text": [
      "您有一张辣肠比萨饼的订单！\n"
     ]
    }
   ],
   "source": [
    "make_pizaa(\"辣肠\")"
   ]
  },
  {
   "cell_type": "markdown",
   "metadata": {},
   "source": [
    "## 返回值"
   ]
  },
  {
   "cell_type": "code",
   "execution_count": 40,
   "metadata": {
    "ExecuteTime": {
     "end_time": "2019-07-01T04:08:34.380966Z",
     "start_time": "2019-07-01T04:08:34.368966Z"
    }
   },
   "outputs": [
    {
     "data": {
      "text/plain": [
       "8"
      ]
     },
     "execution_count": 40,
     "metadata": {},
     "output_type": "execute_result"
    }
   ],
   "source": [
    "def add_numbers(x,y):\n",
    "    \"\"\"求两个数的和\"\"\"\n",
    "    return x + y\n",
    "sum = add_numbers(3,5)\n",
    "sum"
   ]
  },
  {
   "cell_type": "markdown",
   "metadata": {},
   "source": [
    "# 类\n",
    "类定义对象的行为与对象存储的信息。\n",
    "* 类的信息是指类的属性；\n",
    "* 类里的函数称为类的方法；\n",
    "* 子类继承父类的属性与方法。"
   ]
  },
  {
   "cell_type": "markdown",
   "metadata": {},
   "source": [
    "## 定义一个关于狗的类"
   ]
  },
  {
   "cell_type": "code",
   "execution_count": 2,
   "metadata": {
    "ExecuteTime": {
     "end_time": "2019-07-01T05:53:36.992400Z",
     "start_time": "2019-07-01T05:53:36.971398Z"
    },
    "scrolled": true
   },
   "outputs": [
    {
     "name": "stdout",
     "output_type": "stream",
     "text": [
      "嘿嘿是只非常听话的狗狗！\n",
      "嘿嘿，坐好。\n"
     ]
    }
   ],
   "source": [
    "class Dog():\n",
    "    \"\"\"这是一个关于狗的类\"\"\"\n",
    "    \n",
    "    def __init__(self,name):\n",
    "        self.name = name\n",
    "        \n",
    "    def sit(self):\n",
    "        \"\"\"让狗狗坐下\"\"\"\n",
    "        print(self.name + \"，坐好。\")\n",
    "        \n",
    "my_dog = Dog('嘿嘿')\n",
    "\n",
    "print(my_dog.name + \"是只非常听话的狗狗！\")\n",
    "my_dog.sit()"
   ]
  },
  {
   "cell_type": "markdown",
   "metadata": {},
   "source": [
    "## 继承"
   ]
  },
  {
   "cell_type": "code",
   "execution_count": 3,
   "metadata": {
    "ExecuteTime": {
     "end_time": "2019-07-01T05:57:30.548316Z",
     "start_time": "2019-07-01T05:57:30.533318Z"
    },
    "scrolled": true
   },
   "outputs": [
    {
     "name": "stdout",
     "output_type": "stream",
     "text": [
      "威利是一只搜寻犬。\n",
      "威利，坐好。\n",
      "威利正在执行搜索任务。\n"
     ]
    }
   ],
   "source": [
    "class SARDog(Dog):\n",
    "    \"\"\"这是一只搜寻犬\"\"\"\n",
    "    \n",
    "    def __init__(self,name):\n",
    "        \"\"\"初始化搜寻犬\"\"\"\n",
    "        super().__init__(name)\n",
    "        \n",
    "    def search(self):\n",
    "        \"\"\"模拟搜寻犬\"\"\"\n",
    "        print(self.name + \"正在执行搜索任务。\")\n",
    "        \n",
    "my_dog = SARDog(\"威利\")\n",
    "\n",
    "print(my_dog.name + \"是一只搜寻犬。\")\n",
    "my_dog.sit()\n",
    "my_dog.search()"
   ]
  },
  {
   "cell_type": "markdown",
   "metadata": {},
   "source": [
    "# 处理文件"
   ]
  },
  {
   "cell_type": "markdown",
   "metadata": {},
   "source": [
    "## 读取文件，显示文件每行的内容"
   ]
  },
  {
   "cell_type": "code",
   "execution_count": null,
   "metadata": {},
   "outputs": [],
   "source": []
  }
 ],
 "metadata": {
  "kernelspec": {
   "display_name": "Python 3",
   "language": "python",
   "name": "python3"
  },
  "language_info": {
   "codemirror_mode": {
    "name": "ipython",
    "version": 3
   },
   "file_extension": ".py",
   "mimetype": "text/x-python",
   "name": "python",
   "nbconvert_exporter": "python",
   "pygments_lexer": "ipython3",
   "version": "3.7.3"
  },
  "toc": {
   "base_numbering": 1,
   "nav_menu": {},
   "number_sections": true,
   "sideBar": true,
   "skip_h1_title": false,
   "title_cell": "Table of Contents",
   "title_sidebar": "Contents",
   "toc_cell": false,
   "toc_position": {},
   "toc_section_display": true,
   "toc_window_display": false
  },
  "varInspector": {
   "cols": {
    "lenName": 16,
    "lenType": 16,
    "lenVar": 40
   },
   "kernels_config": {
    "python": {
     "delete_cmd_postfix": "",
     "delete_cmd_prefix": "del ",
     "library": "var_list.py",
     "varRefreshCmd": "print(var_dic_list())"
    },
    "r": {
     "delete_cmd_postfix": ") ",
     "delete_cmd_prefix": "rm(",
     "library": "var_list.r",
     "varRefreshCmd": "cat(var_dic_list()) "
    }
   },
   "types_to_exclude": [
    "module",
    "function",
    "builtin_function_or_method",
    "instance",
    "_Feature"
   ],
   "window_display": false
  }
 },
 "nbformat": 4,
 "nbformat_minor": 2
}
