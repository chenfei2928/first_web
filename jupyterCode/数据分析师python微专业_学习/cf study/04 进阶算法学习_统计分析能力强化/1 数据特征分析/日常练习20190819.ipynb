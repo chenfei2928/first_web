{
 "cells": [
  {
   "cell_type": "code",
   "execution_count": 24,
   "metadata": {},
   "outputs": [
    {
     "name": "stdout",
     "output_type": "stream",
     "text": [
      "随机输入一个数20\n",
      "[2, 3, 5, 7, 11, 13, 17, 19]\n",
      "小于n的第一个素数:19\n"
     ]
    }
   ],
   "source": [
    "n = int(input('随机输入一个数'))\n",
    "num=[]\n",
    "for x in range(2,n):\n",
    "    y = 2\n",
    "    for y in range(2,x):\n",
    "        if x%y==0:\n",
    "            break\n",
    "    else:\n",
    "        num.append(x)\n",
    "print(num)\n",
    "print('小于n的第一个素数:%s'%num[-1])\n"
   ]
  },
  {
   "cell_type": "code",
   "execution_count": 27,
   "metadata": {},
   "outputs": [
    {
     "name": "stdout",
     "output_type": "stream",
     "text": [
      "随机输入一个数20\n",
      "[]\n"
     ]
    }
   ],
   "source": [
    "n = int(input('随机输入一个数'))\n",
    "num=[]\n",
    "for x in range(2,n):\n",
    "    if x%(x-1)==0:\n",
    "        break\n",
    "else:\n",
    "    num.append(x)\n",
    "print(num)"
   ]
  },
  {
   "cell_type": "code",
   "execution_count": 23,
   "metadata": {},
   "outputs": [
    {
     "name": "stdout",
     "output_type": "stream",
     "text": [
      "[<span class=\"title\">彗星</span>, <span class=\"title\">co</span>]\n"
     ]
    }
   ],
   "source": [
    "# _*_ coding:utf-8 _*_\n",
    "\n",
    "html_doc = \"\"\"\n",
    "<span class=\"title\">彗星</span>\n",
    "<span class=\"title\">co</span>\n",
    "\"\"\"\n",
    "\n",
    "from bs4 import BeautifulSoup\n",
    "\n",
    "soup = BeautifulSoup(html_doc, 'html.parser')\n",
    "\n",
    "span = soup.select('.title')\n",
    "print(span)"
   ]
  }
 ],
 "metadata": {
  "kernelspec": {
   "display_name": "Python 3",
   "language": "python",
   "name": "python3"
  },
  "language_info": {
   "codemirror_mode": {
    "name": "ipython",
    "version": 3
   },
   "file_extension": ".py",
   "mimetype": "text/x-python",
   "name": "python",
   "nbconvert_exporter": "python",
   "pygments_lexer": "ipython3",
   "version": "3.7.3"
  }
 },
 "nbformat": 4,
 "nbformat_minor": 2
}
