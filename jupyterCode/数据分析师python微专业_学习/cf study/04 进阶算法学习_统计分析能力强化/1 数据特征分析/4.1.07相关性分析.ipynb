{
 "cells": [
  {
   "cell_type": "code",
   "execution_count": 1,
   "metadata": {},
   "outputs": [
    {
     "data": {
      "text/plain": [
       "'\\n相关性分析\\n分析连续变量之间的线性相关程度的强弱\\n图示初判 / Pearson相关系数（皮尔逊相关系数） / Sperman秩相关系数（斯皮尔曼相关系数）\\n'"
      ]
     },
     "execution_count": 1,
     "metadata": {},
     "output_type": "execute_result"
    }
   ],
   "source": [
    "'''\n",
    "相关性分析\n",
    "分析连续变量之间的线性相关程度的强弱\n",
    "图示初判 / Pearson相关系数（皮尔逊相关系数） / Sperman秩相关系数（斯皮尔曼相关系数）\n",
    "'''"
   ]
  },
  {
   "cell_type": "code",
   "execution_count": 3,
   "metadata": {},
   "outputs": [],
   "source": [
    "import numpy as np\n",
    "import pandas as pd\n",
    "import matplotlib.pyplot as plt\n",
    "from scipy import stats\n",
    "%matplotlib inline"
   ]
  },
  {
   "cell_type": "code",
   "execution_count": 7,
   "metadata": {},
   "outputs": [
    {
     "data": {
      "image/png": "[encoded data removed]",
      "text/plain": [
       "<Figure size 720x288 with 2 Axes>"
      ]
     },
     "metadata": {
      "needs_background": "light"
     },
     "output_type": "display_data"
    }
   ],
   "source": [
    "# 图示初判\n",
    "# （1）变量之间的线性相关性\n",
    "\n",
    "data1 = pd.Series(np.random.rand(50)*100).sort_values()\n",
    "data2 = pd.Series(np.random.rand(50)*50).sort_values()\n",
    "data3 = pd.Series(np.random.rand(50)*500).sort_values(ascending = False)\n",
    "# 创建三个数据：data1为0-100的随机数并从小到大排列，data2为0-50的随机数并从小到大排列，data3为0-500的随机数并从大到小排列，\n",
    "\n",
    "\n",
    "fig = plt.figure(figsize = (10,4))\n",
    "ax1 = fig.add_subplot(1,2,1)\n",
    "ax1.scatter(data1,data2)\n",
    "    # 正线性相关\n",
    "    \n",
    "ax2 = fig.add_subplot(1,2,2)\n",
    "ax2.scatter(data1,data3)\n",
    "plt.grid()\n",
    "    # 负线性相关"
   ]
  },
  {
   "cell_type": "code",
   "execution_count": 26,
   "metadata": {},
   "outputs": [
    {
     "data": {
      "text/html": [
       "<div>\n",
       "<style scoped>\n",
       "    .dataframe tbody tr th:only-of-type {\n",
       "        vertical-align: middle;\n",
       "    }\n",
       "\n",
       "    .dataframe tbody tr th {\n",
       "        vertical-align: top;\n",
       "    }\n",
       "\n",
       "    .dataframe thead th {\n",
       "        text-align: right;\n",
       "    }\n",
       "</style>\n",
       "<table border=\"1\" class=\"dataframe\">\n",
       "  <thead>\n",
       "    <tr style=\"text-align: right;\">\n",
       "      <th></th>\n",
       "      <th>A</th>\n",
       "      <th>B</th>\n",
       "      <th>C</th>\n",
       "      <th>D</th>\n",
       "    </tr>\n",
       "  </thead>\n",
       "  <tbody>\n",
       "    <tr>\n",
       "      <th>0</th>\n",
       "      <td>34.258521</td>\n",
       "      <td>16.660471</td>\n",
       "      <td>-173.096684</td>\n",
       "      <td>10.099784</td>\n",
       "    </tr>\n",
       "    <tr>\n",
       "      <th>1</th>\n",
       "      <td>105.141715</td>\n",
       "      <td>-75.374683</td>\n",
       "      <td>122.666600</td>\n",
       "      <td>77.673206</td>\n",
       "    </tr>\n",
       "    <tr>\n",
       "      <th>2</th>\n",
       "      <td>35.776304</td>\n",
       "      <td>67.879414</td>\n",
       "      <td>-45.491611</td>\n",
       "      <td>-100.488297</td>\n",
       "    </tr>\n",
       "    <tr>\n",
       "      <th>3</th>\n",
       "      <td>-95.881454</td>\n",
       "      <td>-92.609997</td>\n",
       "      <td>74.289743</td>\n",
       "      <td>53.507985</td>\n",
       "    </tr>\n",
       "    <tr>\n",
       "      <th>4</th>\n",
       "      <td>113.291131</td>\n",
       "      <td>-106.022902</td>\n",
       "      <td>4.124870</td>\n",
       "      <td>-70.351530</td>\n",
       "    </tr>\n",
       "  </tbody>\n",
       "</table>\n",
       "</div>"
      ],
      "text/plain": [
       "            A           B           C           D\n",
       "0   34.258521   16.660471 -173.096684   10.099784\n",
       "1  105.141715  -75.374683  122.666600   77.673206\n",
       "2   35.776304   67.879414  -45.491611 -100.488297\n",
       "3  -95.881454  -92.609997   74.289743   53.507985\n",
       "4  113.291131 -106.022902    4.124870  -70.351530"
      ]
     },
     "execution_count": 26,
     "metadata": {},
     "output_type": "execute_result"
    }
   ],
   "source": [
    "# 图示初判\n",
    "# （2）散点图矩阵初判多变量间关系\n",
    "\n",
    "data = pd.DataFrame(np.random.randn(200,4)*100,columns=['A','B','C','D'])\n",
    "data.head()"
   ]
  },
  {
   "cell_type": "code",
   "execution_count": 31,
   "metadata": {
    "scrolled": true
   },
   "outputs": [
    {
     "ename": "AttributeError",
     "evalue": "module 'pandas' has no attribute 'scatter_matrix'",
     "output_type": "error",
     "traceback": [
      "\u001b[1;31m---------------------------------------------------------------------------\u001b[0m",
      "\u001b[1;31mAttributeError\u001b[0m                            Traceback (most recent call last)",
      "\u001b[1;32m<ipython-input-31-873e8aea02bd>\u001b[0m in \u001b[0;36m<module>\u001b[1;34m\u001b[0m\n\u001b[1;32m----> 1\u001b[1;33m pd.scatter_matrix(data,figsize=(8,8),\n\u001b[0m\u001b[0;32m      2\u001b[0m                   \u001b[0mc\u001b[0m \u001b[1;33m=\u001b[0m \u001b[1;34m'k'\u001b[0m\u001b[1;33m,\u001b[0m\u001b[1;33m\u001b[0m\u001b[1;33m\u001b[0m\u001b[0m\n\u001b[0;32m      3\u001b[0m                    \u001b[0mmaker\u001b[0m \u001b[1;33m=\u001b[0m \u001b[1;34m'+'\u001b[0m\u001b[1;33m,\u001b[0m\u001b[1;33m\u001b[0m\u001b[1;33m\u001b[0m\u001b[0m\n\u001b[0;32m      4\u001b[0m                    \u001b[0mdiagonal\u001b[0m \u001b[1;33m=\u001b[0m \u001b[1;34m'hist'\u001b[0m\u001b[1;33m,\u001b[0m\u001b[1;33m\u001b[0m\u001b[1;33m\u001b[0m\u001b[0m\n\u001b[0;32m      5\u001b[0m                    \u001b[0malpha\u001b[0m \u001b[1;33m=\u001b[0m \u001b[1;36m0.8\u001b[0m\u001b[1;33m,\u001b[0m\u001b[1;33m\u001b[0m\u001b[1;33m\u001b[0m\u001b[0m\n",
      "\u001b[1;31mAttributeError\u001b[0m: module 'pandas' has no attribute 'scatter_matrix'"
     ]
    }
   ],
   "source": [
    "pd.scatter_matrix(data,figsize=(8,8),\n",
    "                  c = 'k',\n",
    "                   maker = '+',\n",
    "                   diagonal = 'hist',\n",
    "                   alpha = 0.8,\n",
    "                   range_padding = 0.1)\n",
    "\n",
    "    # 报错无法执行 没研究出来"
   ]
  },
  {
   "cell_type": "code",
   "execution_count": 33,
   "metadata": {},
   "outputs": [
    {
     "name": "stdout",
     "output_type": "stream",
     "text": [
      "     value1    value2\n",
      "0  0.295177  1.721680\n",
      "1  1.116767  3.249200\n",
      "2  1.198792  3.365055\n",
      "3  1.522949  3.480706\n",
      "4  5.238064  4.134964\n",
      "------\n"
     ]
    }
   ],
   "source": [
    "# Pearson相关系数\n",
    "\n",
    "data1 = pd.Series(np.random.rand(100)*100).sort_values()\n",
    "data2 = pd.Series(np.random.rand(100)*50).sort_values()\n",
    "data = pd.DataFrame({'value1':data1.values,\n",
    "                     'value2':data2.values})\n",
    "print(data.head())\n",
    "print('------')\n",
    "# 创建样本数据\n"
   ]
  },
  {
   "cell_type": "code",
   "execution_count": 35,
   "metadata": {},
   "outputs": [
    {
     "name": "stdout",
     "output_type": "stream",
     "text": [
      "value1正态性检验：\n",
      " KstestResult(statistic=0.07757590970922357, pvalue=0.5705577402388352)\n",
      "value2正态性检验：\n",
      " KstestResult(statistic=0.09286728879113676, pvalue=0.33514406608036573)\n",
      "------\n"
     ]
    }
   ],
   "source": [
    "u1,u2 = data['value1'].mean(),data['value2'].mean()  # 计算均值\n",
    "std1,std2 = data['value1'].std(),data['value2'].std()  # 计算标准差\n",
    "print('value1正态性检验：\\n',stats.kstest(data['value1'], 'norm', (u1, std1)))\n",
    "print('value2正态性检验：\\n',stats.kstest(data['value2'], 'norm', (u2, std2)))\n",
    "print('------')\n",
    "# 正态性检验 → pvalue >0.05"
   ]
  },
  {
   "cell_type": "code",
   "execution_count": 37,
   "metadata": {},
   "outputs": [
    {
     "name": "stdout",
     "output_type": "stream",
     "text": [
      "     value1    value2  (x-u1)*(y-u2)    (x-u1)**2   (y-u2)**2\n",
      "0  0.295177  1.721680    1278.817646  2647.999510  617.588699\n",
      "1  1.116767  3.249200    1181.050819  2564.118569  544.000209\n",
      "2  1.198792  3.365055    1173.280592  2555.818245  538.609250\n",
      "3  1.522949  3.480706    1159.948336  2523.147795  533.254590\n",
      "4  5.238064  4.134964    1043.724396  2163.722349  503.465990\n",
      "------\n"
     ]
    }
   ],
   "source": [
    "data['(x-u1)*(y-u2)'] = (data['value1'] - u1) * (data['value2'] - u2)\n",
    "data['(x-u1)**2'] = (data['value1'] - u1)**2\n",
    "data['(y-u2)**2'] = (data['value2'] - u2)**2\n",
    "print(data.head())\n",
    "print('------')\n",
    "# 制作Pearson相关系数求值表"
   ]
  },
  {
   "cell_type": "code",
   "execution_count": 39,
   "metadata": {},
   "outputs": [
    {
     "name": "stdout",
     "output_type": "stream",
     "text": [
      "Pearson相关系数为：0.9923\n"
     ]
    }
   ],
   "source": [
    "\n",
    "r = data['(x-u1)*(y-u2)'].sum() / (np.sqrt(data['(x-u1)**2'].sum() * data['(y-u2)**2'].sum()))\n",
    "print('Pearson相关系数为：%.4f' % r)\n",
    "# 求出r\n",
    "# |r| > 0.8 → 高度线性相关"
   ]
  },
  {
   "cell_type": "code",
   "execution_count": 41,
   "metadata": {},
   "outputs": [
    {
     "name": "stdout",
     "output_type": "stream",
     "text": [
      "     value1    value2\n",
      "0  0.657517  0.391097\n",
      "1  2.323982  0.763921\n",
      "2  2.508443  0.789029\n",
      "3  3.521778  1.409617\n",
      "4  4.286306  1.793420\n",
      "------\n"
     ]
    },
    {
     "data": {
      "text/html": [
       "<div>\n",
       "<style scoped>\n",
       "    .dataframe tbody tr th:only-of-type {\n",
       "        vertical-align: middle;\n",
       "    }\n",
       "\n",
       "    .dataframe tbody tr th {\n",
       "        vertical-align: top;\n",
       "    }\n",
       "\n",
       "    .dataframe thead th {\n",
       "        text-align: right;\n",
       "    }\n",
       "</style>\n",
       "<table border=\"1\" class=\"dataframe\">\n",
       "  <thead>\n",
       "    <tr style=\"text-align: right;\">\n",
       "      <th></th>\n",
       "      <th>value1</th>\n",
       "      <th>value2</th>\n",
       "    </tr>\n",
       "  </thead>\n",
       "  <tbody>\n",
       "    <tr>\n",
       "      <th>value1</th>\n",
       "      <td>1.000000</td>\n",
       "      <td>0.992792</td>\n",
       "    </tr>\n",
       "    <tr>\n",
       "      <th>value2</th>\n",
       "      <td>0.992792</td>\n",
       "      <td>1.000000</td>\n",
       "    </tr>\n",
       "  </tbody>\n",
       "</table>\n",
       "</div>"
      ],
      "text/plain": [
       "          value1    value2\n",
       "value1  1.000000  0.992792\n",
       "value2  0.992792  1.000000"
      ]
     },
     "execution_count": 41,
     "metadata": {},
     "output_type": "execute_result"
    }
   ],
   "source": [
    "# Pearson相关系数 - 算法\n",
    "\n",
    "data1 = pd.Series(np.random.rand(100)*100).sort_values()\n",
    "data2 = pd.Series(np.random.rand(100)*50).sort_values()\n",
    "data = pd.DataFrame({'value1':data1.values,\n",
    "                     'value2':data2.values})\n",
    "print(data.head())\n",
    "print('------')\n",
    "# 创建样本数据\n",
    "\n",
    "data.corr()\n",
    "# pandas相关性方法：data.corr(method='pearson', min_periods=1) → 直接给出数据字段的相关系数矩阵\n",
    "# method默认pearson"
   ]
  },
  {
   "cell_type": "code",
   "execution_count": 43,
   "metadata": {},
   "outputs": [
    {
     "name": "stdout",
     "output_type": "stream",
     "text": [
      "    智商  每周看电视小时数\n",
      "0  106         7\n",
      "1   86         0\n",
      "2  100        27\n",
      "3  101        50\n",
      "4   99        28\n",
      "5  103        29\n",
      "6   97        20\n",
      "7  113        12\n",
      "8  112         6\n",
      "9  110        17\n",
      "------\n",
      "    智商  每周看电视小时数  range1  range2\n",
      "1   86         0       1       1\n",
      "8  112         6       9       2\n",
      "0  106         7       7       3\n",
      "7  113        12      10       4\n",
      "9  110        17       8       5\n",
      "6   97        20       2       6\n",
      "2  100        27       4       7\n",
      "4   99        28       3       8\n",
      "5  103        29       6       9\n",
      "3  101        50       5      10\n",
      "------\n",
      "    智商  每周看电视小时数  range1  range2  d  d2\n",
      "1   86         0       1       1  0   0\n",
      "8  112         6       9       2  7  49\n",
      "0  106         7       7       3  4  16\n",
      "7  113        12      10       4  6  36\n",
      "9  110        17       8       5  3   9\n",
      "6   97        20       2       6 -4  16\n",
      "2  100        27       4       7 -3   9\n",
      "4   99        28       3       8 -5  25\n",
      "5  103        29       6       9 -3   9\n",
      "3  101        50       5      10 -5  25\n",
      "------\n",
      "Pearson相关系数为：-0.1758\n"
     ]
    }
   ],
   "source": [
    "# Sperman秩相关系数\n",
    "\n",
    "data = pd.DataFrame({'智商':[106,86,100,101,99,103,97,113,112,110],\n",
    "                    '每周看电视小时数':[7,0,27,50,28,29,20,12,6,17]})\n",
    "print(data)\n",
    "print('------')\n",
    "# 创建样本数据\n",
    "\n",
    "data.sort_values('智商', inplace=True)\n",
    "data['range1'] = np.arange(1,len(data)+1)\n",
    "data.sort_values('每周看电视小时数', inplace=True)\n",
    "data['range2'] = np.arange(1,len(data)+1)\n",
    "print(data)\n",
    "print('------')\n",
    "# “智商”、“每周看电视小时数”重新按照从小到大排序，并设定秩次index\n",
    "\n",
    "data['d'] = data['range1'] - data['range2']\n",
    "data['d2'] = data['d']**2\n",
    "print(data)\n",
    "print('------')\n",
    "# 求出di，di2\n",
    "\n",
    "n = len(data)\n",
    "rs = 1 - 6 * (data['d2'].sum()) / (n * (n**2 - 1))\n",
    "print('Pearson相关系数为：%.4f' % rs)\n",
    "# 求出rs"
   ]
  },
  {
   "cell_type": "code",
   "execution_count": 44,
   "metadata": {},
   "outputs": [
    {
     "name": "stdout",
     "output_type": "stream",
     "text": [
      "    智商  每周看电视小时数\n",
      "0  106         7\n",
      "1   86         0\n",
      "2  100        27\n",
      "3  101        50\n",
      "4   99        28\n",
      "5  103        29\n",
      "6   97        20\n",
      "7  113        12\n",
      "8  112         6\n",
      "9  110        17\n",
      "------\n"
     ]
    },
    {
     "data": {
      "text/html": [
       "<div>\n",
       "<style scoped>\n",
       "    .dataframe tbody tr th:only-of-type {\n",
       "        vertical-align: middle;\n",
       "    }\n",
       "\n",
       "    .dataframe tbody tr th {\n",
       "        vertical-align: top;\n",
       "    }\n",
       "\n",
       "    .dataframe thead th {\n",
       "        text-align: right;\n",
       "    }\n",
       "</style>\n",
       "<table border=\"1\" class=\"dataframe\">\n",
       "  <thead>\n",
       "    <tr style=\"text-align: right;\">\n",
       "      <th></th>\n",
       "      <th>智商</th>\n",
       "      <th>每周看电视小时数</th>\n",
       "    </tr>\n",
       "  </thead>\n",
       "  <tbody>\n",
       "    <tr>\n",
       "      <th>智商</th>\n",
       "      <td>1.000000</td>\n",
       "      <td>-0.175758</td>\n",
       "    </tr>\n",
       "    <tr>\n",
       "      <th>每周看电视小时数</th>\n",
       "      <td>-0.175758</td>\n",
       "      <td>1.000000</td>\n",
       "    </tr>\n",
       "  </tbody>\n",
       "</table>\n",
       "</div>"
      ],
      "text/plain": [
       "                智商  每周看电视小时数\n",
       "智商        1.000000 -0.175758\n",
       "每周看电视小时数 -0.175758  1.000000"
      ]
     },
     "execution_count": 44,
     "metadata": {},
     "output_type": "execute_result"
    }
   ],
   "source": [
    "# Pearson相关系数 - 算法\n",
    "\n",
    "data = pd.DataFrame({'智商':[106,86,100,101,99,103,97,113,112,110],\n",
    "                    '每周看电视小时数':[7,0,27,50,28,29,20,12,6,17]})\n",
    "print(data)\n",
    "print('------')\n",
    "# 创建样本数据\n",
    "\n",
    "data.corr(method='spearman')\n",
    "# pandas相关性方法：data.corr(method='pearson', min_periods=1) → 直接给出数据字段的相关系数矩阵\n",
    "# method默认pearson"
   ]
  }
 ],
 "metadata": {
  "kernelspec": {
   "display_name": "Python 3",
   "language": "python",
   "name": "python3"
  },
  "language_info": {
   "codemirror_mode": {
    "name": "ipython",
    "version": 3
   },
   "file_extension": ".py",
   "mimetype": "text/x-python",
   "name": "python",
   "nbconvert_exporter": "python",
   "pygments_lexer": "ipython3",
   "version": "3.7.3"
  }
 },
 "nbformat": 4,
 "nbformat_minor": 2
}
