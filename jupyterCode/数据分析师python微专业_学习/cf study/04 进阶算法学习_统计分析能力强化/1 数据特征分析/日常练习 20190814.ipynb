{
 "cells": [
  {
   "cell_type": "markdown",
   "metadata": {},
   "source": [
    " 题目：一球从100米高度自由落下，每次落地后反跳回原高度的一半；再落下，求它在第10次落地时，共经过多少米？第10次反弹多高？"
   ]
  },
  {
   "cell_type": "code",
   "execution_count": 8,
   "metadata": {},
   "outputs": [
    {
     "name": "stdout",
     "output_type": "stream",
     "text": [
      "共经过298.828125米\n",
      "第10此反弹0.097656米\n"
     ]
    }
   ],
   "source": [
    "s=100\n",
    "s1=100\n",
    "for i in range(1,11):\n",
    "    s+=(s1*0.5**i)*2   # 往返\n",
    "    s = s-(s1*0.5**10)  # 第10此单程，减去\n",
    "print('共经过%f米'%s)\n",
    "print('第10此反弹%f米'%(s1*0.5**10))"
   ]
  },
  {
   "cell_type": "markdown",
   "metadata": {},
   "source": [
    "题目：有一个已经排好序的数组。现输入一个数，要求按原来的规律将它插入数组中。\n",
    " l = [0,10,20,30,40,50]"
   ]
  },
  {
   "cell_type": "code",
   "execution_count": 16,
   "metadata": {},
   "outputs": [
    {
     "name": "stdout",
     "output_type": "stream",
     "text": [
      "20\n",
      "[0, 10, 16, 20, 30, 40, 50]\n"
     ]
    }
   ],
   "source": [
    "\n",
    "l=[0,10,20,30,40,50]\n",
    "print(l[2])\n",
    "l.insert(2,16)\n",
    "print(l)"
   ]
  },
  {
   "cell_type": "code",
   "execution_count": 22,
   "metadata": {},
   "outputs": [
    {
     "name": "stdout",
     "output_type": "stream",
     "text": [
      "请随机输入一数5\n",
      "0\n",
      "1\n",
      "2\n",
      "3\n",
      "4\n",
      "5\n",
      "[0, 5, 10, 20, 30, 40, 50]\n"
     ]
    }
   ],
   "source": [
    "l=[0,10,20,30,40,50]\n",
    "\n",
    "a = int(input('请随机输入一数'))\n",
    "\n",
    "for i in range(len(l)):\n",
    "    print(i)\n",
    "    if a>l[-1]:\n",
    "        l.insert(len(l),a)\n",
    "    if a<l[0]:\n",
    "        l.insert(0,a)\n",
    "    if a>l[i] and a<l[i+1]:\n",
    "        l.insert((i+1),a)\n",
    "print(l)\n",
    "    "
   ]
  },
  {
   "cell_type": "code",
   "execution_count": 2,
   "metadata": {},
   "outputs": [
    {
     "data": {
      "text/plain": [
       "-1"
      ]
     },
     "execution_count": 2,
     "metadata": {},
     "output_type": "execute_result"
    }
   ],
   "source": [
    "eval('1-2')"
   ]
  }
 ],
 "metadata": {
  "kernelspec": {
   "display_name": "Python 3",
   "language": "python",
   "name": "python3"
  },
  "language_info": {
   "codemirror_mode": {
    "name": "ipython",
    "version": 3
   },
   "file_extension": ".py",
   "mimetype": "text/x-python",
   "name": "python",
   "nbconvert_exporter": "python",
   "pygments_lexer": "ipython3",
   "version": "3.7.3"
  }
 },
 "nbformat": 4,
 "nbformat_minor": 2
}
