{
 "cells": [
  {
   "cell_type": "markdown",
   "metadata": {},
   "source": [
    "os模块学习"
   ]
  },
  {
   "cell_type": "code",
   "execution_count": 2,
   "metadata": {},
   "outputs": [],
   "source": [
    "import os\n",
    "import requests\n",
    "import pandas as pd\n",
    "import numpy as np\n",
    "import json\n",
    "import time\n",
    "import random\n",
    "from lxml import etree"
   ]
  },
  {
   "cell_type": "code",
   "execution_count": 4,
   "metadata": {},
   "outputs": [
    {
     "data": {
      "text/plain": [
       "'C:\\\\Users\\\\Administrator\\\\数据分析师python微专业_学习\\\\cf study\\\\DoubanMovies'"
      ]
     },
     "execution_count": 4,
     "metadata": {},
     "output_type": "execute_result"
    }
   ],
   "source": [
    "os.getcwd()\n",
    "   # 获取当前工作路径"
   ]
  },
  {
   "cell_type": "code",
   "execution_count": 6,
   "metadata": {},
   "outputs": [],
   "source": [
    "os.chdir('C:/Users/Administrator/Desktop/python/')\n",
    "  # 修改当前工作路径， 类似于linux下的cd命令；\n",
    "    "
   ]
  },
  {
   "cell_type": "code",
   "execution_count": 8,
   "metadata": {},
   "outputs": [
    {
     "data": {
      "text/plain": [
       "'C:\\\\Users\\\\Administrator\\\\Desktop\\\\python'"
      ]
     },
     "execution_count": 8,
     "metadata": {},
     "output_type": "execute_result"
    }
   ],
   "source": [
    "os.getcwd()"
   ]
  },
  {
   "cell_type": "code",
   "execution_count": 9,
   "metadata": {},
   "outputs": [
    {
     "data": {
      "text/plain": [
       "'.'"
      ]
     },
     "execution_count": 9,
     "metadata": {},
     "output_type": "execute_result"
    }
   ],
   "source": [
    "os.curdir    # 返回当前目录 :('.')"
   ]
  },
  {
   "cell_type": "code",
   "execution_count": 11,
   "metadata": {},
   "outputs": [
    {
     "data": {
      "text/plain": [
       "'..'"
      ]
     },
     "execution_count": 11,
     "metadata": {},
     "output_type": "execute_result"
    }
   ],
   "source": [
    "os.pardir    # 返回当前目录的父目录字符串名: ('..')"
   ]
  },
  {
   "cell_type": "code",
   "execution_count": 14,
   "metadata": {},
   "outputs": [],
   "source": [
    "os.makedirs('C:/123/abc')   # 创建多层递归目录"
   ]
  },
  {
   "cell_type": "code",
   "execution_count": 19,
   "metadata": {},
   "outputs": [],
   "source": [
    "#os.removedirs('C:/123/abc')  # 删除多层递归空目录\n",
    "    # 智能执行一次"
   ]
  },
  {
   "cell_type": "code",
   "execution_count": 21,
   "metadata": {},
   "outputs": [
    {
     "data": {
      "text/plain": [
       "'C:\\\\Users\\\\Administrator\\\\Desktop\\\\python'"
      ]
     },
     "execution_count": 21,
     "metadata": {},
     "output_type": "execute_result"
    }
   ],
   "source": [
    "os.getcwd()"
   ]
  },
  {
   "cell_type": "code",
   "execution_count": 24,
   "metadata": {},
   "outputs": [
    {
     "ename": "FileExistsError",
     "evalue": "[WinError 183] 当文件已存在时，无法创建该文件。: 'test'",
     "output_type": "error",
     "traceback": [
      "\u001b[1;31m-------------------------------------------------------\u001b[0m",
      "\u001b[1;31mFileExistsError\u001b[0m       Traceback (most recent call last)",
      "\u001b[1;32m<ipython-input-24-649df206c3ee>\u001b[0m in \u001b[0;36m<module>\u001b[1;34m\u001b[0m\n\u001b[1;32m----> 1\u001b[1;33m \u001b[0mos\u001b[0m\u001b[1;33m.\u001b[0m\u001b[0mmkdir\u001b[0m\u001b[1;33m(\u001b[0m\u001b[1;34m'test'\u001b[0m\u001b[1;33m)\u001b[0m\u001b[1;33m\u001b[0m\u001b[1;33m\u001b[0m\u001b[0m\n\u001b[0m",
      "\u001b[1;31mFileExistsError\u001b[0m: [WinError 183] 当文件已存在时，无法创建该文件。: 'test'"
     ]
    }
   ],
   "source": [
    "os.mkdir('test')    #  从当前所在目录下 创建单级目录"
   ]
  },
  {
   "cell_type": "code",
   "execution_count": 26,
   "metadata": {},
   "outputs": [
    {
     "data": {
      "text/plain": [
       "'C:\\\\Users\\\\Administrator\\\\Desktop\\\\python'"
      ]
     },
     "execution_count": 26,
     "metadata": {},
     "output_type": "execute_result"
    }
   ],
   "source": [
    "os.getcwd()"
   ]
  },
  {
   "cell_type": "code",
   "execution_count": 27,
   "metadata": {},
   "outputs": [],
   "source": [
    "os.rmdir('test')  #   删除单级空目录"
   ]
  },
  {
   "cell_type": "code",
   "execution_count": 29,
   "metadata": {},
   "outputs": [
    {
     "data": {
      "text/plain": [
       "['bigdata2.csv',\n",
       " 'cars.csv',\n",
       " 'dashuju2.py',\n",
       " 'data.pkl',\n",
       " 'date.txt',\n",
       " 'guniang.jpg',\n",
       " 'import.docx',\n",
       " 'pic.png',\n",
       " 'text.py',\n",
       " 'textmodule2.py',\n",
       " 'text_write3.txt',\n",
       " 'text_write4.txt',\n",
       " 'wr3.txt',\n",
       " 'zsfw2.txt',\n",
       " 'zsfw3.txt',\n",
       " '二手车数据.csv',\n",
       " '商铺数据.csv',\n",
       " '商铺数据.txt',\n",
       " '完美陌生人-短评.xlsx',\n",
       " '流量练习数据.xls',\n",
       " '深圳罗湖二手房信息.csv']"
      ]
     },
     "execution_count": 29,
     "metadata": {},
     "output_type": "execute_result"
    }
   ],
   "source": [
    "os.listdir()      # 列出当前目录下的所有文件和子目录"
   ]
  },
  {
   "cell_type": "code",
   "execution_count": 31,
   "metadata": {},
   "outputs": [
    {
     "ename": "FileNotFoundError",
     "evalue": "[WinError 2] 系统找不到指定的文件。: '二手车数据.csv'",
     "output_type": "error",
     "traceback": [
      "\u001b[1;31m-------------------------------------------------------\u001b[0m",
      "\u001b[1;31mFileNotFoundError\u001b[0m     Traceback (most recent call last)",
      "\u001b[1;32m<ipython-input-31-e9a8b5cfff54>\u001b[0m in \u001b[0;36m<module>\u001b[1;34m\u001b[0m\n\u001b[1;32m----> 1\u001b[1;33m \u001b[0mos\u001b[0m\u001b[1;33m.\u001b[0m\u001b[0mremove\u001b[0m\u001b[1;33m(\u001b[0m\u001b[1;34m'二手车数据.csv'\u001b[0m\u001b[1;33m)\u001b[0m\u001b[1;33m\u001b[0m\u001b[1;33m\u001b[0m\u001b[0m\n\u001b[0m",
      "\u001b[1;31mFileNotFoundError\u001b[0m: [WinError 2] 系统找不到指定的文件。: '二手车数据.csv'"
     ]
    }
   ],
   "source": [
    "os.remove('二手车数据.csv')    # 删除一个文件，对目录不起作用"
   ]
  },
  {
   "cell_type": "code",
   "execution_count": 33,
   "metadata": {},
   "outputs": [
    {
     "data": {
      "text/plain": [
       "['bigdata2.csv',\n",
       " 'cars.csv',\n",
       " 'dashuju2.py',\n",
       " 'data.pkl',\n",
       " 'date.txt',\n",
       " 'guniang.jpg',\n",
       " 'import.docx',\n",
       " 'pic.png',\n",
       " 'text.py',\n",
       " 'textmodule2.py',\n",
       " 'text_write3.txt',\n",
       " 'text_write4.txt',\n",
       " 'wr3.txt',\n",
       " 'zsfw2.txt',\n",
       " 'zsfw3.txt',\n",
       " '商铺数据.csv',\n",
       " '商铺数据.txt',\n",
       " '完美陌生人-短评.xlsx',\n",
       " '流量练习数据.xls',\n",
       " '深圳罗湖二手房信息.csv']"
      ]
     },
     "execution_count": 33,
     "metadata": {},
     "output_type": "execute_result"
    }
   ],
   "source": [
    "os.listdir()"
   ]
  },
  {
   "cell_type": "code",
   "execution_count": 36,
   "metadata": {},
   "outputs": [
    {
     "data": {
      "text/plain": [
       "['bigdata2.csv',\n",
       " 'cars.csv',\n",
       " 'dashuju2.py',\n",
       " 'data.pkl',\n",
       " 'date.txt',\n",
       " 'guniang.jpg',\n",
       " 'import.docx',\n",
       " 'pic.png',\n",
       " 'text.py',\n",
       " 'textmodule2.py',\n",
       " 'text_write3.txt',\n",
       " 'text_write4.txt',\n",
       " 'wr3.txt',\n",
       " 'zsfw2.txt',\n",
       " 'zsfw3.txt',\n",
       " '商铺数据.csv',\n",
       " '商铺数据3.txt',\n",
       " '完美陌生人-短评.xlsx',\n",
       " '流量练习数据.xls',\n",
       " '深圳罗湖二手房信息.csv']"
      ]
     },
     "execution_count": 36,
     "metadata": {},
     "output_type": "execute_result"
    }
   ],
   "source": [
    "os.rename('商铺数据2.txt','商铺数据3.txt')   # 重命名文件或目录\n",
    "os.listdir()"
   ]
  },
  {
   "cell_type": "code",
   "execution_count": 40,
   "metadata": {},
   "outputs": [
    {
     "name": "stdout",
     "output_type": "stream",
     "text": [
      "os.stat_result(st_mode=33206, st_ino=12666373951986204, st_dev=230887851, st_nlink=1, st_uid=0, st_gid=0, st_size=11, st_atime=1566871918, st_mtime=1563332560, st_ctime=1563332294)\n"
     ]
    }
   ],
   "source": [
    "a= os.stat('wr3.txt')     # 获取文件或者目录信息\n",
    "print(a)"
   ]
  },
  {
   "cell_type": "code",
   "execution_count": 41,
   "metadata": {},
   "outputs": [
    {
     "data": {
      "text/plain": [
       "'\\\\'"
      ]
     },
     "execution_count": 41,
     "metadata": {},
     "output_type": "execute_result"
    }
   ],
   "source": [
    "os.sep   #当前操作系统下的路径分隔符；"
   ]
  },
  {
   "cell_type": "code",
   "execution_count": 42,
   "metadata": {},
   "outputs": [
    {
     "data": {
      "text/plain": [
       "'\\r\\n'"
      ]
     },
     "execution_count": 42,
     "metadata": {},
     "output_type": "execute_result"
    }
   ],
   "source": [
    "os.linesep   # 当前操作系统下的换行符"
   ]
  },
  {
   "cell_type": "code",
   "execution_count": 44,
   "metadata": {},
   "outputs": [
    {
     "data": {
      "text/plain": [
       "';'"
      ]
     },
     "execution_count": 44,
     "metadata": {},
     "output_type": "execute_result"
    }
   ],
   "source": [
    "os.pathsep   #  用于分割文件路径的字符串  没太懂"
   ]
  },
  {
   "cell_type": "code",
   "execution_count": 48,
   "metadata": {},
   "outputs": [
    {
     "data": {
      "text/plain": [
       "'nt'"
      ]
     },
     "execution_count": 48,
     "metadata": {},
     "output_type": "execute_result"
    }
   ],
   "source": [
    "os.name     # 字符串指示当前使用平台。 win -> nt ; Linux -> posix"
   ]
  },
  {
   "cell_type": "code",
   "execution_count": 54,
   "metadata": {},
   "outputs": [
    {
     "data": {
      "text/plain": [
       "1"
      ]
     },
     "execution_count": 54,
     "metadata": {},
     "output_type": "execute_result"
    }
   ],
   "source": [
    "os.system('bash command')   # 运行shell命令，有参，没太懂；"
   ]
  },
  {
   "cell_type": "code",
   "execution_count": 55,
   "metadata": {},
   "outputs": [
    {
     "data": {
      "text/plain": [
       "environ{'ALLUSERSPROFILE': 'C:\\\\ProgramData',\n",
       "        'APPDATA': 'C:\\\\Users\\\\Administrator\\\\AppData\\\\Roaming',\n",
       "        'CLASSPATH': '.;C:\\\\Program Files (x86)\\\\Java\\\\jdk-12.0.2\\\\lib\\\\dt.jar;C:\\\\Program Files (x86)\\\\Java\\\\jdk-12.0.2\\\\lib\\\\tools.jar; ',\n",
       "        'COMMONPROGRAMFILES': 'C:\\\\Program Files\\\\Common Files',\n",
       "        'COMMONPROGRAMFILES(X86)': 'C:\\\\Program Files (x86)\\\\Common Files',\n",
       "        'COMMONPROGRAMW6432': 'C:\\\\Program Files\\\\Common Files',\n",
       "        'COMPUTERNAME': 'CHEN',\n",
       "        'COMSPEC': 'C:\\\\WINDOWS\\\\system32\\\\cmd.exe',\n",
       "        'DRIVERDATA': 'C:\\\\Windows\\\\System32\\\\Drivers\\\\DriverData',\n",
       "        'FPS_BROWSER_APP_PROFILE_STRING': 'Internet Explorer',\n",
       "        'FPS_BROWSER_USER_PROFILE_STRING': 'Default',\n",
       "        'HOMEDRIVE': 'C:',\n",
       "        'HOMEPATH': '\\\\Users\\\\Administrator',\n",
       "        'JAVA_HOME': 'C:\\\\Program Files (x86)\\\\Java\\\\jdk-12.0.2',\n",
       "        'LOCALAPPDATA': 'C:\\\\Users\\\\Administrator\\\\AppData\\\\Local',\n",
       "        'LOGONSERVER': '\\\\\\\\CHEN',\n",
       "        'NLS_LANG': 'SIMPLIFIED CHINESE_CHINA.ZHS16GBK',\n",
       "        'NUMBER_OF_PROCESSORS': '8',\n",
       "        'OS': 'Windows_NT',\n",
       "        'PATH': 'D:\\\\ProgramData\\\\Anaconda3;D:\\\\ProgramData\\\\Anaconda3\\\\Library\\\\mingw-w64\\\\bin;D:\\\\ProgramData\\\\Anaconda3\\\\Library\\\\usr\\\\bin;D:\\\\ProgramData\\\\Anaconda3\\\\Library\\\\bin;D:\\\\ProgramData\\\\Anaconda3\\\\Scripts;C:\\\\WINDOWS\\\\system32;C:\\\\WINDOWS;C:\\\\WINDOWS\\\\System32\\\\Wbem;C:\\\\WINDOWS\\\\System32\\\\WindowsPowerShell\\\\v1.0\\\\;D:\\\\Program Files\\\\Calibre2\\\\;C:\\\\WINDOWS\\\\System32\\\\OpenSSH\\\\;D:\\\\VPN\\\\bin;D:\\\\ProgramData\\\\Anaconda3\\\\Library\\\\bin;D:\\\\ProgramData\\\\Anaconda3\\\\Scripts;D:\\\\ProgramData\\\\Anaconda3\\\\;D:\\\\Program Files\\\\MongoDB\\\\Server\\\\4.1\\\\bin;C:\\\\Program Files (x86)\\\\Java\\\\jdk-12.0.2\\\\bin;C:\\\\Program Files (x86)\\\\Java\\\\jdk-12.0.2\\\\jre\\\\bin;D:\\\\Program Files\\\\Git\\\\cmd;C:\\\\Program Files (x86)\\\\Google\\\\Chrome\\\\Application;C:\\\\Users\\\\Administrator\\\\AppData\\\\Local\\\\Programs\\\\Python\\\\Python37\\\\Scripts\\\\;C:\\\\Users\\\\Administrator\\\\AppData\\\\Local\\\\Programs\\\\Python\\\\Python37\\\\;C:\\\\Users\\\\Administrator\\\\AppData\\\\Local\\\\Microsoft\\\\WindowsApps;C:\\\\Program Files\\\\Bandizip\\\\;D:\\\\Program Files\\\\JetBrains\\\\PyCharm 2019.2\\\\bin;;D:\\\\Program Files\\\\MongoDB\\\\Server\\\\4.0\\\\bin;C:\\\\Program Files (x86)\\\\Google\\\\Chrome\\\\Application;',\n",
       "        'PATHEXT': '.COM;.EXE;.BAT;.CMD;.VBS;.VBE;.JS;.JSE;.WSF;.WSH;.MSC',\n",
       "        'PROCESSOR_ARCHITECTURE': 'AMD64',\n",
       "        'PROCESSOR_IDENTIFIER': 'Intel64 Family 6 Model 142 Stepping 10, GenuineIntel',\n",
       "        'PROCESSOR_LEVEL': '6',\n",
       "        'PROCESSOR_REVISION': '8e0a',\n",
       "        'PROGRAMDATA': 'C:\\\\ProgramData',\n",
       "        'PROGRAMFILES': 'C:\\\\Program Files',\n",
       "        'PROGRAMFILES(X86)': 'C:\\\\Program Files (x86)',\n",
       "        'PROGRAMW6432': 'C:\\\\Program Files',\n",
       "        'PSMODULEPATH': 'C:\\\\Program Files\\\\WindowsPowerShell\\\\Modules;C:\\\\WINDOWS\\\\system32\\\\WindowsPowerShell\\\\v1.0\\\\Modules',\n",
       "        'PUBLIC': 'C:\\\\Users\\\\Public',\n",
       "        'PYCHARM': 'D:\\\\Program Files\\\\JetBrains\\\\PyCharm 2019.2\\\\bin;',\n",
       "        'SESSIONNAME': 'Console',\n",
       "        'SYSTEMDRIVE': 'C:',\n",
       "        'SYSTEMROOT': 'C:\\\\WINDOWS',\n",
       "        'TEMP': 'C:\\\\Users\\\\ADMINI~1\\\\AppData\\\\Local\\\\Temp',\n",
       "        'TMP': 'C:\\\\Users\\\\ADMINI~1\\\\AppData\\\\Local\\\\Temp',\n",
       "        'TMPDIR': 'C:\\\\Users\\\\Public\\\\Documents\\\\Wondershare\\\\CreatorTemp',\n",
       "        'TNS_ADMIN': 'D:\\\\Program Files\\\\PLSQL Developer 12\\\\instantclient_11_2',\n",
       "        'USERDOMAIN': 'CHEN',\n",
       "        'USERDOMAIN_ROAMINGPROFILE': 'CHEN',\n",
       "        'USERNAME': 'Administrator',\n",
       "        'USERPROFILE': 'C:\\\\Users\\\\Administrator',\n",
       "        'WINDIR': 'C:\\\\WINDOWS',\n",
       "        'CONDA_PREFIX': 'D:\\\\ProgramData\\\\Anaconda3',\n",
       "        'JPY_INTERRUPT_EVENT': '3160',\n",
       "        'IPY_INTERRUPT_EVENT': '3160',\n",
       "        'JPY_PARENT_PID': '3504',\n",
       "        'TERM': 'xterm-color',\n",
       "        'CLICOLOR': '1',\n",
       "        'PAGER': 'cat',\n",
       "        'GIT_PAGER': 'cat',\n",
       "        'MPLBACKEND': 'module://ipykernel.pylab.backend_inline'}"
      ]
     },
     "execution_count": 55,
     "metadata": {},
     "output_type": "execute_result"
    }
   ],
   "source": [
    "os.environ    # 获取系统环境变量"
   ]
  },
  {
   "cell_type": "code",
   "execution_count": 60,
   "metadata": {},
   "outputs": [
    {
     "data": {
      "text/plain": [
       "'C:\\\\Users\\\\Administrator\\\\Desktop\\\\python\\\\wr3.db'"
      ]
     },
     "execution_count": 60,
     "metadata": {},
     "output_type": "execute_result"
    }
   ],
   "source": [
    "os.path.abspath('wr3.db')     # 返回一个文件或者目录的规范化的绝对路径"
   ]
  },
  {
   "cell_type": "code",
   "execution_count": 62,
   "metadata": {},
   "outputs": [
    {
     "data": {
      "text/plain": [
       "('C:\\\\Users\\\\Administrator\\\\Desktop\\\\python', 'wr3.db')"
      ]
     },
     "execution_count": 62,
     "metadata": {},
     "output_type": "execute_result"
    }
   ],
   "source": [
    "os.path.split('C:\\\\Users\\\\Administrator\\\\Desktop\\\\python\\\\wr3.db')    # 将文件分割成目录和文件名二元祖返回"
   ]
  },
  {
   "cell_type": "code",
   "execution_count": 70,
   "metadata": {},
   "outputs": [
    {
     "data": {
      "text/plain": [
       "'C:\\\\Users\\\\Administrator\\\\Desktop\\\\python'"
      ]
     },
     "execution_count": 70,
     "metadata": {},
     "output_type": "execute_result"
    }
   ],
   "source": [
    "os.path.dirname('C:\\\\Users\\\\Administrator\\\\Desktop\\\\python\\\\wr3.txt')    # 返回文件目录"
   ]
  },
  {
   "cell_type": "code",
   "execution_count": 74,
   "metadata": {},
   "outputs": [
    {
     "data": {
      "text/plain": [
       "'wr3.txt'"
      ]
     },
     "execution_count": 74,
     "metadata": {},
     "output_type": "execute_result"
    }
   ],
   "source": [
    "os.path.basename('C:\\\\Users\\\\Administrator\\\\Desktop\\\\python\\\\wr3.txt')    #返回最后的文件名"
   ]
  },
  {
   "cell_type": "code",
   "execution_count": 75,
   "metadata": {},
   "outputs": [
    {
     "data": {
      "text/plain": [
       "True"
      ]
     },
     "execution_count": 75,
     "metadata": {},
     "output_type": "execute_result"
    }
   ],
   "source": [
    "os.path.exists('C:\\\\Users\\\\Administrator\\\\Desktop\\\\python\\\\wr3.txt')    # 如何文件存在返回True，如果文件不存在返回False；"
   ]
  },
  {
   "cell_type": "code",
   "execution_count": 77,
   "metadata": {},
   "outputs": [
    {
     "data": {
      "text/plain": [
       "False"
      ]
     },
     "execution_count": 77,
     "metadata": {},
     "output_type": "execute_result"
    }
   ],
   "source": [
    "os.path.exists('C:\\\\Users\\\\Administrator\\\\Desktop\\\\python\\\\wr3.db')    # 如何文件存在返回True，如果文件不存在返回False"
   ]
  },
  {
   "cell_type": "code",
   "execution_count": 81,
   "metadata": {},
   "outputs": [
    {
     "data": {
      "text/plain": [
       "True"
      ]
     },
     "execution_count": 81,
     "metadata": {},
     "output_type": "execute_result"
    }
   ],
   "source": [
    "os.path.isabs('C:\\\\Users\\\\Administrator\\\\Desktop\\\\python\\\\wr3.txt')    # 如果文件是绝对路径，返回True；"
   ]
  },
  {
   "cell_type": "code",
   "execution_count": 85,
   "metadata": {},
   "outputs": [
    {
     "data": {
      "text/plain": [
       "True"
      ]
     },
     "execution_count": 85,
     "metadata": {},
     "output_type": "execute_result"
    }
   ],
   "source": [
    "os.path.isfile('C:\\\\Users\\\\Administrator\\\\Desktop\\\\python\\\\wr3.txt')  # 如果文件是一个存在的文件，返回True，否则返回False。\n"
   ]
  },
  {
   "cell_type": "code",
   "execution_count": 88,
   "metadata": {},
   "outputs": [
    {
     "data": {
      "text/plain": [
       "True"
      ]
     },
     "execution_count": 88,
     "metadata": {},
     "output_type": "execute_result"
    }
   ],
   "source": [
    "os.path.isdir('C:\\\\Users\\\\Administrator\\\\Desktop\\\\python')    # 如果目录是一个存在的目录，返回True。否则返回False\n"
   ]
  },
  {
   "cell_type": "code",
   "execution_count": 91,
   "metadata": {},
   "outputs": [
    {
     "data": {
      "text/plain": [
       "'C:\\\\Users\\\\Administrator\\\\Desktop\\\\python\\\\wr3.txt'"
      ]
     },
     "execution_count": 91,
     "metadata": {},
     "output_type": "execute_result"
    }
   ],
   "source": [
    "s1 = 'C:\\\\Users\\\\Administrator\\\\Desktop'\n",
    "s2 = 'python'\n",
    "f1 = 'wr3.txt'\n",
    "os.path.join(s1,s2,f1)        # 将多个字符串路径组合成一个完整的路径返回。"
   ]
  },
  {
   "cell_type": "code",
   "execution_count": 102,
   "metadata": {},
   "outputs": [
    {
     "name": "stdout",
     "output_type": "stream",
     "text": [
      "1566871918.7306695\n",
      "2019-08-27 02:11:58\n"
     ]
    }
   ],
   "source": [
    "a =  os.path.getatime('C:\\\\Users\\\\Administrator\\\\Desktop\\\\python\\\\wr3.txt')   # 返回所指向文件或目录的最后存取时间戳\n",
    "b = time.strftime('%Y-%m-%d %H:%M:%S',time.gmtime(a))\n",
    "print(a)\n",
    "print(b)\n"
   ]
  },
  {
   "cell_type": "code",
   "execution_count": 101,
   "metadata": {},
   "outputs": [
    {
     "name": "stdout",
     "output_type": "stream",
     "text": [
      "1563332560.5615783\n",
      "2019-07-17 03:02:40\n"
     ]
    }
   ],
   "source": [
    "a =  os.path.getmtime('C:\\\\Users\\\\Administrator\\\\Desktop\\\\python\\\\wr3.txt')   # 返回所指向文件或目录的最后修改时间戳\n",
    "b = time.strftime('%Y-%m-%d %H:%M:%S',time.gmtime(a))\n",
    "print(a)\n",
    "print(b)"
   ]
  },
  {
   "cell_type": "code",
   "execution_count": 104,
   "metadata": {},
   "outputs": [
    {
     "data": {
      "text/plain": [
       "11"
      ]
     },
     "execution_count": 104,
     "metadata": {},
     "output_type": "execute_result"
    }
   ],
   "source": [
    "os.stat('wr3.txt').st_size    # 检查一个文件的大小，返回字节数"
   ]
  },
  {
   "cell_type": "code",
   "execution_count": null,
   "metadata": {},
   "outputs": [],
   "source": []
  },
  {
   "cell_type": "code",
   "execution_count": null,
   "metadata": {},
   "outputs": [],
   "source": []
  },
  {
   "cell_type": "code",
   "execution_count": null,
   "metadata": {},
   "outputs": [],
   "source": []
  }
 ],
 "metadata": {
  "kernelspec": {
   "display_name": "Python 3",
   "language": "python",
   "name": "python3"
  },
  "language_info": {
   "codemirror_mode": {
    "name": "ipython",
    "version": 3
   },
   "file_extension": ".py",
   "mimetype": "text/x-python",
   "name": "python",
   "nbconvert_exporter": "python",
   "pygments_lexer": "ipython3",
   "version": "3.7.3"
  }
 },
 "nbformat": 4,
 "nbformat_minor": 2
}
