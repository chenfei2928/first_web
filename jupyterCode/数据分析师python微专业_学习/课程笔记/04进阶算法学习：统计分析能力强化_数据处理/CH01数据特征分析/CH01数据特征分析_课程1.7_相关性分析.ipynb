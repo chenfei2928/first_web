{
 "cells": [
  {
   "cell_type": "code",
   "execution_count": 1,
   "metadata": {},
   "outputs": [
    {
     "data": {
      "text/plain": [
       "'\\n【课程1.7】  相关性分析\\n\\n分析连续变量之间的线性相关程度的强弱\\n\\n图示初判 / Pearson相关系数（皮尔逊相关系数） / Sperman秩相关系数（斯皮尔曼相关系数）\\n\\n'"
      ]
     },
     "execution_count": 1,
     "metadata": {},
     "output_type": "execute_result"
    }
   ],
   "source": [
    "'''\n",
    "【课程1.7】  相关性分析\n",
    "\n",
    "分析连续变量之间的线性相关程度的强弱\n",
    "\n",
    "图示初判 / Pearson相关系数（皮尔逊相关系数） / Sperman秩相关系数（斯皮尔曼相关系数）\n",
    "\n",
    "'''"
   ]
  },
  {
   "cell_type": "code",
   "execution_count": 2,
   "metadata": {},
   "outputs": [
    {
     "name": "stderr",
     "output_type": "stream",
     "text": [
      "UsageError: Line magic function `%` not found.\n"
     ]
    }
   ],
   "source": [
    "import numpy as np\n",
    "import pandas as pd\n",
    "import matplotlib.pyplot as plt\n",
    "from scipy import stats\n",
    "% matplotlib inline"
   ]
  },
  {
   "cell_type": "code",
   "execution_count": 3,
   "metadata": {},
   "outputs": [
    {
     "data": {
      "image/png": "[encoded data removed]",
      "text/plain": [
       "<Figure size 720x288 with 2 Axes>"
      ]
     },
     "metadata": {
      "needs_background": "light"
     },
     "output_type": "display_data"
    }
   ],
   "source": [
    "# 图示初判\n",
    "# （1）变量之间的线性相关性\n",
    "\n",
    "data1 = pd.Series(np.random.rand(50)*100).sort_values()\n",
    "data2 = pd.Series(np.random.rand(50)*50).sort_values()\n",
    "data3 = pd.Series(np.random.rand(50)*500).sort_values(ascending = False)\n",
    "# 创建三个数据：data1为0-100的随机数并从小到大排列，data2为0-50的随机数并从小到大排列，data3为0-500的随机数并从大到小排列，\n",
    "\n",
    "fig = plt.figure(figsize = (10,4))\n",
    "ax1 = fig.add_subplot(1,2,1)\n",
    "ax1.scatter(data1, data2)\n",
    "plt.grid()\n",
    "# 正线性相关\n",
    "\n",
    "ax2 = fig.add_subplot(1,2,2)\n",
    "ax2.scatter(data1, data3)\n",
    "plt.grid()\n",
    "# 负线性相关"
   ]
  },
  {
   "cell_type": "code",
   "execution_count": 4,
   "metadata": {},
   "outputs": [
    {
     "ename": "AttributeError",
     "evalue": "module 'pandas' has no attribute 'scatter_matrix'",
     "output_type": "error",
     "traceback": [
      "\u001b[1;31m---------------------------------------------------------------------------\u001b[0m",
      "\u001b[1;31mAttributeError\u001b[0m                            Traceback (most recent call last)",
      "\u001b[1;32m<ipython-input-4-1f8e1c1f3327>\u001b[0m in \u001b[0;36m<module>\u001b[1;34m\u001b[0m\n\u001b[0;32m      3\u001b[0m \u001b[1;33m\u001b[0m\u001b[0m\n\u001b[0;32m      4\u001b[0m \u001b[0mdata\u001b[0m \u001b[1;33m=\u001b[0m \u001b[0mpd\u001b[0m\u001b[1;33m.\u001b[0m\u001b[0mDataFrame\u001b[0m\u001b[1;33m(\u001b[0m\u001b[0mnp\u001b[0m\u001b[1;33m.\u001b[0m\u001b[0mrandom\u001b[0m\u001b[1;33m.\u001b[0m\u001b[0mrandn\u001b[0m\u001b[1;33m(\u001b[0m\u001b[1;36m200\u001b[0m\u001b[1;33m,\u001b[0m\u001b[1;36m4\u001b[0m\u001b[1;33m)\u001b[0m\u001b[1;33m*\u001b[0m\u001b[1;36m100\u001b[0m\u001b[1;33m,\u001b[0m \u001b[0mcolumns\u001b[0m \u001b[1;33m=\u001b[0m \u001b[1;33m[\u001b[0m\u001b[1;34m'A'\u001b[0m\u001b[1;33m,\u001b[0m\u001b[1;34m'B'\u001b[0m\u001b[1;33m,\u001b[0m\u001b[1;34m'C'\u001b[0m\u001b[1;33m,\u001b[0m\u001b[1;34m'D'\u001b[0m\u001b[1;33m]\u001b[0m\u001b[1;33m)\u001b[0m\u001b[1;33m\u001b[0m\u001b[1;33m\u001b[0m\u001b[0m\n\u001b[1;32m----> 5\u001b[1;33m pd.scatter_matrix(data,figsize=(8,8),\n\u001b[0m\u001b[0;32m      6\u001b[0m                   \u001b[0mc\u001b[0m \u001b[1;33m=\u001b[0m \u001b[1;34m'k'\u001b[0m\u001b[1;33m,\u001b[0m\u001b[1;33m\u001b[0m\u001b[1;33m\u001b[0m\u001b[0m\n\u001b[0;32m      7\u001b[0m                  \u001b[0mmarker\u001b[0m \u001b[1;33m=\u001b[0m \u001b[1;34m'+'\u001b[0m\u001b[1;33m,\u001b[0m\u001b[1;33m\u001b[0m\u001b[1;33m\u001b[0m\u001b[0m\n",
      "\u001b[1;31mAttributeError\u001b[0m: module 'pandas' has no attribute 'scatter_matrix'"
     ]
    }
   ],
   "source": [
    "# 图示初判\n",
    "# （2）散点图矩阵初判多变量间关系\n",
    "\n",
    "data = pd.DataFrame(np.random.randn(200,4)*100, columns = ['A','B','C','D'])\n",
    "pd.scatter_matrix(data,figsize=(8,8),\n",
    "                  c = 'k',\n",
    "                 marker = '+',\n",
    "                 diagonal='hist',\n",
    "                 alpha = 0.8,\n",
    "                 range_padding=0.1)\n",
    "data.head()"
   ]
  },
  {
   "cell_type": "code",
   "execution_count": 5,
   "metadata": {},
   "outputs": [
    {
     "name": "stdout",
     "output_type": "stream",
     "text": [
      "     value1    value2\n",
      "0  0.016417  1.782860\n",
      "1  1.774590  1.928919\n",
      "2  1.838892  3.455846\n",
      "3  2.124023  3.768562\n",
      "4  2.283955  4.181809\n",
      "------\n",
      "value1正态性检验：\n",
      " KstestResult(statistic=0.09550331871112949, pvalue=0.3028715137184231)\n",
      "value2正态性检验：\n",
      " KstestResult(statistic=0.12083101142218816, pvalue=0.0991902009528821)\n",
      "------\n",
      "     value1    value2  (x-u1)*(y-u2)    (x-u1)**2   (y-u2)**2\n",
      "0  0.016417  1.782860    1103.513609  2399.780785  507.438968\n",
      "1  1.774590  1.928919    1057.010013  2230.614739  500.879936\n",
      "2  1.838892  3.455846     983.553245  2224.544969  434.865107\n",
      "3  2.124023  3.768562     962.947209  2197.729803  421.920532\n",
      "4  2.283955  4.181809     940.355197  2182.760254  405.114531\n",
      "------\n",
      "Pearson相关系数为：0.9942\n"
     ]
    }
   ],
   "source": [
    "# Pearson相关系数\n",
    "\n",
    "data1 = pd.Series(np.random.rand(100)*100).sort_values()\n",
    "data2 = pd.Series(np.random.rand(100)*50).sort_values()\n",
    "data = pd.DataFrame({'value1':data1.values,\n",
    "                     'value2':data2.values})\n",
    "print(data.head())\n",
    "print('------')\n",
    "# 创建样本数据\n",
    "\n",
    "u1,u2 = data['value1'].mean(),data['value2'].mean()  # 计算均值\n",
    "std1,std2 = data['value1'].std(),data['value2'].std()  # 计算标准差\n",
    "print('value1正态性检验：\\n',stats.kstest(data['value1'], 'norm', (u1, std1)))\n",
    "print('value2正态性检验：\\n',stats.kstest(data['value2'], 'norm', (u2, std2)))\n",
    "print('------')\n",
    "# 正态性检验 → pvalue >0.05\n",
    "\n",
    "data['(x-u1)*(y-u2)'] = (data['value1'] - u1) * (data['value2'] - u2)\n",
    "data['(x-u1)**2'] = (data['value1'] - u1)**2\n",
    "data['(y-u2)**2'] = (data['value2'] - u2)**2\n",
    "print(data.head())\n",
    "print('------')\n",
    "# 制作Pearson相关系数求值表\n",
    "\n",
    "r = data['(x-u1)*(y-u2)'].sum() / (np.sqrt(data['(x-u1)**2'].sum() * data['(y-u2)**2'].sum()))\n",
    "print('Pearson相关系数为：%.4f' % r)\n",
    "# 求出r\n",
    "# |r| > 0.8 → 高度线性相关"
   ]
  },
  {
   "cell_type": "code",
   "execution_count": 5,
   "metadata": {},
   "outputs": [
    {
     "name": "stdout",
     "output_type": "stream",
     "text": [
      "     value1    value2\n",
      "0  1.037320  0.379353\n",
      "1  2.098395  0.442863\n",
      "2  3.926912  1.104473\n",
      "3  4.427697  1.184688\n",
      "4  5.528188  1.213196\n",
      "------\n"
     ]
    },
    {
     "data": {
      "text/html": [
       "<div>\n",
       "<table border=\"1\" class=\"dataframe\">\n",
       "  <thead>\n",
       "    <tr style=\"text-align: right;\">\n",
       "      <th></th>\n",
       "      <th>value1</th>\n",
       "      <th>value2</th>\n",
       "    </tr>\n",
       "  </thead>\n",
       "  <tbody>\n",
       "    <tr>\n",
       "      <th>value1</th>\n",
       "      <td>1.000000</td>\n",
       "      <td>0.969122</td>\n",
       "    </tr>\n",
       "    <tr>\n",
       "      <th>value2</th>\n",
       "      <td>0.969122</td>\n",
       "      <td>1.000000</td>\n",
       "    </tr>\n",
       "  </tbody>\n",
       "</table>\n",
       "</div>"
      ],
      "text/plain": [
       "          value1    value2\n",
       "value1  1.000000  0.969122\n",
       "value2  0.969122  1.000000"
      ]
     },
     "execution_count": 5,
     "metadata": {},
     "output_type": "execute_result"
    }
   ],
   "source": [
    "# Pearson相关系数 - 算法\n",
    "\n",
    "data1 = pd.Series(np.random.rand(100)*100).sort_values()\n",
    "data2 = pd.Series(np.random.rand(100)*50).sort_values()\n",
    "data = pd.DataFrame({'value1':data1.values,\n",
    "                     'value2':data2.values})\n",
    "print(data.head())\n",
    "print('------')\n",
    "# 创建样本数据\n",
    "\n",
    "data.corr()\n",
    "# pandas相关性方法：data.corr(method='pearson', min_periods=1) → 直接给出数据字段的相关系数矩阵\n",
    "# method默认pearson"
   ]
  },
  {
   "cell_type": "code",
   "execution_count": 7,
   "metadata": {},
   "outputs": [
    {
     "name": "stdout",
     "output_type": "stream",
     "text": [
      "    智商  每周看电视小时数\n",
      "0  106         7\n",
      "1   86         0\n",
      "2  100        27\n",
      "3  101        50\n",
      "4   99        28\n",
      "5  103        29\n",
      "6   97        20\n",
      "7  113        12\n",
      "8  112         6\n",
      "9  110        17\n",
      "------\n",
      "    智商  每周看电视小时数  range1  range2\n",
      "1   86         0       1       1\n",
      "8  112         6       9       2\n",
      "0  106         7       7       3\n",
      "7  113        12      10       4\n",
      "9  110        17       8       5\n",
      "6   97        20       2       6\n",
      "2  100        27       4       7\n",
      "4   99        28       3       8\n",
      "5  103        29       6       9\n",
      "3  101        50       5      10\n",
      "------\n",
      "    智商  每周看电视小时数  range1  range2  d  d2\n",
      "1   86         0       1       1  0   0\n",
      "8  112         6       9       2  7  49\n",
      "0  106         7       7       3  4  16\n",
      "7  113        12      10       4  6  36\n",
      "9  110        17       8       5  3   9\n",
      "6   97        20       2       6 -4  16\n",
      "2  100        27       4       7 -3   9\n",
      "4   99        28       3       8 -5  25\n",
      "5  103        29       6       9 -3   9\n",
      "3  101        50       5      10 -5  25\n",
      "------\n",
      "Pearson相关系数为：-0.1758\n"
     ]
    }
   ],
   "source": [
    "# Sperman秩相关系数\n",
    "\n",
    "data = pd.DataFrame({'智商':[106,86,100,101,99,103,97,113,112,110],\n",
    "                    '每周看电视小时数':[7,0,27,50,28,29,20,12,6,17]})\n",
    "print(data)\n",
    "print('------')\n",
    "# 创建样本数据\n",
    "\n",
    "data.sort_values('智商', inplace=True)\n",
    "data['range1'] = np.arange(1,len(data)+1)\n",
    "data.sort_values('每周看电视小时数', inplace=True)\n",
    "data['range2'] = np.arange(1,len(data)+1)\n",
    "print(data)\n",
    "print('------')\n",
    "# “智商”、“每周看电视小时数”重新按照从小到大排序，并设定秩次index\n",
    "\n",
    "data['d'] = data['range1'] - data['range2']\n",
    "data['d2'] = data['d']**2\n",
    "print(data)\n",
    "print('------')\n",
    "# 求出di，di2\n",
    "\n",
    "n = len(data)\n",
    "rs = 1 - 6 * (data['d2'].sum()) / (n * (n**2 - 1))\n",
    "print('Pearson相关系数为：%.4f' % rs)\n",
    "# 求出rs"
   ]
  },
  {
   "cell_type": "code",
   "execution_count": 8,
   "metadata": {},
   "outputs": [
    {
     "name": "stdout",
     "output_type": "stream",
     "text": [
      "    智商  每周看电视小时数\n",
      "0  106         7\n",
      "1   86         0\n",
      "2  100        27\n",
      "3  101        50\n",
      "4   99        28\n",
      "5  103        29\n",
      "6   97        20\n",
      "7  113        12\n",
      "8  112         6\n",
      "9  110        17\n",
      "------\n"
     ]
    },
    {
     "data": {
      "text/html": [
       "<div>\n",
       "<table border=\"1\" class=\"dataframe\">\n",
       "  <thead>\n",
       "    <tr style=\"text-align: right;\">\n",
       "      <th></th>\n",
       "      <th>智商</th>\n",
       "      <th>每周看电视小时数</th>\n",
       "    </tr>\n",
       "  </thead>\n",
       "  <tbody>\n",
       "    <tr>\n",
       "      <th>智商</th>\n",
       "      <td>1.000000</td>\n",
       "      <td>-0.175758</td>\n",
       "    </tr>\n",
       "    <tr>\n",
       "      <th>每周看电视小时数</th>\n",
       "      <td>-0.175758</td>\n",
       "      <td>1.000000</td>\n",
       "    </tr>\n",
       "  </tbody>\n",
       "</table>\n",
       "</div>"
      ],
      "text/plain": [
       "                智商  每周看电视小时数\n",
       "智商        1.000000 -0.175758\n",
       "每周看电视小时数 -0.175758  1.000000"
      ]
     },
     "execution_count": 8,
     "metadata": {},
     "output_type": "execute_result"
    }
   ],
   "source": [
    "# Pearson相关系数 - 算法\n",
    "\n",
    "data = pd.DataFrame({'智商':[106,86,100,101,99,103,97,113,112,110],\n",
    "                    '每周看电视小时数':[7,0,27,50,28,29,20,12,6,17]})\n",
    "print(data)\n",
    "print('------')\n",
    "# 创建样本数据\n",
    "\n",
    "data.corr(method='spearman')\n",
    "# pandas相关性方法：data.corr(method='pearson', min_periods=1) → 直接给出数据字段的相关系数矩阵\n",
    "# method默认pearson"
   ]
  }
 ],
 "metadata": {
  "anaconda-cloud": {},
  "kernelspec": {
   "display_name": "Python 3",
   "language": "python",
   "name": "python3"
  },
  "language_info": {
   "codemirror_mode": {
    "name": "ipython",
    "version": 3
   },
   "file_extension": ".py",
   "mimetype": "text/x-python",
   "name": "python",
   "nbconvert_exporter": "python",
   "pygments_lexer": "ipython3",
   "version": "3.7.3"
  }
 },
 "nbformat": 4,
 "nbformat_minor": 1
}
